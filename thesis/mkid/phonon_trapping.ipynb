{
 "cells": [
  {
   "cell_type": "code",
   "execution_count": 1,
   "metadata": {
    "collapsed": true
   },
   "outputs": [],
   "source": [
    "%matplotlib inline\n",
    "save_directory = '../../../thesis/kid/'\n",
    "save = False"
   ]
  },
  {
   "cell_type": "code",
   "execution_count": 2,
   "metadata": {},
   "outputs": [
    {
     "name": "stdout",
     "output_type": "stream",
     "text": [
      "t = 8 ps\n"
     ]
    }
   ],
   "source": [
    "from scipy.constants import e as eV_per_J, h, k as k_B, pi\n",
    "s = 6.4e3  # m / s, from Kaplan JLTP 1978\n",
    "d = 50e-9  # m, typical\n",
    "t = d / s\n",
    "print(\"t = {:.0f} ps\".format(1e12 * t))"
   ]
  },
  {
   "cell_type": "markdown",
   "metadata": {},
   "source": [
    "From Kaplan: for $\\Omega = 2 \\Delta_0$, the phonon pair-breaking time $\\tau_\\mathrm{br} = \\tau_\\mathrm{ph}^0$."
   ]
  },
  {
   "cell_type": "code",
   "execution_count": 10,
   "metadata": {},
   "outputs": [
    {
     "name": "stdout",
     "output_type": "stream",
     "text": [
      "tau_br = 242 ps\n",
      "L_br = 1549 nm\n"
     ]
    }
   ],
   "source": [
    "# From Kaplan, for Al\n",
    "tau_br = 2.42e-10  # s\n",
    "print(\"tau_br = {:.0f} ps\".format(1e12 * tau_br))\n",
    "print(\"L_br = {:.0f} nm\".format(1e9 * s * tau_br))"
   ]
  },
  {
   "cell_type": "code",
   "execution_count": 4,
   "metadata": {},
   "outputs": [
    {
     "name": "stdout",
     "output_type": "stream",
     "text": [
      "tau_br = 55 ps\n"
     ]
    }
   ],
   "source": [
    "Lambda_t = 350e-9  # m\n",
    "print(\"tau_br = {:.0f} ps\".format(1e12 * Lambda_t / s))"
   ]
  },
  {
   "cell_type": "code",
   "execution_count": 8,
   "metadata": {},
   "outputs": [
    {
     "name": "stdout",
     "output_type": "stream",
     "text": [
      "frequency: 87 GHz\n",
      "wavelength: 74 nm\n"
     ]
    }
   ],
   "source": [
    "Delta = 180e-6 * eV_per_J  # J, for aluminum\n",
    "Omega = 2 * Delta\n",
    "F = Omega / h  # Hz, phonon frequency\n",
    "L = s / F  # m, phonon wavelength\n",
    "print(\"frequency: {:.0f} GHz\".format(1e-9 * F))\n",
    "print(\"wavelength: {:.0f} nm\".format(1e9 * L))"
   ]
  },
  {
   "cell_type": "code",
   "execution_count": null,
   "metadata": {
    "collapsed": true
   },
   "outputs": [],
   "source": []
  }
 ],
 "metadata": {
  "kernelspec": {
   "display_name": "Python 2",
   "language": "python",
   "name": "python2"
  },
  "language_info": {
   "codemirror_mode": {
    "name": "ipython",
    "version": 2
   },
   "file_extension": ".py",
   "mimetype": "text/x-python",
   "name": "python",
   "nbconvert_exporter": "python",
   "pygments_lexer": "ipython2",
   "version": "2.7.13"
  }
 },
 "nbformat": 4,
 "nbformat_minor": 2
}
