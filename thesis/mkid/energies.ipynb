{
 "cells": [
  {
   "cell_type": "code",
   "execution_count": 1,
   "metadata": {
    "collapsed": true
   },
   "outputs": [],
   "source": [
    "%matplotlib inline\n",
    "save_directory = '../../../thesis/kid/'\n",
    "save = True"
   ]
  },
  {
   "cell_type": "code",
   "execution_count": 2,
   "metadata": {
    "collapsed": true
   },
   "outputs": [],
   "source": [
    "from scipy.constants import e as J_per_eV, h, k as k_B"
   ]
  },
  {
   "cell_type": "code",
   "execution_count": 3,
   "metadata": {},
   "outputs": [
    {
     "data": {
      "text/plain": [
       "20.836612225125226"
      ]
     },
     "execution_count": 3,
     "metadata": {},
     "output_type": "execute_result"
    }
   ],
   "source": [
    "# 21 GHz per kelvin:\n",
    "1e-9 * k_B / h"
   ]
  },
  {
   "cell_type": "code",
   "execution_count": 4,
   "metadata": {},
   "outputs": [
    {
     "data": {
      "text/plain": [
       "241.79892623048707"
      ]
     },
     "execution_count": 4,
     "metadata": {},
     "output_type": "execute_result"
    }
   ],
   "source": [
    "# 240 GHz per meV\n",
    "1e-9 * 1e-3 * J_per_eV / h"
   ]
  },
  {
   "cell_type": "code",
   "execution_count": 5,
   "metadata": {
    "collapsed": true
   },
   "outputs": [],
   "source": [
    "BCS = 1.76\n",
    "T_c = 1.4  # K\n",
    "E_c = k_B * T_c\n",
    "Delta = BCS * E_c\n",
    "T_bath = T_c / 10  # K\n",
    "E_bath = k_B * T_bath\n",
    "f_mc = 2.5e9\n",
    "E_mc = h * f_mc\n",
    "f_low = 100e6\n",
    "E_low = h * f_low"
   ]
  },
  {
   "cell_type": "code",
   "execution_count": 6,
   "metadata": {
    "collapsed": true
   },
   "outputs": [],
   "source": [
    "df = pd.DataFrame.from_dict({\"J\": {r'$\\gap_\\zerotemp$': Delta,\n",
    "                                   r'$\\tc$': E_c,\n",
    "                                   r'$\\temperature_\\bath$': E_bath,\n",
    "                                   r'$\\freadout_\\multichroic$': E_mc,\n",
    "                                   r'$\\freadout_\\singlepol$': E_low}})\n",
    "df['ueV'] = (1e6 / J_per_eV) * df['J']\n",
    "df['GHz'] = (1e-9 / h) * df['J']\n",
    "df['K'] = (1 / k_B) * df['J']\n",
    "df.sort_values(by='J', inplace=True, ascending=False)"
   ]
  },
  {
   "cell_type": "code",
   "execution_count": 7,
   "metadata": {},
   "outputs": [
    {
     "data": {
      "text/html": [
       "<div>\n",
       "<style>\n",
       "    .dataframe thead tr:only-child th {\n",
       "        text-align: right;\n",
       "    }\n",
       "\n",
       "    .dataframe thead th {\n",
       "        text-align: left;\n",
       "    }\n",
       "\n",
       "    .dataframe tbody tr th {\n",
       "        vertical-align: top;\n",
       "    }\n",
       "</style>\n",
       "<table border=\"1\" class=\"dataframe\">\n",
       "  <thead>\n",
       "    <tr style=\"text-align: right;\">\n",
       "      <th></th>\n",
       "      <th>J</th>\n",
       "      <th>ueV</th>\n",
       "      <th>GHz</th>\n",
       "      <th>K</th>\n",
       "    </tr>\n",
       "  </thead>\n",
       "  <tbody>\n",
       "    <tr>\n",
       "      <th>$\\gap_\\zerotemp$</th>\n",
       "      <td>3.401918e-23</td>\n",
       "      <td>212.331020</td>\n",
       "      <td>51.341413</td>\n",
       "      <td>2.464000</td>\n",
       "    </tr>\n",
       "    <tr>\n",
       "      <th>$\\tc$</th>\n",
       "      <td>1.932908e-23</td>\n",
       "      <td>120.642625</td>\n",
       "      <td>29.171257</td>\n",
       "      <td>1.400000</td>\n",
       "    </tr>\n",
       "    <tr>\n",
       "      <th>$\\temperature_\\bath$</th>\n",
       "      <td>1.932908e-24</td>\n",
       "      <td>12.064262</td>\n",
       "      <td>2.917126</td>\n",
       "      <td>0.140000</td>\n",
       "    </tr>\n",
       "    <tr>\n",
       "      <th>$\\freadout_\\multichroic$</th>\n",
       "      <td>1.656518e-24</td>\n",
       "      <td>10.339169</td>\n",
       "      <td>2.500000</td>\n",
       "      <td>0.119981</td>\n",
       "    </tr>\n",
       "    <tr>\n",
       "      <th>$\\freadout_\\singlepol$</th>\n",
       "      <td>6.626070e-26</td>\n",
       "      <td>0.413567</td>\n",
       "      <td>0.100000</td>\n",
       "      <td>0.004799</td>\n",
       "    </tr>\n",
       "  </tbody>\n",
       "</table>\n",
       "</div>"
      ],
      "text/plain": [
       "                                     J         ueV        GHz         K\n",
       "$\\gap_\\zerotemp$          3.401918e-23  212.331020  51.341413  2.464000\n",
       "$\\tc$                     1.932908e-23  120.642625  29.171257  1.400000\n",
       "$\\temperature_\\bath$      1.932908e-24   12.064262   2.917126  0.140000\n",
       "$\\freadout_\\multichroic$  1.656518e-24   10.339169   2.500000  0.119981\n",
       "$\\freadout_\\singlepol$    6.626070e-26    0.413567   0.100000  0.004799"
      ]
     },
     "execution_count": 7,
     "metadata": {},
     "output_type": "execute_result"
    }
   ],
   "source": [
    "df"
   ]
  },
  {
   "cell_type": "code",
   "execution_count": 8,
   "metadata": {
    "collapsed": true
   },
   "outputs": [],
   "source": [
    "def make_table(df):\n",
    "    lines = ['\\\\begin{tabular}{c S S S S}', '\\\\toprule']\n",
    "    formats = ['{:.3g}', '{:.2f}', '{:.2f}', '{:.3f}']\n",
    "    newline = ' \\\\\\\\'\n",
    "    header =  ' & '.join(['Parameter', '\\\\si{J}', '\\\\si{\\micro eV}', '\\\\si{GHz}', '\\\\si{K}']) + newline\n",
    "    lines.append(header)\n",
    "    lines.append('\\\\midrule')\n",
    "    for index, row in df.iterrows():\n",
    "        tokens = [index]\n",
    "        for fmt, value in zip(formats, row):\n",
    "            tokens.append(fmt.format(value))\n",
    "        lines.append(' & '.join(tokens) + newline)\n",
    "    lines.extend(['\\\\bottomrule', '\\\\end{tabular}'])\n",
    "    return '\\n'.join(lines)"
   ]
  },
  {
   "cell_type": "code",
   "execution_count": 9,
   "metadata": {},
   "outputs": [
    {
     "name": "stdout",
     "output_type": "stream",
     "text": [
      "\\begin{tabular}{c S S S S}\n",
      "\\toprule\n",
      "Parameter & \\si{J} & \\si{\\micro eV} & \\si{GHz} & \\si{K} \\\\\n",
      "\\midrule\n",
      "$\\gap_\\zerotemp$ & 3.4e-23 & 212.33 & 51.34 & 2.464 \\\\\n",
      "$\\tc$ & 1.93e-23 & 120.64 & 29.17 & 1.400 \\\\\n",
      "$\\temperature_\\bath$ & 1.93e-24 & 12.06 & 2.92 & 0.140 \\\\\n",
      "$\\freadout_\\multichroic$ & 1.66e-24 & 10.34 & 2.50 & 0.120 \\\\\n",
      "$\\freadout_\\singlepol$ & 6.63e-26 & 0.41 & 0.10 & 0.005 \\\\\n",
      "\\bottomrule\n",
      "\\end{tabular}\n"
     ]
    }
   ],
   "source": [
    "print(make_table(df))"
   ]
  },
  {
   "cell_type": "code",
   "execution_count": 10,
   "metadata": {
    "collapsed": true
   },
   "outputs": [],
   "source": [
    "if save:\n",
    "    with open(save_directory + 'energies.tex', 'w') as f:\n",
    "        f.write(make_table(df))"
   ]
  },
  {
   "cell_type": "code",
   "execution_count": 11,
   "metadata": {
    "collapsed": true
   },
   "outputs": [],
   "source": [
    "def bose_einstein(E, T):\n",
    "    return (np.exp(E / (k_B * T)) - 1)**-1"
   ]
  },
  {
   "cell_type": "code",
   "execution_count": 12,
   "metadata": {},
   "outputs": [
    {
     "data": {
      "text/plain": [
       "28.674113752477989"
      ]
     },
     "execution_count": 12,
     "metadata": {},
     "output_type": "execute_result"
    }
   ],
   "source": [
    "bose_einstein(h * f_low, T_bath)"
   ]
  },
  {
   "cell_type": "code",
   "execution_count": 13,
   "metadata": {},
   "outputs": [
    {
     "data": {
      "text/plain": [
       "118.56705546116943"
      ]
     },
     "execution_count": 13,
     "metadata": {},
     "output_type": "execute_result"
    }
   ],
   "source": [
    "bose_einstein(h * 70e6, 0.4)"
   ]
  }
 ],
 "metadata": {
  "kernelspec": {
   "display_name": "Python 2",
   "language": "python",
   "name": "python2"
  },
  "language_info": {
   "codemirror_mode": {
    "name": "ipython",
    "version": 2
   },
   "file_extension": ".py",
   "mimetype": "text/x-python",
   "name": "python",
   "nbconvert_exporter": "python",
   "pygments_lexer": "ipython2",
   "version": "2.7.13"
  }
 },
 "nbformat": 4,
 "nbformat_minor": 2
}
