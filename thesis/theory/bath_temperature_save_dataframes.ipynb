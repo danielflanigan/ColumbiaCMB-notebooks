{
 "cells": [
  {
   "cell_type": "markdown",
   "metadata": {},
   "source": [
    "Copied from `mkid/multichroic/wafers/MKIDArray02/0001`"
   ]
  },
  {
   "cell_type": "code",
   "execution_count": 1,
   "metadata": {},
   "outputs": [],
   "source": [
    "from __future__ import division, print_function\n",
    "import numpy as np\n",
    "import matplotlib as mpl\n",
    "from matplotlib import pyplot as plt\n",
    "import pandas as pd\n",
    "%matplotlib inline\n",
    "\n",
    "import os\n",
    "from glob import glob\n",
    "from kid_readout.measurement.io import npy\n",
    "from kid_readout.analysis.resonator import lmfit_resonator"
   ]
  },
  {
   "cell_type": "code",
   "execution_count": 2,
   "metadata": {},
   "outputs": [],
   "source": [
    "roots = {\n",
    "    '200': '/data/readout/2017-12-04_111009_mmw.npd/',\n",
    "    '220': '/data/readout/2017-12-04_113210_mmw.npd/',\n",
    "    '240': '/data/readout/2017-12-04_114944_mmw.npd/',\n",
    "    '160': '/data/readout/2017-12-05_123750_mmw.npd/',\n",
    "    '180': '/data/readout/2017-12-05_125417_mmw.npd/',\n",
    "    '190': '/data/readout/2017-12-05_130953_mmw.npd/',\n",
    "    '260': '/data/readout/2017-12-05_132400_mmw.npd/',\n",
    "    '140': '/data/readout/2017-12-06_115910_mmw.npd/',\n",
    "    }"
   ]
  },
  {
   "cell_type": "code",
   "execution_count": 10,
   "metadata": {},
   "outputs": [
    {
     "name": "stdout",
     "output_type": "stream",
     "text": [
      "Exists: 2017-12-04_111009_mmw.npd.pkl\n",
      "Saved: 2017-12-05_125417_mmw.npd.pkl\n",
      "Saved: 2017-12-05_132400_mmw.npd.pkl\n",
      "Saved: 2017-12-04_114944_mmw.npd.pkl\n",
      "Saved: 2017-12-06_115910_mmw.npd.pkl\n",
      "Saved: 2017-12-05_123750_mmw.npd.pkl\n",
      "Saved: 2017-12-05_130953_mmw.npd.pkl\n",
      "Saved: 2017-12-04_113210_mmw.npd.pkl\n"
     ]
    }
   ],
   "source": [
    "for root in roots.values():\n",
    "    npd = npy.NumpyDirectory(root)\n",
    "    filename = os.path.split(npd.root_path)[-1] + '.pkl'\n",
    "    if glob(filename):\n",
    "        print(\"Exists: {}\".format(filename))\n",
    "    else:\n",
    "        ssl_list = [npd.read(name) for name in npd.node_names() if name.startswith('SweepStreamList')]\n",
    "        ssl_dfs = []\n",
    "        for ssl in ssl_list:  # One SweepStreamList per band\n",
    "            if (root == roots['200'] and\n",
    "                ssl.state.band_index in (6, 7) and\n",
    "                ssl.state.attenuation_index == 0):\n",
    "                continue\n",
    "            band_dfs = []\n",
    "            num_resonators = ssl.sweep.num_channels - ssl.state.num_dummy_frequencies\n",
    "            for number in range(num_resonators):\n",
    "                sssl = ssl[number]\n",
    "                sssl.single_sweep.fit_resonator(model=lmfit_resonator.LinearLossResonatorWithCable)\n",
    "                sssl.single_sweep.state.update(sssl.state)\n",
    "                band_dfs.append(sssl.single_sweep.to_dataframe())\n",
    "            ssl_dfs.append(pd.concat(band_dfs, ignore_index=True))\n",
    "        df = pd.concat(ssl_dfs, ignore_index=True)\n",
    "        df.to_pickle(filename)\n",
    "        print(\"Saved: {}\".format(filename))\n",
    "    npd.close()"
   ]
  },
  {
   "cell_type": "code",
   "execution_count": null,
   "metadata": {},
   "outputs": [],
   "source": []
  }
 ],
 "metadata": {
  "kernelspec": {
   "display_name": "Python 2",
   "language": "python",
   "name": "python2"
  },
  "language_info": {
   "codemirror_mode": {
    "name": "ipython",
    "version": 2
   },
   "file_extension": ".py",
   "mimetype": "text/x-python",
   "name": "python",
   "nbconvert_exporter": "python",
   "pygments_lexer": "ipython2",
   "version": "2.7.18"
  }
 },
 "nbformat": 4,
 "nbformat_minor": 2
}
