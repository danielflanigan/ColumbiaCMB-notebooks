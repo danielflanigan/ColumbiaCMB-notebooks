{
 "cells": [
  {
   "cell_type": "code",
   "execution_count": 1,
   "metadata": {
    "collapsed": true
   },
   "outputs": [],
   "source": [
    "from __future__ import division, print_function\n",
    "import numpy as np\n",
    "import matplotlib as mpl\n",
    "from matplotlib import pyplot as plt\n",
    "import pandas as pd\n",
    "%matplotlib inline\n",
    "\n",
    "import thesis\n",
    "chapter = 'theory'\n",
    "save = False"
   ]
  },
  {
   "cell_type": "code",
   "execution_count": 2,
   "metadata": {},
   "outputs": [
    {
     "name": "stdout",
     "output_type": "stream",
     "text": [
      "N_0 = 7.344e+56 per eV per um^3\n"
     ]
    }
   ],
   "source": [
    "# From Kaplan:\n",
    "# N(0) is the single-spin band-structure electronic density of states at the Fermi surface\n",
    "# and does not include electron-phonon renormalization effects. \n",
    "\n",
    "# For aluminum\n",
    "n0_states_per_eV = 12.2e21  # per ion?\n",
    "N_ion_per_cm3 = 6.02e22\n",
    "um_per_cm = 1e4\n",
    "N0_states_per_eV_per_um3 = n0_states_per_eV * N_ion_per_cm3 * um_per_cm ** 3\n",
    "print(\"N_0 = {:.4g} per eV per um^3\".format(N0_states_per_eV_per_um3))"
   ]
  },
  {
   "cell_type": "code",
   "execution_count": null,
   "metadata": {
    "collapsed": true
   },
   "outputs": [],
   "source": []
  }
 ],
 "metadata": {
  "kernelspec": {
   "display_name": "Python 2",
   "language": "python",
   "name": "python2"
  },
  "language_info": {
   "codemirror_mode": {
    "name": "ipython",
    "version": 2
   },
   "file_extension": ".py",
   "mimetype": "text/x-python",
   "name": "python",
   "nbconvert_exporter": "python",
   "pygments_lexer": "ipython2",
   "version": "2.7.13"
  }
 },
 "nbformat": 4,
 "nbformat_minor": 2
}
