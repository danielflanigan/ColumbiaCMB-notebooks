{
 "cells": [
  {
   "cell_type": "code",
   "execution_count": 1,
   "metadata": {
    "collapsed": true
   },
   "outputs": [],
   "source": [
    "from __future__ import division, print_function\n",
    "import numpy as np\n",
    "import matplotlib as mpl\n",
    "from matplotlib import pyplot as plt\n",
    "import pandas as pd\n",
    "%matplotlib inline\n",
    "\n",
    "import thesis\n",
    "chapter = 'theory'\n",
    "save = False\n",
    "\n",
    "from scipy.constants import physical_constants"
   ]
  },
  {
   "cell_type": "code",
   "execution_count": 3,
   "metadata": {},
   "outputs": [
    {
     "data": {
      "text/plain": [
       "(10973731.568508, 'm^-1', 6.5e-05)"
      ]
     },
     "execution_count": 3,
     "metadata": {},
     "output_type": "execute_result"
    }
   ],
   "source": [
    "physical_constants['Rydberg constant']"
   ]
  },
  {
   "cell_type": "code",
   "execution_count": 4,
   "metadata": {},
   "outputs": [
    {
     "data": {
      "text/plain": [
       "(13.605693009, 'eV', 8.4e-08)"
      ]
     },
     "execution_count": 4,
     "metadata": {},
     "output_type": "execute_result"
    }
   ],
   "source": [
    "physical_constants['Rydberg constant times hc in eV']"
   ]
  },
  {
   "cell_type": "code",
   "execution_count": 5,
   "metadata": {
    "collapsed": true
   },
   "outputs": [],
   "source": [
    "Ry_eV = physical_constants['Rydberg constant times hc in eV'][0]"
   ]
  },
  {
   "cell_type": "code",
   "execution_count": 2,
   "metadata": {},
   "outputs": [
    {
     "name": "stdout",
     "output_type": "stream",
     "text": [
      "N_0 = 7.344e+56 per eV per um^3\n"
     ]
    }
   ],
   "source": [
    "\n",
    "\n",
    "# From Kaplan:\n",
    "# N(0) is the single-spin band-structure electronic density of states at the Fermi surface\n",
    "# and does not include electron-phonon renormalization effects. \n",
    "\n",
    "# For aluminum\n",
    "n0_states_per_eV = 12.2e21  # per ion?\n",
    "N_ion_per_cm3 = 6.02e22\n",
    "um_per_cm = 1e4\n",
    "N0_states_per_eV_per_um3 = n0_states_per_eV * N_ion_per_cm3 * um_per_cm ** 3\n",
    "print(\"N_0 = {:.4g} per eV per um^3\".format(N0_states_per_eV_per_um3))"
   ]
  },
  {
   "cell_type": "code",
   "execution_count": 13,
   "metadata": {},
   "outputs": [
    {
     "name": "stdout",
     "output_type": "stream",
     "text": [
      "Nb: N_0 = 8.52e+10 per um^3 per eV\n"
     ]
    }
   ],
   "source": [
    "# Wikipedia\n",
    "nb_density_g_per_cm3 = 8.57\n",
    "nb_atomic_mass_Da = 92.91\n",
    "\n",
    "# From xxx\n",
    "nb_states_atom_per_Ry = 20.868\n",
    "nb_states_atom_per_eV = nb_states_atom_per_Ry / Ry_eV\n",
    "\n",
    "nb_atomic_mass_kg = nb_atomic_mass_Da * physical_constants['atomic mass constant'][0]\n",
    "nb_density_kg_per_um3 = nb_density_g_per_cm3 * (1 / 1e3) * (1 / 1e4)**3\n",
    "nb_density_atoms_per_um3 = nb_density_kg_per_um3 / nb_atomic_mass_kg\n",
    "nb_states_per_eV_um3 = nb_states_atom_per_eV * nb_density_atoms_per_um3\n",
    "print(\"Nb: N_0 = {:.4g} per um^3 per eV\".format(nb_states_per_eV_um3))"
   ]
  },
  {
   "cell_type": "code",
   "execution_count": null,
   "metadata": {
    "collapsed": true
   },
   "outputs": [],
   "source": []
  }
 ],
 "metadata": {
  "kernelspec": {
   "display_name": "Python 2",
   "language": "python",
   "name": "python2"
  },
  "language_info": {
   "codemirror_mode": {
    "name": "ipython",
    "version": 2
   },
   "file_extension": ".py",
   "mimetype": "text/x-python",
   "name": "python",
   "nbconvert_exporter": "python",
   "pygments_lexer": "ipython2",
   "version": "2.7.13"
  }
 },
 "nbformat": 4,
 "nbformat_minor": 2
}
