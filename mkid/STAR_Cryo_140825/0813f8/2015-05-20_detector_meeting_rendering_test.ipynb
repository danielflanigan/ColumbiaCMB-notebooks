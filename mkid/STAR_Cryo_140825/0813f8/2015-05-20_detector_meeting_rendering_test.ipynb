{
 "cells": [
  {
   "cell_type": "markdown",
   "metadata": {},
   "source": [
    "# Calibrating absorbed power using the shot noise level"
   ]
  },
  {
   "cell_type": "code",
   "execution_count": 1,
   "metadata": {
    "collapsed": false
   },
   "outputs": [
    {
     "data": {
      "text/html": [
       "<script>\n",
       "        code_show=true;\n",
       "        function code_toggle() {\n",
       "         if (code_show){\n",
       "         $('div.input').hide();\n",
       "         } else {\n",
       "         $('div.input').show();\n",
       "         }\n",
       "         code_show = !code_show\n",
       "        }\n",
       "        $( document ).ready(code_toggle);\n",
       "        </script>\n",
       "        <form action=\"javascript:code_toggle()\"><input type=\"submit\" value=\"Hide/show the input code.\"></form>"
      ],
      "text/plain": [
       "<IPython.core.display.HTML at 0x107916e90>"
      ]
     },
     "execution_count": 1,
     "metadata": {},
     "output_type": "execute_result"
    }
   ],
   "source": [
    "from notebooks.library.display import toggle_input_code\n",
    "toggle_input_code()"
   ]
  },
  {
   "cell_type": "code",
   "execution_count": 7,
   "metadata": {
    "collapsed": false
   },
   "outputs": [],
   "source": [
    "from kid_readout.analysis import archive\n",
    "plt.rcParams['font.size'] = 11"
   ]
  },
  {
   "cell_type": "code",
   "execution_count": 3,
   "metadata": {
    "collapsed": false
   },
   "outputs": [],
   "source": [
    "from scipy.constants import h\n",
    "nu = 140e9\n",
    "dark_channels = (0, 2, 4, 10)"
   ]
  },
  {
   "cell_type": "code",
   "execution_count": 4,
   "metadata": {
    "collapsed": false
   },
   "outputs": [],
   "source": [
    "df = archive.load_archive('/home/data/archive/2015-05-1819_mmw_140_GHz.npy')"
   ]
  },
  {
   "cell_type": "code",
   "execution_count": 5,
   "metadata": {
    "collapsed": false
   },
   "outputs": [],
   "source": [
    "atten = 26\n",
    "turns = 4.0\n",
    "single_channel = 9\n",
    "one = df[(df.atten==atten) & (df.mmw_atten_total_turns/2==turns) & (df.timestream_modulation_duty_cycle==0)].copy()"
   ]
  },
  {
   "cell_type": "code",
   "execution_count": null,
   "metadata": {
    "collapsed": false
   },
   "outputs": [],
   "source": [
    "fig, ax = plt.subplots()\n",
    "\n",
    "PP = np.logspace(-4, 2, 1e3)\n",
    "ax.loglog(PP, 2e-11 * PP**(1/2), '--b')\n",
    "ax.axvline(1e6 * one.zbd_power.iloc[0], color='green', linestyle='--')\n",
    "\n",
    "for channel, group in df[df.atten==atten].groupby('channel'):\n",
    "    if channel not in dark_channels and channel != single_channel:\n",
    "        group = group.sort('zbd_power')\n",
    "        ax.loglog(1e6 * group.zbd_power, group.zbd_power_NEP2_device**(1/2), '-', alpha=0.5, color='black')\n",
    "    elif channel == single_channel:\n",
    "        group = group.sort('zbd_power')\n",
    "        ax.loglog(1e6 * group.zbd_power, group.zbd_power_NEP2_device**(1/2), '-', alpha=1, color='red')\n",
    "\n",
    "ax.set_xlabel('ZBD power $P_Z$ [$\\mu$W]')\n",
    "ax.set_ylabel('$\\mathrm{NEP}_Z \\; [\\mathrm{W} \\, \\mathrm{Hz}^{-1/2}]$')\n",
    "\n",
    "\n",
    "ax.set_ylim(3e-12, 3e-10);"
   ]
  },
  {
   "cell_type": "markdown",
   "metadata": {},
   "source": [
    "The quantities we measure are ZBD power $P_Z$, responsivity to ZBD power $\\partial X / \\partial P_Z$, and the fractional frequency PSD $S_{xx}$. The ZBD NEP is"
   ]
  },
  {
   "cell_type": "markdown",
   "metadata": {},
   "source": [
    "$\\begin{align*}\n",
    "\\mathrm{NEP}_Z^2\n",
    "  &=\n",
    "  \\frac{S_{xx}}{(\\partial X / \\partial P_Z)^2}.\n",
    "\\end{align*}$"
   ]
  },
  {
   "cell_type": "markdown",
   "metadata": {},
   "source": [
    "If the photon source is coherent so that there is negligible wave noise, then the NEP referred to the absorbed power $P_A$ is"
   ]
  },
  {
   "cell_type": "markdown",
   "metadata": {},
   "source": [
    "$\\begin{align*}\n",
    "\\mathrm{NEP}_A^2\n",
    "  &=\n",
    "  \\mathrm{NEP}_C^2 + 2 h \\nu P_A + 2 (2 \\Delta) P_A / \\eta_{pb},\n",
    "\\end{align*}$"
   ]
  },
  {
   "cell_type": "markdown",
   "metadata": {},
   "source": [
    "\\begin{align*}\n",
    "\\mathrm{NEP}_A^2\n",
    "  &=\n",
    "  \\mathrm{NEP}_C^2 + 2 h \\nu P_A + 2 (2 \\Delta) P_A / \\eta_{pb},\n",
    "\\end{align*}"
   ]
  },
  {
   "cell_type": "markdown",
   "metadata": {},
   "source": [
    "\\begin{equation*}\n",
    "\\mathrm{NEP}_A^2\n",
    "  =\n",
    "  \\mathrm{NEP}_C^2 + 2 h \\nu P_A + 2 (2 \\Delta) P_A / \\eta_{pb},\n",
    "\\end{equation*}"
   ]
  },
  {
   "cell_type": "markdown",
   "metadata": {},
   "source": [
    "where $\\mathrm{NEP}_C$ is independent of absorbed power, $\\nu$ GHz is the photon frequency, and $\\eta_{pb}$ is the fraction of photon energy that goes in the quasiparticle system. (For the above data, $\\nu = 140$ GHz.) At these frequencies, each absorbed photon excites two quasiparticles close to the gap, or maybe slightly more than this on average due to the effects of the nonthermal distribution. We can write $\\eta_{pb} \\approx (2 \\Delta) / (h \\nu)$, so that the recombination noise is"
   ]
  },
  {
   "cell_type": "markdown",
   "metadata": {},
   "source": [
    "$\\begin{align*}\n",
    "\\mathrm{NEP}_r^2\n",
    "  &=\n",
    "  2 (2 \\Delta) P_A / \\eta_{pb}\n",
    "  \\approx\n",
    "  2 h \\nu P_A,\n",
    "\\end{align*}$"
   ]
  },
  {
   "cell_type": "markdown",
   "metadata": {},
   "source": [
    "which is equal to the photon shot noise. I think this makes sense.\n",
    "\n",
    "For a given detector, let $\\gamma$ be the ratio of the power $P_A$ absorbed in the detector to the power $P_Z$ detected at the ZBD: $P_A = \\gamma P_Z$. Assume that $\\gamma$ is independent of power, which it should be because all components are linear. Then, $\\partial X / \\partial P_A = \\gamma^{-1} \\partial X / \\partial P_Z$ so"
   ]
  },
  {
   "cell_type": "markdown",
   "metadata": {},
   "source": [
    "$\\begin{align*}\n",
    "\\mathrm{NEP}_Z^2\n",
    "  &=\n",
    "  \\frac{\\mathrm{NEP}_A^2}{\\gamma^2} \\\\\n",
    "  &= \\frac{\\mathrm{NEP}_C^2}{\\gamma^2}\n",
    "  + \\frac{2 (2 h \\nu P_A)}{\\gamma^2} \\\\\n",
    "  &= \\frac{\\mathrm{NEP}_C^2}{\\gamma^2}\n",
    "  + \\frac{2 (2 h \\nu P_Z)}{\\gamma}.\n",
    "\\end{align*}$"
   ]
  },
  {
   "cell_type": "markdown",
   "metadata": {},
   "source": [
    "\\begin{align*}\n",
    "\\mathrm{NEP}_Z^2\n",
    "  &=\n",
    "  \\frac{\\mathrm{NEP}_A^2}{\\gamma^2} \\\\\n",
    "  &= \\frac{\\mathrm{NEP}_C^2}{\\gamma^2}\n",
    "  + \\frac{2 (2 h \\nu P_A)}{\\gamma^2} \\\\\n",
    "  &= \\frac{\\mathrm{NEP}_C^2}{\\gamma^2}\n",
    "  + \\frac{2 (2 h \\nu P_Z)}{\\gamma}.\n",
    "\\end{align*}"
   ]
  },
  {
   "cell_type": "markdown",
   "metadata": {},
   "source": [
    "Since all quantities in this equation are known or measured except for $\\mathrm{NEP}_C$ and $\\gamma$, we can fit a line to $\\mathrm{NEP}_Z^2$ and extract them. Once we have $\\gamma$, we can convert reference everything to absorbed power."
   ]
  },
  {
   "cell_type": "code",
   "execution_count": 6,
   "metadata": {
    "collapsed": false
   },
   "outputs": [],
   "source": []
  }
 ],
 "metadata": {
  "kernelspec": {
   "display_name": "Python 3",
   "language": "python",
   "name": "python3"
  },
  "language_info": {
   "codemirror_mode": {
    "name": "ipython",
    "version": 3
   },
   "file_extension": ".py",
   "mimetype": "text/x-python",
   "name": "python",
   "nbconvert_exporter": "python",
   "pygments_lexer": "ipython3",
   "version": "3.4.3"
  }
 },
 "nbformat": 4,
 "nbformat_minor": 0
}
