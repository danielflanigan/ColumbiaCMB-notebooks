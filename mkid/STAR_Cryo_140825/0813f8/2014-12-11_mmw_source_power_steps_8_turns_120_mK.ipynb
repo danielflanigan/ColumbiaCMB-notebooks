{
 "metadata": {
  "name": "",
  "signature": "sha256:fad7d6d2340a090fa998b7abca37653192a380b5527833e05094368a5777653f"
 },
 "nbformat": 3,
 "nbformat_minor": 0,
 "worksheets": [
  {
   "cells": [
    {
     "cell_type": "code",
     "collapsed": false,
     "input": [
      "from notebooks.library import dataframe"
     ],
     "language": "python",
     "metadata": {},
     "outputs": []
    },
    {
     "cell_type": "code",
     "collapsed": false,
     "input": [
      "%run ~/kid_readout.git/apps/data_analysis_scripts/mmw_source_archive_140825_0813f8.py '/home/data/pkl/mmw_noise_steps_2014-12-11_120556_mmwnoisestep.pkl'\n",
      "plt.rcParams['font.size'] = 10"
     ],
     "language": "python",
     "metadata": {},
     "outputs": []
    },
    {
     "cell_type": "code",
     "collapsed": false,
     "input": [
      "df.mmw_atten_turns[0]"
     ],
     "language": "python",
     "metadata": {},
     "outputs": []
    },
    {
     "cell_type": "code",
     "collapsed": false,
     "input": [
      "indices = np.unique(df.resonator_index)"
     ],
     "language": "python",
     "metadata": {},
     "outputs": []
    },
    {
     "cell_type": "code",
     "collapsed": false,
     "input": [
      "[dataframe.plot_sweeps(df, n) for n in indices];"
     ],
     "language": "python",
     "metadata": {},
     "outputs": []
    },
    {
     "cell_type": "code",
     "collapsed": false,
     "input": [
      "[dataframe.plot_sweeps_IQ(df, n) for n in indices];"
     ],
     "language": "python",
     "metadata": {},
     "outputs": []
    },
    {
     "cell_type": "code",
     "collapsed": false,
     "input": [
      "[dataframe.plot_pca_noise(df, n) for n in indices];"
     ],
     "language": "python",
     "metadata": {},
     "outputs": []
    },
    {
     "cell_type": "code",
     "collapsed": false,
     "input": [],
     "language": "python",
     "metadata": {},
     "outputs": []
    }
   ],
   "metadata": {}
  }
 ]
}