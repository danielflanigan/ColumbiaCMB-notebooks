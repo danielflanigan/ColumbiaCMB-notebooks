{
 "metadata": {
  "name": "",
  "signature": "sha256:d152c85fa7e6940ab4561e918ce0ed0b3bccec645646b362e600d7eb447bc24a"
 },
 "nbformat": 3,
 "nbformat_minor": 0,
 "worksheets": [
  {
   "cells": [
    {
     "cell_type": "code",
     "collapsed": false,
     "input": [
      "from kid_readout.measure import nc, measurement, noise"
     ],
     "language": "python",
     "metadata": {},
     "outputs": [],
     "prompt_number": 1
    },
    {
     "cell_type": "code",
     "collapsed": false,
     "input": [
      "df = nc.DataFile('/home/flanigan/test_sweepstream.nc')"
     ],
     "language": "python",
     "metadata": {},
     "outputs": [],
     "prompt_number": 2
    },
    {
     "cell_type": "code",
     "collapsed": false,
     "input": [
      "df.measurements"
     ],
     "language": "python",
     "metadata": {},
     "outputs": [
      {
       "metadata": {},
       "output_type": "pyout",
       "prompt_number": 3,
       "text": [
        "OrderedDict()"
       ]
      }
     ],
     "prompt_number": 3
    },
    {
     "cell_type": "code",
     "collapsed": false,
     "input": [
      "ss = measurement.SweepStream().from_group(df.measurements['SweepStream_0'])"
     ],
     "language": "python",
     "metadata": {},
     "outputs": [
      {
       "ename": "KeyError",
       "evalue": "'SweepStream_0'",
       "output_type": "pyerr",
       "traceback": [
        "\u001b[1;31m---------------------------------------------------------------------------\u001b[0m\n\u001b[1;31mKeyError\u001b[0m                                  Traceback (most recent call last)",
        "\u001b[1;32m<ipython-input-4-8bb392184ee4>\u001b[0m in \u001b[0;36m<module>\u001b[1;34m()\u001b[0m\n\u001b[1;32m----> 1\u001b[1;33m \u001b[0mss\u001b[0m \u001b[1;33m=\u001b[0m \u001b[0mmeasurement\u001b[0m\u001b[1;33m.\u001b[0m\u001b[0mSweepStream\u001b[0m\u001b[1;33m(\u001b[0m\u001b[1;33m)\u001b[0m\u001b[1;33m.\u001b[0m\u001b[0mfrom_group\u001b[0m\u001b[1;33m(\u001b[0m\u001b[0mdf\u001b[0m\u001b[1;33m.\u001b[0m\u001b[0mmeasurements\u001b[0m\u001b[1;33m[\u001b[0m\u001b[1;34m'SweepStream_0'\u001b[0m\u001b[1;33m]\u001b[0m\u001b[1;33m)\u001b[0m\u001b[1;33m\u001b[0m\u001b[0m\n\u001b[0m",
        "\u001b[1;31mKeyError\u001b[0m: 'SweepStream_0'"
       ]
      }
     ],
     "prompt_number": 4
    },
    {
     "cell_type": "code",
     "collapsed": false,
     "input": [
      "mappable = plt.cm.ScalarMappable(matplotlib.colors.Normalize(min(ss.sweep.frequency), max(ss.sweep.frequency)), cmap=plt.cm.copper)\n",
      "mappable.set_array(ss.sweep.frequency)\n",
      "fig, ax = plt.subplots()\n",
      "ax.plot(ss.stream.s21.real, ss.stream.s21.imag, '.', color='gray', ms=1)\n",
      "for s in ss.sweep.streams:\n",
      "    ax.plot(s.s21.real, s.s21.imag, '.', color=mappable.to_rgba(s.frequency), ms=0.2)"
     ],
     "language": "python",
     "metadata": {},
     "outputs": []
    },
    {
     "cell_type": "code",
     "collapsed": false,
     "input": [
      "fig, ax = plt.subplots()\n",
      "ax.plot(ss.stream_s21_normalized.real, ss.stream_s21_normalized.imag, '.', color='gray', ms=1)\n",
      "for s21n, f in zip(ss.sweep_s21_normalized, ss.sweep.frequency):\n",
      "    ax.plot(s21n.real, s21n.imag, '.', color=mappable.to_rgba(f))"
     ],
     "language": "python",
     "metadata": {},
     "outputs": []
    },
    {
     "cell_type": "code",
     "collapsed": false,
     "input": [
      "ss.analyze()"
     ],
     "language": "python",
     "metadata": {},
     "outputs": []
    },
    {
     "cell_type": "code",
     "collapsed": false,
     "input": [
      "plt.loglog(ss.psd_frequency[1:], ss.psd_ii[1:], '-', color='black')\n",
      "plt.loglog(ss.psd_frequency[1:], ss.psd_xx[1:], '-', color='gray')\n",
      "plt.loglog(ss.psd_frequency[1:], ss.noise_ii.model(), '-', color='yellow')\n",
      "plt.loglog(ss.psd_frequency[1:], ss.noise_xx.model(), '-', color='red')"
     ],
     "language": "python",
     "metadata": {},
     "outputs": []
    }
   ],
   "metadata": {}
  }
 ]
}