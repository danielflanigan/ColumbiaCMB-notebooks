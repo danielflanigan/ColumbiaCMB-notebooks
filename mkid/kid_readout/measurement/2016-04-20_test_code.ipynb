{
 "cells": [
  {
   "cell_type": "code",
   "execution_count": 1,
   "metadata": {
    "collapsed": true
   },
   "outputs": [],
   "source": [
    "from kid_readout.measurement.test import utilities"
   ]
  },
  {
   "cell_type": "code",
   "execution_count": 2,
   "metadata": {
    "collapsed": false
   },
   "outputs": [
    {
     "name": "stdout",
     "output_type": "stream",
     "text": [
      "bank_offset= 0 start_offset= 0 start_offset_bytes= 0\n",
      "writing DRAM bank 0\n"
     ]
    }
   ],
   "source": [
    "s = utilities.make_stream()"
   ]
  },
  {
   "cell_type": "code",
   "execution_count": 3,
   "metadata": {
    "collapsed": false
   },
   "outputs": [
    {
     "data": {
      "text/plain": [
       "{'_io_class': None,\n",
       " '_node_path': None,\n",
       " '_parent': None,\n",
       " '_root_path': None,\n",
       " '_sample_time': array([  0.00000000e+00,   6.40000000e-05,   1.28000000e-04, ...,\n",
       "          2.09696000e+00,   2.09702400e+00,   2.09708800e+00]),\n",
       " 'data_demodulated': True,\n",
       " 'description': '',\n",
       " 'epoch': 1461153011.811022,\n",
       " 'filterbank_bin': 6400,\n",
       " 'roach_state': StateDict({'boffile': 'bb2xpfb14mcr17b_2015_Apr_21_1159.bof', 'num_filterbank_channels': 16384, 'loopback': None, 'lo_frequency': 0.0, 'adc_sample_rate': 512000000.0, 'num_tones': 16, 'waveform_normalization': 0.00028364717408711543, 'modulation_output': 0, 'modulation_rate': 0, 'debug_register': None, 'num_tone_samples': 65536, 'bank': 0, 'dac_attenuation': -1, 'heterodyne': False}),\n",
       " 's21_raw': array([ 0.48041802+1.32900042j,  0.64737799-1.523621j  ,\n",
       "         1.60392696-0.1013182j , ..., -2.04070243-2.48606418j,\n",
       "         1.41809230+0.88289922j, -0.96224330-0.84560189j]),\n",
       " 'state': StateDict({}),\n",
       " 'tone_amplitude': array([ 1.,  1.,  1.,  1.,  1.,  1.,  1.,  1.,  1.,  1.,  1.,  1.,  1.,\n",
       "         1.,  1.,  1.]),\n",
       " 'tone_bin': array([12800, 13653, 14507, 15360, 16213, 17067, 17920, 18773, 19627,\n",
       "        20480, 21333, 22187, 23040, 23893, 24747, 25600]),\n",
       " 'tone_index': 0,\n",
       " 'tone_phase': array([ 1.35828312,  4.26756192,  1.51744911,  4.55404859,  0.48642764,\n",
       "         5.44620349,  4.25062627,  1.18052377,  4.89319182,  3.74108349,\n",
       "         3.31990096,  4.8176001 ,  2.1656273 ,  4.03121758,  1.52095007,\n",
       "         2.80109078])}"
      ]
     },
     "execution_count": 3,
     "metadata": {},
     "output_type": "execute_result"
    }
   ],
   "source": [
    "s.__dict__"
   ]
  },
  {
   "cell_type": "code",
   "execution_count": 6,
   "metadata": {
    "collapsed": false
   },
   "outputs": [
    {
     "data": {
      "text/plain": [
       "'1'"
      ]
     },
     "execution_count": 6,
     "metadata": {},
     "output_type": "execute_result"
    }
   ],
   "source": [
    "import copy\n",
    "copy.copy('1')"
   ]
  },
  {
   "cell_type": "code",
   "execution_count": 10,
   "metadata": {
    "collapsed": false
   },
   "outputs": [
    {
     "data": {
      "text/plain": [
       "array([0, 1, 2])"
      ]
     },
     "execution_count": 10,
     "metadata": {},
     "output_type": "execute_result"
    }
   ],
   "source": [
    "import numpy as np\n",
    "copy.copy(np.arange(3))"
   ]
  },
  {
   "cell_type": "code",
   "execution_count": 17,
   "metadata": {
    "collapsed": true
   },
   "outputs": [],
   "source": [
    "import os\n",
    "from kid_readout.measurement.io import nc\n",
    "from testfixtures import TempDirectory"
   ]
  },
  {
   "cell_type": "code",
   "execution_count": 18,
   "metadata": {
    "collapsed": false
   },
   "outputs": [],
   "source": [
    "directory = TempDirectory()\n",
    "filename = 'test.nc'\n",
    "io = nc.NCFile(os.path.join(directory.path, filename), cache_s21_raw=True)"
   ]
  },
  {
   "cell_type": "code",
   "execution_count": 24,
   "metadata": {
    "collapsed": false
   },
   "outputs": [
    {
     "data": {
      "text/plain": [
       "True"
      ]
     },
     "execution_count": 24,
     "metadata": {},
     "output_type": "execute_result"
    }
   ],
   "source": [
    "io.root.isopen()"
   ]
  },
  {
   "cell_type": "code",
   "execution_count": 25,
   "metadata": {
    "collapsed": true
   },
   "outputs": [],
   "source": [
    "io.root.close()"
   ]
  },
  {
   "cell_type": "code",
   "execution_count": 26,
   "metadata": {
    "collapsed": false
   },
   "outputs": [
    {
     "data": {
      "text/plain": [
       "False"
      ]
     },
     "execution_count": 26,
     "metadata": {},
     "output_type": "execute_result"
    }
   ],
   "source": [
    "io.root.isopen()"
   ]
  },
  {
   "cell_type": "code",
   "execution_count": null,
   "metadata": {
    "collapsed": true
   },
   "outputs": [],
   "source": []
  }
 ],
 "metadata": {
  "kernelspec": {
   "display_name": "Python 2",
   "language": "python",
   "name": "python2"
  },
  "language_info": {
   "codemirror_mode": {
    "name": "ipython",
    "version": 2
   },
   "file_extension": ".py",
   "mimetype": "text/x-python",
   "name": "python",
   "nbconvert_exporter": "python",
   "pygments_lexer": "ipython2",
   "version": "2.7.11"
  }
 },
 "nbformat": 4,
 "nbformat_minor": 0
}
