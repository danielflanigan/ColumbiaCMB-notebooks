{
 "cells": [
  {
   "cell_type": "code",
   "execution_count": 1,
   "metadata": {
    "collapsed": false
   },
   "outputs": [
    {
     "name": "stderr",
     "output_type": "stream",
     "text": [
      ":0: FutureWarning: IPython widgets are experimental and may change in the future.\n"
     ]
    }
   ],
   "source": [
    "from kid_readout.measurement import legacy\n",
    "from kid_readout.measurement.io.readoutnc import ReadoutNetCDF"
   ]
  },
  {
   "cell_type": "code",
   "execution_count": 2,
   "metadata": {
    "collapsed": true
   },
   "outputs": [],
   "source": [
    "nc_filename = '/data/readout/2015-05-12_113832_mmw_noise_broadband.nc'\n",
    "rnc = ReadoutNetCDF(nc_filename)"
   ]
  },
  {
   "cell_type": "code",
   "execution_count": 3,
   "metadata": {
    "collapsed": true
   },
   "outputs": [],
   "source": [
    "index = 0"
   ]
  },
  {
   "cell_type": "code",
   "execution_count": 4,
   "metadata": {
    "collapsed": false
   },
   "outputs": [],
   "source": [
    "ssa = legacy.sweepstreamarray_from_rnc(rnc, index, index)"
   ]
  },
  {
   "cell_type": "code",
   "execution_count": 5,
   "metadata": {
    "collapsed": false
   },
   "outputs": [
    {
     "data": {
      "text/plain": [
       "{'gitinfo': u'commit 5a79f1ef014c88c9f74f4096692434af02fd2855\\nAuthor: Daniel Flanigan <daniel.isaiah.flanigan@gmail.com>\\nDate:   Wed May 6 15:13:28 2015 -0400\\n\\n    select_bank fix in roach_interface plus various acquisition scripts\\n',\n",
       " 'mmw_source': {'attenuator_turns': [9.0, 9.0]},\n",
       " 'roach': {'adc_attenuation': 31.5,\n",
       "  'dac_attenuation': 41.0,\n",
       "  'hardware_state_epoch': 1431445263.748835,\n",
       "  'hardware_state_index': 0,\n",
       "  'modulation_output': 0,\n",
       "  'modulation_rate': 1,\n",
       "  'number_of_tone_samples': 524288,\n",
       "  'number_of_tones': 16,\n",
       "  'output_attenuation': 63.04119982655925}}"
      ]
     },
     "execution_count": 5,
     "metadata": {},
     "output_type": "execute_result"
    }
   ],
   "source": [
    "ssa.sweep_array.state"
   ]
  },
  {
   "cell_type": "code",
   "execution_count": 6,
   "metadata": {
    "collapsed": false
   },
   "outputs": [
    {
     "data": {
      "text/plain": [
       "{'gitinfo': u'commit 5a79f1ef014c88c9f74f4096692434af02fd2855\\nAuthor: Daniel Flanigan <daniel.isaiah.flanigan@gmail.com>\\nDate:   Wed May 6 15:13:28 2015 -0400\\n\\n    select_bank fix in roach_interface plus various acquisition scripts\\n',\n",
       " 'mmw_source': {'attenuator_turns': [9.0, 9.0]},\n",
       " 'roach': {'adc_attenuation': 31.5,\n",
       "  'dac_attenuation': 41.0,\n",
       "  'hardware_state_epoch': 1431445381.617848,\n",
       "  'hardware_state_index': 1,\n",
       "  'modulation_output': 7,\n",
       "  'modulation_rate': 2,\n",
       "  'number_of_tone_samples': 524288,\n",
       "  'number_of_tones': 16,\n",
       "  'output_attenuation': 63.04119982655925}}"
      ]
     },
     "execution_count": 6,
     "metadata": {},
     "output_type": "execute_result"
    }
   ],
   "source": [
    "ssa.stream_array.state"
   ]
  },
  {
   "cell_type": "code",
   "execution_count": 7,
   "metadata": {
    "collapsed": false
   },
   "outputs": [
    {
     "data": {
      "text/plain": [
       "1431445263.748835"
      ]
     },
     "execution_count": 7,
     "metadata": {},
     "output_type": "execute_result"
    }
   ],
   "source": [
    "ssa.sweep_array.state.roach.hardware_state_epoch"
   ]
  },
  {
   "cell_type": "code",
   "execution_count": 8,
   "metadata": {
    "collapsed": false
   },
   "outputs": [
    {
     "data": {
      "text/plain": [
       "'ReadoutNetCDF(\"/data/readout/2015-05-12_113832_mmw_noise_broadband.nc\").sweeps[0]'"
      ]
     },
     "execution_count": 8,
     "metadata": {},
     "output_type": "execute_result"
    }
   ],
   "source": [
    "ssa.sweep_array.description"
   ]
  },
  {
   "cell_type": "code",
   "execution_count": 9,
   "metadata": {
    "collapsed": false
   },
   "outputs": [
    {
     "data": {
      "text/plain": [
       "<kid_readout.measurement.io.readoutnc.SweepGroup at 0x5a3ad50>"
      ]
     },
     "execution_count": 9,
     "metadata": {},
     "output_type": "execute_result"
    }
   ],
   "source": [
    "eval(ssa.sweep_array.description)"
   ]
  },
  {
   "cell_type": "code",
   "execution_count": 10,
   "metadata": {
    "collapsed": false
   },
   "outputs": [
    {
     "data": {
      "text/plain": [
       "'ReadoutNetCDF(\"/data/readout/2015-05-12_113832_mmw_noise_broadband.nc\").timestreams[0]'"
      ]
     },
     "execution_count": 10,
     "metadata": {},
     "output_type": "execute_result"
    }
   ],
   "source": [
    "ssa.stream_array.description"
   ]
  },
  {
   "cell_type": "code",
   "execution_count": 11,
   "metadata": {
    "collapsed": false
   },
   "outputs": [
    {
     "data": {
      "text/plain": [
       "<kid_readout.measurement.io.readoutnc.TimestreamGroup at 0xa693790>"
      ]
     },
     "execution_count": 11,
     "metadata": {},
     "output_type": "execute_result"
    }
   ],
   "source": [
    "eval(ssa.stream_array.description)"
   ]
  }
 ],
 "metadata": {
  "kernelspec": {
   "display_name": "Python 2",
   "language": "python",
   "name": "python2"
  },
  "language_info": {
   "codemirror_mode": {
    "name": "ipython",
    "version": 2
   },
   "file_extension": ".py",
   "mimetype": "text/x-python",
   "name": "python",
   "nbconvert_exporter": "python",
   "pygments_lexer": "ipython2",
   "version": "2.7.6"
  }
 },
 "nbformat": 4,
 "nbformat_minor": 0
}
