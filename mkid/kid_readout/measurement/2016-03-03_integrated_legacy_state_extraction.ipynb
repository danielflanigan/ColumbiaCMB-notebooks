{
 "cells": [
  {
   "cell_type": "code",
   "execution_count": 1,
   "metadata": {
    "collapsed": false
   },
   "outputs": [
    {
     "name": "stderr",
     "output_type": "stream",
     "text": [
      ":0: FutureWarning: IPython widgets are experimental and may change in the future.\n"
     ]
    }
   ],
   "source": [
    "from kid_readout.measurement import legacy\n",
    "from kid_readout.measurement.io import readoutnc"
   ]
  },
  {
   "cell_type": "code",
   "execution_count": 2,
   "metadata": {
    "collapsed": true
   },
   "outputs": [],
   "source": [
    "nc_filename = '/data/readout/2015-05-12_113832_mmw_noise_broadband.nc'\n",
    "rnc = readoutnc.ReadoutNetCDF(nc_filename)"
   ]
  },
  {
   "cell_type": "code",
   "execution_count": 3,
   "metadata": {
    "collapsed": true
   },
   "outputs": [],
   "source": [
    "index = 0"
   ]
  },
  {
   "cell_type": "code",
   "execution_count": 4,
   "metadata": {
    "collapsed": false
   },
   "outputs": [],
   "source": [
    "ssa = legacy.sweepstreamarray_from_rnc(rnc, index, index)"
   ]
  },
  {
   "cell_type": "code",
   "execution_count": 5,
   "metadata": {
    "collapsed": false
   },
   "outputs": [
    {
     "data": {
      "text/plain": [
       "{'gitinfo': u'commit 5a79f1ef014c88c9f74f4096692434af02fd2855\\nAuthor: Daniel Flanigan <daniel.isaiah.flanigan@gmail.com>\\nDate:   Wed May 6 15:13:28 2015 -0400\\n\\n    select_bank fix in roach_interface plus various acquisition scripts\\n',\n",
       " 'mmw_source': {'attenuator_turns': array([ 9.,  9.])},\n",
       " 'roach': {'adc_attenuation': 31.5,\n",
       "  'boffile': u'bb2xpfb14mcr17b_2015_Apr_21_1159.bof',\n",
       "  'dac_attenuation': 41.0,\n",
       "  'delay_estimate': -6.33e-05,\n",
       "  'hardware_state_epoch': 1431445263.7488351,\n",
       "  'hardware_state_index': 0,\n",
       "  'heterodyne': False,\n",
       "  'modulation_output': 0,\n",
       "  'modulation_rate': 1,\n",
       "  'number_of_tone_samples': 524288,\n",
       "  'number_of_tones': 16,\n",
       "  'output_attenuation': 63.04119982655925}}"
      ]
     },
     "execution_count": 5,
     "metadata": {},
     "output_type": "execute_result"
    }
   ],
   "source": [
    "ssa.sweep_array.state"
   ]
  },
  {
   "cell_type": "code",
   "execution_count": 6,
   "metadata": {
    "collapsed": false
   },
   "outputs": [
    {
     "data": {
      "text/plain": [
       "{'gitinfo': u'commit 5a79f1ef014c88c9f74f4096692434af02fd2855\\nAuthor: Daniel Flanigan <daniel.isaiah.flanigan@gmail.com>\\nDate:   Wed May 6 15:13:28 2015 -0400\\n\\n    select_bank fix in roach_interface plus various acquisition scripts\\n',\n",
       " 'mmw_source': {'attenuator_turns': array([ 9.,  9.])},\n",
       " 'roach': {'adc_attenuation': 31.5,\n",
       "  'boffile': u'bb2xpfb14mcr17b_2015_Apr_21_1159.bof',\n",
       "  'dac_attenuation': 41.0,\n",
       "  'delay_estimate': -6.33e-05,\n",
       "  'hardware_state_epoch': 1431445381.6178479,\n",
       "  'hardware_state_index': 1,\n",
       "  'heterodyne': False,\n",
       "  'modulation_output': 7,\n",
       "  'modulation_rate': 2,\n",
       "  'number_of_tone_samples': 524288,\n",
       "  'number_of_tones': 16,\n",
       "  'output_attenuation': 63.04119982655925}}"
      ]
     },
     "execution_count": 6,
     "metadata": {},
     "output_type": "execute_result"
    }
   ],
   "source": [
    "ssa.stream_array.state"
   ]
  },
  {
   "cell_type": "code",
   "execution_count": 7,
   "metadata": {
    "collapsed": false
   },
   "outputs": [
    {
     "data": {
      "text/plain": [
       "1431445263.7488351"
      ]
     },
     "execution_count": 7,
     "metadata": {},
     "output_type": "execute_result"
    }
   ],
   "source": [
    "ssa.sweep_array.state.roach.hardware_state_epoch"
   ]
  },
  {
   "cell_type": "code",
   "execution_count": 8,
   "metadata": {
    "collapsed": false
   },
   "outputs": [
    {
     "data": {
      "text/plain": [
       "'ReadoutNetCDF(\"/data/readout/2015-05-12_113832_mmw_noise_broadband.nc\").sweeps[0]'"
      ]
     },
     "execution_count": 8,
     "metadata": {},
     "output_type": "execute_result"
    }
   ],
   "source": [
    "ssa.sweep_array.description"
   ]
  },
  {
   "cell_type": "code",
   "execution_count": 9,
   "metadata": {
    "collapsed": false
   },
   "outputs": [],
   "source": [
    "from kid_readout.measurement.io.readoutnc import ReadoutNetCDF"
   ]
  },
  {
   "cell_type": "code",
   "execution_count": 10,
   "metadata": {
    "collapsed": false
   },
   "outputs": [],
   "source": [
    "sweep_group = eval(ssa.sweep_array.description)"
   ]
  },
  {
   "cell_type": "code",
   "execution_count": 11,
   "metadata": {
    "collapsed": false
   },
   "outputs": [
    {
     "data": {
      "text/plain": [
       "<kid_readout.measurement.io.readoutnc.SweepGroup at 0x5f4dfd0>"
      ]
     },
     "execution_count": 11,
     "metadata": {},
     "output_type": "execute_result"
    }
   ],
   "source": [
    "sweep_group"
   ]
  },
  {
   "cell_type": "code",
   "execution_count": 12,
   "metadata": {
    "collapsed": true
   },
   "outputs": [],
   "source": [
    "timestream_group = eval(ssa.stream_array.description)"
   ]
  },
  {
   "cell_type": "code",
   "execution_count": 13,
   "metadata": {
    "collapsed": false
   },
   "outputs": [
    {
     "data": {
      "text/plain": [
       "<kid_readout.measurement.io.readoutnc.TimestreamGroup at 0xab8a9d0>"
      ]
     },
     "execution_count": 13,
     "metadata": {},
     "output_type": "execute_result"
    }
   ],
   "source": [
    "timestream_group"
   ]
  },
  {
   "cell_type": "code",
   "execution_count": null,
   "metadata": {
    "collapsed": true
   },
   "outputs": [],
   "source": []
  }
 ],
 "metadata": {
  "kernelspec": {
   "display_name": "Python 2",
   "language": "python",
   "name": "python2"
  },
  "language_info": {
   "codemirror_mode": {
    "name": "ipython",
    "version": 2
   },
   "file_extension": ".py",
   "mimetype": "text/x-python",
   "name": "python",
   "nbconvert_exporter": "python",
   "pygments_lexer": "ipython2",
   "version": "2.7.6"
  }
 },
 "nbformat": 4,
 "nbformat_minor": 0
}
