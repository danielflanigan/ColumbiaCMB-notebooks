{
 "cells": [
  {
   "cell_type": "code",
   "execution_count": 1,
   "metadata": {
    "collapsed": true
   },
   "outputs": [],
   "source": [
    "%matplotlib inline"
   ]
  },
  {
   "cell_type": "code",
   "execution_count": 2,
   "metadata": {
    "collapsed": false
   },
   "outputs": [],
   "source": [
    "from tqdm import tqdm\n",
    "from kid_readout.measurement.io import nc"
   ]
  },
  {
   "cell_type": "code",
   "execution_count": 17,
   "metadata": {
    "collapsed": true
   },
   "outputs": [],
   "source": [
    "ncf = nc.NCFile('/data/detectors/2016-05-05_160039_lo_scan.nc', cache_s21_raw=True)"
   ]
  },
  {
   "cell_type": "code",
   "execution_count": 18,
   "metadata": {
    "collapsed": false
   },
   "outputs": [
    {
     "data": {
      "text/plain": [
       "[u'SweepArray0']"
      ]
     },
     "execution_count": 18,
     "metadata": {},
     "output_type": "execute_result"
    }
   ],
   "source": [
    "ncf.measurement_names()"
   ]
  },
  {
   "cell_type": "code",
   "execution_count": 19,
   "metadata": {
    "collapsed": true
   },
   "outputs": [],
   "source": [
    "sa = ncf.SweepArray0"
   ]
  },
  {
   "cell_type": "code",
   "execution_count": 20,
   "metadata": {
    "collapsed": false
   },
   "outputs": [
    {
     "data": {
      "text/plain": [
       "50"
      ]
     },
     "execution_count": 20,
     "metadata": {},
     "output_type": "execute_result"
    }
   ],
   "source": [
    "len(sa.stream_arrays)"
   ]
  },
  {
   "cell_type": "code",
   "execution_count": 25,
   "metadata": {
    "collapsed": true
   },
   "outputs": [],
   "source": [
    "s0 = sa.stream_arrays[37]"
   ]
  },
  {
   "cell_type": "code",
   "execution_count": 26,
   "metadata": {
    "collapsed": false,
    "scrolled": false
   },
   "outputs": [
    {
     "name": "stdout",
     "output_type": "stream",
     "text": [
      "519938\n",
      "519938\n",
      "519938\n",
      "519938\n",
      "519938\n",
      "519938\n",
      "519938\n",
      "519938\n",
      "519938\n",
      "519938\n",
      "519938\n",
      "519938\n",
      "519938\n",
      "519938\n",
      "519938\n",
      "519938\n",
      "519938\n",
      "519938\n",
      "519938\n",
      "519938\n",
      "519938\n",
      "519938\n",
      "519938\n",
      "519938\n",
      "519938\n",
      "519938\n",
      "519938\n",
      "519938\n",
      "519938\n",
      "519938\n",
      "519938\n",
      "519938\n",
      "519938\n",
      "519938\n",
      "519938\n",
      "519938\n",
      "519938\n",
      "519938\n",
      "519938\n",
      "519938\n",
      "519938\n",
      "519938\n",
      "519938\n",
      "519938\n",
      "519938\n",
      "519938\n",
      "519938\n",
      "519938\n",
      "519938\n",
      "519938\n",
      "519938\n",
      "519938\n",
      "519938\n",
      "519938\n",
      "519938\n",
      "519938\n",
      "519938\n",
      "519938\n",
      "519938\n",
      "519938\n",
      "519938\n",
      "519938\n",
      "519938\n",
      "519938\n",
      "519938\n",
      "519938\n",
      "519938\n",
      "519938\n",
      "519938\n",
      "519938\n",
      "519938\n",
      "519938\n",
      "519938\n",
      "519938\n",
      "519938\n",
      "519938\n",
      "519938\n",
      "519938\n",
      "519938\n",
      "519938\n",
      "519938\n",
      "519938\n",
      "519938\n",
      "519938\n",
      "519938\n",
      "519938\n",
      "519938\n",
      "519938\n",
      "519938\n",
      "519938\n",
      "519938\n",
      "519938\n",
      "519938\n",
      "519938\n",
      "519938\n",
      "519938\n",
      "519938\n",
      "519938\n",
      "519938\n",
      "519938\n",
      "519938\n",
      "519938\n",
      "519938\n",
      "519938\n",
      "519938\n",
      "519938\n",
      "519938\n",
      "519938\n",
      "519938\n",
      "519938\n",
      "519938\n",
      "519938\n",
      "519938\n",
      "519938\n",
      "519938\n",
      "519938\n",
      "519938\n",
      "519938\n",
      "519938\n",
      "519938\n",
      "519938\n",
      "519938\n",
      "519938\n",
      "519938\n",
      "519938\n",
      "519938\n",
      "519938\n",
      "519938\n"
     ]
    }
   ],
   "source": [
    "for n in range(s0.tone_index.size):\n",
    "    s = s0.stream(n)\n",
    "    print(np.sum(np.isnan(s.s21_raw)))"
   ]
  },
  {
   "cell_type": "code",
   "execution_count": null,
   "metadata": {
    "collapsed": true
   },
   "outputs": [],
   "source": [
    "fig, ax = plt.subplots()\n"
   ]
  },
  {
   "cell_type": "markdown",
   "metadata": {},
   "source": [
    "All of the data has at least one NaN..."
   ]
  },
  {
   "cell_type": "code",
   "execution_count": 7,
   "metadata": {
    "collapsed": false
   },
   "outputs": [
    {
     "name": "stderr",
     "output_type": "stream",
     "text": [
      "100%|██████████| 50/50 [00:57<00:00,  1.59s/it]\n"
     ]
    }
   ],
   "source": [
    "f = []\n",
    "s21 = []\n",
    "for s in tqdm(sa.stream_arrays):\n",
    "    f.extend(s.frequency)\n",
    "    s21.extend(s.s21_raw_mean)"
   ]
  },
  {
   "cell_type": "code",
   "execution_count": 8,
   "metadata": {
    "collapsed": true
   },
   "outputs": [],
   "source": [
    "ncf.close()"
   ]
  },
  {
   "cell_type": "code",
   "execution_count": 11,
   "metadata": {
    "collapsed": false
   },
   "outputs": [
    {
     "data": {
      "text/plain": [
       "6400"
      ]
     },
     "execution_count": 11,
     "metadata": {},
     "output_type": "execute_result"
    }
   ],
   "source": [
    "len(f)"
   ]
  },
  {
   "cell_type": "code",
   "execution_count": 12,
   "metadata": {
    "collapsed": false
   },
   "outputs": [
    {
     "data": {
      "text/plain": [
       "6400"
      ]
     },
     "execution_count": 12,
     "metadata": {},
     "output_type": "execute_result"
    }
   ],
   "source": [
    "len(s21)"
   ]
  },
  {
   "cell_type": "code",
   "execution_count": 15,
   "metadata": {
    "collapsed": false
   },
   "outputs": [
    {
     "data": {
      "text/plain": [
       "0"
      ]
     },
     "execution_count": 15,
     "metadata": {},
     "output_type": "execute_result"
    }
   ],
   "source": [
    "sum(np.isnan(f))"
   ]
  },
  {
   "cell_type": "code",
   "execution_count": 16,
   "metadata": {
    "collapsed": false
   },
   "outputs": [
    {
     "data": {
      "text/plain": [
       "6400"
      ]
     },
     "execution_count": 16,
     "metadata": {},
     "output_type": "execute_result"
    }
   ],
   "source": [
    "sum(np.isnan(s21))"
   ]
  },
  {
   "cell_type": "code",
   "execution_count": 9,
   "metadata": {
    "collapsed": true
   },
   "outputs": [],
   "source": [
    "order = np.argsort(f)\n",
    "fs = np.array(f)[order]\n",
    "s21s = np.array(s21)[order]"
   ]
  },
  {
   "cell_type": "code",
   "execution_count": 14,
   "metadata": {
    "collapsed": false
   },
   "outputs": [
    {
     "data": {
      "text/plain": [
       "[<matplotlib.lines.Line2D at 0x7f12da907b10>]"
      ]
     },
     "execution_count": 14,
     "metadata": {},
     "output_type": "execute_result"
    },
    {
     "data": {
      "image/png": "[encoded data removed]",
      "text/plain": [
       "<matplotlib.figure.Figure at 0x7f12dd484b90>"
      ]
     },
     "metadata": {},
     "output_type": "display_data"
    }
   ],
   "source": [
    "fig, ax = plt.subplots()\n",
    "ax.plot(fs, 20 * np.log10(np.abs(s21s)), '.')"
   ]
  },
  {
   "cell_type": "code",
   "execution_count": null,
   "metadata": {
    "collapsed": true
   },
   "outputs": [],
   "source": []
  }
 ],
 "metadata": {
  "kernelspec": {
   "display_name": "Python 2: Analysis",
   "language": "python",
   "name": "analysis"
  },
  "language_info": {
   "codemirror_mode": {
    "name": "ipython",
    "version": 2
   },
   "file_extension": ".py",
   "mimetype": "text/x-python",
   "name": "python",
   "nbconvert_exporter": "python",
   "pygments_lexer": "ipython2",
   "version": "2.7.11"
  }
 },
 "nbformat": 4,
 "nbformat_minor": 0
}
