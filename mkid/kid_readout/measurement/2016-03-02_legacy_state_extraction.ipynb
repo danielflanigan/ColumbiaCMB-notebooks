{
 "cells": [
  {
   "cell_type": "code",
   "execution_count": 1,
   "metadata": {
    "collapsed": false
   },
   "outputs": [
    {
     "name": "stderr",
     "output_type": "stream",
     "text": [
      ":0: FutureWarning: IPython widgets are experimental and may change in the future.\n"
     ]
    }
   ],
   "source": [
    "from kid_readout.measurement import legacy\n",
    "from kid_readout.measurement.io import readoutnc"
   ]
  },
  {
   "cell_type": "code",
   "execution_count": 2,
   "metadata": {
    "collapsed": true
   },
   "outputs": [],
   "source": [
    "nc_filename = '/data/readout/2015-05-12_113832_mmw_noise_broadband.nc'\n",
    "rnc = readoutnc.ReadoutNetCDF(nc_filename)"
   ]
  },
  {
   "cell_type": "code",
   "execution_count": 17,
   "metadata": {
    "collapsed": false
   },
   "outputs": [
    {
     "data": {
      "text/plain": [
       "10"
      ]
     },
     "execution_count": 17,
     "metadata": {},
     "output_type": "execute_result"
    }
   ],
   "source": [
    "len(rnc.sweeps)"
   ]
  },
  {
   "cell_type": "code",
   "execution_count": 4,
   "metadata": {
    "collapsed": false
   },
   "outputs": [
    {
     "data": {
      "text/plain": [
       "10"
      ]
     },
     "execution_count": 4,
     "metadata": {},
     "output_type": "execute_result"
    }
   ],
   "source": [
    "len(rnc.timestreams)"
   ]
  },
  {
   "cell_type": "code",
   "execution_count": 5,
   "metadata": {
    "collapsed": true
   },
   "outputs": [],
   "source": [
    "index = 0"
   ]
  },
  {
   "cell_type": "code",
   "execution_count": 6,
   "metadata": {
    "collapsed": true
   },
   "outputs": [],
   "source": [
    "sg = rnc.sweeps[index]\n",
    "tg = rnc.timestreams[index]"
   ]
  },
  {
   "cell_type": "code",
   "execution_count": 8,
   "metadata": {
    "collapsed": false
   },
   "outputs": [
    {
     "data": {
      "text/plain": [
       "<module 'kid_readout.measurement.legacy' from '/home/flanigan/kid_readout/kid_readout/measurement/legacy.py'>"
      ]
     },
     "execution_count": 8,
     "metadata": {},
     "output_type": "execute_result"
    }
   ],
   "source": [
    "reload(legacy)"
   ]
  },
  {
   "cell_type": "code",
   "execution_count": 9,
   "metadata": {
    "collapsed": false
   },
   "outputs": [
    {
     "data": {
      "text/plain": [
       "{'gitinfo': u'commit 5a79f1ef014c88c9f74f4096692434af02fd2855\\nAuthor: Daniel Flanigan <daniel.isaiah.flanigan@gmail.com>\\nDate:   Wed May 6 15:13:28 2015 -0400\\n\\n    select_bank fix in roach_interface plus various acquisition scripts\\n',\n",
       " 'mmw_source': {'attenuator_turns': array([ 9.,  9.])},\n",
       " 'roach': {'adc_attenuation': 31.5,\n",
       "  'boffile': u'bb2xpfb14mcr17b_2015_Apr_21_1159.bof',\n",
       "  'dac_attenuation': 41.0,\n",
       "  'delay_estimate': -6.33e-05,\n",
       "  'hardware_state_epoch': 1431445263.7488351,\n",
       "  'hardware_state_index': 0,\n",
       "  'heterodyne': False,\n",
       "  'modulation_output': 0,\n",
       "  'modulation_rate': 1,\n",
       "  'number_of_tone_samples': 524288,\n",
       "  'number_of_tones': 16,\n",
       "  'output_attenuation': 63.04119982655925}}"
      ]
     },
     "execution_count": 9,
     "metadata": {},
     "output_type": "execute_result"
    }
   ],
   "source": [
    "sg_state = legacy.sweep_state_from_rnc(rnc, index)\n",
    "sg_state"
   ]
  },
  {
   "cell_type": "code",
   "execution_count": 10,
   "metadata": {
    "collapsed": false
   },
   "outputs": [
    {
     "data": {
      "text/plain": [
       "{'gitinfo': u'commit 5a79f1ef014c88c9f74f4096692434af02fd2855\\nAuthor: Daniel Flanigan <daniel.isaiah.flanigan@gmail.com>\\nDate:   Wed May 6 15:13:28 2015 -0400\\n\\n    select_bank fix in roach_interface plus various acquisition scripts\\n',\n",
       " 'mmw_source': {'attenuator_turns': array([ 9.,  9.])},\n",
       " 'roach': {'adc_attenuation': 31.5,\n",
       "  'boffile': u'bb2xpfb14mcr17b_2015_Apr_21_1159.bof',\n",
       "  'dac_attenuation': 41.0,\n",
       "  'delay_estimate': -6.33e-05,\n",
       "  'hardware_state_epoch': 1431445381.6178479,\n",
       "  'hardware_state_index': 1,\n",
       "  'heterodyne': False,\n",
       "  'modulation_output': 7,\n",
       "  'modulation_rate': 2,\n",
       "  'number_of_tone_samples': 524288,\n",
       "  'number_of_tones': 16,\n",
       "  'output_attenuation': 63.04119982655925}}"
      ]
     },
     "execution_count": 10,
     "metadata": {},
     "output_type": "execute_result"
    }
   ],
   "source": [
    "tg_state = legacy.timestream_state_from_rnc(rnc, index)\n",
    "tg_state"
   ]
  },
  {
   "cell_type": "code",
   "execution_count": 14,
   "metadata": {
    "collapsed": false
   },
   "outputs": [
    {
     "data": {
      "text/plain": [
       "0.23886990547180176"
      ]
     },
     "execution_count": 14,
     "metadata": {},
     "output_type": "execute_result"
    }
   ],
   "source": [
    "sg.start_epoch - sg_state['roach']['hardware_state_epoch']"
   ]
  },
  {
   "cell_type": "code",
   "execution_count": 15,
   "metadata": {
    "collapsed": false
   },
   "outputs": [
    {
     "data": {
      "text/plain": [
       "97.285952806472778"
      ]
     },
     "execution_count": 15,
     "metadata": {},
     "output_type": "execute_result"
    }
   ],
   "source": [
    "sg.end_epoch - sg_state['roach']['hardware_state_epoch']"
   ]
  },
  {
   "cell_type": "code",
   "execution_count": 16,
   "metadata": {
    "collapsed": false
   },
   "outputs": [
    {
     "data": {
      "text/plain": [
       "0.0047941207885742188"
      ]
     },
     "execution_count": 16,
     "metadata": {},
     "output_type": "execute_result"
    }
   ],
   "source": [
    "tg.epoch[0] - tg_state['roach']['hardware_state_epoch']"
   ]
  }
 ],
 "metadata": {
  "kernelspec": {
   "display_name": "Python 2",
   "language": "python",
   "name": "python2"
  },
  "language_info": {
   "codemirror_mode": {
    "name": "ipython",
    "version": 2
   },
   "file_extension": ".py",
   "mimetype": "text/x-python",
   "name": "python",
   "nbconvert_exporter": "python",
   "pygments_lexer": "ipython2",
   "version": "2.7.6"
  }
 },
 "nbformat": 4,
 "nbformat_minor": 0
}
