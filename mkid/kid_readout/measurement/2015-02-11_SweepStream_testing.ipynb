{
 "cells": [
  {
   "cell_type": "code",
   "execution_count": 1,
   "metadata": {
    "collapsed": false
   },
   "outputs": [],
   "source": [
    "from kid_readout.measure import nc, measurement, noise"
   ]
  },
  {
   "cell_type": "code",
   "execution_count": 2,
   "metadata": {
    "collapsed": false
   },
   "outputs": [],
   "source": [
    "df = nc.DataFile('/home/flanigan/test_sweepstream.nc')"
   ]
  },
  {
   "cell_type": "code",
   "execution_count": 3,
   "metadata": {
    "collapsed": false
   },
   "outputs": [
    {
     "data": {
      "text/plain": [
       "OrderedDict()"
      ]
     },
     "execution_count": 3,
     "metadata": {},
     "output_type": "execute_result"
    }
   ],
   "source": [
    "df.measurements"
   ]
  },
  {
   "cell_type": "code",
   "execution_count": 4,
   "metadata": {
    "collapsed": false
   },
   "outputs": [
    {
     "ename": "KeyError",
     "evalue": "'SweepStream_0'",
     "output_type": "error",
     "traceback": [
      "\u001b[1;31m---------------------------------------------------------------------------\u001b[0m\n\u001b[1;31mKeyError\u001b[0m                                  Traceback (most recent call last)",
      "\u001b[1;32m<ipython-input-4-8bb392184ee4>\u001b[0m in \u001b[0;36m<module>\u001b[1;34m()\u001b[0m\n\u001b[1;32m----> 1\u001b[1;33m \u001b[0mss\u001b[0m \u001b[1;33m=\u001b[0m \u001b[0mmeasurement\u001b[0m\u001b[1;33m.\u001b[0m\u001b[0mSweepStream\u001b[0m\u001b[1;33m(\u001b[0m\u001b[1;33m)\u001b[0m\u001b[1;33m.\u001b[0m\u001b[0mfrom_group\u001b[0m\u001b[1;33m(\u001b[0m\u001b[0mdf\u001b[0m\u001b[1;33m.\u001b[0m\u001b[0mmeasurements\u001b[0m\u001b[1;33m[\u001b[0m\u001b[1;34m'SweepStream_0'\u001b[0m\u001b[1;33m]\u001b[0m\u001b[1;33m)\u001b[0m\u001b[1;33m\u001b[0m\u001b[0m\n\u001b[0m",
      "\u001b[1;31mKeyError\u001b[0m: 'SweepStream_0'"
     ]
    }
   ],
   "source": [
    "ss = measurement.SweepStream().from_group(df.measurements['SweepStream_0'])"
   ]
  },
  {
   "cell_type": "code",
   "execution_count": null,
   "metadata": {
    "collapsed": false
   },
   "outputs": [],
   "source": [
    "mappable = plt.cm.ScalarMappable(matplotlib.colors.Normalize(min(ss.sweep.frequency), max(ss.sweep.frequency)), cmap=plt.cm.copper)\n",
    "mappable.set_array(ss.sweep.frequency)\n",
    "fig, ax = plt.subplots()\n",
    "ax.plot(ss.stream.s21.real, ss.stream.s21.imag, '.', color='gray', ms=1)\n",
    "for s in ss.sweep.streams:\n",
    "    ax.plot(s.s21.real, s.s21.imag, '.', color=mappable.to_rgba(s.frequency), ms=0.2)"
   ]
  },
  {
   "cell_type": "code",
   "execution_count": null,
   "metadata": {
    "collapsed": false
   },
   "outputs": [],
   "source": [
    "fig, ax = plt.subplots()\n",
    "ax.plot(ss.stream_s21_normalized.real, ss.stream_s21_normalized.imag, '.', color='gray', ms=1)\n",
    "for s21n, f in zip(ss.sweep_s21_normalized, ss.sweep.frequency):\n",
    "    ax.plot(s21n.real, s21n.imag, '.', color=mappable.to_rgba(f))"
   ]
  },
  {
   "cell_type": "code",
   "execution_count": null,
   "metadata": {
    "collapsed": false
   },
   "outputs": [],
   "source": [
    "ss.analyze()"
   ]
  },
  {
   "cell_type": "code",
   "execution_count": null,
   "metadata": {
    "collapsed": false
   },
   "outputs": [],
   "source": [
    "plt.loglog(ss.psd_frequency[1:], ss.psd_ii[1:], '-', color='black')\n",
    "plt.loglog(ss.psd_frequency[1:], ss.psd_xx[1:], '-', color='gray')\n",
    "plt.loglog(ss.psd_frequency[1:], ss.noise_ii.model(), '-', color='yellow')\n",
    "plt.loglog(ss.psd_frequency[1:], ss.noise_xx.model(), '-', color='red')"
   ]
  }
 ],
 "metadata": {
  "kernelspec": {
   "display_name": "Python 2",
   "language": "python",
   "name": "python2"
  },
  "language_info": {
   "codemirror_mode": {
    "name": "ipython",
    "version": 2
   },
   "file_extension": ".py",
   "mimetype": "text/x-python",
   "name": "python",
   "nbconvert_exporter": "python",
   "pygments_lexer": "ipython2",
   "version": "2.7.6"
  }
 },
 "nbformat": 4,
 "nbformat_minor": 0
}
