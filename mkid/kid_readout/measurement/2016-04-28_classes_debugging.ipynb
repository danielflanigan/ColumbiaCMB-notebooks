{
 "cells": [
  {
   "cell_type": "code",
   "execution_count": 55,
   "metadata": {
    "collapsed": true
   },
   "outputs": [],
   "source": [
    "from kid_readout.measurement import core, classes\n",
    "from kid_readout.measurement.io import memory\n",
    "from kid_readout.measurement.test import utilities"
   ]
  },
  {
   "cell_type": "code",
   "execution_count": 8,
   "metadata": {
    "collapsed": false
   },
   "outputs": [
    {
     "name": "stdout",
     "output_type": "stream",
     "text": [
      "measuring bank: \n",
      "0 bank_offset= 0 start_offset= 0 start_offset_bytes= 0\n",
      "writing DRAM bank 0\n",
      "1 bank_offset= 0 start_offset= 0 start_offset_bytes= 0\n",
      "writing DRAM bank 0\n",
      "2 bank_offset= 0 start_offset= 0 start_offset_bytes= 0\n",
      "writing DRAM bank 0\n",
      "3 bank_offset= 0 start_offset= 0 start_offset_bytes= 0\n",
      "writing DRAM bank 0\n",
      "4 bank_offset= 0 start_offset= 0 start_offset_bytes= 0\n",
      "writing DRAM bank 0\n",
      "5 bank_offset= 0 start_offset= 0 start_offset_bytes= 0\n",
      "writing DRAM bank 0\n",
      "6 bank_offset= 0 start_offset= 0 start_offset_bytes= 0\n",
      "writing DRAM bank 0\n",
      "7 bank_offset= 0 start_offset= 0 start_offset_bytes= 0\n",
      "writing DRAM bank 0\n",
      "8 bank_offset= 0 start_offset= 0 start_offset_bytes= 0\n",
      "writing DRAM bank 0\n",
      "9 bank_offset= 0 start_offset= 0 start_offset_bytes= 0\n",
      "writing DRAM bank 0\n",
      "10 bank_offset= 0 start_offset= 0 start_offset_bytes= 0\n",
      "writing DRAM bank 0\n",
      "11 bank_offset= 0 start_offset= 0 start_offset_bytes= 0\n",
      "writing DRAM bank 0\n",
      "12 bank_offset= 0 start_offset= 0 start_offset_bytes= 0\n",
      "writing DRAM bank 0\n",
      "13 bank_offset= 0 start_offset= 0 start_offset_bytes= 0\n",
      "writing DRAM bank 0\n",
      "14 bank_offset= 0 start_offset= 0 start_offset_bytes= 0\n",
      "writing DRAM bank 0\n",
      "15 bank_offset= 0 start_offset= 0 start_offset_bytes= 0\n",
      "writing DRAM bank 0\n",
      "16 bank_offset= 0 start_offset= 0 start_offset_bytes= 0\n",
      "writing DRAM bank 0\n",
      "17 bank_offset= 0 start_offset= 0 start_offset_bytes= 0\n",
      "writing DRAM bank 0\n",
      "18 bank_offset= 0 start_offset= 0 start_offset_bytes= 0\n",
      "writing DRAM bank 0\n",
      "19 bank_offset= 0 start_offset= 0 start_offset_bytes= 0\n",
      "writing DRAM bank 0\n",
      "20 bank_offset= 0 start_offset= 0 start_offset_bytes= 0\n",
      "writing DRAM bank 0\n",
      "21 bank_offset= 0 start_offset= 0 start_offset_bytes= 0\n",
      "writing DRAM bank 0\n",
      "22 bank_offset= 0 start_offset= 0 start_offset_bytes= 0\n",
      "writing DRAM bank 0\n",
      "23 bank_offset= 0 start_offset= 0 start_offset_bytes= 0\n",
      "writing DRAM bank 0\n",
      "24 bank_offset= 0 start_offset= 0 start_offset_bytes= 0\n",
      "writing DRAM bank 0\n",
      "25 bank_offset= 0 start_offset= 0 start_offset_bytes= 0\n",
      "writing DRAM bank 0\n",
      "26 bank_offset= 0 start_offset= 0 start_offset_bytes= 0\n",
      "writing DRAM bank 0\n",
      "27 bank_offset= 0 start_offset= 0 start_offset_bytes= 0\n",
      "writing DRAM bank 0\n",
      "28 bank_offset= 0 start_offset= 0 start_offset_bytes= 0\n",
      "writing DRAM bank 0\n",
      "29 bank_offset= 0 start_offset= 0 start_offset_bytes= 0\n",
      "writing DRAM bank 0\n",
      "30 bank_offset= 0 start_offset= 0 start_offset_bytes= 0\n",
      "writing DRAM bank 0\n",
      "31 bank_offset= 0 start_offset= 0 start_offset_bytes= 0\n",
      "writing DRAM bank 0\n",
      "bank_offset= 0 start_offset= 0 start_offset_bytes= 0\n",
      "writing DRAM bank 0\n"
     ]
    }
   ],
   "source": [
    "ssa = utilities.fake_sweep_stream_array()"
   ]
  },
  {
   "cell_type": "code",
   "execution_count": 14,
   "metadata": {
    "collapsed": false
   },
   "outputs": [
    {
     "data": {
      "text/plain": [
       "array([12800, 13653, 14507, 15360, 16213, 25600, 24747, 23893, 23040,\n",
       "       22187, 21333, 20480, 19627, 18773, 17920, 17067])"
      ]
     },
     "execution_count": 14,
     "metadata": {},
     "output_type": "execute_result"
    }
   ],
   "source": [
    "ssa.stream_array.tone_bin[ssa.stream_array.tone_index]"
   ]
  },
  {
   "cell_type": "code",
   "execution_count": 16,
   "metadata": {
    "collapsed": true
   },
   "outputs": [],
   "source": [
    "io = memory.Dictionary()"
   ]
  },
  {
   "cell_type": "code",
   "execution_count": 17,
   "metadata": {
    "collapsed": true
   },
   "outputs": [],
   "source": [
    "io.write(ssa)"
   ]
  },
  {
   "cell_type": "code",
   "execution_count": 18,
   "metadata": {
    "collapsed": false
   },
   "outputs": [
    {
     "ename": "MeasurementError",
     "evalue": "The number of SweepArray channels does not match the StreamArray number.",
     "output_type": "error",
     "traceback": [
      "\u001b[1;31m---------------------------------------------------------------------------\u001b[0m",
      "\u001b[1;31mMeasurementError\u001b[0m                          Traceback (most recent call last)",
      "\u001b[1;32m<ipython-input-18-901c3cadb8d6>\u001b[0m in \u001b[0;36m<module>\u001b[1;34m()\u001b[0m\n\u001b[1;32m----> 1\u001b[1;33m \u001b[0mio\u001b[0m\u001b[1;33m.\u001b[0m\u001b[0mSweepStreamArray0\u001b[0m\u001b[1;33m\u001b[0m\u001b[0m\n\u001b[0m",
      "\u001b[1;32m/home/flanigan/readout/kid_readout/kid_readout/measurement/core.pyc\u001b[0m in \u001b[0;36m__getattr__\u001b[1;34m(self, item)\u001b[0m\n\u001b[0;32m    749\u001b[0m     \u001b[1;32mdef\u001b[0m \u001b[0m__getattr__\u001b[0m\u001b[1;33m(\u001b[0m\u001b[0mself\u001b[0m\u001b[1;33m,\u001b[0m \u001b[0mitem\u001b[0m\u001b[1;33m)\u001b[0m\u001b[1;33m:\u001b[0m\u001b[1;33m\u001b[0m\u001b[0m\n\u001b[0;32m    750\u001b[0m         \u001b[1;32mif\u001b[0m \u001b[0mitem\u001b[0m \u001b[1;32min\u001b[0m \u001b[0mself\u001b[0m\u001b[1;33m.\u001b[0m\u001b[0mmeasurement_names\u001b[0m\u001b[1;33m(\u001b[0m\u001b[1;33m)\u001b[0m\u001b[1;33m:\u001b[0m\u001b[1;33m\u001b[0m\u001b[0m\n\u001b[1;32m--> 751\u001b[1;33m             \u001b[1;32mreturn\u001b[0m \u001b[0mself\u001b[0m\u001b[1;33m.\u001b[0m\u001b[0mread\u001b[0m\u001b[1;33m(\u001b[0m\u001b[0mitem\u001b[0m\u001b[1;33m)\u001b[0m\u001b[1;33m\u001b[0m\u001b[0m\n\u001b[0m\u001b[0;32m    752\u001b[0m         \u001b[1;32melse\u001b[0m\u001b[1;33m:\u001b[0m\u001b[1;33m\u001b[0m\u001b[0m\n\u001b[0;32m    753\u001b[0m             \u001b[1;32mraise\u001b[0m \u001b[0mAttributeError\u001b[0m\u001b[1;33m(\u001b[0m\u001b[1;33m)\u001b[0m\u001b[1;33m\u001b[0m\u001b[0m\n",
      "\u001b[1;32m/home/flanigan/readout/kid_readout/kid_readout/measurement/core.pyc\u001b[0m in \u001b[0;36mread\u001b[1;34m(self, node_path, translate)\u001b[0m\n\u001b[0;32m    695\u001b[0m         \u001b[1;32mif\u001b[0m \u001b[0mtranslate\u001b[0m \u001b[1;32mis\u001b[0m \u001b[0mNone\u001b[0m\u001b[1;33m:\u001b[0m\u001b[1;33m\u001b[0m\u001b[0m\n\u001b[0;32m    696\u001b[0m             \u001b[0mtranslate\u001b[0m \u001b[1;33m=\u001b[0m \u001b[1;33m{\u001b[0m\u001b[1;33m}\u001b[0m\u001b[1;33m\u001b[0m\u001b[0m\n\u001b[1;32m--> 697\u001b[1;33m         \u001b[1;32mreturn\u001b[0m \u001b[0mself\u001b[0m\u001b[1;33m.\u001b[0m\u001b[0m_read_node\u001b[0m\u001b[1;33m(\u001b[0m\u001b[0mabsolute_node_path\u001b[0m\u001b[1;33m,\u001b[0m \u001b[0mtranslate\u001b[0m\u001b[1;33m)\u001b[0m\u001b[1;33m\u001b[0m\u001b[0m\n\u001b[0m\u001b[0;32m    698\u001b[0m \u001b[1;33m\u001b[0m\u001b[0m\n\u001b[0;32m    699\u001b[0m     \u001b[1;31m# The remaining public methods should be implemented by subclasses.\u001b[0m\u001b[1;33m\u001b[0m\u001b[1;33m\u001b[0m\u001b[0m\n",
      "\u001b[1;32m/home/flanigan/readout/kid_readout/kid_readout/measurement/core.pyc\u001b[0m in \u001b[0;36m_read_node\u001b[1;34m(self, node_path, translate)\u001b[0m\n\u001b[0;32m    823\u001b[0m                 \u001b[0mvariables\u001b[0m\u001b[1;33m[\u001b[0m\u001b[0mother_name\u001b[0m\u001b[1;33m]\u001b[0m \u001b[1;33m=\u001b[0m \u001b[0mself\u001b[0m\u001b[1;33m.\u001b[0m\u001b[0mread_other\u001b[0m\u001b[1;33m(\u001b[0m\u001b[0mnode_path\u001b[0m\u001b[1;33m,\u001b[0m \u001b[0mother_name\u001b[0m\u001b[1;33m)\u001b[0m\u001b[1;33m\u001b[0m\u001b[0m\n\u001b[0;32m    824\u001b[0m             \u001b[1;31m# TODO: decide whether we need to use instantiate() here.\u001b[0m\u001b[1;33m\u001b[0m\u001b[1;33m\u001b[0m\u001b[0m\n\u001b[1;32m--> 825\u001b[1;33m             \u001b[0mcurrent\u001b[0m \u001b[1;33m=\u001b[0m \u001b[0mclass_\u001b[0m\u001b[1;33m(\u001b[0m\u001b[1;33m**\u001b[0m\u001b[0mvariables\u001b[0m\u001b[1;33m)\u001b[0m\u001b[1;33m\u001b[0m\u001b[0m\n\u001b[0m\u001b[0;32m    826\u001b[0m             \u001b[1;31m# Update the node with information about how it was loaded.\u001b[0m\u001b[1;33m\u001b[0m\u001b[1;33m\u001b[0m\u001b[0m\n\u001b[0;32m    827\u001b[0m             \u001b[0mcurrent\u001b[0m\u001b[1;33m.\u001b[0m\u001b[0m_io\u001b[0m \u001b[1;33m=\u001b[0m \u001b[0mself\u001b[0m\u001b[1;33m\u001b[0m\u001b[0m\n",
      "\u001b[1;32m/home/flanigan/readout/kid_readout/kid_readout/measurement/basic.pyc\u001b[0m in \u001b[0;36m__init__\u001b[1;34m(self, sweep_array, stream_array, state, description)\u001b[0m\n\u001b[0;32m    402\u001b[0m     \u001b[1;32mdef\u001b[0m \u001b[0m__init__\u001b[0m\u001b[1;33m(\u001b[0m\u001b[0mself\u001b[0m\u001b[1;33m,\u001b[0m \u001b[0msweep_array\u001b[0m\u001b[1;33m,\u001b[0m \u001b[0mstream_array\u001b[0m\u001b[1;33m,\u001b[0m \u001b[0mstate\u001b[0m\u001b[1;33m=\u001b[0m\u001b[0mNone\u001b[0m\u001b[1;33m,\u001b[0m \u001b[0mdescription\u001b[0m\u001b[1;33m=\u001b[0m\u001b[1;34m''\u001b[0m\u001b[1;33m)\u001b[0m\u001b[1;33m:\u001b[0m\u001b[1;33m\u001b[0m\u001b[0m\n\u001b[0;32m    403\u001b[0m         \u001b[1;32mif\u001b[0m \u001b[0msweep_array\u001b[0m\u001b[1;33m.\u001b[0m\u001b[0mnum_channels\u001b[0m \u001b[1;33m!=\u001b[0m \u001b[0mstream_array\u001b[0m\u001b[1;33m.\u001b[0m\u001b[0mtone_index\u001b[0m\u001b[1;33m.\u001b[0m\u001b[0msize\u001b[0m\u001b[1;33m:\u001b[0m\u001b[1;33m\u001b[0m\u001b[0m\n\u001b[1;32m--> 404\u001b[1;33m             \u001b[1;32mraise\u001b[0m \u001b[0mcore\u001b[0m\u001b[1;33m.\u001b[0m\u001b[0mMeasurementError\u001b[0m\u001b[1;33m(\u001b[0m\u001b[1;34m\"The number of SweepArray channels does not match the StreamArray number.\"\u001b[0m\u001b[1;33m)\u001b[0m\u001b[1;33m\u001b[0m\u001b[0m\n\u001b[0m\u001b[0;32m    405\u001b[0m         \u001b[0mself\u001b[0m\u001b[1;33m.\u001b[0m\u001b[0msweep_array\u001b[0m \u001b[1;33m=\u001b[0m \u001b[0msweep_array\u001b[0m\u001b[1;33m\u001b[0m\u001b[0m\n\u001b[0;32m    406\u001b[0m         \u001b[0mself\u001b[0m\u001b[1;33m.\u001b[0m\u001b[0mstream_array\u001b[0m \u001b[1;33m=\u001b[0m \u001b[0mstream_array\u001b[0m\u001b[1;33m\u001b[0m\u001b[0m\n",
      "\u001b[1;31mMeasurementError\u001b[0m: The number of SweepArray channels does not match the StreamArray number."
     ]
    }
   ],
   "source": [
    "io.SweepStreamArray0"
   ]
  },
  {
   "cell_type": "code",
   "execution_count": 27,
   "metadata": {
    "collapsed": false
   },
   "outputs": [],
   "source": [
    "sas = io.root['_measurement']['SweepStreamArray0']['_measurement']['sweep_array']['_measurement']['stream_arrays']"
   ]
  },
  {
   "cell_type": "code",
   "execution_count": 34,
   "metadata": {
    "collapsed": false
   },
   "outputs": [
    {
     "data": {
      "text/plain": [
       "['tone_amplitude',\n",
       " 's21_raw',\n",
       " 'tone_phase',\n",
       " 'tone_index',\n",
       " 'filterbank_bin',\n",
       " 'tone_bin']"
      ]
     },
     "execution_count": 34,
     "metadata": {},
     "output_type": "execute_result"
    }
   ],
   "source": [
    "sas['_measurement']['0']['_array'].keys()"
   ]
  },
  {
   "cell_type": "code",
   "execution_count": 38,
   "metadata": {
    "collapsed": true
   },
   "outputs": [],
   "source": [
    "sweep_read = io.read('/SweepStreamArray0/sweep_array')"
   ]
  },
  {
   "cell_type": "code",
   "execution_count": 42,
   "metadata": {
    "collapsed": false
   },
   "outputs": [
    {
     "data": {
      "text/plain": [
       "MeasurementList([])"
      ]
     },
     "execution_count": 42,
     "metadata": {},
     "output_type": "execute_result"
    }
   ],
   "source": [
    "sweep_read.stream_arrays"
   ]
  },
  {
   "cell_type": "code",
   "execution_count": 43,
   "metadata": {
    "collapsed": true
   },
   "outputs": [],
   "source": [
    "stream_arrays = io.read('/SweepStreamArray0/sweep_array/stream_arrays')"
   ]
  },
  {
   "cell_type": "code",
   "execution_count": 44,
   "metadata": {
    "collapsed": false
   },
   "outputs": [
    {
     "data": {
      "text/plain": [
       "MeasurementList([])"
      ]
     },
     "execution_count": 44,
     "metadata": {},
     "output_type": "execute_result"
    }
   ],
   "source": [
    "stream_arrays"
   ]
  },
  {
   "cell_type": "code",
   "execution_count": 45,
   "metadata": {
    "collapsed": false
   },
   "outputs": [
    {
     "data": {
      "text/plain": [
       "['24',\n",
       " '25',\n",
       " '26',\n",
       " '27',\n",
       " '20',\n",
       " '21',\n",
       " '22',\n",
       " '23',\n",
       " '28',\n",
       " '29',\n",
       " '1',\n",
       " '0',\n",
       " '3',\n",
       " '2',\n",
       " '5',\n",
       " '4',\n",
       " '7',\n",
       " '6',\n",
       " '9',\n",
       " '8',\n",
       " '11',\n",
       " '10',\n",
       " '13',\n",
       " '12',\n",
       " '15',\n",
       " '14',\n",
       " '17',\n",
       " '16',\n",
       " '19',\n",
       " '18',\n",
       " '31',\n",
       " '30']"
      ]
     },
     "execution_count": 45,
     "metadata": {},
     "output_type": "execute_result"
    }
   ],
   "source": [
    "io.measurement_names('/SweepStreamArray0/sweep_array/stream_arrays')"
   ]
  },
  {
   "cell_type": "code",
   "execution_count": 47,
   "metadata": {
    "collapsed": false
   },
   "outputs": [],
   "source": [
    "sa0 = io.read('/SweepStreamArray0/sweep_array/stream_arrays/0')"
   ]
  },
  {
   "cell_type": "code",
   "execution_count": 49,
   "metadata": {
    "collapsed": false
   },
   "outputs": [
    {
     "data": {
      "text/plain": [
       "array([ 6398,  6826,  7252,  7678,  8106, 12798, 12372, 11946, 11518,\n",
       "       11092, 10666, 10238,  9812,  9386,  8958,  8532])"
      ]
     },
     "execution_count": 49,
     "metadata": {},
     "output_type": "execute_result"
    }
   ],
   "source": [
    "sa0.filterbank_bin"
   ]
  },
  {
   "cell_type": "code",
   "execution_count": 53,
   "metadata": {
    "collapsed": false
   },
   "outputs": [],
   "source": [
    "node_path = '/SweepStreamArray0/sweep_array/stream_arrays'\n",
    "measurement_names = io.measurement_names(node_path)\n",
    "contents = [io._read_node(core.join(node_path, measurement_name), {})\n",
    "                        for measurement_name in sorted(measurement_names, key=int)]"
   ]
  },
  {
   "cell_type": "code",
   "execution_count": 54,
   "metadata": {
    "collapsed": false
   },
   "outputs": [
    {
     "data": {
      "text/plain": [
       "[<kid_readout.measurement.basic.StreamArray at 0x7fe91f592350>,\n",
       " <kid_readout.measurement.basic.StreamArray at 0x7fe91f592390>,\n",
       " <kid_readout.measurement.basic.StreamArray at 0x7fe91f592510>,\n",
       " <kid_readout.measurement.basic.StreamArray at 0x7fe91f592690>,\n",
       " <kid_readout.measurement.basic.StreamArray at 0x7fe91f592810>,\n",
       " <kid_readout.measurement.basic.StreamArray at 0x7fe91f592990>,\n",
       " <kid_readout.measurement.basic.StreamArray at 0x7fe91f592b10>,\n",
       " <kid_readout.measurement.basic.StreamArray at 0x7fe91f592c90>,\n",
       " <kid_readout.measurement.basic.StreamArray at 0x7fe91f592e10>,\n",
       " <kid_readout.measurement.basic.StreamArray at 0x7fe91f592f90>,\n",
       " <kid_readout.measurement.basic.StreamArray at 0x7fe91f7c2150>,\n",
       " <kid_readout.measurement.basic.StreamArray at 0x7fe91f7c22d0>,\n",
       " <kid_readout.measurement.basic.StreamArray at 0x7fe91f7c2450>,\n",
       " <kid_readout.measurement.basic.StreamArray at 0x7fe91f7c25d0>,\n",
       " <kid_readout.measurement.basic.StreamArray at 0x7fe91f7c2750>,\n",
       " <kid_readout.measurement.basic.StreamArray at 0x7fe91f7c28d0>,\n",
       " <kid_readout.measurement.basic.StreamArray at 0x7fe91f7c2a50>,\n",
       " <kid_readout.measurement.basic.StreamArray at 0x7fe91f7c2bd0>,\n",
       " <kid_readout.measurement.basic.StreamArray at 0x7fe91f7c2d50>,\n",
       " <kid_readout.measurement.basic.StreamArray at 0x7fe91f7c2ed0>,\n",
       " <kid_readout.measurement.basic.StreamArray at 0x7fe91f56e090>,\n",
       " <kid_readout.measurement.basic.StreamArray at 0x7fe91f56e210>,\n",
       " <kid_readout.measurement.basic.StreamArray at 0x7fe91f56e390>,\n",
       " <kid_readout.measurement.basic.StreamArray at 0x7fe91f56e510>,\n",
       " <kid_readout.measurement.basic.StreamArray at 0x7fe91f56e690>,\n",
       " <kid_readout.measurement.basic.StreamArray at 0x7fe91f56e810>,\n",
       " <kid_readout.measurement.basic.StreamArray at 0x7fe91f56e990>,\n",
       " <kid_readout.measurement.basic.StreamArray at 0x7fe91f56eb10>,\n",
       " <kid_readout.measurement.basic.StreamArray at 0x7fe91f56ec90>,\n",
       " <kid_readout.measurement.basic.StreamArray at 0x7fe91f56ee10>,\n",
       " <kid_readout.measurement.basic.StreamArray at 0x7fe91f56ef90>,\n",
       " <kid_readout.measurement.basic.StreamArray at 0x7fe91f57e150>]"
      ]
     },
     "execution_count": 54,
     "metadata": {},
     "output_type": "execute_result"
    }
   ],
   "source": [
    "contents"
   ]
  },
  {
   "cell_type": "code",
   "execution_count": 59,
   "metadata": {
    "collapsed": false
   },
   "outputs": [],
   "source": [
    "translate = {}\n",
    "original_class_name = io.read_other(node_path, core.CLASS_NAME)\n",
    "try:\n",
    "    version_ = io.read_other(node_path, core.VERSION)\n",
    "except ValueError:\n",
    "    version_ = None\n",
    "default_class_name = classes.full_name(original_class_name, version_)\n",
    "full_class_name = translate.get(default_class_name, default_class_name)\n",
    "class_ = core.get_class(full_class_name)\n",
    "measurement_names = io.measurement_names(node_path)"
   ]
  },
  {
   "cell_type": "code",
   "execution_count": 61,
   "metadata": {
    "collapsed": false
   },
   "outputs": [
    {
     "data": {
      "text/plain": [
       "True"
      ]
     },
     "execution_count": 61,
     "metadata": {},
     "output_type": "execute_result"
    }
   ],
   "source": [
    "issubclass(class_, core.MeasurementList)"
   ]
  },
  {
   "cell_type": "code",
   "execution_count": 63,
   "metadata": {
    "collapsed": false
   },
   "outputs": [],
   "source": [
    "contents = [io._read_node(core.join(node_path, measurement_name), translate)\n",
    "            for measurement_name in sorted(measurement_names, key=int)]"
   ]
  },
  {
   "cell_type": "code",
   "execution_count": 64,
   "metadata": {
    "collapsed": false
   },
   "outputs": [
    {
     "data": {
      "text/plain": [
       "[<kid_readout.measurement.basic.StreamArray at 0x7fe91f7d4290>,\n",
       " <kid_readout.measurement.basic.StreamArray at 0x7fe91f7d4110>,\n",
       " <kid_readout.measurement.basic.StreamArray at 0x7fe91f7d4d10>,\n",
       " <kid_readout.measurement.basic.StreamArray at 0x7fe91f57ead0>,\n",
       " <kid_readout.measurement.basic.StreamArray at 0x7fe91f57eb50>,\n",
       " <kid_readout.measurement.basic.StreamArray at 0x7fe91f57ed10>,\n",
       " <kid_readout.measurement.basic.StreamArray at 0x7fe91f57ee90>,\n",
       " <kid_readout.measurement.basic.StreamArray at 0x7fe91f57e510>,\n",
       " <kid_readout.measurement.basic.StreamArray at 0x7fe91f57e6d0>,\n",
       " <kid_readout.measurement.basic.StreamArray at 0x7fe91f57e850>,\n",
       " <kid_readout.measurement.basic.StreamArray at 0x7fe91f57e9d0>,\n",
       " <kid_readout.measurement.basic.StreamArray at 0x7fe91f5680d0>,\n",
       " <kid_readout.measurement.basic.StreamArray at 0x7fe91f568250>,\n",
       " <kid_readout.measurement.basic.StreamArray at 0x7fe91f5683d0>,\n",
       " <kid_readout.measurement.basic.StreamArray at 0x7fe91f568550>,\n",
       " <kid_readout.measurement.basic.StreamArray at 0x7fe91f5686d0>,\n",
       " <kid_readout.measurement.basic.StreamArray at 0x7fe91f568850>,\n",
       " <kid_readout.measurement.basic.StreamArray at 0x7fe91f5689d0>,\n",
       " <kid_readout.measurement.basic.StreamArray at 0x7fe91f568b50>,\n",
       " <kid_readout.measurement.basic.StreamArray at 0x7fe91f568cd0>,\n",
       " <kid_readout.measurement.basic.StreamArray at 0x7fe91f568e50>,\n",
       " <kid_readout.measurement.basic.StreamArray at 0x7fe91f568fd0>,\n",
       " <kid_readout.measurement.basic.StreamArray at 0x7fe91f582190>,\n",
       " <kid_readout.measurement.basic.StreamArray at 0x7fe91f582310>,\n",
       " <kid_readout.measurement.basic.StreamArray at 0x7fe91f582490>,\n",
       " <kid_readout.measurement.basic.StreamArray at 0x7fe91f582610>,\n",
       " <kid_readout.measurement.basic.StreamArray at 0x7fe91f582790>,\n",
       " <kid_readout.measurement.basic.StreamArray at 0x7fe91f582910>,\n",
       " <kid_readout.measurement.basic.StreamArray at 0x7fe91f582a90>,\n",
       " <kid_readout.measurement.basic.StreamArray at 0x7fe91f582c10>,\n",
       " <kid_readout.measurement.basic.StreamArray at 0x7fe91f582d90>,\n",
       " <kid_readout.measurement.basic.StreamArray at 0x7fe91f582f10>]"
      ]
     },
     "execution_count": 64,
     "metadata": {},
     "output_type": "execute_result"
    }
   ],
   "source": [
    "contents"
   ]
  },
  {
   "cell_type": "code",
   "execution_count": 65,
   "metadata": {
    "collapsed": true
   },
   "outputs": [],
   "source": [
    "ml = class_(contents)"
   ]
  },
  {
   "cell_type": "code",
   "execution_count": 67,
   "metadata": {
    "collapsed": false
   },
   "outputs": [
    {
     "data": {
      "text/plain": [
       "0"
      ]
     },
     "execution_count": 67,
     "metadata": {},
     "output_type": "execute_result"
    }
   ],
   "source": [
    "len(ml)"
   ]
  }
 ],
 "metadata": {
  "kernelspec": {
   "display_name": "Python 2",
   "language": "python",
   "name": "python2"
  },
  "language_info": {
   "codemirror_mode": {
    "name": "ipython",
    "version": 2
   },
   "file_extension": ".py",
   "mimetype": "text/x-python",
   "name": "python",
   "nbconvert_exporter": "python",
   "pygments_lexer": "ipython2",
   "version": "2.7.11"
  }
 },
 "nbformat": 4,
 "nbformat_minor": 0
}
