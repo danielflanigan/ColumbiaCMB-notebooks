{
 "cells": [
  {
   "cell_type": "code",
   "execution_count": 1,
   "metadata": {
    "collapsed": false,
    "scrolled": true
   },
   "outputs": [],
   "source": [
    "import os\n",
    "import testfixtures\n",
    "import netCDF4\n",
    "from kid_readout.measurement import legacy\n",
    "from kid_readout.measurement.io import nc, readoutnc"
   ]
  },
  {
   "cell_type": "code",
   "execution_count": 2,
   "metadata": {
    "collapsed": true
   },
   "outputs": [],
   "source": [
    "nc_filename = '/data/readout/2015-05-11_150346_compressor_noise_60_s.nc'\n",
    "rnc = readoutnc.ReadoutNetCDF(nc_filename)"
   ]
  },
  {
   "cell_type": "code",
   "execution_count": 3,
   "metadata": {
    "collapsed": false
   },
   "outputs": [],
   "source": [
    "on_index = 0\n",
    "off_index = 1\n",
    "original = legacy.sweepstreamarray_from_rnc(rnc, sweep_group_index=off_index, timestream_group_index=off_index)"
   ]
  },
  {
   "cell_type": "code",
   "execution_count": 4,
   "metadata": {
    "collapsed": false
   },
   "outputs": [],
   "source": [
    "directory = testfixtures.TempDirectory()\n",
    "nc_filename = 'test.nc'\n",
    "root_path = os.path.join(directory.path, nc_filename)\n",
    "node_path = 'ss'"
   ]
  },
  {
   "cell_type": "code",
   "execution_count": 5,
   "metadata": {
    "collapsed": false,
    "scrolled": false
   },
   "outputs": [
    {
     "name": "stdout",
     "output_type": "stream",
     "text": [
      "CPU times: user 330 ms, sys: 163 ms, total: 492 ms\n",
      "Wall time: 500 ms\n"
     ]
    }
   ],
   "source": [
    "io = nc.IO(root_path)\n",
    "%time io.write(original, node_path)\n",
    "io.close()"
   ]
  },
  {
   "cell_type": "code",
   "execution_count": 6,
   "metadata": {
    "collapsed": false
   },
   "outputs": [
    {
     "name": "stdout",
     "output_type": "stream",
     "text": [
      "CPU times: user 130 ms, sys: 199 ms, total: 329 ms\n",
      "Wall time: 340 ms\n"
     ]
    }
   ],
   "source": [
    "io = nc.IO(root_path)\n",
    "%time read = io.read(node_path)\n",
    "io.close()"
   ]
  },
  {
   "cell_type": "code",
   "execution_count": 7,
   "metadata": {
    "collapsed": false
   },
   "outputs": [
    {
     "data": {
      "text/plain": [
       "True"
      ]
     },
     "execution_count": 7,
     "metadata": {},
     "output_type": "execute_result"
    }
   ],
   "source": [
    "original == read"
   ]
  },
  {
   "cell_type": "code",
   "execution_count": 8,
   "metadata": {
    "collapsed": false
   },
   "outputs": [],
   "source": [
    "directory.cleanup_all()"
   ]
  }
 ],
 "metadata": {
  "kernelspec": {
   "display_name": "Python 2",
   "language": "python",
   "name": "python2"
  },
  "language_info": {
   "codemirror_mode": {
    "name": "ipython",
    "version": 2
   },
   "file_extension": ".py",
   "mimetype": "text/x-python",
   "name": "python",
   "nbconvert_exporter": "python",
   "pygments_lexer": "ipython2",
   "version": "2.7.11"
  }
 },
 "nbformat": 4,
 "nbformat_minor": 0
}
