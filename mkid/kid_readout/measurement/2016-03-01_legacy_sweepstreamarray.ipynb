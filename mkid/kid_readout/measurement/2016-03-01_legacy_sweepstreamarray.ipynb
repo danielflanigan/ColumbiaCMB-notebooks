{
 "cells": [
  {
   "cell_type": "code",
   "execution_count": 1,
   "metadata": {
    "collapsed": false
   },
   "outputs": [
    {
     "name": "stderr",
     "output_type": "stream",
     "text": [
      ":0: FutureWarning: IPython widgets are experimental and may change in the future.\n"
     ]
    }
   ],
   "source": [
    "import os\n",
    "from kid_readout.measurement import core, legacy, multiple\n",
    "from kid_readout.measurement.io import nc, npy, readoutnc\n",
    "from kid_readout.analysis.resonator import plot_resonator"
   ]
  },
  {
   "cell_type": "code",
   "execution_count": 2,
   "metadata": {
    "collapsed": true
   },
   "outputs": [],
   "source": [
    "nc_filename = '/data/readout/2015-05-11_150346_compressor_noise_60_s.nc'\n",
    "rnc = readoutnc.ReadoutNetCDF(nc_filename)\n",
    "on_index = 0\n",
    "off_index = 1"
   ]
  },
  {
   "cell_type": "code",
   "execution_count": 3,
   "metadata": {
    "collapsed": false
   },
   "outputs": [
    {
     "data": {
      "text/plain": [
       "[<kid_readout.measurement.io.readoutnc.SweepGroup at 0x49d9090>,\n",
       " <kid_readout.measurement.io.readoutnc.SweepGroup at 0x49d9190>]"
      ]
     },
     "execution_count": 3,
     "metadata": {},
     "output_type": "execute_result"
    }
   ],
   "source": [
    "rnc.sweeps"
   ]
  },
  {
   "cell_type": "code",
   "execution_count": 4,
   "metadata": {
    "collapsed": false
   },
   "outputs": [
    {
     "data": {
      "text/plain": [
       "[<kid_readout.measurement.io.readoutnc.TimestreamGroup at 0x49d92d0>,\n",
       " <kid_readout.measurement.io.readoutnc.TimestreamGroup at 0x49d9210>]"
      ]
     },
     "execution_count": 4,
     "metadata": {},
     "output_type": "execute_result"
    }
   ],
   "source": [
    "rnc.timestreams"
   ]
  },
  {
   "cell_type": "code",
   "execution_count": 5,
   "metadata": {
    "collapsed": false
   },
   "outputs": [],
   "source": [
    "ssa_off = legacy.sweepstreamarray_from_rnc(rnc, off_index, off_index)\n",
    "ssa_on = legacy.sweepstreamarray_from_rnc(rnc, on_index, on_index)"
   ]
  },
  {
   "cell_type": "code",
   "execution_count": 6,
   "metadata": {
    "collapsed": false
   },
   "outputs": [
    {
     "data": {
      "text/html": [
       "<div style=\"max-height:1000px;max-width:1500px;overflow:auto;\">\n",
       "<table border=\"1\" class=\"dataframe\">\n",
       "  <thead>\n",
       "    <tr style=\"text-align: right;\">\n",
       "      <th></th>\n",
       "      <th>resonator_A_mag</th>\n",
       "      <th>resonator_A_mag_error</th>\n",
       "      <th>resonator_A_phase</th>\n",
       "      <th>resonator_A_phase_error</th>\n",
       "      <th>resonator_Q</th>\n",
       "      <th>resonator_Q_e_imag</th>\n",
       "      <th>resonator_Q_e_imag_error</th>\n",
       "      <th>resonator_Q_e_real</th>\n",
       "      <th>resonator_Q_e_real_error</th>\n",
       "      <th>resonator_Q_error</th>\n",
       "      <th>...</th>\n",
       "      <th>roach_modulation_output</th>\n",
       "      <th>roach_modulation_rate</th>\n",
       "      <th>roach_num_filterbank_channels</th>\n",
       "      <th>roach_num_tone_samples</th>\n",
       "      <th>roach_num_tones</th>\n",
       "      <th>roach_stream_sample_rate</th>\n",
       "      <th>roach_waveform_normalization</th>\n",
       "      <th>io_class</th>\n",
       "      <th>root_path</th>\n",
       "      <th>node_path</th>\n",
       "    </tr>\n",
       "  </thead>\n",
       "  <tbody>\n",
       "    <tr>\n",
       "      <th>0 </th>\n",
       "      <td> 0.047544</td>\n",
       "      <td> 0.000042</td>\n",
       "      <td> 0</td>\n",
       "      <td> 0</td>\n",
       "      <td>  59060.987251</td>\n",
       "      <td> 31493.401440</td>\n",
       "      <td>  317.026953</td>\n",
       "      <td>  83168.120455</td>\n",
       "      <td>  326.126986</td>\n",
       "      <td>  275.519158</td>\n",
       "      <td>...</td>\n",
       "      <td> 0</td>\n",
       "      <td> 1</td>\n",
       "      <td> 16384</td>\n",
       "      <td> 2097152</td>\n",
       "      <td> 16</td>\n",
       "      <td> 15625</td>\n",
       "      <td> 0.000013</td>\n",
       "      <td> NaN</td>\n",
       "      <td> NaN</td>\n",
       "      <td> NaN</td>\n",
       "    </tr>\n",
       "    <tr>\n",
       "      <th>1 </th>\n",
       "      <td> 0.046428</td>\n",
       "      <td> 0.000082</td>\n",
       "      <td> 0</td>\n",
       "      <td> 0</td>\n",
       "      <td>  85082.238305</td>\n",
       "      <td> 27402.211204</td>\n",
       "      <td>  753.188134</td>\n",
       "      <td> 104924.186237</td>\n",
       "      <td>  817.704410</td>\n",
       "      <td>  847.201843</td>\n",
       "      <td>...</td>\n",
       "      <td> 0</td>\n",
       "      <td> 1</td>\n",
       "      <td> 16384</td>\n",
       "      <td> 2097152</td>\n",
       "      <td> 16</td>\n",
       "      <td> 15625</td>\n",
       "      <td> 0.000013</td>\n",
       "      <td> NaN</td>\n",
       "      <td> NaN</td>\n",
       "      <td> NaN</td>\n",
       "    </tr>\n",
       "    <tr>\n",
       "      <th>2 </th>\n",
       "      <td> 0.047131</td>\n",
       "      <td> 0.000044</td>\n",
       "      <td> 0</td>\n",
       "      <td> 0</td>\n",
       "      <td>  89281.584673</td>\n",
       "      <td> 32315.290697</td>\n",
       "      <td>  342.015055</td>\n",
       "      <td>  98374.293470</td>\n",
       "      <td>  365.475795</td>\n",
       "      <td>  425.644153</td>\n",
       "      <td>...</td>\n",
       "      <td> 0</td>\n",
       "      <td> 1</td>\n",
       "      <td> 16384</td>\n",
       "      <td> 2097152</td>\n",
       "      <td> 16</td>\n",
       "      <td> 15625</td>\n",
       "      <td> 0.000013</td>\n",
       "      <td> NaN</td>\n",
       "      <td> NaN</td>\n",
       "      <td> NaN</td>\n",
       "    </tr>\n",
       "    <tr>\n",
       "      <th>3 </th>\n",
       "      <td> 0.046243</td>\n",
       "      <td> 0.000079</td>\n",
       "      <td> 0</td>\n",
       "      <td> 0</td>\n",
       "      <td>  95629.840446</td>\n",
       "      <td> 34430.274817</td>\n",
       "      <td>  877.679632</td>\n",
       "      <td> 120600.406248</td>\n",
       "      <td>  949.938214</td>\n",
       "      <td>  980.087139</td>\n",
       "      <td>...</td>\n",
       "      <td> 0</td>\n",
       "      <td> 1</td>\n",
       "      <td> 16384</td>\n",
       "      <td> 2097152</td>\n",
       "      <td> 16</td>\n",
       "      <td> 15625</td>\n",
       "      <td> 0.000013</td>\n",
       "      <td> NaN</td>\n",
       "      <td> NaN</td>\n",
       "      <td> NaN</td>\n",
       "    </tr>\n",
       "    <tr>\n",
       "      <th>4 </th>\n",
       "      <td> 0.044679</td>\n",
       "      <td> 0.000060</td>\n",
       "      <td> 0</td>\n",
       "      <td> 0</td>\n",
       "      <td> 106764.122323</td>\n",
       "      <td> 36452.545096</td>\n",
       "      <td>  640.842159</td>\n",
       "      <td> 120068.735996</td>\n",
       "      <td>  680.881008</td>\n",
       "      <td>  784.117847</td>\n",
       "      <td>...</td>\n",
       "      <td> 0</td>\n",
       "      <td> 1</td>\n",
       "      <td> 16384</td>\n",
       "      <td> 2097152</td>\n",
       "      <td> 16</td>\n",
       "      <td> 15625</td>\n",
       "      <td> 0.000013</td>\n",
       "      <td> NaN</td>\n",
       "      <td> NaN</td>\n",
       "      <td> NaN</td>\n",
       "    </tr>\n",
       "    <tr>\n",
       "      <th>5 </th>\n",
       "      <td> 0.043443</td>\n",
       "      <td> 0.000100</td>\n",
       "      <td> 0</td>\n",
       "      <td> 0</td>\n",
       "      <td>  87960.983061</td>\n",
       "      <td> 16876.979654</td>\n",
       "      <td>  918.216751</td>\n",
       "      <td> 111325.321406</td>\n",
       "      <td> 1041.374683</td>\n",
       "      <td> 1056.115272</td>\n",
       "      <td>...</td>\n",
       "      <td> 0</td>\n",
       "      <td> 1</td>\n",
       "      <td> 16384</td>\n",
       "      <td> 2097152</td>\n",
       "      <td> 16</td>\n",
       "      <td> 15625</td>\n",
       "      <td> 0.000013</td>\n",
       "      <td> NaN</td>\n",
       "      <td> NaN</td>\n",
       "      <td> NaN</td>\n",
       "    </tr>\n",
       "    <tr>\n",
       "      <th>6 </th>\n",
       "      <td> 0.039886</td>\n",
       "      <td> 0.000097</td>\n",
       "      <td> 0</td>\n",
       "      <td> 0</td>\n",
       "      <td> 116223.371825</td>\n",
       "      <td> 25443.694664</td>\n",
       "      <td> 1529.422248</td>\n",
       "      <td> 153819.804544</td>\n",
       "      <td> 1704.972158</td>\n",
       "      <td> 1666.423476</td>\n",
       "      <td>...</td>\n",
       "      <td> 0</td>\n",
       "      <td> 1</td>\n",
       "      <td> 16384</td>\n",
       "      <td> 2097152</td>\n",
       "      <td> 16</td>\n",
       "      <td> 15625</td>\n",
       "      <td> 0.000013</td>\n",
       "      <td> NaN</td>\n",
       "      <td> NaN</td>\n",
       "      <td> NaN</td>\n",
       "    </tr>\n",
       "    <tr>\n",
       "      <th>7 </th>\n",
       "      <td> 0.039865</td>\n",
       "      <td> 0.000062</td>\n",
       "      <td> 0</td>\n",
       "      <td> 0</td>\n",
       "      <td> 109732.363283</td>\n",
       "      <td> 18152.067635</td>\n",
       "      <td>  885.331333</td>\n",
       "      <td> 148326.717557</td>\n",
       "      <td>  997.396698</td>\n",
       "      <td>  934.149850</td>\n",
       "      <td>...</td>\n",
       "      <td> 0</td>\n",
       "      <td> 1</td>\n",
       "      <td> 16384</td>\n",
       "      <td> 2097152</td>\n",
       "      <td> 16</td>\n",
       "      <td> 15625</td>\n",
       "      <td> 0.000013</td>\n",
       "      <td> NaN</td>\n",
       "      <td> NaN</td>\n",
       "      <td> NaN</td>\n",
       "    </tr>\n",
       "    <tr>\n",
       "      <th>8 </th>\n",
       "      <td> 0.036289</td>\n",
       "      <td> 0.000080</td>\n",
       "      <td> 0</td>\n",
       "      <td> 0</td>\n",
       "      <td>  42632.119903</td>\n",
       "      <td> 10257.843059</td>\n",
       "      <td>  227.427743</td>\n",
       "      <td>  47487.891852</td>\n",
       "      <td>  267.187092</td>\n",
       "      <td>  270.649389</td>\n",
       "      <td>...</td>\n",
       "      <td> 0</td>\n",
       "      <td> 1</td>\n",
       "      <td> 16384</td>\n",
       "      <td> 2097152</td>\n",
       "      <td> 16</td>\n",
       "      <td> 15625</td>\n",
       "      <td> 0.000013</td>\n",
       "      <td> NaN</td>\n",
       "      <td> NaN</td>\n",
       "      <td> NaN</td>\n",
       "    </tr>\n",
       "    <tr>\n",
       "      <th>9 </th>\n",
       "      <td> 0.036222</td>\n",
       "      <td> 0.000085</td>\n",
       "      <td> 0</td>\n",
       "      <td> 0</td>\n",
       "      <td>  42311.640063</td>\n",
       "      <td>  7442.197508</td>\n",
       "      <td>  226.049181</td>\n",
       "      <td>  47919.910985</td>\n",
       "      <td>  279.943916</td>\n",
       "      <td>  277.681439</td>\n",
       "      <td>...</td>\n",
       "      <td> 0</td>\n",
       "      <td> 1</td>\n",
       "      <td> 16384</td>\n",
       "      <td> 2097152</td>\n",
       "      <td> 16</td>\n",
       "      <td> 15625</td>\n",
       "      <td> 0.000013</td>\n",
       "      <td> NaN</td>\n",
       "      <td> NaN</td>\n",
       "      <td> NaN</td>\n",
       "    </tr>\n",
       "    <tr>\n",
       "      <th>10</th>\n",
       "      <td> 0.036278</td>\n",
       "      <td> 0.000055</td>\n",
       "      <td> 0</td>\n",
       "      <td> 0</td>\n",
       "      <td> 127562.186124</td>\n",
       "      <td> 29776.291232</td>\n",
       "      <td>  809.605206</td>\n",
       "      <td> 149793.565672</td>\n",
       "      <td>  895.493889</td>\n",
       "      <td>  992.678876</td>\n",
       "      <td>...</td>\n",
       "      <td> 0</td>\n",
       "      <td> 1</td>\n",
       "      <td> 16384</td>\n",
       "      <td> 2097152</td>\n",
       "      <td> 16</td>\n",
       "      <td> 15625</td>\n",
       "      <td> 0.000013</td>\n",
       "      <td> NaN</td>\n",
       "      <td> NaN</td>\n",
       "      <td> NaN</td>\n",
       "    </tr>\n",
       "    <tr>\n",
       "      <th>11</th>\n",
       "      <td> 0.032753</td>\n",
       "      <td> 0.000132</td>\n",
       "      <td> 0</td>\n",
       "      <td> 0</td>\n",
       "      <td> 107122.072904</td>\n",
       "      <td> 48330.399574</td>\n",
       "      <td> 2058.816882</td>\n",
       "      <td> 129911.578881</td>\n",
       "      <td> 2156.102907</td>\n",
       "      <td> 2179.819826</td>\n",
       "      <td>...</td>\n",
       "      <td> 0</td>\n",
       "      <td> 1</td>\n",
       "      <td> 16384</td>\n",
       "      <td> 2097152</td>\n",
       "      <td> 16</td>\n",
       "      <td> 15625</td>\n",
       "      <td> 0.000013</td>\n",
       "      <td> NaN</td>\n",
       "      <td> NaN</td>\n",
       "      <td> NaN</td>\n",
       "    </tr>\n",
       "    <tr>\n",
       "      <th>12</th>\n",
       "      <td> 0.031517</td>\n",
       "      <td> 0.000048</td>\n",
       "      <td> 0</td>\n",
       "      <td> 0</td>\n",
       "      <td>  26789.599640</td>\n",
       "      <td>-10586.885867</td>\n",
       "      <td>   75.472109</td>\n",
       "      <td>  25232.932858</td>\n",
       "      <td>   66.242562</td>\n",
       "      <td>   81.016857</td>\n",
       "      <td>...</td>\n",
       "      <td> 0</td>\n",
       "      <td> 1</td>\n",
       "      <td> 16384</td>\n",
       "      <td> 2097152</td>\n",
       "      <td> 16</td>\n",
       "      <td> 15625</td>\n",
       "      <td> 0.000013</td>\n",
       "      <td> NaN</td>\n",
       "      <td> NaN</td>\n",
       "      <td> NaN</td>\n",
       "    </tr>\n",
       "    <tr>\n",
       "      <th>13</th>\n",
       "      <td> 0.029021</td>\n",
       "      <td> 0.000121</td>\n",
       "      <td> 0</td>\n",
       "      <td> 0</td>\n",
       "      <td> 121668.557768</td>\n",
       "      <td> 43306.854804</td>\n",
       "      <td> 2974.090082</td>\n",
       "      <td> 171423.711506</td>\n",
       "      <td> 3247.968430</td>\n",
       "      <td> 2865.939301</td>\n",
       "      <td>...</td>\n",
       "      <td> 0</td>\n",
       "      <td> 1</td>\n",
       "      <td> 16384</td>\n",
       "      <td> 2097152</td>\n",
       "      <td> 16</td>\n",
       "      <td> 15625</td>\n",
       "      <td> 0.000013</td>\n",
       "      <td> NaN</td>\n",
       "      <td> NaN</td>\n",
       "      <td> NaN</td>\n",
       "    </tr>\n",
       "    <tr>\n",
       "      <th>14</th>\n",
       "      <td> 0.028665</td>\n",
       "      <td> 0.000035</td>\n",
       "      <td> 0</td>\n",
       "      <td> 0</td>\n",
       "      <td>  21365.697375</td>\n",
       "      <td> -8384.636916</td>\n",
       "      <td>   44.531591</td>\n",
       "      <td>  19697.625992</td>\n",
       "      <td>   34.061247</td>\n",
       "      <td>   45.339183</td>\n",
       "      <td>...</td>\n",
       "      <td> 0</td>\n",
       "      <td> 1</td>\n",
       "      <td> 16384</td>\n",
       "      <td> 2097152</td>\n",
       "      <td> 16</td>\n",
       "      <td> 15625</td>\n",
       "      <td> 0.000013</td>\n",
       "      <td> NaN</td>\n",
       "      <td> NaN</td>\n",
       "      <td> NaN</td>\n",
       "    </tr>\n",
       "    <tr>\n",
       "      <th>15</th>\n",
       "      <td> 0.025775</td>\n",
       "      <td> 0.000104</td>\n",
       "      <td> 0</td>\n",
       "      <td> 0</td>\n",
       "      <td> 130835.002861</td>\n",
       "      <td>  -641.577273</td>\n",
       "      <td> 2927.629151</td>\n",
       "      <td> 188517.483072</td>\n",
       "      <td> 3369.296659</td>\n",
       "      <td> 2967.564080</td>\n",
       "      <td>...</td>\n",
       "      <td> 0</td>\n",
       "      <td> 1</td>\n",
       "      <td> 16384</td>\n",
       "      <td> 2097152</td>\n",
       "      <td> 16</td>\n",
       "      <td> 15625</td>\n",
       "      <td> 0.000013</td>\n",
       "      <td> NaN</td>\n",
       "      <td> NaN</td>\n",
       "      <td> NaN</td>\n",
       "    </tr>\n",
       "  </tbody>\n",
       "</table>\n",
       "<p>16 rows × 38 columns</p>\n",
       "</div>"
      ],
      "text/plain": [
       "    resonator_A_mag  resonator_A_mag_error  resonator_A_phase  \\\n",
       "0          0.047544               0.000042                  0   \n",
       "1          0.046428               0.000082                  0   \n",
       "2          0.047131               0.000044                  0   \n",
       "3          0.046243               0.000079                  0   \n",
       "4          0.044679               0.000060                  0   \n",
       "5          0.043443               0.000100                  0   \n",
       "6          0.039886               0.000097                  0   \n",
       "7          0.039865               0.000062                  0   \n",
       "8          0.036289               0.000080                  0   \n",
       "9          0.036222               0.000085                  0   \n",
       "10         0.036278               0.000055                  0   \n",
       "11         0.032753               0.000132                  0   \n",
       "12         0.031517               0.000048                  0   \n",
       "13         0.029021               0.000121                  0   \n",
       "14         0.028665               0.000035                  0   \n",
       "15         0.025775               0.000104                  0   \n",
       "\n",
       "    resonator_A_phase_error    resonator_Q  resonator_Q_e_imag  \\\n",
       "0                         0   59060.987251        31493.401440   \n",
       "1                         0   85082.238305        27402.211204   \n",
       "2                         0   89281.584673        32315.290697   \n",
       "3                         0   95629.840446        34430.274817   \n",
       "4                         0  106764.122323        36452.545096   \n",
       "5                         0   87960.983061        16876.979654   \n",
       "6                         0  116223.371825        25443.694664   \n",
       "7                         0  109732.363283        18152.067635   \n",
       "8                         0   42632.119903        10257.843059   \n",
       "9                         0   42311.640063         7442.197508   \n",
       "10                        0  127562.186124        29776.291232   \n",
       "11                        0  107122.072904        48330.399574   \n",
       "12                        0   26789.599640       -10586.885867   \n",
       "13                        0  121668.557768        43306.854804   \n",
       "14                        0   21365.697375        -8384.636916   \n",
       "15                        0  130835.002861         -641.577273   \n",
       "\n",
       "    resonator_Q_e_imag_error  resonator_Q_e_real  resonator_Q_e_real_error  \\\n",
       "0                 317.026953        83168.120455                326.126986   \n",
       "1                 753.188134       104924.186237                817.704410   \n",
       "2                 342.015055        98374.293470                365.475795   \n",
       "3                 877.679632       120600.406248                949.938214   \n",
       "4                 640.842159       120068.735996                680.881008   \n",
       "5                 918.216751       111325.321406               1041.374683   \n",
       "6                1529.422248       153819.804544               1704.972158   \n",
       "7                 885.331333       148326.717557                997.396698   \n",
       "8                 227.427743        47487.891852                267.187092   \n",
       "9                 226.049181        47919.910985                279.943916   \n",
       "10                809.605206       149793.565672                895.493889   \n",
       "11               2058.816882       129911.578881               2156.102907   \n",
       "12                 75.472109        25232.932858                 66.242562   \n",
       "13               2974.090082       171423.711506               3247.968430   \n",
       "14                 44.531591        19697.625992                 34.061247   \n",
       "15               2927.629151       188517.483072               3369.296659   \n",
       "\n",
       "    resonator_Q_error    ...      roach_modulation_output  \\\n",
       "0          275.519158    ...                            0   \n",
       "1          847.201843    ...                            0   \n",
       "2          425.644153    ...                            0   \n",
       "3          980.087139    ...                            0   \n",
       "4          784.117847    ...                            0   \n",
       "5         1056.115272    ...                            0   \n",
       "6         1666.423476    ...                            0   \n",
       "7          934.149850    ...                            0   \n",
       "8          270.649389    ...                            0   \n",
       "9          277.681439    ...                            0   \n",
       "10         992.678876    ...                            0   \n",
       "11        2179.819826    ...                            0   \n",
       "12          81.016857    ...                            0   \n",
       "13        2865.939301    ...                            0   \n",
       "14          45.339183    ...                            0   \n",
       "15        2967.564080    ...                            0   \n",
       "\n",
       "    roach_modulation_rate  roach_num_filterbank_channels  \\\n",
       "0                       1                          16384   \n",
       "1                       1                          16384   \n",
       "2                       1                          16384   \n",
       "3                       1                          16384   \n",
       "4                       1                          16384   \n",
       "5                       1                          16384   \n",
       "6                       1                          16384   \n",
       "7                       1                          16384   \n",
       "8                       1                          16384   \n",
       "9                       1                          16384   \n",
       "10                      1                          16384   \n",
       "11                      1                          16384   \n",
       "12                      1                          16384   \n",
       "13                      1                          16384   \n",
       "14                      1                          16384   \n",
       "15                      1                          16384   \n",
       "\n",
       "    roach_num_tone_samples  roach_num_tones  roach_stream_sample_rate  \\\n",
       "0                  2097152               16                     15625   \n",
       "1                  2097152               16                     15625   \n",
       "2                  2097152               16                     15625   \n",
       "3                  2097152               16                     15625   \n",
       "4                  2097152               16                     15625   \n",
       "5                  2097152               16                     15625   \n",
       "6                  2097152               16                     15625   \n",
       "7                  2097152               16                     15625   \n",
       "8                  2097152               16                     15625   \n",
       "9                  2097152               16                     15625   \n",
       "10                 2097152               16                     15625   \n",
       "11                 2097152               16                     15625   \n",
       "12                 2097152               16                     15625   \n",
       "13                 2097152               16                     15625   \n",
       "14                 2097152               16                     15625   \n",
       "15                 2097152               16                     15625   \n",
       "\n",
       "    roach_waveform_normalization  io_class  root_path  node_path  \n",
       "0                       0.000013       NaN        NaN        NaN  \n",
       "1                       0.000013       NaN        NaN        NaN  \n",
       "2                       0.000013       NaN        NaN        NaN  \n",
       "3                       0.000013       NaN        NaN        NaN  \n",
       "4                       0.000013       NaN        NaN        NaN  \n",
       "5                       0.000013       NaN        NaN        NaN  \n",
       "6                       0.000013       NaN        NaN        NaN  \n",
       "7                       0.000013       NaN        NaN        NaN  \n",
       "8                       0.000013       NaN        NaN        NaN  \n",
       "9                       0.000013       NaN        NaN        NaN  \n",
       "10                      0.000013       NaN        NaN        NaN  \n",
       "11                      0.000013       NaN        NaN        NaN  \n",
       "12                      0.000013       NaN        NaN        NaN  \n",
       "13                      0.000013       NaN        NaN        NaN  \n",
       "14                      0.000013       NaN        NaN        NaN  \n",
       "15                      0.000013       NaN        NaN        NaN  \n",
       "\n",
       "[16 rows x 38 columns]"
      ]
     },
     "execution_count": 6,
     "metadata": {},
     "output_type": "execute_result"
    }
   ],
   "source": [
    "ssa_off.to_dataframe()"
   ]
  },
  {
   "cell_type": "code",
   "execution_count": 7,
   "metadata": {
    "collapsed": false
   },
   "outputs": [
    {
     "data": {
      "image/png": "[encoded data removed]",
      "text/plain": [
       "<matplotlib.figure.Figure at 0x49e9750>"
      ]
     },
     "metadata": {},
     "output_type": "display_data"
    }
   ],
   "source": [
    "df_off = ssa_off.to_dataframe()\n",
    "df_on = ssa_on.to_dataframe()\n",
    "plt.plot(df_off.resonator_f_0, 1e6 * (1 / df_off.resonator_Q - 1 / df_off.resonator_Q_e_real), '.', label='off')\n",
    "plt.plot(df_on.resonator_f_0, 1e6 * (1 / df_on.resonator_Q - 1 / df_on.resonator_Q_e_real), '.', label='on')\n",
    "plt.legend(loc='best', fontsize='xx-small');"
   ]
  },
  {
   "cell_type": "markdown",
   "metadata": {},
   "source": [
    "# Test read/write"
   ]
  },
  {
   "cell_type": "code",
   "execution_count": 8,
   "metadata": {
    "collapsed": true
   },
   "outputs": [],
   "source": [
    "name = 'sweepstreamarray'"
   ]
  },
  {
   "cell_type": "code",
   "execution_count": 9,
   "metadata": {
    "collapsed": false
   },
   "outputs": [],
   "source": [
    "directory = '/home/flanigan/temp/nc'\n",
    "nc_filename = 'test.nc'\n",
    "nc_root_path = os.path.join(directory, nc_filename)\n",
    "try:\n",
    "    os.remove(nc_root_path)\n",
    "except OSError:\n",
    "    print(\"Not deleted: {}\".format(nc_root_path))"
   ]
  },
  {
   "cell_type": "code",
   "execution_count": 10,
   "metadata": {
    "collapsed": false,
    "scrolled": false
   },
   "outputs": [
    {
     "name": "stdout",
     "output_type": "stream",
     "text": [
      "CPU times: user 256 ms, sys: 200 ms, total: 456 ms\n",
      "Wall time: 445 ms\n"
     ]
    }
   ],
   "source": [
    "nc_io = nc.IO(nc_root_path)\n",
    "%time core.write(ssa_off, nc_io, name)"
   ]
  },
  {
   "cell_type": "code",
   "execution_count": 11,
   "metadata": {
    "collapsed": false
   },
   "outputs": [
    {
     "name": "stdout",
     "output_type": "stream",
     "text": [
      "10 loops, best of 3: 137 ms per loop\n"
     ]
    }
   ],
   "source": [
    "%timeit core.read(nc_io, name)"
   ]
  },
  {
   "cell_type": "code",
   "execution_count": 12,
   "metadata": {
    "collapsed": true
   },
   "outputs": [],
   "source": [
    "!rm -r /home/flanigan/temp/npy"
   ]
  },
  {
   "cell_type": "code",
   "execution_count": 13,
   "metadata": {
    "collapsed": false
   },
   "outputs": [
    {
     "name": "stdout",
     "output_type": "stream",
     "text": [
      "CPU times: user 51 ms, sys: 172 ms, total: 223 ms\n",
      "Wall time: 225 ms\n"
     ]
    }
   ],
   "source": [
    "npy_root_path = '/home/flanigan/temp/npy'\n",
    "npy_io = npy.IO(npy_root_path)\n",
    "%time core.write(ssa_off, npy_io, name)"
   ]
  },
  {
   "cell_type": "code",
   "execution_count": 14,
   "metadata": {
    "collapsed": false
   },
   "outputs": [
    {
     "name": "stdout",
     "output_type": "stream",
     "text": [
      "10 loops, best of 3: 167 ms per loop\n"
     ]
    }
   ],
   "source": [
    "%timeit core.read(npy_io, name)"
   ]
  },
  {
   "cell_type": "code",
   "execution_count": 15,
   "metadata": {
    "collapsed": false,
    "scrolled": true
   },
   "outputs": [
    {
     "ename": "error",
     "evalue": "[Errno 24] Too many open files",
     "output_type": "error",
     "traceback": [
      "\u001b[1;31m---------------------------------------------------------------------------\u001b[0m",
      "\u001b[1;31merror\u001b[0m                                     Traceback (most recent call last)",
      "\u001b[1;32m<ipython-input-15-e64d1d056d44>\u001b[0m in \u001b[0;36m<module>\u001b[1;34m()\u001b[0m\n\u001b[0;32m      1\u001b[0m \u001b[0mnpy_io_memmap\u001b[0m \u001b[1;33m=\u001b[0m \u001b[0mnpy\u001b[0m\u001b[1;33m.\u001b[0m\u001b[0mIO\u001b[0m\u001b[1;33m(\u001b[0m\u001b[0mnpy_root_path\u001b[0m\u001b[1;33m,\u001b[0m \u001b[0mmemmap\u001b[0m\u001b[1;33m=\u001b[0m\u001b[0mTrue\u001b[0m\u001b[1;33m)\u001b[0m\u001b[1;33m\u001b[0m\u001b[0m\n\u001b[1;32m----> 2\u001b[1;33m \u001b[0mget_ipython\u001b[0m\u001b[1;33m(\u001b[0m\u001b[1;33m)\u001b[0m\u001b[1;33m.\u001b[0m\u001b[0mmagic\u001b[0m\u001b[1;33m(\u001b[0m\u001b[1;34mu'timeit core.read(npy_io_memmap, name)'\u001b[0m\u001b[1;33m)\u001b[0m\u001b[1;33m\u001b[0m\u001b[0m\n\u001b[0m",
      "\u001b[1;32m/home/flanigan/.local/lib/python2.7/site-packages/IPython/core/interactiveshell.pyc\u001b[0m in \u001b[0;36mmagic\u001b[1;34m(self, arg_s)\u001b[0m\n\u001b[0;32m   2305\u001b[0m         \u001b[0mmagic_name\u001b[0m\u001b[1;33m,\u001b[0m \u001b[0m_\u001b[0m\u001b[1;33m,\u001b[0m \u001b[0mmagic_arg_s\u001b[0m \u001b[1;33m=\u001b[0m \u001b[0marg_s\u001b[0m\u001b[1;33m.\u001b[0m\u001b[0mpartition\u001b[0m\u001b[1;33m(\u001b[0m\u001b[1;34m' '\u001b[0m\u001b[1;33m)\u001b[0m\u001b[1;33m\u001b[0m\u001b[0m\n\u001b[0;32m   2306\u001b[0m         \u001b[0mmagic_name\u001b[0m \u001b[1;33m=\u001b[0m \u001b[0mmagic_name\u001b[0m\u001b[1;33m.\u001b[0m\u001b[0mlstrip\u001b[0m\u001b[1;33m(\u001b[0m\u001b[0mprefilter\u001b[0m\u001b[1;33m.\u001b[0m\u001b[0mESC_MAGIC\u001b[0m\u001b[1;33m)\u001b[0m\u001b[1;33m\u001b[0m\u001b[0m\n\u001b[1;32m-> 2307\u001b[1;33m         \u001b[1;32mreturn\u001b[0m \u001b[0mself\u001b[0m\u001b[1;33m.\u001b[0m\u001b[0mrun_line_magic\u001b[0m\u001b[1;33m(\u001b[0m\u001b[0mmagic_name\u001b[0m\u001b[1;33m,\u001b[0m \u001b[0mmagic_arg_s\u001b[0m\u001b[1;33m)\u001b[0m\u001b[1;33m\u001b[0m\u001b[0m\n\u001b[0m\u001b[0;32m   2308\u001b[0m \u001b[1;33m\u001b[0m\u001b[0m\n\u001b[0;32m   2309\u001b[0m     \u001b[1;31m#-------------------------------------------------------------------------\u001b[0m\u001b[1;33m\u001b[0m\u001b[1;33m\u001b[0m\u001b[0m\n",
      "\u001b[1;32m/home/flanigan/.local/lib/python2.7/site-packages/IPython/core/interactiveshell.pyc\u001b[0m in \u001b[0;36mrun_line_magic\u001b[1;34m(self, magic_name, line)\u001b[0m\n\u001b[0;32m   2226\u001b[0m                 \u001b[0mkwargs\u001b[0m\u001b[1;33m[\u001b[0m\u001b[1;34m'local_ns'\u001b[0m\u001b[1;33m]\u001b[0m \u001b[1;33m=\u001b[0m \u001b[0msys\u001b[0m\u001b[1;33m.\u001b[0m\u001b[0m_getframe\u001b[0m\u001b[1;33m(\u001b[0m\u001b[0mstack_depth\u001b[0m\u001b[1;33m)\u001b[0m\u001b[1;33m.\u001b[0m\u001b[0mf_locals\u001b[0m\u001b[1;33m\u001b[0m\u001b[0m\n\u001b[0;32m   2227\u001b[0m             \u001b[1;32mwith\u001b[0m \u001b[0mself\u001b[0m\u001b[1;33m.\u001b[0m\u001b[0mbuiltin_trap\u001b[0m\u001b[1;33m:\u001b[0m\u001b[1;33m\u001b[0m\u001b[0m\n\u001b[1;32m-> 2228\u001b[1;33m                 \u001b[0mresult\u001b[0m \u001b[1;33m=\u001b[0m \u001b[0mfn\u001b[0m\u001b[1;33m(\u001b[0m\u001b[1;33m*\u001b[0m\u001b[0margs\u001b[0m\u001b[1;33m,\u001b[0m\u001b[1;33m**\u001b[0m\u001b[0mkwargs\u001b[0m\u001b[1;33m)\u001b[0m\u001b[1;33m\u001b[0m\u001b[0m\n\u001b[0m\u001b[0;32m   2229\u001b[0m             \u001b[1;32mreturn\u001b[0m \u001b[0mresult\u001b[0m\u001b[1;33m\u001b[0m\u001b[0m\n\u001b[0;32m   2230\u001b[0m \u001b[1;33m\u001b[0m\u001b[0m\n",
      "\u001b[1;32m/home/flanigan/.local/lib/python2.7/site-packages/IPython/core/magics/execution.pyc\u001b[0m in \u001b[0;36mtimeit\u001b[1;34m(self, line, cell)\u001b[0m\n",
      "\u001b[1;32m/home/flanigan/.local/lib/python2.7/site-packages/IPython/core/magic.pyc\u001b[0m in \u001b[0;36m<lambda>\u001b[1;34m(f, *a, **k)\u001b[0m\n\u001b[0;32m    191\u001b[0m     \u001b[1;31m# but it's overkill for just that one bit of state.\u001b[0m\u001b[1;33m\u001b[0m\u001b[1;33m\u001b[0m\u001b[0m\n\u001b[0;32m    192\u001b[0m     \u001b[1;32mdef\u001b[0m \u001b[0mmagic_deco\u001b[0m\u001b[1;33m(\u001b[0m\u001b[0marg\u001b[0m\u001b[1;33m)\u001b[0m\u001b[1;33m:\u001b[0m\u001b[1;33m\u001b[0m\u001b[0m\n\u001b[1;32m--> 193\u001b[1;33m         \u001b[0mcall\u001b[0m \u001b[1;33m=\u001b[0m \u001b[1;32mlambda\u001b[0m \u001b[0mf\u001b[0m\u001b[1;33m,\u001b[0m \u001b[1;33m*\u001b[0m\u001b[0ma\u001b[0m\u001b[1;33m,\u001b[0m \u001b[1;33m**\u001b[0m\u001b[0mk\u001b[0m\u001b[1;33m:\u001b[0m \u001b[0mf\u001b[0m\u001b[1;33m(\u001b[0m\u001b[1;33m*\u001b[0m\u001b[0ma\u001b[0m\u001b[1;33m,\u001b[0m \u001b[1;33m**\u001b[0m\u001b[0mk\u001b[0m\u001b[1;33m)\u001b[0m\u001b[1;33m\u001b[0m\u001b[0m\n\u001b[0m\u001b[0;32m    194\u001b[0m \u001b[1;33m\u001b[0m\u001b[0m\n\u001b[0;32m    195\u001b[0m         \u001b[1;32mif\u001b[0m \u001b[0mcallable\u001b[0m\u001b[1;33m(\u001b[0m\u001b[0marg\u001b[0m\u001b[1;33m)\u001b[0m\u001b[1;33m:\u001b[0m\u001b[1;33m\u001b[0m\u001b[0m\n",
      "\u001b[1;32m/home/flanigan/.local/lib/python2.7/site-packages/IPython/core/magics/execution.pyc\u001b[0m in \u001b[0;36mtimeit\u001b[1;34m(self, line, cell)\u001b[0m\n\u001b[0;32m   1034\u001b[0m             \u001b[0mnumber\u001b[0m \u001b[1;33m=\u001b[0m \u001b[1;36m1\u001b[0m\u001b[1;33m\u001b[0m\u001b[0m\n\u001b[0;32m   1035\u001b[0m             \u001b[1;32mfor\u001b[0m \u001b[0m_\u001b[0m \u001b[1;32min\u001b[0m \u001b[0mrange\u001b[0m\u001b[1;33m(\u001b[0m\u001b[1;36m1\u001b[0m\u001b[1;33m,\u001b[0m \u001b[1;36m10\u001b[0m\u001b[1;33m)\u001b[0m\u001b[1;33m:\u001b[0m\u001b[1;33m\u001b[0m\u001b[0m\n\u001b[1;32m-> 1036\u001b[1;33m                 \u001b[0mtime_number\u001b[0m \u001b[1;33m=\u001b[0m \u001b[0mtimer\u001b[0m\u001b[1;33m.\u001b[0m\u001b[0mtimeit\u001b[0m\u001b[1;33m(\u001b[0m\u001b[0mnumber\u001b[0m\u001b[1;33m)\u001b[0m\u001b[1;33m\u001b[0m\u001b[0m\n\u001b[0m\u001b[0;32m   1037\u001b[0m                 \u001b[0mworst_tuning\u001b[0m \u001b[1;33m=\u001b[0m \u001b[0mmax\u001b[0m\u001b[1;33m(\u001b[0m\u001b[0mworst_tuning\u001b[0m\u001b[1;33m,\u001b[0m \u001b[0mtime_number\u001b[0m \u001b[1;33m/\u001b[0m \u001b[0mnumber\u001b[0m\u001b[1;33m)\u001b[0m\u001b[1;33m\u001b[0m\u001b[0m\n\u001b[0;32m   1038\u001b[0m                 \u001b[1;32mif\u001b[0m \u001b[0mtime_number\u001b[0m \u001b[1;33m>=\u001b[0m \u001b[1;36m0.2\u001b[0m\u001b[1;33m:\u001b[0m\u001b[1;33m\u001b[0m\u001b[0m\n",
      "\u001b[1;32m/home/flanigan/.local/lib/python2.7/site-packages/IPython/core/magics/execution.pyc\u001b[0m in \u001b[0;36mtimeit\u001b[1;34m(self, number)\u001b[0m\n\u001b[0;32m    130\u001b[0m         \u001b[0mgc\u001b[0m\u001b[1;33m.\u001b[0m\u001b[0mdisable\u001b[0m\u001b[1;33m(\u001b[0m\u001b[1;33m)\u001b[0m\u001b[1;33m\u001b[0m\u001b[0m\n\u001b[0;32m    131\u001b[0m         \u001b[1;32mtry\u001b[0m\u001b[1;33m:\u001b[0m\u001b[1;33m\u001b[0m\u001b[0m\n\u001b[1;32m--> 132\u001b[1;33m             \u001b[0mtiming\u001b[0m \u001b[1;33m=\u001b[0m \u001b[0mself\u001b[0m\u001b[1;33m.\u001b[0m\u001b[0minner\u001b[0m\u001b[1;33m(\u001b[0m\u001b[0mit\u001b[0m\u001b[1;33m,\u001b[0m \u001b[0mself\u001b[0m\u001b[1;33m.\u001b[0m\u001b[0mtimer\u001b[0m\u001b[1;33m)\u001b[0m\u001b[1;33m\u001b[0m\u001b[0m\n\u001b[0m\u001b[0;32m    133\u001b[0m         \u001b[1;32mfinally\u001b[0m\u001b[1;33m:\u001b[0m\u001b[1;33m\u001b[0m\u001b[0m\n\u001b[0;32m    134\u001b[0m             \u001b[1;32mif\u001b[0m \u001b[0mgcold\u001b[0m\u001b[1;33m:\u001b[0m\u001b[1;33m\u001b[0m\u001b[0m\n",
      "\u001b[1;32m<magic-timeit>\u001b[0m in \u001b[0;36minner\u001b[1;34m(_it, _timer)\u001b[0m\n",
      "\u001b[1;32m/home/flanigan/kid_readout/kid_readout/measurement/core.pyc\u001b[0m in \u001b[0;36mread\u001b[1;34m(io, node_path, extras, translate)\u001b[0m\n\u001b[0;32m    392\u001b[0m     \u001b[1;32mif\u001b[0m \u001b[0mtranslate\u001b[0m \u001b[1;32mis\u001b[0m \u001b[0mNone\u001b[0m\u001b[1;33m:\u001b[0m\u001b[1;33m\u001b[0m\u001b[0m\n\u001b[0;32m    393\u001b[0m         \u001b[0mtranslate\u001b[0m \u001b[1;33m=\u001b[0m \u001b[1;33m{\u001b[0m\u001b[1;33m}\u001b[0m\u001b[1;33m\u001b[0m\u001b[0m\n\u001b[1;32m--> 394\u001b[1;33m     \u001b[0mmeasurement\u001b[0m \u001b[1;33m=\u001b[0m \u001b[0m_read_node\u001b[0m\u001b[1;33m(\u001b[0m\u001b[0mio\u001b[0m\u001b[1;33m,\u001b[0m \u001b[0mnode_path\u001b[0m\u001b[1;33m,\u001b[0m \u001b[0mextras\u001b[0m\u001b[1;33m,\u001b[0m \u001b[0mtranslate\u001b[0m\u001b[1;33m)\u001b[0m\u001b[1;33m\u001b[0m\u001b[0m\n\u001b[0m\u001b[0;32m    395\u001b[0m     \u001b[1;32mreturn\u001b[0m \u001b[0mmeasurement\u001b[0m\u001b[1;33m\u001b[0m\u001b[0m\n\u001b[0;32m    396\u001b[0m \u001b[1;33m\u001b[0m\u001b[0m\n",
      "\u001b[1;32m/home/flanigan/kid_readout/kid_readout/measurement/core.pyc\u001b[0m in \u001b[0;36m_read_node\u001b[1;34m(io, node_path, extras, translate)\u001b[0m\n\u001b[0;32m    531\u001b[0m         \u001b[0mvariables\u001b[0m \u001b[1;33m=\u001b[0m \u001b[1;33m{\u001b[0m\u001b[1;33m}\u001b[0m\u001b[1;33m\u001b[0m\u001b[0m\n\u001b[0;32m    532\u001b[0m         \u001b[1;32mfor\u001b[0m \u001b[0mmeasurement_name\u001b[0m \u001b[1;32min\u001b[0m \u001b[0mmeasurement_names\u001b[0m\u001b[1;33m:\u001b[0m\u001b[1;33m\u001b[0m\u001b[0m\n\u001b[1;32m--> 533\u001b[1;33m             \u001b[0mvariables\u001b[0m\u001b[1;33m[\u001b[0m\u001b[0mmeasurement_name\u001b[0m\u001b[1;33m]\u001b[0m \u001b[1;33m=\u001b[0m \u001b[0m_read_node\u001b[0m\u001b[1;33m(\u001b[0m\u001b[0mio\u001b[0m\u001b[1;33m,\u001b[0m \u001b[0mjoin\u001b[0m\u001b[1;33m(\u001b[0m\u001b[0mnode_path\u001b[0m\u001b[1;33m,\u001b[0m \u001b[0mmeasurement_name\u001b[0m\u001b[1;33m)\u001b[0m\u001b[1;33m,\u001b[0m \u001b[0mextras\u001b[0m\u001b[1;33m,\u001b[0m \u001b[0mtranslate\u001b[0m\u001b[1;33m)\u001b[0m\u001b[1;33m\u001b[0m\u001b[0m\n\u001b[0m\u001b[0;32m    534\u001b[0m         \u001b[0marray_names\u001b[0m \u001b[1;33m=\u001b[0m \u001b[0mio\u001b[0m\u001b[1;33m.\u001b[0m\u001b[0marray_names\u001b[0m\u001b[1;33m(\u001b[0m\u001b[0mnode_path\u001b[0m\u001b[1;33m)\u001b[0m\u001b[1;33m\u001b[0m\u001b[0m\n\u001b[0;32m    535\u001b[0m         \u001b[1;32mfor\u001b[0m \u001b[0marray_name\u001b[0m \u001b[1;32min\u001b[0m \u001b[0marray_names\u001b[0m\u001b[1;33m:\u001b[0m\u001b[1;33m\u001b[0m\u001b[0m\n",
      "\u001b[1;32m/home/flanigan/kid_readout/kid_readout/measurement/core.pyc\u001b[0m in \u001b[0;36m_read_node\u001b[1;34m(io, node_path, extras, translate)\u001b[0m\n\u001b[0;32m    531\u001b[0m         \u001b[0mvariables\u001b[0m \u001b[1;33m=\u001b[0m \u001b[1;33m{\u001b[0m\u001b[1;33m}\u001b[0m\u001b[1;33m\u001b[0m\u001b[0m\n\u001b[0;32m    532\u001b[0m         \u001b[1;32mfor\u001b[0m \u001b[0mmeasurement_name\u001b[0m \u001b[1;32min\u001b[0m \u001b[0mmeasurement_names\u001b[0m\u001b[1;33m:\u001b[0m\u001b[1;33m\u001b[0m\u001b[0m\n\u001b[1;32m--> 533\u001b[1;33m             \u001b[0mvariables\u001b[0m\u001b[1;33m[\u001b[0m\u001b[0mmeasurement_name\u001b[0m\u001b[1;33m]\u001b[0m \u001b[1;33m=\u001b[0m \u001b[0m_read_node\u001b[0m\u001b[1;33m(\u001b[0m\u001b[0mio\u001b[0m\u001b[1;33m,\u001b[0m \u001b[0mjoin\u001b[0m\u001b[1;33m(\u001b[0m\u001b[0mnode_path\u001b[0m\u001b[1;33m,\u001b[0m \u001b[0mmeasurement_name\u001b[0m\u001b[1;33m)\u001b[0m\u001b[1;33m,\u001b[0m \u001b[0mextras\u001b[0m\u001b[1;33m,\u001b[0m \u001b[0mtranslate\u001b[0m\u001b[1;33m)\u001b[0m\u001b[1;33m\u001b[0m\u001b[0m\n\u001b[0m\u001b[0;32m    534\u001b[0m         \u001b[0marray_names\u001b[0m \u001b[1;33m=\u001b[0m \u001b[0mio\u001b[0m\u001b[1;33m.\u001b[0m\u001b[0marray_names\u001b[0m\u001b[1;33m(\u001b[0m\u001b[0mnode_path\u001b[0m\u001b[1;33m)\u001b[0m\u001b[1;33m\u001b[0m\u001b[0m\n\u001b[0;32m    535\u001b[0m         \u001b[1;32mfor\u001b[0m \u001b[0marray_name\u001b[0m \u001b[1;32min\u001b[0m \u001b[0marray_names\u001b[0m\u001b[1;33m:\u001b[0m\u001b[1;33m\u001b[0m\u001b[0m\n",
      "\u001b[1;32m/home/flanigan/kid_readout/kid_readout/measurement/core.pyc\u001b[0m in \u001b[0;36m_read_node\u001b[1;34m(io, node_path, extras, translate)\u001b[0m\n\u001b[0;32m    526\u001b[0m         \u001b[1;31m# Use the name of each measurement, which is an int, to restore the order in the sequence.\u001b[0m\u001b[1;33m\u001b[0m\u001b[1;33m\u001b[0m\u001b[0m\n\u001b[0;32m    527\u001b[0m         contents = [_read_node(io, join(node_path, measurement_name), extras, translate)\n\u001b[1;32m--> 528\u001b[1;33m                     for measurement_name in sorted(measurement_names, key=int)]\n\u001b[0m\u001b[0;32m    529\u001b[0m         \u001b[0mcurrent\u001b[0m \u001b[1;33m=\u001b[0m \u001b[0minstantiate_sequence\u001b[0m\u001b[1;33m(\u001b[0m\u001b[0mclass_name\u001b[0m\u001b[1;33m,\u001b[0m \u001b[0mcontents\u001b[0m\u001b[1;33m)\u001b[0m\u001b[1;33m\u001b[0m\u001b[0m\n\u001b[0;32m    530\u001b[0m     \u001b[1;32melse\u001b[0m\u001b[1;33m:\u001b[0m\u001b[1;33m\u001b[0m\u001b[0m\n",
      "\u001b[1;32m/home/flanigan/kid_readout/kid_readout/measurement/core.pyc\u001b[0m in \u001b[0;36m_read_node\u001b[1;34m(io, node_path, extras, translate)\u001b[0m\n\u001b[0;32m    534\u001b[0m         \u001b[0marray_names\u001b[0m \u001b[1;33m=\u001b[0m \u001b[0mio\u001b[0m\u001b[1;33m.\u001b[0m\u001b[0marray_names\u001b[0m\u001b[1;33m(\u001b[0m\u001b[0mnode_path\u001b[0m\u001b[1;33m)\u001b[0m\u001b[1;33m\u001b[0m\u001b[0m\n\u001b[0;32m    535\u001b[0m         \u001b[1;32mfor\u001b[0m \u001b[0marray_name\u001b[0m \u001b[1;32min\u001b[0m \u001b[0marray_names\u001b[0m\u001b[1;33m:\u001b[0m\u001b[1;33m\u001b[0m\u001b[0m\n\u001b[1;32m--> 536\u001b[1;33m             \u001b[0mvariables\u001b[0m\u001b[1;33m[\u001b[0m\u001b[0marray_name\u001b[0m\u001b[1;33m]\u001b[0m \u001b[1;33m=\u001b[0m \u001b[0mio\u001b[0m\u001b[1;33m.\u001b[0m\u001b[0mread_array\u001b[0m\u001b[1;33m(\u001b[0m\u001b[0mnode_path\u001b[0m\u001b[1;33m,\u001b[0m \u001b[0marray_name\u001b[0m\u001b[1;33m)\u001b[0m\u001b[1;33m\u001b[0m\u001b[0m\n\u001b[0m\u001b[0;32m    537\u001b[0m         \u001b[0mother_names\u001b[0m \u001b[1;33m=\u001b[0m \u001b[1;33m[\u001b[0m\u001b[0mvn\u001b[0m \u001b[1;32mfor\u001b[0m \u001b[0mvn\u001b[0m \u001b[1;32min\u001b[0m \u001b[0mio\u001b[0m\u001b[1;33m.\u001b[0m\u001b[0mother_names\u001b[0m\u001b[1;33m(\u001b[0m\u001b[0mnode_path\u001b[0m\u001b[1;33m)\u001b[0m\u001b[1;33m]\u001b[0m\u001b[1;33m\u001b[0m\u001b[0m\n\u001b[0;32m    538\u001b[0m         \u001b[1;32mfor\u001b[0m \u001b[0mother_name\u001b[0m \u001b[1;32min\u001b[0m \u001b[0mother_names\u001b[0m\u001b[1;33m:\u001b[0m\u001b[1;33m\u001b[0m\u001b[0m\n",
      "\u001b[1;32m/home/flanigan/kid_readout/kid_readout/measurement/io/npy.pyc\u001b[0m in \u001b[0;36mread_array\u001b[1;34m(self, node_path, name)\u001b[0m\n\u001b[0;32m     66\u001b[0m     \u001b[1;32mdef\u001b[0m \u001b[0mread_array\u001b[0m\u001b[1;33m(\u001b[0m\u001b[0mself\u001b[0m\u001b[1;33m,\u001b[0m \u001b[0mnode_path\u001b[0m\u001b[1;33m,\u001b[0m \u001b[0mname\u001b[0m\u001b[1;33m)\u001b[0m\u001b[1;33m:\u001b[0m\u001b[1;33m\u001b[0m\u001b[0m\n\u001b[0;32m     67\u001b[0m         \u001b[0mfull\u001b[0m \u001b[1;33m=\u001b[0m \u001b[0mos\u001b[0m\u001b[1;33m.\u001b[0m\u001b[0mpath\u001b[0m\u001b[1;33m.\u001b[0m\u001b[0mjoin\u001b[0m\u001b[1;33m(\u001b[0m\u001b[0mself\u001b[0m\u001b[1;33m.\u001b[0m\u001b[0m_get_node\u001b[0m\u001b[1;33m(\u001b[0m\u001b[0mnode_path\u001b[0m\u001b[1;33m)\u001b[0m\u001b[1;33m,\u001b[0m \u001b[0mname\u001b[0m \u001b[1;33m+\u001b[0m \u001b[1;34m'.npy'\u001b[0m\u001b[1;33m)\u001b[0m\u001b[1;33m\u001b[0m\u001b[0m\n\u001b[1;32m---> 68\u001b[1;33m         \u001b[1;32mreturn\u001b[0m \u001b[0mnp\u001b[0m\u001b[1;33m.\u001b[0m\u001b[0mload\u001b[0m\u001b[1;33m(\u001b[0m\u001b[0mfull\u001b[0m\u001b[1;33m,\u001b[0m \u001b[0mmmap_mode\u001b[0m\u001b[1;33m=\u001b[0m\u001b[0mself\u001b[0m\u001b[1;33m.\u001b[0m\u001b[0m_mmap_mode\u001b[0m\u001b[1;33m)\u001b[0m\u001b[1;33m\u001b[0m\u001b[0m\n\u001b[0m\u001b[0;32m     69\u001b[0m \u001b[1;33m\u001b[0m\u001b[0m\n\u001b[0;32m     70\u001b[0m     \u001b[1;32mdef\u001b[0m \u001b[0mread_other\u001b[0m\u001b[1;33m(\u001b[0m\u001b[0mself\u001b[0m\u001b[1;33m,\u001b[0m \u001b[0mnode_path\u001b[0m\u001b[1;33m,\u001b[0m \u001b[0mname\u001b[0m\u001b[1;33m)\u001b[0m\u001b[1;33m:\u001b[0m\u001b[1;33m\u001b[0m\u001b[0m\n",
      "\u001b[1;32m/home/local/lib/python2.7/site-packages/numpy/lib/npyio.pyc\u001b[0m in \u001b[0;36mload\u001b[1;34m(file, mmap_mode)\u001b[0m\n\u001b[0;32m    389\u001b[0m             \u001b[1;31m# .npy file\u001b[0m\u001b[1;33m\u001b[0m\u001b[1;33m\u001b[0m\u001b[0m\n\u001b[0;32m    390\u001b[0m             \u001b[1;32mif\u001b[0m \u001b[0mmmap_mode\u001b[0m\u001b[1;33m:\u001b[0m\u001b[1;33m\u001b[0m\u001b[0m\n\u001b[1;32m--> 391\u001b[1;33m                 \u001b[1;32mreturn\u001b[0m \u001b[0mformat\u001b[0m\u001b[1;33m.\u001b[0m\u001b[0mopen_memmap\u001b[0m\u001b[1;33m(\u001b[0m\u001b[0mfile\u001b[0m\u001b[1;33m,\u001b[0m \u001b[0mmode\u001b[0m\u001b[1;33m=\u001b[0m\u001b[0mmmap_mode\u001b[0m\u001b[1;33m)\u001b[0m\u001b[1;33m\u001b[0m\u001b[0m\n\u001b[0m\u001b[0;32m    392\u001b[0m             \u001b[1;32melse\u001b[0m\u001b[1;33m:\u001b[0m\u001b[1;33m\u001b[0m\u001b[0m\n\u001b[0;32m    393\u001b[0m                 \u001b[1;32mreturn\u001b[0m \u001b[0mformat\u001b[0m\u001b[1;33m.\u001b[0m\u001b[0mread_array\u001b[0m\u001b[1;33m(\u001b[0m\u001b[0mfid\u001b[0m\u001b[1;33m)\u001b[0m\u001b[1;33m\u001b[0m\u001b[0m\n",
      "\u001b[1;32m/home/local/lib/python2.7/site-packages/numpy/lib/format.pyc\u001b[0m in \u001b[0;36mopen_memmap\u001b[1;34m(filename, mode, dtype, shape, fortran_order, version)\u001b[0m\n\u001b[0;32m    739\u001b[0m \u001b[1;33m\u001b[0m\u001b[0m\n\u001b[0;32m    740\u001b[0m     marray = numpy.memmap(filename, dtype=dtype, shape=shape, order=order,\n\u001b[1;32m--> 741\u001b[1;33m         mode=mode, offset=offset)\n\u001b[0m\u001b[0;32m    742\u001b[0m \u001b[1;33m\u001b[0m\u001b[0m\n\u001b[0;32m    743\u001b[0m     \u001b[1;32mreturn\u001b[0m \u001b[0mmarray\u001b[0m\u001b[1;33m\u001b[0m\u001b[0m\n",
      "\u001b[1;32m/home/local/lib/python2.7/site-packages/numpy/core/memmap.pyc\u001b[0m in \u001b[0;36m__new__\u001b[1;34m(subtype, filename, dtype, mode, offset, shape, order)\u001b[0m\n\u001b[0;32m    255\u001b[0m         \u001b[0mbytes\u001b[0m \u001b[1;33m-=\u001b[0m \u001b[0mstart\u001b[0m\u001b[1;33m\u001b[0m\u001b[0m\n\u001b[0;32m    256\u001b[0m         \u001b[0moffset\u001b[0m \u001b[1;33m-=\u001b[0m \u001b[0mstart\u001b[0m\u001b[1;33m\u001b[0m\u001b[0m\n\u001b[1;32m--> 257\u001b[1;33m         \u001b[0mmm\u001b[0m \u001b[1;33m=\u001b[0m \u001b[0mmmap\u001b[0m\u001b[1;33m.\u001b[0m\u001b[0mmmap\u001b[0m\u001b[1;33m(\u001b[0m\u001b[0mfid\u001b[0m\u001b[1;33m.\u001b[0m\u001b[0mfileno\u001b[0m\u001b[1;33m(\u001b[0m\u001b[1;33m)\u001b[0m\u001b[1;33m,\u001b[0m \u001b[0mbytes\u001b[0m\u001b[1;33m,\u001b[0m \u001b[0maccess\u001b[0m\u001b[1;33m=\u001b[0m\u001b[0macc\u001b[0m\u001b[1;33m,\u001b[0m \u001b[0moffset\u001b[0m\u001b[1;33m=\u001b[0m\u001b[0mstart\u001b[0m\u001b[1;33m)\u001b[0m\u001b[1;33m\u001b[0m\u001b[0m\n\u001b[0m\u001b[0;32m    258\u001b[0m \u001b[1;33m\u001b[0m\u001b[0m\n\u001b[0;32m    259\u001b[0m         self = ndarray.__new__(subtype, shape, dtype=descr, buffer=mm,\n",
      "\u001b[1;31merror\u001b[0m: [Errno 24] Too many open files"
     ]
    }
   ],
   "source": [
    "npy_io_memmap = npy.IO(npy_root_path, memmap=True)\n",
    "%timeit core.read(npy_io_memmap, name)"
   ]
  }
 ],
 "metadata": {
  "kernelspec": {
   "display_name": "Python 2",
   "language": "python",
   "name": "python2"
  },
  "language_info": {
   "codemirror_mode": {
    "name": "ipython",
    "version": 2
   },
   "file_extension": ".py",
   "mimetype": "text/x-python",
   "name": "python",
   "nbconvert_exporter": "python",
   "pygments_lexer": "ipython2",
   "version": "2.7.6"
  }
 },
 "nbformat": 4,
 "nbformat_minor": 0
}
