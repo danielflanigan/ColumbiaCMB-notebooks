{
 "cells": [
  {
   "cell_type": "code",
   "execution_count": 1,
   "metadata": {
    "collapsed": false
   },
   "outputs": [
    {
     "name": "stderr",
     "output_type": "stream",
     "text": [
      ":0: FutureWarning: IPython widgets are experimental and may change in the future.\n"
     ]
    }
   ],
   "source": [
    "import os\n",
    "from kid_readout.measurement import core, legacy, multiple\n",
    "from kid_readout.measurement.io import nc, npy, readoutnc\n",
    "from kid_readout.analysis.resonator import plot_resonator"
   ]
  },
  {
   "cell_type": "code",
   "execution_count": 2,
   "metadata": {
    "collapsed": true
   },
   "outputs": [],
   "source": [
    "nc_filename = '/data/readout/2015-05-11_150346_compressor_noise_60_s.nc'\n",
    "rnc = readoutnc.ReadoutNetCDF(nc_filename)\n",
    "on_index = 0\n",
    "off_index = 1"
   ]
  },
  {
   "cell_type": "code",
   "execution_count": 3,
   "metadata": {
    "collapsed": false
   },
   "outputs": [
    {
     "data": {
      "text/plain": [
       "[<kid_readout.measurement.io.readoutnc.SweepGroup at 0x53df410>,\n",
       " <kid_readout.measurement.io.readoutnc.SweepGroup at 0x53df590>]"
      ]
     },
     "execution_count": 3,
     "metadata": {},
     "output_type": "execute_result"
    }
   ],
   "source": [
    "rnc.sweeps"
   ]
  },
  {
   "cell_type": "code",
   "execution_count": 4,
   "metadata": {
    "collapsed": false
   },
   "outputs": [
    {
     "data": {
      "text/plain": [
       "[<kid_readout.measurement.io.readoutnc.TimestreamGroup at 0x53df650>,\n",
       " <kid_readout.measurement.io.readoutnc.TimestreamGroup at 0x53df6d0>]"
      ]
     },
     "execution_count": 4,
     "metadata": {},
     "output_type": "execute_result"
    }
   ],
   "source": [
    "rnc.timestreams"
   ]
  },
  {
   "cell_type": "code",
   "execution_count": 5,
   "metadata": {
    "collapsed": false
   },
   "outputs": [],
   "source": [
    "ssa_off = legacy.sweepstreamarray_from_rnc(rnc, off_index, off_index)\n",
    "ssa_on = legacy.sweepstreamarray_from_rnc(rnc, on_index, on_index)"
   ]
  },
  {
   "cell_type": "code",
   "execution_count": 6,
   "metadata": {
    "collapsed": false
   },
   "outputs": [
    {
     "data": {
      "text/html": [
       "<div style=\"max-height:1000px;max-width:1500px;overflow:auto;\">\n",
       "<table border=\"1\" class=\"dataframe\">\n",
       "  <thead>\n",
       "    <tr style=\"text-align: right;\">\n",
       "      <th></th>\n",
       "      <th>resonator_A_mag</th>\n",
       "      <th>resonator_A_mag_error</th>\n",
       "      <th>resonator_A_phase</th>\n",
       "      <th>resonator_A_phase_error</th>\n",
       "      <th>resonator_Q</th>\n",
       "      <th>resonator_Q_e_imag</th>\n",
       "      <th>resonator_Q_e_imag_error</th>\n",
       "      <th>resonator_Q_e_real</th>\n",
       "      <th>resonator_Q_e_real_error</th>\n",
       "      <th>resonator_Q_error</th>\n",
       "      <th>...</th>\n",
       "      <th>resonator_f_0</th>\n",
       "      <th>resonator_f_0_error</th>\n",
       "      <th>resonator_f_phi</th>\n",
       "      <th>resonator_f_phi_error</th>\n",
       "      <th>resonator_phi</th>\n",
       "      <th>resonator_phi_error</th>\n",
       "      <th>resonator_redchi</th>\n",
       "      <th>io_class</th>\n",
       "      <th>root_path</th>\n",
       "      <th>node_path</th>\n",
       "    </tr>\n",
       "  </thead>\n",
       "  <tbody>\n",
       "    <tr>\n",
       "      <th>0 </th>\n",
       "      <td> 0.047544</td>\n",
       "      <td> 0.000042</td>\n",
       "      <td> 0</td>\n",
       "      <td> 0</td>\n",
       "      <td>  59060.988223</td>\n",
       "      <td> 31493.402448</td>\n",
       "      <td>  317.030611</td>\n",
       "      <td>  83168.121243</td>\n",
       "      <td>  326.129790</td>\n",
       "      <td>  275.520719</td>\n",
       "      <td>...</td>\n",
       "      <td>  96.067043</td>\n",
       "      <td> 0.000004</td>\n",
       "      <td>  96.058350</td>\n",
       "      <td> 0</td>\n",
       "      <td>-1.879661</td>\n",
       "      <td> 0.001798</td>\n",
       "      <td>  12127.331591</td>\n",
       "      <td> NaN</td>\n",
       "      <td> NaN</td>\n",
       "      <td> NaN</td>\n",
       "    </tr>\n",
       "    <tr>\n",
       "      <th>1 </th>\n",
       "      <td> 0.046428</td>\n",
       "      <td> 0.000082</td>\n",
       "      <td> 0</td>\n",
       "      <td> 0</td>\n",
       "      <td>  85082.229750</td>\n",
       "      <td> 27402.212391</td>\n",
       "      <td>  753.187937</td>\n",
       "      <td> 104924.178848</td>\n",
       "      <td>  817.704294</td>\n",
       "      <td>  847.201771</td>\n",
       "      <td>...</td>\n",
       "      <td> 101.964777</td>\n",
       "      <td> 0.000006</td>\n",
       "      <td> 101.956055</td>\n",
       "      <td> 0</td>\n",
       "      <td> 0.658829</td>\n",
       "      <td> 0.003804</td>\n",
       "      <td>  55250.096971</td>\n",
       "      <td> NaN</td>\n",
       "      <td> NaN</td>\n",
       "      <td> NaN</td>\n",
       "    </tr>\n",
       "    <tr>\n",
       "      <th>2 </th>\n",
       "      <td> 0.047131</td>\n",
       "      <td> 0.000044</td>\n",
       "      <td> 0</td>\n",
       "      <td> 0</td>\n",
       "      <td>  89281.567140</td>\n",
       "      <td> 32315.265220</td>\n",
       "      <td>  342.014104</td>\n",
       "      <td>  98374.289280</td>\n",
       "      <td>  365.475185</td>\n",
       "      <td>  425.643089</td>\n",
       "      <td>...</td>\n",
       "      <td> 108.867062</td>\n",
       "      <td> 0.000003</td>\n",
       "      <td> 108.858398</td>\n",
       "      <td> 0</td>\n",
       "      <td> 0.688189</td>\n",
       "      <td> 0.001981</td>\n",
       "      <td>  14381.613784</td>\n",
       "      <td> NaN</td>\n",
       "      <td> NaN</td>\n",
       "      <td> NaN</td>\n",
       "    </tr>\n",
       "    <tr>\n",
       "      <th>3 </th>\n",
       "      <td> 0.046243</td>\n",
       "      <td> 0.000079</td>\n",
       "      <td> 0</td>\n",
       "      <td> 0</td>\n",
       "      <td>  95629.842704</td>\n",
       "      <td> 34430.276286</td>\n",
       "      <td>  877.679785</td>\n",
       "      <td> 120600.407649</td>\n",
       "      <td>  949.938450</td>\n",
       "      <td>  980.087662</td>\n",
       "      <td>...</td>\n",
       "      <td> 112.265008</td>\n",
       "      <td> 0.000006</td>\n",
       "      <td> 112.256348</td>\n",
       "      <td> 0</td>\n",
       "      <td> 1.491291</td>\n",
       "      <td> 0.003777</td>\n",
       "      <td>  48649.752164</td>\n",
       "      <td> NaN</td>\n",
       "      <td> NaN</td>\n",
       "      <td> NaN</td>\n",
       "    </tr>\n",
       "    <tr>\n",
       "      <th>4 </th>\n",
       "      <td> 0.044679</td>\n",
       "      <td> 0.000060</td>\n",
       "      <td> 0</td>\n",
       "      <td> 0</td>\n",
       "      <td> 106764.119657</td>\n",
       "      <td> 36452.550681</td>\n",
       "      <td>  640.840557</td>\n",
       "      <td> 120068.732438</td>\n",
       "      <td>  680.880316</td>\n",
       "      <td>  784.116035</td>\n",
       "      <td>...</td>\n",
       "      <td> 117.274849</td>\n",
       "      <td> 0.000004</td>\n",
       "      <td> 117.266113</td>\n",
       "      <td> 0</td>\n",
       "      <td> 2.618666</td>\n",
       "      <td> 0.002875</td>\n",
       "      <td>  29281.990321</td>\n",
       "      <td> NaN</td>\n",
       "      <td> NaN</td>\n",
       "      <td> NaN</td>\n",
       "    </tr>\n",
       "    <tr>\n",
       "      <th>5 </th>\n",
       "      <td> 0.043443</td>\n",
       "      <td> 0.000100</td>\n",
       "      <td> 0</td>\n",
       "      <td> 0</td>\n",
       "      <td>  87960.986491</td>\n",
       "      <td> 16876.976186</td>\n",
       "      <td>  918.216385</td>\n",
       "      <td> 111325.324843</td>\n",
       "      <td> 1041.374508</td>\n",
       "      <td> 1056.114730</td>\n",
       "      <td>...</td>\n",
       "      <td> 127.789184</td>\n",
       "      <td> 0.000008</td>\n",
       "      <td> 127.780518</td>\n",
       "      <td> 0</td>\n",
       "      <td> 0.655643</td>\n",
       "      <td> 0.004792</td>\n",
       "      <td>  66891.569429</td>\n",
       "      <td> NaN</td>\n",
       "      <td> NaN</td>\n",
       "      <td> NaN</td>\n",
       "    </tr>\n",
       "    <tr>\n",
       "      <th>6 </th>\n",
       "      <td> 0.039886</td>\n",
       "      <td> 0.000097</td>\n",
       "      <td> 0</td>\n",
       "      <td> 0</td>\n",
       "      <td> 116222.183438</td>\n",
       "      <td> 25443.998073</td>\n",
       "      <td> 1529.413114</td>\n",
       "      <td> 153818.724483</td>\n",
       "      <td> 1704.974276</td>\n",
       "      <td> 1666.416692</td>\n",
       "      <td>...</td>\n",
       "      <td> 144.192608</td>\n",
       "      <td> 0.000009</td>\n",
       "      <td> 144.183838</td>\n",
       "      <td> 0</td>\n",
       "      <td>-2.396834</td>\n",
       "      <td> 0.005160</td>\n",
       "      <td>  70828.262703</td>\n",
       "      <td> NaN</td>\n",
       "      <td> NaN</td>\n",
       "      <td> NaN</td>\n",
       "    </tr>\n",
       "    <tr>\n",
       "      <th>7 </th>\n",
       "      <td> 0.039865</td>\n",
       "      <td> 0.000062</td>\n",
       "      <td> 0</td>\n",
       "      <td> 0</td>\n",
       "      <td> 109732.541575</td>\n",
       "      <td> 18152.115412</td>\n",
       "      <td>  885.353076</td>\n",
       "      <td> 148326.872078</td>\n",
       "      <td>  997.412677</td>\n",
       "      <td>  934.179253</td>\n",
       "      <td>...</td>\n",
       "      <td> 148.249792</td>\n",
       "      <td> 0.000006</td>\n",
       "      <td> 148.241211</td>\n",
       "      <td> 0</td>\n",
       "      <td> 3.108777</td>\n",
       "      <td> 0.003380</td>\n",
       "      <td>  25083.172565</td>\n",
       "      <td> NaN</td>\n",
       "      <td> NaN</td>\n",
       "      <td> NaN</td>\n",
       "    </tr>\n",
       "    <tr>\n",
       "      <th>8 </th>\n",
       "      <td> 0.036289</td>\n",
       "      <td> 0.000080</td>\n",
       "      <td> 0</td>\n",
       "      <td> 0</td>\n",
       "      <td>  42632.085446</td>\n",
       "      <td> 10257.845051</td>\n",
       "      <td>  227.430055</td>\n",
       "      <td>  47487.857474</td>\n",
       "      <td>  267.187555</td>\n",
       "      <td>  270.649839</td>\n",
       "      <td>...</td>\n",
       "      <td> 164.087681</td>\n",
       "      <td> 0.000011</td>\n",
       "      <td> 164.079102</td>\n",
       "      <td> 0</td>\n",
       "      <td> 1.182809</td>\n",
       "      <td> 0.004020</td>\n",
       "      <td>  21178.034467</td>\n",
       "      <td> NaN</td>\n",
       "      <td> NaN</td>\n",
       "      <td> NaN</td>\n",
       "    </tr>\n",
       "    <tr>\n",
       "      <th>9 </th>\n",
       "      <td> 0.036222</td>\n",
       "      <td> 0.000085</td>\n",
       "      <td> 0</td>\n",
       "      <td> 0</td>\n",
       "      <td>  42311.850315</td>\n",
       "      <td>  7442.286920</td>\n",
       "      <td>  226.077339</td>\n",
       "      <td>  47920.093993</td>\n",
       "      <td>  279.964874</td>\n",
       "      <td>  277.700727</td>\n",
       "      <td>...</td>\n",
       "      <td> 164.378872</td>\n",
       "      <td> 0.000011</td>\n",
       "      <td> 164.370361</td>\n",
       "      <td> 0</td>\n",
       "      <td>-2.342012</td>\n",
       "      <td> 0.004165</td>\n",
       "      <td>  22112.378636</td>\n",
       "      <td> NaN</td>\n",
       "      <td> NaN</td>\n",
       "      <td> NaN</td>\n",
       "    </tr>\n",
       "    <tr>\n",
       "      <th>10</th>\n",
       "      <td> 0.036278</td>\n",
       "      <td> 0.000055</td>\n",
       "      <td> 0</td>\n",
       "      <td> 0</td>\n",
       "      <td> 127562.092261</td>\n",
       "      <td> 29776.153687</td>\n",
       "      <td>  809.600356</td>\n",
       "      <td> 149793.520514</td>\n",
       "      <td>  895.496947</td>\n",
       "      <td>  992.676176</td>\n",
       "      <td>...</td>\n",
       "      <td> 165.412580</td>\n",
       "      <td> 0.000005</td>\n",
       "      <td> 165.404053</td>\n",
       "      <td> 0</td>\n",
       "      <td> 0.470821</td>\n",
       "      <td> 0.003205</td>\n",
       "      <td>  20156.958564</td>\n",
       "      <td> NaN</td>\n",
       "      <td> NaN</td>\n",
       "      <td> NaN</td>\n",
       "    </tr>\n",
       "    <tr>\n",
       "      <th>11</th>\n",
       "      <td> 0.032753</td>\n",
       "      <td> 0.000132</td>\n",
       "      <td> 0</td>\n",
       "      <td> 0</td>\n",
       "      <td> 107122.050020</td>\n",
       "      <td> 48330.413044</td>\n",
       "      <td> 2058.817407</td>\n",
       "      <td> 129911.552521</td>\n",
       "      <td> 2156.103650</td>\n",
       "      <td> 2179.822078</td>\n",
       "      <td>...</td>\n",
       "      <td> 174.960461</td>\n",
       "      <td> 0.000016</td>\n",
       "      <td> 174.951660</td>\n",
       "      <td> 0</td>\n",
       "      <td>-3.042915</td>\n",
       "      <td> 0.008337</td>\n",
       "      <td> 123924.006044</td>\n",
       "      <td> NaN</td>\n",
       "      <td> NaN</td>\n",
       "      <td> NaN</td>\n",
       "    </tr>\n",
       "    <tr>\n",
       "      <th>12</th>\n",
       "      <td> 0.031517</td>\n",
       "      <td> 0.000048</td>\n",
       "      <td> 0</td>\n",
       "      <td> 0</td>\n",
       "      <td>  26789.516385</td>\n",
       "      <td>-10586.810359</td>\n",
       "      <td>   75.470492</td>\n",
       "      <td>  25232.887054</td>\n",
       "      <td>   66.244832</td>\n",
       "      <td>   81.018765</td>\n",
       "      <td>...</td>\n",
       "      <td> 178.945647</td>\n",
       "      <td> 0.000008</td>\n",
       "      <td> 178.937012</td>\n",
       "      <td> 0</td>\n",
       "      <td>-1.106057</td>\n",
       "      <td> 0.002063</td>\n",
       "      <td>   3279.394307</td>\n",
       "      <td> NaN</td>\n",
       "      <td> NaN</td>\n",
       "      <td> NaN</td>\n",
       "    </tr>\n",
       "    <tr>\n",
       "      <th>13</th>\n",
       "      <td> 0.029021</td>\n",
       "      <td> 0.000121</td>\n",
       "      <td> 0</td>\n",
       "      <td> 0</td>\n",
       "      <td> 121668.324325</td>\n",
       "      <td> 43306.911045</td>\n",
       "      <td> 2974.087796</td>\n",
       "      <td> 171423.459865</td>\n",
       "      <td> 3247.970464</td>\n",
       "      <td> 2865.943788</td>\n",
       "      <td>...</td>\n",
       "      <td> 184.558668</td>\n",
       "      <td> 0.000017</td>\n",
       "      <td> 184.550049</td>\n",
       "      <td> 0</td>\n",
       "      <td> 1.118589</td>\n",
       "      <td> 0.008799</td>\n",
       "      <td> 126033.341968</td>\n",
       "      <td> NaN</td>\n",
       "      <td> NaN</td>\n",
       "      <td> NaN</td>\n",
       "    </tr>\n",
       "    <tr>\n",
       "      <th>14</th>\n",
       "      <td> 0.028665</td>\n",
       "      <td> 0.000035</td>\n",
       "      <td> 0</td>\n",
       "      <td> 0</td>\n",
       "      <td>  21365.697286</td>\n",
       "      <td> -8384.636862</td>\n",
       "      <td>   44.531578</td>\n",
       "      <td>  19697.625929</td>\n",
       "      <td>   34.061259</td>\n",
       "      <td>   45.339198</td>\n",
       "      <td>...</td>\n",
       "      <td> 188.867190</td>\n",
       "      <td> 0.000008</td>\n",
       "      <td> 188.858398</td>\n",
       "      <td> 0</td>\n",
       "      <td>-0.435812</td>\n",
       "      <td> 0.001418</td>\n",
       "      <td>    955.705039</td>\n",
       "      <td> NaN</td>\n",
       "      <td> NaN</td>\n",
       "      <td> NaN</td>\n",
       "    </tr>\n",
       "    <tr>\n",
       "      <th>15</th>\n",
       "      <td> 0.025775</td>\n",
       "      <td> 0.000104</td>\n",
       "      <td> 0</td>\n",
       "      <td> 0</td>\n",
       "      <td> 130834.835004</td>\n",
       "      <td>  -641.557522</td>\n",
       "      <td> 2927.562432</td>\n",
       "      <td> 188517.321727</td>\n",
       "      <td> 3369.288282</td>\n",
       "      <td> 2967.547353</td>\n",
       "      <td>...</td>\n",
       "      <td> 195.717063</td>\n",
       "      <td> 0.000017</td>\n",
       "      <td> 195.708252</td>\n",
       "      <td> 0</td>\n",
       "      <td>-2.725382</td>\n",
       "      <td> 0.008462</td>\n",
       "      <td> 114456.895563</td>\n",
       "      <td> NaN</td>\n",
       "      <td> NaN</td>\n",
       "      <td> NaN</td>\n",
       "    </tr>\n",
       "  </tbody>\n",
       "</table>\n",
       "<p>16 rows × 22 columns</p>\n",
       "</div>"
      ],
      "text/plain": [
       "    resonator_A_mag  resonator_A_mag_error  resonator_A_phase  \\\n",
       "0          0.047544               0.000042                  0   \n",
       "1          0.046428               0.000082                  0   \n",
       "2          0.047131               0.000044                  0   \n",
       "3          0.046243               0.000079                  0   \n",
       "4          0.044679               0.000060                  0   \n",
       "5          0.043443               0.000100                  0   \n",
       "6          0.039886               0.000097                  0   \n",
       "7          0.039865               0.000062                  0   \n",
       "8          0.036289               0.000080                  0   \n",
       "9          0.036222               0.000085                  0   \n",
       "10         0.036278               0.000055                  0   \n",
       "11         0.032753               0.000132                  0   \n",
       "12         0.031517               0.000048                  0   \n",
       "13         0.029021               0.000121                  0   \n",
       "14         0.028665               0.000035                  0   \n",
       "15         0.025775               0.000104                  0   \n",
       "\n",
       "    resonator_A_phase_error    resonator_Q  resonator_Q_e_imag  \\\n",
       "0                         0   59060.988223        31493.402448   \n",
       "1                         0   85082.229750        27402.212391   \n",
       "2                         0   89281.567140        32315.265220   \n",
       "3                         0   95629.842704        34430.276286   \n",
       "4                         0  106764.119657        36452.550681   \n",
       "5                         0   87960.986491        16876.976186   \n",
       "6                         0  116222.183438        25443.998073   \n",
       "7                         0  109732.541575        18152.115412   \n",
       "8                         0   42632.085446        10257.845051   \n",
       "9                         0   42311.850315         7442.286920   \n",
       "10                        0  127562.092261        29776.153687   \n",
       "11                        0  107122.050020        48330.413044   \n",
       "12                        0   26789.516385       -10586.810359   \n",
       "13                        0  121668.324325        43306.911045   \n",
       "14                        0   21365.697286        -8384.636862   \n",
       "15                        0  130834.835004         -641.557522   \n",
       "\n",
       "    resonator_Q_e_imag_error  resonator_Q_e_real  resonator_Q_e_real_error  \\\n",
       "0                 317.030611        83168.121243                326.129790   \n",
       "1                 753.187937       104924.178848                817.704294   \n",
       "2                 342.014104        98374.289280                365.475185   \n",
       "3                 877.679785       120600.407649                949.938450   \n",
       "4                 640.840557       120068.732438                680.880316   \n",
       "5                 918.216385       111325.324843               1041.374508   \n",
       "6                1529.413114       153818.724483               1704.974276   \n",
       "7                 885.353076       148326.872078                997.412677   \n",
       "8                 227.430055        47487.857474                267.187555   \n",
       "9                 226.077339        47920.093993                279.964874   \n",
       "10                809.600356       149793.520514                895.496947   \n",
       "11               2058.817407       129911.552521               2156.103650   \n",
       "12                 75.470492        25232.887054                 66.244832   \n",
       "13               2974.087796       171423.459865               3247.970464   \n",
       "14                 44.531578        19697.625929                 34.061259   \n",
       "15               2927.562432       188517.321727               3369.288282   \n",
       "\n",
       "    resonator_Q_error    ...     resonator_f_0  resonator_f_0_error  \\\n",
       "0          275.520719    ...         96.067043             0.000004   \n",
       "1          847.201771    ...        101.964777             0.000006   \n",
       "2          425.643089    ...        108.867062             0.000003   \n",
       "3          980.087662    ...        112.265008             0.000006   \n",
       "4          784.116035    ...        117.274849             0.000004   \n",
       "5         1056.114730    ...        127.789184             0.000008   \n",
       "6         1666.416692    ...        144.192608             0.000009   \n",
       "7          934.179253    ...        148.249792             0.000006   \n",
       "8          270.649839    ...        164.087681             0.000011   \n",
       "9          277.700727    ...        164.378872             0.000011   \n",
       "10         992.676176    ...        165.412580             0.000005   \n",
       "11        2179.822078    ...        174.960461             0.000016   \n",
       "12          81.018765    ...        178.945647             0.000008   \n",
       "13        2865.943788    ...        184.558668             0.000017   \n",
       "14          45.339198    ...        188.867190             0.000008   \n",
       "15        2967.547353    ...        195.717063             0.000017   \n",
       "\n",
       "    resonator_f_phi  resonator_f_phi_error  resonator_phi  \\\n",
       "0         96.058350                      0      -1.879661   \n",
       "1        101.956055                      0       0.658829   \n",
       "2        108.858398                      0       0.688189   \n",
       "3        112.256348                      0       1.491291   \n",
       "4        117.266113                      0       2.618666   \n",
       "5        127.780518                      0       0.655643   \n",
       "6        144.183838                      0      -2.396834   \n",
       "7        148.241211                      0       3.108777   \n",
       "8        164.079102                      0       1.182809   \n",
       "9        164.370361                      0      -2.342012   \n",
       "10       165.404053                      0       0.470821   \n",
       "11       174.951660                      0      -3.042915   \n",
       "12       178.937012                      0      -1.106057   \n",
       "13       184.550049                      0       1.118589   \n",
       "14       188.858398                      0      -0.435812   \n",
       "15       195.708252                      0      -2.725382   \n",
       "\n",
       "    resonator_phi_error  resonator_redchi  io_class  root_path node_path  \n",
       "0              0.001798      12127.331591       NaN        NaN       NaN  \n",
       "1              0.003804      55250.096971       NaN        NaN       NaN  \n",
       "2              0.001981      14381.613784       NaN        NaN       NaN  \n",
       "3              0.003777      48649.752164       NaN        NaN       NaN  \n",
       "4              0.002875      29281.990321       NaN        NaN       NaN  \n",
       "5              0.004792      66891.569429       NaN        NaN       NaN  \n",
       "6              0.005160      70828.262703       NaN        NaN       NaN  \n",
       "7              0.003380      25083.172565       NaN        NaN       NaN  \n",
       "8              0.004020      21178.034467       NaN        NaN       NaN  \n",
       "9              0.004165      22112.378636       NaN        NaN       NaN  \n",
       "10             0.003205      20156.958564       NaN        NaN       NaN  \n",
       "11             0.008337     123924.006044       NaN        NaN       NaN  \n",
       "12             0.002063       3279.394307       NaN        NaN       NaN  \n",
       "13             0.008799     126033.341968       NaN        NaN       NaN  \n",
       "14             0.001418        955.705039       NaN        NaN       NaN  \n",
       "15             0.008462     114456.895563       NaN        NaN       NaN  \n",
       "\n",
       "[16 rows x 22 columns]"
      ]
     },
     "execution_count": 6,
     "metadata": {},
     "output_type": "execute_result"
    }
   ],
   "source": [
    "ssa_off.to_dataframe()"
   ]
  },
  {
   "cell_type": "code",
   "execution_count": 7,
   "metadata": {
    "collapsed": false
   },
   "outputs": [
    {
     "data": {
      "image/png": "[encoded data removed]",
      "text/plain": [
       "<matplotlib.figure.Figure at 0x70c5090>"
      ]
     },
     "metadata": {},
     "output_type": "display_data"
    }
   ],
   "source": [
    "df_off = ssa_off.to_dataframe()\n",
    "df_on = ssa_on.to_dataframe()\n",
    "plt.plot(df_off.resonator_f_0, 1e6 * (1 / df_off.resonator_Q - 1 / df_off.resonator_Q_e_real), '.', label='off')\n",
    "plt.plot(df_on.resonator_f_0, 1e6 * (1 / df_on.resonator_Q - 1 / df_on.resonator_Q_e_real), '.', label='on')\n",
    "plt.legend(loc='best', fontsize='xx-small');"
   ]
  },
  {
   "cell_type": "markdown",
   "metadata": {},
   "source": [
    "# Test read/write"
   ]
  },
  {
   "cell_type": "code",
   "execution_count": 8,
   "metadata": {
    "collapsed": true
   },
   "outputs": [],
   "source": [
    "name = 'sweepstreamarray'"
   ]
  },
  {
   "cell_type": "code",
   "execution_count": 9,
   "metadata": {
    "collapsed": false
   },
   "outputs": [],
   "source": [
    "directory = '/home/flanigan/temp/nc'\n",
    "nc_filename = 'test.nc'\n",
    "nc_root_path = os.path.join(directory, nc_filename)\n",
    "try:\n",
    "    os.remove(nc_root_path)\n",
    "except OSError:\n",
    "    print(\"Not deleted: {}\".format(nc_root_path))"
   ]
  },
  {
   "cell_type": "code",
   "execution_count": 11,
   "metadata": {
    "collapsed": false,
    "scrolled": false
   },
   "outputs": [
    {
     "name": "stdout",
     "output_type": "stream",
     "text": [
      "CPU times: user 96 ms, sys: 189 ms, total: 285 ms\n",
      "Wall time: 284 ms\n"
     ]
    }
   ],
   "source": [
    "nc_io = nc.IO(nc_root_path)\n",
    "%time core.write(ssa_off, nc_io, name)"
   ]
  },
  {
   "cell_type": "code",
   "execution_count": 12,
   "metadata": {
    "collapsed": false
   },
   "outputs": [
    {
     "name": "stdout",
     "output_type": "stream",
     "text": [
      "10 loops, best of 3: 117 ms per loop\n"
     ]
    }
   ],
   "source": [
    "nc_io = nc.IO(nc_root_path)\n",
    "%timeit core.read(nc_io, name, close=False)"
   ]
  },
  {
   "cell_type": "code",
   "execution_count": 13,
   "metadata": {
    "collapsed": true
   },
   "outputs": [],
   "source": [
    "!rm -r /home/flanigan/temp/npy"
   ]
  },
  {
   "cell_type": "code",
   "execution_count": 14,
   "metadata": {
    "collapsed": false
   },
   "outputs": [
    {
     "name": "stdout",
     "output_type": "stream",
     "text": [
      "CPU times: user 135 ms, sys: 188 ms, total: 323 ms\n",
      "Wall time: 324 ms\n"
     ]
    }
   ],
   "source": [
    "npy_root_path = '/home/flanigan/temp/npy'\n",
    "npy_io = npy.IO(npy_root_path)\n",
    "%time core.write(ssa_off, npy_io, name, close=False)"
   ]
  },
  {
   "cell_type": "code",
   "execution_count": 15,
   "metadata": {
    "collapsed": false
   },
   "outputs": [
    {
     "name": "stdout",
     "output_type": "stream",
     "text": [
      "10 loops, best of 3: 112 ms per loop\n"
     ]
    }
   ],
   "source": [
    "%timeit core.read(npy_io, name, close=False)"
   ]
  },
  {
   "cell_type": "code",
   "execution_count": 16,
   "metadata": {
    "collapsed": false
   },
   "outputs": [
    {
     "name": "stdout",
     "output_type": "stream",
     "text": [
      "10 loops, best of 3: 62.2 ms per loop\n"
     ]
    }
   ],
   "source": [
    "npy_io_memmap = npy.IO(npy_root_path, memmap=True)\n",
    "%timeit core.read(npy_io_memmap, name, close=False)"
   ]
  }
 ],
 "metadata": {
  "kernelspec": {
   "display_name": "Python 2",
   "language": "python",
   "name": "python2"
  },
  "language_info": {
   "codemirror_mode": {
    "name": "ipython",
    "version": 2
   },
   "file_extension": ".py",
   "mimetype": "text/x-python",
   "name": "python",
   "nbconvert_exporter": "python",
   "pygments_lexer": "ipython2",
   "version": "2.7.6"
  }
 },
 "nbformat": 4,
 "nbformat_minor": 0
}
