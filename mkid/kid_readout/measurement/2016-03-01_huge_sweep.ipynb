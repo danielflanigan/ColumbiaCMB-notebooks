{
 "cells": [
  {
   "cell_type": "code",
   "execution_count": 15,
   "metadata": {
    "collapsed": false
   },
   "outputs": [],
   "source": [
    "from kid_readout.measurement import core, legacy, multiple\n",
    "from kid_readout.measurement.io import nc, npy, readoutnc\n",
    "from kid_readout.analysis.resonator import plot_resonator"
   ]
  },
  {
   "cell_type": "code",
   "execution_count": 2,
   "metadata": {
    "collapsed": false
   },
   "outputs": [
    {
     "name": "stdout",
     "output_type": "stream",
     "text": [
      "CPU times: user 2.5 s, sys: 193 ms, total: 2.69 s\n",
      "Wall time: 2.7 s\n"
     ]
    }
   ],
   "source": [
    "nc_filename = '/data/readout/2016-02-19_103911_scan_lo_1010.0_MHz_mmw_on.nc'\n",
    "%time rnc = readoutnc.ReadoutNetCDF(nc_filename)"
   ]
  },
  {
   "cell_type": "code",
   "execution_count": 3,
   "metadata": {
    "collapsed": false
   },
   "outputs": [
    {
     "data": {
      "text/plain": [
       "[<kid_readout.measurement.io.readoutnc.SweepGroup at 0x4708410>]"
      ]
     },
     "execution_count": 3,
     "metadata": {},
     "output_type": "execute_result"
    }
   ],
   "source": [
    "rnc.sweeps"
   ]
  },
  {
   "cell_type": "code",
   "execution_count": 4,
   "metadata": {
    "collapsed": false
   },
   "outputs": [
    {
     "data": {
      "text/plain": [
       "[]"
      ]
     },
     "execution_count": 4,
     "metadata": {},
     "output_type": "execute_result"
    }
   ],
   "source": [
    "rnc.timestreams"
   ]
  },
  {
   "cell_type": "code",
   "execution_count": 5,
   "metadata": {
    "collapsed": false
   },
   "outputs": [
    {
     "name": "stdout",
     "output_type": "stream",
     "text": [
      "CPU times: user 1.43 s, sys: 713 ms, total: 2.14 s\n",
      "Wall time: 2.14 s\n"
     ]
    }
   ],
   "source": [
    "%time sweep = legacy.sweeparray_from_rnc(rnc, 0)"
   ]
  },
  {
   "cell_type": "code",
   "execution_count": 7,
   "metadata": {
    "collapsed": false
   },
   "outputs": [
    {
     "data": {
      "text/plain": [
       "256"
      ]
     },
     "execution_count": 7,
     "metadata": {},
     "output_type": "execute_result"
    }
   ],
   "source": [
    "len(sweep.stream_arrays)"
   ]
  },
  {
   "cell_type": "code",
   "execution_count": 16,
   "metadata": {
    "collapsed": false
   },
   "outputs": [],
   "source": [
    "def foo(tg):\n",
    "    tg_channel_order = tg.measurement_freq.argsort()\n",
    "    frequency = tg.measurement_freq[tg_channel_order]\n",
    "    # All the epoch and data_len_seconds values are the same. Assume regular sampling.\n",
    "    epoch = np.linspace(tg.epoch[0],\n",
    "                        tg.epoch[0] + tg.data_len_seconds[0],\n",
    "                        tg.num_data_samples)\n",
    "    s21 = tg.data[tg_channel_order, :]\n",
    "    state = {}\n",
    "    return multiple.StreamArray(frequency, epoch, s21, state)"
   ]
  },
  {
   "cell_type": "code",
   "execution_count": 18,
   "metadata": {
    "collapsed": false
   },
   "outputs": [
    {
     "name": "stdout",
     "output_type": "stream",
     "text": [
      "CPU times: user 324 ms, sys: 4.52 s, total: 4.85 s\n",
      "Wall time: 17.2 s\n"
     ]
    }
   ],
   "source": [
    "%time tg_sa = foo(rnc.sweeps[0].timestream_group)"
   ]
  },
  {
   "cell_type": "code",
   "execution_count": 19,
   "metadata": {
    "collapsed": false
   },
   "outputs": [
    {
     "data": {
      "text/plain": [
       "(32768, 8192)"
      ]
     },
     "execution_count": 19,
     "metadata": {},
     "output_type": "execute_result"
    }
   ],
   "source": [
    "tg_sa.s21.shape"
   ]
  }
 ],
 "metadata": {
  "kernelspec": {
   "display_name": "Python 2",
   "language": "python",
   "name": "python2"
  },
  "language_info": {
   "codemirror_mode": {
    "name": "ipython",
    "version": 2
   },
   "file_extension": ".py",
   "mimetype": "text/x-python",
   "name": "python",
   "nbconvert_exporter": "python",
   "pygments_lexer": "ipython2",
   "version": "2.7.6"
  }
 },
 "nbformat": 4,
 "nbformat_minor": 0
}
