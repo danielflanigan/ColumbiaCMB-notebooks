{
 "cells": [
  {
   "cell_type": "code",
   "execution_count": 1,
   "metadata": {
    "collapsed": true
   },
   "outputs": [],
   "source": [
    "import glob\n",
    "from kid_readout.measurement.io import nc\n",
    "from kid_readout.measurement import mmw_source_sweep, temperature"
   ]
  },
  {
   "cell_type": "code",
   "execution_count": 2,
   "metadata": {
    "collapsed": false
   },
   "outputs": [],
   "source": [
    "nc_filename = '/data/readout/2016-04-20_044055_off_on_modulated_10_dB_dac.nc'\n",
    "#nc_filename = '/data/readout/2016-04-23_231033_off_on_modulated_broadband_2_dB_dac.nc'\n",
    "ncf = nc.NCFile(nc_filename)"
   ]
  },
  {
   "cell_type": "code",
   "execution_count": 3,
   "metadata": {
    "collapsed": false
   },
   "outputs": [
    {
     "data": {
      "text/plain": [
       "[u'SweepArray0', u'StreamArray1', u'StreamArray2']"
      ]
     },
     "execution_count": 3,
     "metadata": {},
     "output_type": "execute_result"
    }
   ],
   "source": [
    "ncf.measurement_names()"
   ]
  },
  {
   "cell_type": "code",
   "execution_count": 4,
   "metadata": {
    "collapsed": false
   },
   "outputs": [
    {
     "ename": "AttributeError",
     "evalue": "'MMWSweepOnMod' object has no attribute 'add_measurement'",
     "output_type": "error",
     "traceback": [
      "\u001b[1;31m---------------------------------------------------------------------------\u001b[0m",
      "\u001b[1;31mAttributeError\u001b[0m                            Traceback (most recent call last)",
      "\u001b[1;32m<ipython-input-4-ef09a24236e5>\u001b[0m in \u001b[0;36m<module>\u001b[1;34m()\u001b[0m\n\u001b[0;32m      2\u001b[0m                                      \u001b[0moff_stream\u001b[0m\u001b[1;33m=\u001b[0m\u001b[0mNone\u001b[0m\u001b[1;33m,\u001b[0m  \u001b[1;31m#ncf.StreamArray1,\u001b[0m\u001b[1;33m\u001b[0m\u001b[0m\n\u001b[0;32m      3\u001b[0m                                      \u001b[0mon_stream\u001b[0m\u001b[1;33m=\u001b[0m\u001b[0mncf\u001b[0m\u001b[1;33m.\u001b[0m\u001b[0mStreamArray1\u001b[0m\u001b[1;33m,\u001b[0m  \u001b[1;31m# ncf.StreamArray2,\u001b[0m\u001b[1;33m\u001b[0m\u001b[0m\n\u001b[1;32m----> 4\u001b[1;33m                                      mod_stream=ncf.StreamArray2)  #ncf.StreamArray3)\n\u001b[0m",
      "\u001b[1;32m/home/flanigan/readout/kid_readout/kid_readout/measurement/mmw_source_sweep.pyc\u001b[0m in \u001b[0;36m__init__\u001b[1;34m(self, sweep, off_stream, on_stream, mod_stream, state, description)\u001b[0m\n\u001b[0;32m    164\u001b[0m \u001b[1;33m\u001b[0m\u001b[0m\n\u001b[0;32m    165\u001b[0m     \u001b[1;32mdef\u001b[0m \u001b[0m__init__\u001b[0m\u001b[1;33m(\u001b[0m\u001b[0mself\u001b[0m\u001b[1;33m,\u001b[0m \u001b[0msweep\u001b[0m\u001b[1;33m,\u001b[0m \u001b[0moff_stream\u001b[0m\u001b[1;33m,\u001b[0m \u001b[0mon_stream\u001b[0m\u001b[1;33m,\u001b[0m \u001b[0mmod_stream\u001b[0m\u001b[1;33m,\u001b[0m \u001b[0mstate\u001b[0m\u001b[1;33m=\u001b[0m\u001b[0mNone\u001b[0m\u001b[1;33m,\u001b[0m \u001b[0mdescription\u001b[0m\u001b[1;33m=\u001b[0m\u001b[1;34m''\u001b[0m\u001b[1;33m)\u001b[0m\u001b[1;33m:\u001b[0m\u001b[1;33m\u001b[0m\u001b[0m\n\u001b[1;32m--> 166\u001b[1;33m         \u001b[0mself\u001b[0m\u001b[1;33m.\u001b[0m\u001b[0msweep\u001b[0m \u001b[1;33m=\u001b[0m \u001b[0mself\u001b[0m\u001b[1;33m.\u001b[0m\u001b[0madd_measurement\u001b[0m\u001b[1;33m(\u001b[0m\u001b[0msweep\u001b[0m\u001b[1;33m)\u001b[0m\u001b[1;33m\u001b[0m\u001b[0m\n\u001b[0m\u001b[0;32m    167\u001b[0m         \u001b[0mself\u001b[0m\u001b[1;33m.\u001b[0m\u001b[0mon_stream\u001b[0m \u001b[1;33m=\u001b[0m \u001b[0mself\u001b[0m\u001b[1;33m.\u001b[0m\u001b[0madd_measurement\u001b[0m\u001b[1;33m(\u001b[0m\u001b[0mon_stream\u001b[0m\u001b[1;33m)\u001b[0m\u001b[1;33m\u001b[0m\u001b[0m\n\u001b[0;32m    168\u001b[0m         \u001b[0mself\u001b[0m\u001b[1;33m.\u001b[0m\u001b[0mmod_stream\u001b[0m \u001b[1;33m=\u001b[0m \u001b[0mself\u001b[0m\u001b[1;33m.\u001b[0m\u001b[0madd_measurement\u001b[0m\u001b[1;33m(\u001b[0m\u001b[0mmod_stream\u001b[0m\u001b[1;33m)\u001b[0m\u001b[1;33m\u001b[0m\u001b[0m\n",
      "\u001b[1;31mAttributeError\u001b[0m: 'MMWSweepOnMod' object has no attribute 'add_measurement'"
     ]
    }
   ],
   "source": [
    "mmw = mmw_source_sweep.MMWSweepOnMod(sweep=ncf.SweepArray0,\n",
    "                                     off_stream=None,  #ncf.StreamArray1,\n",
    "                                     on_stream=ncf.StreamArray1,  # ncf.StreamArray2,\n",
    "                                     mod_stream=ncf.StreamArray2)  #ncf.StreamArray3)"
   ]
  },
  {
   "cell_type": "code",
   "execution_count": null,
   "metadata": {
    "collapsed": false
   },
   "outputs": [],
   "source": [
    "df = mmw.to_dataframe()"
   ]
  },
  {
   "cell_type": "code",
   "execution_count": null,
   "metadata": {
    "collapsed": true
   },
   "outputs": [],
   "source": [
    "# from Glenn's notebook\n",
    "def process_one(fn):\n",
    "    ncf = nc.NCFile(fn)\n",
    "    off_stream = None\n",
    "    on_stream = None\n",
    "    sweep = None\n",
    "    mod_stream = None\n",
    "    for name in ncf.measurement_names():\n",
    "        meas = ncf.read(name)\n",
    "        if name.startswith('Sweep'):\n",
    "            sweep = meas\n",
    "        else:\n",
    "            modulation = meas.stream(0).roach_state.modulation_output \n",
    "            #print name, modulation\n",
    "            if modulation == 0:\n",
    "                on_stream = meas\n",
    "            elif modulation == 1:\n",
    "                off_stream = meas\n",
    "            elif modulation == 2:\n",
    "                mod_stream = meas\n",
    "    if on_stream is None:\n",
    "        on_stream = off_stream\n",
    "        off_stream = None\n",
    "    if on_stream is not None:\n",
    "        meas = mmw_source_sweep.MMWSweepOnMod(ncf.SweepArray0,on_stream = on_stream, off_stream = off_stream, mod_stream = mod_stream)\n",
    "        temperature.add_temperature(meas,'starcryo',recursive=True)\n",
    "        rows = meas.to_dataframe(add_origin=True)\n",
    "    else:\n",
    "        rows = None\n",
    "    ncf.close()\n",
    "    return rows"
   ]
  },
  {
   "cell_type": "code",
   "execution_count": null,
   "metadata": {
    "collapsed": false,
    "scrolled": false
   },
   "outputs": [],
   "source": [
    "df = process_one(nc_filename)"
   ]
  },
  {
   "cell_type": "code",
   "execution_count": null,
   "metadata": {
    "collapsed": true
   },
   "outputs": [],
   "source": []
  }
 ],
 "metadata": {
  "kernelspec": {
   "display_name": "Python 2",
   "language": "python",
   "name": "python2"
  },
  "language_info": {
   "codemirror_mode": {
    "name": "ipython",
    "version": 2
   },
   "file_extension": ".py",
   "mimetype": "text/x-python",
   "name": "python",
   "nbconvert_exporter": "python",
   "pygments_lexer": "ipython2",
   "version": "2.7.11"
  }
 },
 "nbformat": 4,
 "nbformat_minor": 0
}
