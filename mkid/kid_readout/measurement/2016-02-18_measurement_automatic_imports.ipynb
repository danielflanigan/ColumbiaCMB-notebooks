{
 "cells": [
  {
   "cell_type": "code",
   "execution_count": 1,
   "metadata": {
    "collapsed": true
   },
   "outputs": [],
   "source": [
    "import os"
   ]
  },
  {
   "cell_type": "code",
   "execution_count": 16,
   "metadata": {
    "collapsed": false
   },
   "outputs": [
    {
     "name": "stdout",
     "output_type": "stream",
     "text": [
      "test.py\n",
      "<module 'kid_readout.measure.measurements.test' from '/home/flanigan/kid_readout/kid_readout/measure/measurements/test.py'>\n",
      "['__builtins__', '__file__', '__package__', 'Measurement', '__name__', '__doc__', 'TestMeasurement']\n"
     ]
    },
    {
     "data": {
      "text/plain": [
       "<module 'kid_readout.measure.measurement' from '/home/flanigan/kid_readout/kid_readout/measure/measurement.pyc'>"
      ]
     },
     "execution_count": 16,
     "metadata": {},
     "output_type": "execute_result"
    }
   ],
   "source": [
    "reload(measurement)"
   ]
  },
  {
   "cell_type": "code",
   "execution_count": 17,
   "metadata": {
    "collapsed": false
   },
   "outputs": [
    {
     "data": {
      "text/plain": [
       "kid_readout.measure.measurements.test.TestMeasurement"
      ]
     },
     "execution_count": 17,
     "metadata": {},
     "output_type": "execute_result"
    }
   ],
   "source": [
    "measurement.get_class('TestMeasurement')"
   ]
  },
  {
   "cell_type": "code",
   "execution_count": 3,
   "metadata": {
    "collapsed": true
   },
   "outputs": [],
   "source": [
    "__file__ = '/home/flanigan/kid_readout/kid_readout/measure'\n",
    "package_path = os.path.join(__file__, 'measurements')"
   ]
  },
  {
   "cell_type": "code",
   "execution_count": null,
   "metadata": {
    "collapsed": true
   },
   "outputs": [],
   "source": [
    "exports = []\n",
    "globals_ = globals()\n",
    "package_path = os.path.dirname(__file__)\n",
    "package_name = os.path.basename(package_path)\n",
    "    \n",
    "for filename in os.listdir(package_path):\n",
    "    modulename, ext = os.path.splitext(filename)\n",
    "    if modulename[0] != '_' and ext in ('.py', '.pyw'):\n",
    "        # create a package relative subpackage name\n",
    "        subpackage = '{}.{}'.format(package_name, modulename)\n",
    "        module = __import__(subpackage, globals_, locals_, [modulename])\n",
    "        modict = module.__dict__\n",
    "        names = (modict['__all__'] if '__all__' in modict else\n",
    "                 [name for name in modict if name[0] != '_'])  # public names\n",
    "        exports.extend(names)\n",
    "        globals_.update((name, modict[name]) for name in names)"
   ]
  }
 ],
 "metadata": {
  "kernelspec": {
   "display_name": "Python 2",
   "language": "python",
   "name": "python2"
  },
  "language_info": {
   "codemirror_mode": {
    "name": "ipython",
    "version": 2
   },
   "file_extension": ".py",
   "mimetype": "text/x-python",
   "name": "python",
   "nbconvert_exporter": "python",
   "pygments_lexer": "ipython2",
   "version": "2.7.6"
  }
 },
 "nbformat": 4,
 "nbformat_minor": 0
}
