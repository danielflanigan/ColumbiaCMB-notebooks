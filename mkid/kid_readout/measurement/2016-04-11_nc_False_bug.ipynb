{
 "cells": [
  {
   "cell_type": "code",
   "execution_count": 1,
   "metadata": {
    "collapsed": false
   },
   "outputs": [],
   "source": [
    "from testfixtures import TempDirectory\n",
    "from kid_readout.measurement.io import nc\n",
    "from kid_readout.measurement.test import utilities"
   ]
  },
  {
   "cell_type": "code",
   "execution_count": 2,
   "metadata": {
    "collapsed": false
   },
   "outputs": [
    {
     "data": {
      "text/plain": [
       "'_True'"
      ]
     },
     "execution_count": 2,
     "metadata": {},
     "output_type": "execute_result"
    }
   ],
   "source": [
    "nc.IO.on_write.get(1)"
   ]
  },
  {
   "cell_type": "code",
   "execution_count": 3,
   "metadata": {
    "collapsed": false
   },
   "outputs": [
    {
     "data": {
      "text/plain": [
       "True"
      ]
     },
     "execution_count": 3,
     "metadata": {},
     "output_type": "execute_result"
    }
   ],
   "source": [
    "1 == True"
   ]
  },
  {
   "cell_type": "code",
   "execution_count": 4,
   "metadata": {
    "collapsed": false
   },
   "outputs": [
    {
     "data": {
      "text/plain": [
       "True"
      ]
     },
     "execution_count": 4,
     "metadata": {},
     "output_type": "execute_result"
    }
   ],
   "source": [
    "1. == True"
   ]
  },
  {
   "cell_type": "code",
   "execution_count": 5,
   "metadata": {
    "collapsed": false
   },
   "outputs": [
    {
     "data": {
      "text/plain": [
       "False"
      ]
     },
     "execution_count": 5,
     "metadata": {},
     "output_type": "execute_result"
    }
   ],
   "source": [
    "2 == True"
   ]
  },
  {
   "cell_type": "code",
   "execution_count": 6,
   "metadata": {
    "collapsed": false
   },
   "outputs": [
    {
     "data": {
      "text/plain": [
       "True"
      ]
     },
     "execution_count": 6,
     "metadata": {},
     "output_type": "execute_result"
    }
   ],
   "source": [
    "0 == False"
   ]
  },
  {
   "cell_type": "code",
   "execution_count": 7,
   "metadata": {
    "collapsed": false
   },
   "outputs": [
    {
     "data": {
      "text/plain": [
       "True"
      ]
     },
     "execution_count": 7,
     "metadata": {},
     "output_type": "execute_result"
    }
   ],
   "source": [
    "-0 == False"
   ]
  },
  {
   "cell_type": "code",
   "execution_count": 8,
   "metadata": {
    "collapsed": false
   },
   "outputs": [],
   "source": [
    "with TempDirectory() as d:\n",
    "    m = utilities.get_measurement()\n",
    "    name = 'Measurement'\n",
    "    ncio = nc.IO(d.path + 'test.nc')\n",
    "    ncio.write(m, name)\n",
    "    mr = ncio.read(name)"
   ]
  },
  {
   "cell_type": "code",
   "execution_count": 9,
   "metadata": {
    "collapsed": false
   },
   "outputs": [
    {
     "data": {
      "text/plain": [
       "True"
      ]
     },
     "execution_count": 9,
     "metadata": {},
     "output_type": "execute_result"
    }
   ],
   "source": [
    "m == mr"
   ]
  },
  {
   "cell_type": "code",
   "execution_count": 10,
   "metadata": {
    "collapsed": false
   },
   "outputs": [
    {
     "data": {
      "text/plain": [
       "True"
      ]
     },
     "execution_count": 10,
     "metadata": {},
     "output_type": "execute_result"
    }
   ],
   "source": [
    "m.state == mr.state"
   ]
  },
  {
   "cell_type": "code",
   "execution_count": 11,
   "metadata": {
    "collapsed": false
   },
   "outputs": [
    {
     "data": {
      "text/plain": [
       "{u'False': False,\n",
       " u'None': None,\n",
       " u'True': True,\n",
       " 'bool_list': [False, True, False],\n",
       " 'dict_dict': {u'1': 1,\n",
       "  'dict': {u'False': False, u'None': None, 'another_dict': {}}},\n",
       " 'empty_list': [],\n",
       " 'float_list': [-0.10000000000000001, 1.0, 3.1415926535897931],\n",
       " 'int_list': [-1, 0, 1, 2],\n",
       " 'list_dict': {'bool_list': [False, True, False],\n",
       "  'empty_list': [],\n",
       "  'float_list': [-0.10000000000000001, 1.0, 3.1415926535897931],\n",
       "  'int_list': [-1, 0, 1, 2],\n",
       "  'str_list': [u'zero', u'one', u'two', u'']},\n",
       " u'minus_one_float': -1.0,\n",
       " u'minus_one_int': -1,\n",
       " 'none_dict': {u'None': None},\n",
       " u'one_float': 1.0,\n",
       " u'one_int': 1,\n",
       " 'str_list': [u'zero', u'one', u'two', u''],\n",
       " u'two_float': 2.0,\n",
       " u'two_int': 2,\n",
       " u'zero_float': 0.0,\n",
       " u'zero_int': 0}"
      ]
     },
     "execution_count": 11,
     "metadata": {},
     "output_type": "execute_result"
    }
   ],
   "source": [
    "mr.state"
   ]
  },
  {
   "cell_type": "code",
   "execution_count": 12,
   "metadata": {
    "collapsed": false
   },
   "outputs": [
    {
     "data": {
      "text/plain": [
       "{'_io_class': None,\n",
       " '_node_path': None,\n",
       " '_parent': None,\n",
       " '_root_path': None,\n",
       " 'bool_list': [False, True, False],\n",
       " 'description': 'Measurement',\n",
       " 'dict_dict': {'1': 1,\n",
       "  'dict': {'False': False, 'None': None, 'another_dict': {}}},\n",
       " 'empty_list': [],\n",
       " 'float_list': [-0.1, 1, 3.141592653589793],\n",
       " 'int_list': [-1, 0, 1, 2],\n",
       " 'list_dict': {'bool_list': [False, True, False],\n",
       "  'empty_list': [],\n",
       "  'float_list': [-0.1, 1, 3.141592653589793],\n",
       "  'int_list': [-1, 0, 1, 2],\n",
       "  'str_list': ['zero', 'one', 'two', '']},\n",
       " 'minus_one_float': -1.0,\n",
       " 'minus_one_int': -1,\n",
       " 'none_dict': {'None': None},\n",
       " 'one_float': 1.0,\n",
       " 'one_int': 1,\n",
       " 'state': {'False': False,\n",
       "  'None': None,\n",
       "  'True': True,\n",
       "  'bool_list': [False, True, False],\n",
       "  'dict_dict': {'1': 1,\n",
       "   'dict': {'False': False, 'None': None, 'another_dict': {}}},\n",
       "  'empty_list': [],\n",
       "  'float_list': [-0.1, 1, 3.141592653589793],\n",
       "  'int_list': [-1, 0, 1, 2],\n",
       "  'list_dict': {'bool_list': [False, True, False],\n",
       "   'empty_list': [],\n",
       "   'float_list': [-0.1, 1, 3.141592653589793],\n",
       "   'int_list': [-1, 0, 1, 2],\n",
       "   'str_list': ['zero', 'one', 'two', '']},\n",
       "  'minus_one_float': -1.0,\n",
       "  'minus_one_int': -1,\n",
       "  'none_dict': {'None': None},\n",
       "  'one_float': 1.0,\n",
       "  'one_int': 1,\n",
       "  'str_list': ['zero', 'one', 'two', ''],\n",
       "  'two_float': 2.0,\n",
       "  'two_int': 2,\n",
       "  'zero_float': 0.0,\n",
       "  'zero_int': 0},\n",
       " 'str_list': ['zero', 'one', 'two', ''],\n",
       " 'two_float': 2.0,\n",
       " 'two_int': 2,\n",
       " 'zero_float': 0.0,\n",
       " 'zero_int': 0}"
      ]
     },
     "execution_count": 12,
     "metadata": {},
     "output_type": "execute_result"
    }
   ],
   "source": [
    "m.__dict__"
   ]
  },
  {
   "cell_type": "code",
   "execution_count": 13,
   "metadata": {
    "collapsed": false
   },
   "outputs": [
    {
     "data": {
      "text/plain": [
       "{'_class': u'kid_readout.measurement.core.Measurement',\n",
       " '_io_class': 'kid_readout.measurement.io.nc.IO',\n",
       " '_node_path': 'Measurement',\n",
       " '_parent': None,\n",
       " '_root_path': '/tmp/tmp3g0XxXtest.nc',\n",
       " 'bool_list': [False, True, False],\n",
       " 'description': u'Measurement',\n",
       " 'dict_dict': {u'1': 1,\n",
       "  'dict': {u'False': False, u'None': None, 'another_dict': {}}},\n",
       " 'empty_list': [],\n",
       " 'float_list': [-0.10000000000000001, 1.0, 3.1415926535897931],\n",
       " 'int_list': [-1, 0, 1, 2],\n",
       " 'list_dict': {'bool_list': [False, True, False],\n",
       "  'empty_list': [],\n",
       "  'float_list': [-0.10000000000000001, 1.0, 3.1415926535897931],\n",
       "  'int_list': [-1, 0, 1, 2],\n",
       "  'str_list': [u'zero', u'one', u'two', u'']},\n",
       " 'minus_one_float': -1.0,\n",
       " 'minus_one_int': -1,\n",
       " 'none_dict': {u'None': None},\n",
       " 'one_float': 1.0,\n",
       " 'one_int': 1,\n",
       " 'state': {u'False': False,\n",
       "  u'None': None,\n",
       "  u'True': True,\n",
       "  'bool_list': [False, True, False],\n",
       "  'dict_dict': {u'1': 1,\n",
       "   'dict': {u'False': False, u'None': None, 'another_dict': {}}},\n",
       "  'empty_list': [],\n",
       "  'float_list': [-0.10000000000000001, 1.0, 3.1415926535897931],\n",
       "  'int_list': [-1, 0, 1, 2],\n",
       "  'list_dict': {'bool_list': [False, True, False],\n",
       "   'empty_list': [],\n",
       "   'float_list': [-0.10000000000000001, 1.0, 3.1415926535897931],\n",
       "   'int_list': [-1, 0, 1, 2],\n",
       "   'str_list': [u'zero', u'one', u'two', u'']},\n",
       "  u'minus_one_float': -1.0,\n",
       "  u'minus_one_int': -1,\n",
       "  'none_dict': {u'None': None},\n",
       "  u'one_float': 1.0,\n",
       "  u'one_int': 1,\n",
       "  'str_list': [u'zero', u'one', u'two', u''],\n",
       "  u'two_float': 2.0,\n",
       "  u'two_int': 2,\n",
       "  u'zero_float': 0.0,\n",
       "  u'zero_int': 0},\n",
       " 'str_list': [u'zero', u'one', u'two', u''],\n",
       " 'two_float': 2.0,\n",
       " 'two_int': 2,\n",
       " 'zero_float': 0.0,\n",
       " 'zero_int': 0}"
      ]
     },
     "execution_count": 13,
     "metadata": {},
     "output_type": "execute_result"
    }
   ],
   "source": [
    "mr.__dict__"
   ]
  },
  {
   "cell_type": "code",
   "execution_count": 14,
   "metadata": {
    "collapsed": false
   },
   "outputs": [
    {
     "data": {
      "text/plain": [
       "True"
      ]
     },
     "execution_count": 14,
     "metadata": {},
     "output_type": "execute_result"
    }
   ],
   "source": [
    "[1] == [True]"
   ]
  },
  {
   "cell_type": "code",
   "execution_count": 17,
   "metadata": {
    "collapsed": false
   },
   "outputs": [
    {
     "data": {
      "text/plain": [
       "True"
      ]
     },
     "execution_count": 17,
     "metadata": {},
     "output_type": "execute_result"
    }
   ],
   "source": [
    "0 + 0j == False"
   ]
  },
  {
   "cell_type": "code",
   "execution_count": null,
   "metadata": {
    "collapsed": true
   },
   "outputs": [],
   "source": []
  }
 ],
 "metadata": {
  "kernelspec": {
   "display_name": "Python 2",
   "language": "python",
   "name": "python2"
  },
  "language_info": {
   "codemirror_mode": {
    "name": "ipython",
    "version": 2
   },
   "file_extension": ".py",
   "mimetype": "text/x-python",
   "name": "python",
   "nbconvert_exporter": "python",
   "pygments_lexer": "ipython2",
   "version": "2.7.11"
  }
 },
 "nbformat": 4,
 "nbformat_minor": 0
}
