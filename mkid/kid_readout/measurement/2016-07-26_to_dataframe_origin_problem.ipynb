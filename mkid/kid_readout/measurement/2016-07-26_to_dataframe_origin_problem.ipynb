{
 "cells": [
  {
   "cell_type": "markdown",
   "metadata": {},
   "source": [
    "The origin information was not being propagated in SweepStreamArray.to_dataframe() because the private attributes `_io` and `_io_node_path` of the single-channel objects were not set by `__getitem__()`."
   ]
  },
  {
   "cell_type": "code",
   "execution_count": 1,
   "metadata": {
    "collapsed": true
   },
   "outputs": [],
   "source": [
    "from kid_readout.measurement import core\n",
    "from kid_readout.measurement.io import nc"
   ]
  },
  {
   "cell_type": "code",
   "execution_count": 2,
   "metadata": {
    "collapsed": true
   },
   "outputs": [],
   "source": [
    "ncf = nc.NCFile('/data/readout/2016-07-25_143431_magnet_array.nc')"
   ]
  },
  {
   "cell_type": "code",
   "execution_count": 3,
   "metadata": {
    "collapsed": false
   },
   "outputs": [
    {
     "data": {
      "text/plain": [
       "[u'SweepArray0',\n",
       " u'SweepStreamArray1',\n",
       " u'ADCSnap2',\n",
       " u'SweepArray3',\n",
       " u'SweepStreamArray4',\n",
       " u'ADCSnap5',\n",
       " u'SweepArray6',\n",
       " u'SweepStreamArray7',\n",
       " u'ADCSnap8',\n",
       " u'SweepArray9',\n",
       " u'SweepStreamArray10',\n",
       " u'ADCSnap11',\n",
       " u'SweepArray12',\n",
       " u'SweepStreamArray13',\n",
       " u'ADCSnap14',\n",
       " u'SweepArray15',\n",
       " u'SweepStreamArray16',\n",
       " u'ADCSnap17',\n",
       " u'SweepArray18',\n",
       " u'SweepStreamArray19',\n",
       " u'ADCSnap20']"
      ]
     },
     "execution_count": 3,
     "metadata": {},
     "output_type": "execute_result"
    }
   ],
   "source": [
    "ncf.node_names()"
   ]
  },
  {
   "cell_type": "code",
   "execution_count": 4,
   "metadata": {
    "collapsed": true
   },
   "outputs": [],
   "source": [
    "sa0 = ncf.read('SweepArray0')"
   ]
  },
  {
   "cell_type": "code",
   "execution_count": 5,
   "metadata": {
    "collapsed": true
   },
   "outputs": [],
   "source": [
    "df = sa0.to_dataframe()"
   ]
  },
  {
   "cell_type": "code",
   "execution_count": 12,
   "metadata": {
    "collapsed": false
   },
   "outputs": [
    {
     "data": {
      "text/plain": [
       "NCFile('/data/readout/2016-07-25_143431_magnet_array.nc')"
      ]
     },
     "execution_count": 12,
     "metadata": {},
     "output_type": "execute_result"
    }
   ],
   "source": [
    "sa0._io"
   ]
  },
  {
   "cell_type": "code",
   "execution_count": 13,
   "metadata": {
    "collapsed": false
   },
   "outputs": [
    {
     "data": {
      "text/plain": [
       "'SweepArray0'"
      ]
     },
     "execution_count": 13,
     "metadata": {},
     "output_type": "execute_result"
    }
   ],
   "source": [
    "sa0.io_node_path"
   ]
  },
  {
   "cell_type": "code",
   "execution_count": 14,
   "metadata": {
    "collapsed": false
   },
   "outputs": [
    {
     "data": {
      "text/plain": [
       "'SweepArray0'"
      ]
     },
     "execution_count": 14,
     "metadata": {},
     "output_type": "execute_result"
    }
   ],
   "source": [
    "sa0._io_node_path"
   ]
  },
  {
   "cell_type": "code",
   "execution_count": 15,
   "metadata": {
    "collapsed": false
   },
   "outputs": [
    {
     "data": {
      "text/plain": [
       "'NCFile'"
      ]
     },
     "execution_count": 15,
     "metadata": {},
     "output_type": "execute_result"
    }
   ],
   "source": [
    "sa0._io.__class__.__name__"
   ]
  },
  {
   "cell_type": "code",
   "execution_count": 16,
   "metadata": {
    "collapsed": false
   },
   "outputs": [
    {
     "data": {
      "text/plain": [
       "'/data/readout/2016-07-25_143431_magnet_array.nc'"
      ]
     },
     "execution_count": 16,
     "metadata": {},
     "output_type": "execute_result"
    }
   ],
   "source": [
    "sa0._io.root_path"
   ]
  },
  {
   "cell_type": "code",
   "execution_count": 17,
   "metadata": {
    "collapsed": false
   },
   "outputs": [
    {
     "data": {
      "text/plain": [
       "'SweepArray0'"
      ]
     },
     "execution_count": 17,
     "metadata": {},
     "output_type": "execute_result"
    }
   ],
   "source": [
    "sa0._io_node_path"
   ]
  },
  {
   "cell_type": "code",
   "execution_count": 6,
   "metadata": {
    "collapsed": false
   },
   "outputs": [
    {
     "data": {
      "text/plain": [
       "(4, 55)"
      ]
     },
     "execution_count": 6,
     "metadata": {},
     "output_type": "execute_result"
    }
   ],
   "source": [
    "df.shape"
   ]
  },
  {
   "cell_type": "code",
   "execution_count": 7,
   "metadata": {
    "collapsed": false,
    "scrolled": true
   },
   "outputs": [
    {
     "data": {
      "text/plain": [
       "['analysis_epoch',\n",
       " u'magnet_array_height_mm',\n",
       " u'magnet_array_orientation',\n",
       " 'number',\n",
       " 'res_A_mag',\n",
       " 'res_A_mag_error',\n",
       " 'res_A_slope',\n",
       " 'res_A_slope_error',\n",
       " 'res_Q',\n",
       " 'res_Q_e',\n",
       " 'res_Q_e_imag',\n",
       " 'res_Q_e_imag_error',\n",
       " 'res_Q_e_real',\n",
       " 'res_Q_e_real_error',\n",
       " 'res_Q_error',\n",
       " 'res_Q_i',\n",
       " 'res_delay',\n",
       " 'res_delay_error',\n",
       " 'res_f_0',\n",
       " 'res_f_0_error',\n",
       " 'res_f_min',\n",
       " 'res_f_min_error',\n",
       " 'res_frequency_data',\n",
       " 'res_model_frequency',\n",
       " 'res_model_s21',\n",
       " 'res_phi',\n",
       " 'res_phi_error',\n",
       " 'res_redchi',\n",
       " 'res_s21_data',\n",
       " 'res_s21_errors',\n",
       " 'roach_adc_sample_rate',\n",
       " 'roach_bank',\n",
       " 'roach_boffile',\n",
       " 'roach_dac_attenuation',\n",
       " 'roach_debug_register',\n",
       " 'roach_fft_shift_register',\n",
       " 'roach_heterodyne',\n",
       " 'roach_lo_frequency',\n",
       " 'roach_loopback',\n",
       " 'roach_modulation_output',\n",
       " 'roach_modulation_rate',\n",
       " 'roach_num_filterbank_channels',\n",
       " 'roach_num_tone_samples',\n",
       " 'roach_num_tones',\n",
       " 'roach_waveform_normalization',\n",
       " u'signal_conditioner_adc_chain_gain',\n",
       " u'signal_conditioner_dac_chain_gain',\n",
       " u'signal_conditioner_description',\n",
       " 'start_epoch',\n",
       " 'io_class',\n",
       " 'root_path',\n",
       " 'node_path',\n",
       " 'streams.io_class',\n",
       " 'streams.root_path',\n",
       " 'streams.node_path']"
      ]
     },
     "execution_count": 7,
     "metadata": {},
     "output_type": "execute_result"
    }
   ],
   "source": [
    "[c for c in df.columns]"
   ]
  },
  {
   "cell_type": "code",
   "execution_count": 8,
   "metadata": {
    "collapsed": false
   },
   "outputs": [
    {
     "data": {
      "text/plain": [
       "0    None\n",
       "1    None\n",
       "2    None\n",
       "3    None\n",
       "Name: io_class, dtype: object"
      ]
     },
     "execution_count": 8,
     "metadata": {},
     "output_type": "execute_result"
    }
   ],
   "source": [
    "df.io_class"
   ]
  },
  {
   "cell_type": "code",
   "execution_count": 9,
   "metadata": {
    "collapsed": false
   },
   "outputs": [
    {
     "data": {
      "text/plain": [
       "0    None\n",
       "1    None\n",
       "2    None\n",
       "3    None\n",
       "Name: root_path, dtype: object"
      ]
     },
     "execution_count": 9,
     "metadata": {},
     "output_type": "execute_result"
    }
   ],
   "source": [
    "df.root_path"
   ]
  },
  {
   "cell_type": "code",
   "execution_count": 10,
   "metadata": {
    "collapsed": false
   },
   "outputs": [
    {
     "data": {
      "text/plain": [
       "0    None\n",
       "1    None\n",
       "2    None\n",
       "3    None\n",
       "Name: node_path, dtype: object"
      ]
     },
     "execution_count": 10,
     "metadata": {},
     "output_type": "execute_result"
    }
   ],
   "source": [
    "df.node_path"
   ]
  },
  {
   "cell_type": "code",
   "execution_count": 11,
   "metadata": {
    "collapsed": false
   },
   "outputs": [
    {
     "data": {
      "text/plain": [
       "0    None\n",
       "1    None\n",
       "2    None\n",
       "3    None\n",
       "Name: streams.io_class, dtype: object"
      ]
     },
     "execution_count": 11,
     "metadata": {},
     "output_type": "execute_result"
    }
   ],
   "source": [
    "df['streams.io_class']"
   ]
  },
  {
   "cell_type": "code",
   "execution_count": 18,
   "metadata": {
    "collapsed": true
   },
   "outputs": [],
   "source": [
    "sa0.add_origin(df)"
   ]
  },
  {
   "cell_type": "code",
   "execution_count": 19,
   "metadata": {
    "collapsed": false
   },
   "outputs": [
    {
     "data": {
      "text/plain": [
       "0    NCFile\n",
       "1    NCFile\n",
       "2    NCFile\n",
       "3    NCFile\n",
       "Name: io_class, dtype: object"
      ]
     },
     "execution_count": 19,
     "metadata": {},
     "output_type": "execute_result"
    }
   ],
   "source": [
    "df.io_class"
   ]
  },
  {
   "cell_type": "code",
   "execution_count": 20,
   "metadata": {
    "collapsed": false
   },
   "outputs": [
    {
     "data": {
      "text/plain": [
       "0    0\n",
       "1    1\n",
       "2    2\n",
       "3    3\n",
       "Name: number, dtype: int64"
      ]
     },
     "execution_count": 20,
     "metadata": {},
     "output_type": "execute_result"
    }
   ],
   "source": [
    "df.number"
   ]
  },
  {
   "cell_type": "code",
   "execution_count": 24,
   "metadata": {
    "collapsed": false
   },
   "outputs": [
    {
     "data": {
      "text/plain": [
       "False"
      ]
     },
     "execution_count": 24,
     "metadata": {},
     "output_type": "execute_result"
    }
   ],
   "source": [
    "'blah' in df.iloc[0]"
   ]
  }
 ],
 "metadata": {
  "kernelspec": {
   "display_name": "Python 2: Analysis",
   "language": "python",
   "name": "analysis"
  },
  "language_info": {
   "codemirror_mode": {
    "name": "ipython",
    "version": 2
   },
   "file_extension": ".py",
   "mimetype": "text/x-python",
   "name": "python",
   "nbconvert_exporter": "python",
   "pygments_lexer": "ipython2",
   "version": "2.7.12"
  }
 },
 "nbformat": 4,
 "nbformat_minor": 0
}
