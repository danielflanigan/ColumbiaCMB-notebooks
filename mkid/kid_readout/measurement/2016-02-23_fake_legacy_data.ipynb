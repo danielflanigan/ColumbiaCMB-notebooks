{
 "cells": [
  {
   "cell_type": "code",
   "execution_count": 17,
   "metadata": {
    "collapsed": false
   },
   "outputs": [
    {
     "name": "stderr",
     "output_type": "stream",
     "text": [
      ":0: FutureWarning: IPython widgets are experimental and may change in the future.\n"
     ]
    }
   ],
   "source": [
    "from kid_readout.measurement.io import data_block, data_file, readoutnc\n",
    "from kid_readout.measurement.acquire import acquire"
   ]
  },
  {
   "cell_type": "code",
   "execution_count": null,
   "metadata": {
    "collapsed": true
   },
   "outputs": [],
   "source": [
    "def fake_block(n_channels=16, n_samples=2**15, data_step=10,\n",
    "               n_tone_samples=2**19, sample_frequency=512e6):\n",
    "    split_frequency = 128\n",
    "    nominal_frequency = np.linspace(100, 200, n_channels)\n",
    "    actual_frequency = acquire.round_frequencies(nominal_frequency, sample_frequency, n_tone_samples)\n",
    "    reverse = actual_frequency > split_frequency\n",
    "    roach_indices = np.concatenate((np.where(~reverse)[0], np.where(reverse)[0][::-1]))\n",
    "    tone_bins = np.arange(10, 10 + n_channels)[roach_indices]\n",
    "    fft_bins = np.arange(n_channels)[roach_indices]\n",
    "    data = (np.repeat(data_step * np.arange(n_channels).reshape((n_channels, 1)), n_samples, axis=1) +\n",
    "            np.random.randn(n_channels, n_samples), dtype=np.complex)\n",
    "    block = data_block.DataBlock(data, tone_bins, fftbins, )"
   ]
  },
  {
   "cell_type": "code",
   "execution_count": 2,
   "metadata": {
    "collapsed": true
   },
   "outputs": [],
   "source": [
    "df = data_file.DataFile(base_dir='/home/flanigan/temp', suffix='fake')"
   ]
  },
  {
   "cell_type": "code",
   "execution_count": 16,
   "metadata": {
    "collapsed": false
   },
   "outputs": [
    {
     "data": {
      "text/plain": [
       "array([ 100.        ,  106.66666667,  113.33333333,  120.        ,\n",
       "        126.66666667,  200.        ,  193.33333333,  186.66666667,\n",
       "        180.        ,  173.33333333,  166.66666667,  160.        ,\n",
       "        153.33333333,  146.66666667,  140.        ,  133.33333333])"
      ]
     },
     "execution_count": 16,
     "metadata": {},
     "output_type": "execute_result"
    }
   ],
   "source": [
    "n_channels = 16\n",
    "n_samples = 2**10\n",
    "data_step = 10\n",
    "frequency = np.linspace(100, 200, n_channels)\n",
    "split_frequency = 128\n",
    "reverse = frequency > split_frequency\n",
    "roach_indices = np.concatenate((np.where(~reverse)[0], np.where(reverse)[0][::-1]))\n",
    "frequency[roach_indices]"
   ]
  }
 ],
 "metadata": {
  "kernelspec": {
   "display_name": "Python 2",
   "language": "python",
   "name": "python2"
  },
  "language_info": {
   "codemirror_mode": {
    "name": "ipython",
    "version": 2
   },
   "file_extension": ".py",
   "mimetype": "text/x-python",
   "name": "python",
   "nbconvert_exporter": "python",
   "pygments_lexer": "ipython2",
   "version": "2.7.6"
  }
 },
 "nbformat": 4,
 "nbformat_minor": 0
}
