{
 "cells": [
  {
   "cell_type": "code",
   "execution_count": 1,
   "metadata": {
    "collapsed": false
   },
   "outputs": [
    {
     "name": "stdout",
     "output_type": "stream",
     "text": [
      "updated file list\n"
     ]
    }
   ],
   "source": [
    "from time import time\n",
    "import glob\n",
    "from kid_readout.equipment import starcryo_temps\n",
    "from kid_readout.analysis.resources import experiments\n",
    "from kid_readout.measurement import temperature, mmw_source_sweep\n",
    "from kid_readout.measurement.io import nc"
   ]
  },
  {
   "cell_type": "code",
   "execution_count": 2,
   "metadata": {
    "collapsed": false
   },
   "outputs": [
    {
     "name": "stdout",
     "output_type": "stream",
     "text": [
      "Warning: requested times may span more than one log file, so results may not be as intended\n",
      "log file is: /data/readout/SRS/20160418-213405.txt, last requested time is Thu Apr 21 11:54:09 2016\n"
     ]
    },
    {
     "data": {
      "text/plain": [
       "(3.809485, nan, 3.84832, nan)"
      ]
     },
     "execution_count": 2,
     "metadata": {},
     "output_type": "execute_result"
    }
   ],
   "source": [
    "starcryo_temps.get_temperatures_at(time())"
   ]
  },
  {
   "cell_type": "code",
   "execution_count": 3,
   "metadata": {
    "collapsed": false
   },
   "outputs": [
    {
     "data": {
      "text/plain": [
       "{'chip_id': '2015-10 park JPL-1',\n",
       " 'date': '2016-01-06',\n",
       " 'description': 'JPL 2015-10 park-1 dual pol 160 um. Package 160-1B/-1H. LPF, waveguide with teflon spacer and 90 degree twist, absorber tied to 1K, horns open',\n",
       " 'is_dark': False,\n",
       " 'optical_state': 'light',\n",
       " 'thermometry_config': {'load': 11, 'package': 9, 'waveguide': 1}}"
      ]
     },
     "execution_count": 3,
     "metadata": {},
     "output_type": "execute_result"
    }
   ],
   "source": [
    "info = experiments.get_experiment_info_at(time(), cryostat='StarCryo')\n",
    "info\n",
    "#    thermometry = info['thermometry_config']"
   ]
  },
  {
   "cell_type": "code",
   "execution_count": 4,
   "metadata": {
    "collapsed": false
   },
   "outputs": [
    {
     "data": {
      "text/plain": [
       "{'load': 11, 'package': 9, 'waveguide': 1}"
      ]
     },
     "execution_count": 4,
     "metadata": {},
     "output_type": "execute_result"
    }
   ],
   "source": [
    "thermometry = info['thermometry_config']\n",
    "thermometry"
   ]
  },
  {
   "cell_type": "code",
   "execution_count": 5,
   "metadata": {
    "collapsed": false
   },
   "outputs": [],
   "source": [
    "fns = glob.glob('/data/readout/2016-04-18*cw_noise.nc')\n",
    "fns.sort()"
   ]
  },
  {
   "cell_type": "code",
   "execution_count": 6,
   "metadata": {
    "collapsed": false
   },
   "outputs": [],
   "source": [
    "ncf = nc.NCFile(fns[-1])"
   ]
  },
  {
   "cell_type": "code",
   "execution_count": 7,
   "metadata": {
    "collapsed": true
   },
   "outputs": [],
   "source": [
    "mmws = mmw_source_sweep.MMWSweepOnMod(ncf.SweepArray0,ncf.StreamArray1,ncf.StreamArray2)"
   ]
  },
  {
   "cell_type": "code",
   "execution_count": 8,
   "metadata": {
    "collapsed": false
   },
   "outputs": [
    {
     "data": {
      "text/plain": [
       "1461038019.58463"
      ]
     },
     "execution_count": 8,
     "metadata": {},
     "output_type": "execute_result"
    }
   ],
   "source": [
    "mmws.start_epoch()"
   ]
  },
  {
   "cell_type": "code",
   "execution_count": 9,
   "metadata": {
    "collapsed": false,
    "scrolled": false
   },
   "outputs": [
    {
     "name": "stdout",
     "output_type": "stream",
     "text": [
      "CPU times: user 369 ms, sys: 8.92 ms, total: 378 ms\n",
      "Wall time: 391 ms\n"
     ]
    }
   ],
   "source": [
    "%time temperature.add_temperature(mmws, 'starcryo', recursive=True, overwrite=False)"
   ]
  },
  {
   "cell_type": "code",
   "execution_count": 10,
   "metadata": {
    "collapsed": false
   },
   "outputs": [
    {
     "data": {
      "text/plain": [
       "StateDict({'temperature': {'primary_package': 0.09729583857800485, 'primary_load': 1.3324287405560016}})"
      ]
     },
     "execution_count": 10,
     "metadata": {},
     "output_type": "execute_result"
    }
   ],
   "source": [
    "mmws.state"
   ]
  },
  {
   "cell_type": "code",
   "execution_count": 11,
   "metadata": {
    "collapsed": false
   },
   "outputs": [
    {
     "data": {
      "text/plain": [
       "StateDict({'temperature': {'primary_package': 0.09729583857800485, 'primary_load': 1.3324287405560016}})"
      ]
     },
     "execution_count": 11,
     "metadata": {},
     "output_type": "execute_result"
    }
   ],
   "source": [
    "mmws.sweep.stream_arrays[0].state"
   ]
  },
  {
   "cell_type": "code",
   "execution_count": 15,
   "metadata": {
    "collapsed": false
   },
   "outputs": [],
   "source": [
    "on, mod = mmws.sweep_stream_pair(0)"
   ]
  },
  {
   "cell_type": "code",
   "execution_count": 18,
   "metadata": {
    "collapsed": false
   },
   "outputs": [
    {
     "data": {
      "text/plain": [
       "StateDict({'primary_package': 0.09729583857800485, 'primary_load': 1.3324287405560016})"
      ]
     },
     "execution_count": 18,
     "metadata": {},
     "output_type": "execute_result"
    }
   ],
   "source": [
    "on.state.temperature"
   ]
  },
  {
   "cell_type": "code",
   "execution_count": 19,
   "metadata": {
    "collapsed": false
   },
   "outputs": [
    {
     "data": {
      "text/plain": [
       "StateDict({'primary_package': 0.09729583857800485, 'primary_load': 1.3324287405560016})"
      ]
     },
     "execution_count": 19,
     "metadata": {},
     "output_type": "execute_result"
    }
   ],
   "source": [
    "mod.state.temperature"
   ]
  }
 ],
 "metadata": {
  "kernelspec": {
   "display_name": "Python 2",
   "language": "python",
   "name": "python2"
  },
  "language_info": {
   "codemirror_mode": {
    "name": "ipython",
    "version": 2
   },
   "file_extension": ".py",
   "mimetype": "text/x-python",
   "name": "python",
   "nbconvert_exporter": "python",
   "pygments_lexer": "ipython2",
   "version": "2.7.11"
  }
 },
 "nbformat": 4,
 "nbformat_minor": 0
}
