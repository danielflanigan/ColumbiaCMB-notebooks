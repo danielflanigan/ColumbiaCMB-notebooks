{
 "cells": [
  {
   "cell_type": "code",
   "execution_count": 1,
   "metadata": {
    "collapsed": false
   },
   "outputs": [
    {
     "name": "stdout",
     "output_type": "stream",
     "text": [
      "no data directory set up for artemis.phys.columbia.edu defaulting to /data\n"
     ]
    },
    {
     "name": "stderr",
     "output_type": "stream",
     "text": [
      "/home/flanigan/readout/kid_readout/kid_readout/roach/valon.py:8: UserWarning: insufficient valon_synth version\n",
      "  warnings.warn('insufficient valon_synth version')\n"
     ]
    }
   ],
   "source": [
    "%matplotlib inline\n",
    "import numpy as np\n",
    "import matplotlib.pyplot as plt\n",
    "import netCDF4\n",
    "from kid_readout.measurement.io import nc"
   ]
  },
  {
   "cell_type": "code",
   "execution_count": 2,
   "metadata": {
    "collapsed": false
   },
   "outputs": [
    {
     "name": "stdout",
     "output_type": "stream",
     "text": [
      "             total       used       free     shared    buffers     cached\r\n",
      "Mem:           62G        62G       498M       1.9G       394M        52G\r\n",
      "-/+ buffers/cache:       9.3G        53G\r\n",
      "Swap:          63G       160M        63G\r\n"
     ]
    }
   ],
   "source": [
    "!free -h"
   ]
  },
  {
   "cell_type": "code",
   "execution_count": 3,
   "metadata": {
    "collapsed": true
   },
   "outputs": [],
   "source": [
    "# This file is about 8 GB. It contains one SweepArray with 1024 StreamArrays.\n",
    "big_filename = '/data/readout/2016-04-09_103326_scan_lo_1010.0_MHz_mmw_modulated_7_7_turns.nc'\n",
    "#ds = netCDF4.Dataset(big_filename, mode='r')"
   ]
  },
  {
   "cell_type": "code",
   "execution_count": 4,
   "metadata": {
    "collapsed": false
   },
   "outputs": [
    {
     "name": "stdout",
     "output_type": "stream",
     "text": [
      "CPU times: user 4.16 s, sys: 176 ms, total: 4.34 s\n",
      "Wall time: 4.4 s\n"
     ]
    }
   ],
   "source": [
    "# It takes a few seconds just to create the Dataset.\n",
    "%time io = nc.IO(big_filename, cache_s21_raw=True)"
   ]
  },
  {
   "cell_type": "code",
   "execution_count": 5,
   "metadata": {
    "collapsed": false
   },
   "outputs": [
    {
     "name": "stdout",
     "output_type": "stream",
     "text": [
      "             total       used       free     shared    buffers     cached\r\n",
      "Mem:           62G        62G       388M       1.9G       394M        52G\r\n",
      "-/+ buffers/cache:       9.5G        53G\r\n",
      "Swap:          63G       160M        63G\r\n"
     ]
    }
   ],
   "source": [
    "!free -h"
   ]
  },
  {
   "cell_type": "code",
   "execution_count": 6,
   "metadata": {
    "collapsed": false
   },
   "outputs": [
    {
     "data": {
      "text/plain": [
       "[u'SweepArray0']"
      ]
     },
     "execution_count": 6,
     "metadata": {},
     "output_type": "execute_result"
    }
   ],
   "source": [
    "io.measurement_names()"
   ]
  },
  {
   "cell_type": "code",
   "execution_count": 7,
   "metadata": {
    "collapsed": false
   },
   "outputs": [
    {
     "name": "stdout",
     "output_type": "stream",
     "text": [
      "CPU times: user 9.81 s, sys: 113 ms, total: 9.92 s\n",
      "Wall time: 10.1 s\n"
     ]
    }
   ],
   "source": [
    "%time sa = io.read('SweepArray0')"
   ]
  },
  {
   "cell_type": "code",
   "execution_count": 8,
   "metadata": {
    "collapsed": false
   },
   "outputs": [
    {
     "name": "stdout",
     "output_type": "stream",
     "text": [
      "             total       used       free     shared    buffers     cached\r\n",
      "Mem:           62G        62G       370M       1.9G       394M        52G\r\n",
      "-/+ buffers/cache:       9.5G        53G\r\n",
      "Swap:          63G       160M        63G\r\n"
     ]
    }
   ],
   "source": [
    "!free -h"
   ]
  },
  {
   "cell_type": "code",
   "execution_count": 9,
   "metadata": {
    "collapsed": false
   },
   "outputs": [
    {
     "data": {
      "text/plain": [
       "1048576"
      ]
     },
     "execution_count": 9,
     "metadata": {},
     "output_type": "execute_result"
    }
   ],
   "source": [
    "sa.stream_arrays[0].s21_raw_variable.size"
   ]
  },
  {
   "cell_type": "code",
   "execution_count": 10,
   "metadata": {
    "collapsed": false
   },
   "outputs": [
    {
     "data": {
      "text/plain": [
       "(32, 32768)"
      ]
     },
     "execution_count": 10,
     "metadata": {},
     "output_type": "execute_result"
    }
   ],
   "source": [
    "sa.stream_arrays[0].s21_raw_variable.shape"
   ]
  },
  {
   "cell_type": "code",
   "execution_count": 11,
   "metadata": {
    "collapsed": false
   },
   "outputs": [
    {
     "data": {
      "text/plain": [
       "u'complex64'"
      ]
     },
     "execution_count": 11,
     "metadata": {},
     "output_type": "execute_result"
    }
   ],
   "source": [
    "sa.stream_arrays[0].s21_raw_variable.dtype"
   ]
  },
  {
   "cell_type": "code",
   "execution_count": 12,
   "metadata": {
    "collapsed": false
   },
   "outputs": [
    {
     "data": {
      "text/plain": [
       "(32, 1024)"
      ]
     },
     "execution_count": 12,
     "metadata": {},
     "output_type": "execute_result"
    }
   ],
   "source": [
    "sa.stream_arrays[0].s21_raw_variable[:,:1024].shape"
   ]
  },
  {
   "cell_type": "code",
   "execution_count": 13,
   "metadata": {
    "collapsed": false
   },
   "outputs": [
    {
     "data": {
      "text/plain": [
       "array([[ 131.68467712+111.99266052j,  116.59806824+105.52166748j,\n",
       "         117.31715393 +84.94510651j, ...,  120.81460571 +88.6436615j ,\n",
       "         115.84262848 +81.01501465j,  105.72798920 +82.17267609j],\n",
       "       [ 136.24272156 -19.2057476j ,  139.52969360 -25.19211006j,\n",
       "         147.19813538 -12.67098713j, ...,  137.33837891 -21.20120239j,\n",
       "         130.84391785 -37.75240707j,  148.88021851  -3.43682885j],\n",
       "       [ 104.02404022 +17.53476906j,  131.18859863 +17.74967003j,\n",
       "         115.50926971 +22.2805233j , ...,  112.41432190  +8.36767006j,\n",
       "         133.61622620  +9.90897465j,  133.06665039 +21.50370407j],\n",
       "       ..., \n",
       "       [  34.68250275  +6.5535388j ,   31.01135826  +0.36114815j,\n",
       "          43.32629395 -12.46315002j, ...,   39.56486511 -10.90270138j,\n",
       "          36.95332718  +6.71367168j,   48.32790756  -5.7205143j ],\n",
       "       [  42.56037903 -17.28717995j,   20.38488579 -24.15789223j,\n",
       "          33.70726395  -8.62586021j, ...,   25.12411308 -13.80911446j,\n",
       "          40.07351303 -27.96635818j,   34.57758713 -34.06264496j],\n",
       "       [  16.84027672 -18.16560745j,   17.73158264 -10.26436615j,\n",
       "          10.63949394 -16.154356j  , ...,   11.17892838 -20.67521858j,\n",
       "          12.04969597 -16.4446106j ,   27.02248955 -15.11656284j]], dtype=complex64)"
      ]
     },
     "execution_count": 13,
     "metadata": {},
     "output_type": "execute_result"
    }
   ],
   "source": [
    "sa.stream_arrays[1].s21_raw_variable[:,:1024]"
   ]
  }
 ],
 "metadata": {
  "kernelspec": {
   "display_name": "Python 2",
   "language": "python",
   "name": "python2"
  },
  "language_info": {
   "codemirror_mode": {
    "name": "ipython",
    "version": 2
   },
   "file_extension": ".py",
   "mimetype": "text/x-python",
   "name": "python",
   "nbconvert_exporter": "python",
   "pygments_lexer": "ipython2",
   "version": "2.7.11"
  }
 },
 "nbformat": 4,
 "nbformat_minor": 0
}
