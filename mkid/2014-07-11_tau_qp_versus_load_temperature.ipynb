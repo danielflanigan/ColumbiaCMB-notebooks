{
 "metadata": {
  "name": "",
  "signature": "sha256:71c05071aad6bacbab71c5cf33229a92e05b82dd731caeaf7adc2ece9e42f8c8"
 },
 "nbformat": 3,
 "nbformat_minor": 0,
 "worksheets": [
  {
   "cells": [
    {
     "cell_type": "markdown",
     "metadata": {},
     "source": [
      "Try both the pulse (2 ms) and spike (50 us) methods, since it's not clear which is more believeable."
     ]
    },
    {
     "cell_type": "markdown",
     "metadata": {},
     "source": [
      "Take all measurements with ADR at 150 mK and stage around 200 mK."
     ]
    },
    {
     "cell_type": "markdown",
     "metadata": {},
     "source": [
      "Rebias after each optical load step."
     ]
    },
    {
     "cell_type": "markdown",
     "metadata": {},
     "source": [
      "Use 64 sample averaging for all traces instead of 512. The noise properties of the rise and fall times seem more sane when averaging fewer samples, maybe because it takes less time for spikes to work their way out of the train."
     ]
    },
    {
     "cell_type": "markdown",
     "metadata": {},
     "source": [
      "See previous day's notebook for other measurements taken earlier today. Saved traces 0-8."
     ]
    },
    {
     "cell_type": "markdown",
     "metadata": {},
     "source": [
      "Base load temperature:"
     ]
    },
    {
     "cell_type": "code",
     "collapsed": false,
     "input": [
      "V_heater = [0]\n",
      "T_stage = [0.200]\n",
      "T_eccosorb = [3.973]\n",
      "T_copper = [3.263]\n",
      "nu = [872.290e6]"
     ],
     "language": "python",
     "metadata": {},
     "outputs": [],
     "prompt_number": 2
    },
    {
     "cell_type": "markdown",
     "metadata": {},
     "source": [
      "This is trace 9:"
     ]
    },
    {
     "cell_type": "code",
     "collapsed": false,
     "input": [
      "V_pulse = [1.27]\n",
      "I_pulse = [3.5e-3]\n",
      "rise_pulse = [810]\n",
      "rise_pulse_error = [50]\n",
      "fall_pulse = [1000]\n",
      "fall_pulse_error = [50]"
     ],
     "language": "python",
     "metadata": {},
     "outputs": [],
     "prompt_number": 3
    },
    {
     "cell_type": "markdown",
     "metadata": {},
     "source": [
      "Copied values below from yesterday's notebook. This is trace 8, already saved, averaging 64 samples:"
     ]
    },
    {
     "cell_type": "code",
     "collapsed": false,
     "input": [
      "V_spike = [4.3]\n",
      "I_spike = [23e-3]\n",
      "fall_spike = [720]\n",
      "fall_spike_error = [50]"
     ],
     "language": "python",
     "metadata": {},
     "outputs": [],
     "prompt_number": 4
    },
    {
     "cell_type": "markdown",
     "metadata": {},
     "source": [
      "Noticed that most traces saved in the past few days were both channel 1 and channel 2 or just channel 1, but a few were channel 2 only, which has been orthogonal to the response direction for this resonator. This means some data was lost. Since I didn't change the setting, this means that the scope is choosing somehow which traces to save. Watch this carefully from now on."
     ]
    },
    {
     "cell_type": "markdown",
     "metadata": {},
     "source": [
      "Load temperature 2:"
     ]
    },
    {
     "cell_type": "code",
     "collapsed": false,
     "input": [
      "V_heater.append(1)\n",
      "T_stage.append(0.202)\n",
      "T_eccosorb.append(4.475)\n",
      "T_copper.append(3.809)\n",
      "nu.append(872.280e6)"
     ],
     "language": "python",
     "metadata": {},
     "outputs": [],
     "prompt_number": 5
    },
    {
     "cell_type": "markdown",
     "metadata": {},
     "source": [
      "This is trace 10 (all):"
     ]
    },
    {
     "cell_type": "code",
     "collapsed": false,
     "input": [
      "V_pulse.append(1.5)\n",
      "I_pulse.append(4.9e-3)\n",
      "rise_pulse.append(620)\n",
      "rise_pulse_error.append(50)\n",
      "fall_pulse.append(650)\n",
      "fall_pulse_error.append(100)"
     ],
     "language": "python",
     "metadata": {},
     "outputs": [],
     "prompt_number": 6
    },
    {
     "cell_type": "markdown",
     "metadata": {},
     "source": [
      "This is trace 11:"
     ]
    },
    {
     "cell_type": "code",
     "collapsed": false,
     "input": [
      "V_spike.append(4.7)\n",
      "I_spike.append(25e-3)\n",
      "fall_spike.append(600)\n",
      "fall_spike_error.append(50)"
     ],
     "language": "python",
     "metadata": {},
     "outputs": [],
     "prompt_number": 7
    },
    {
     "cell_type": "markdown",
     "metadata": {},
     "source": [
      "Recycling the ADR."
     ]
    },
    {
     "cell_type": "markdown",
     "metadata": {},
     "source": [
      "Load temperature 3:"
     ]
    },
    {
     "cell_type": "code",
     "collapsed": false,
     "input": [
      "V_heater.append(1.5)\n",
      "T_stage.append(0.202)\n",
      "T_eccosorb.append(5.044)\n",
      "T_copper.append(4.538)\n",
      "nu.append(872.270e6)"
     ],
     "language": "python",
     "metadata": {},
     "outputs": [],
     "prompt_number": 8
    },
    {
     "cell_type": "markdown",
     "metadata": {},
     "source": [
      "I removed the USB drive to copy the files, and the scope reset the file counter. This is trace 0:"
     ]
    },
    {
     "cell_type": "code",
     "collapsed": false,
     "input": [
      "V_pulse.append(1.5)\n",
      "I_pulse.append(4.9e-3)\n",
      "rise_pulse.append(490)\n",
      "rise_pulse_error.append(50)\n",
      "fall_pulse.append(570)\n",
      "fall_pulse_error.append(70)"
     ],
     "language": "python",
     "metadata": {},
     "outputs": [],
     "prompt_number": 9
    },
    {
     "cell_type": "markdown",
     "metadata": {},
     "source": [
      "This is trace 1:"
     ]
    },
    {
     "cell_type": "code",
     "collapsed": false,
     "input": [
      "V_spike.append(4.9)\n",
      "I_spike.append(27e-3)\n",
      "fall_spike.append(590)\n",
      "fall_spike_error.append(50)"
     ],
     "language": "python",
     "metadata": {},
     "outputs": [],
     "prompt_number": 10
    },
    {
     "cell_type": "markdown",
     "metadata": {},
     "source": [
      "Try averaging a bunch of points and comparing to the eyeballed values:"
     ]
    },
    {
     "cell_type": "code",
     "collapsed": false,
     "input": [
      "fall_spike_points = np.array([503, 514, 528, 529, 642, 554, 572, 641, 524, 601,\n",
      "                              569, 597, 603, 570, 644, 537, 570, 530, 603, 581,\n",
      "                              590, 521, 579, 555, 585, 541, 577, 643, 574, 607,\n",
      "                              607, 606, 575, 627, 559, 649, 632, 649, 602, 586,\n",
      "                              607, 598, 640, 549, 540, 494, 597, 601, 675, 577])"
     ],
     "language": "python",
     "metadata": {},
     "outputs": [],
     "prompt_number": 11
    },
    {
     "cell_type": "code",
     "collapsed": false,
     "input": [
      "fall_spike_points.mean()"
     ],
     "language": "python",
     "metadata": {},
     "outputs": [
      {
       "metadata": {},
       "output_type": "pyout",
       "prompt_number": 12,
       "text": [
        "583.08000000000004"
       ]
      }
     ],
     "prompt_number": 12
    },
    {
     "cell_type": "code",
     "collapsed": false,
     "input": [
      "fall_spike_points.std()"
     ],
     "language": "python",
     "metadata": {},
     "outputs": [
      {
       "metadata": {},
       "output_type": "pyout",
       "prompt_number": 13,
       "text": [
        "42.14443735536161"
       ]
      }
     ],
     "prompt_number": 13
    },
    {
     "cell_type": "markdown",
     "metadata": {},
     "source": [
      "Not so far off. The histogram looks non-gaussian, but there aren't many points."
     ]
    },
    {
     "cell_type": "markdown",
     "metadata": {},
     "source": [
      "Load temperature 4:"
     ]
    },
    {
     "cell_type": "code",
     "collapsed": false,
     "input": [
      "V_heater.append(1.8)\n",
      "T_stage.append(0.201)\n",
      "T_eccosorb.append(5.434)\n",
      "T_copper.append(4.994)\n",
      "nu.append(872.270e6)"
     ],
     "language": "python",
     "metadata": {},
     "outputs": [],
     "prompt_number": 14
    },
    {
     "cell_type": "markdown",
     "metadata": {},
     "source": [
      "This is trace 2:"
     ]
    },
    {
     "cell_type": "code",
     "collapsed": false,
     "input": [
      "V_pulse.append(1.8)\n",
      "I_pulse.append(6.8e-3)\n",
      "rise_pulse.append(440)\n",
      "rise_pulse_error.append(20)\n",
      "fall_pulse.append(440)\n",
      "fall_pulse_error.append(30)"
     ],
     "language": "python",
     "metadata": {},
     "outputs": [],
     "prompt_number": 15
    },
    {
     "cell_type": "markdown",
     "metadata": {},
     "source": [
      "This is trace 3:"
     ]
    },
    {
     "cell_type": "code",
     "collapsed": false,
     "input": [
      "V_spike.append(5.8)\n",
      "I_spike.append(33e-3)\n",
      "fall_spike.append(470)\n",
      "fall_spike_error.append(30)"
     ],
     "language": "python",
     "metadata": {},
     "outputs": [],
     "prompt_number": 16
    },
    {
     "cell_type": "markdown",
     "metadata": {},
     "source": [
      "Load temperature 5:"
     ]
    },
    {
     "cell_type": "code",
     "collapsed": false,
     "input": [
      "V_heater.append(2.1)\n",
      "T_stage.append(0.205)\n",
      "T_eccosorb.append(5.876)\n",
      "T_copper.append(5.471)\n",
      "nu.append(872.260e6)"
     ],
     "language": "python",
     "metadata": {},
     "outputs": [],
     "prompt_number": 17
    },
    {
     "cell_type": "markdown",
     "metadata": {},
     "source": [
      "This is trace 4:"
     ]
    },
    {
     "cell_type": "code",
     "collapsed": false,
     "input": [
      "V_pulse.append(2.0)\n",
      "I_pulse.append(8.0e-3)\n",
      "rise_pulse.append(390)\n",
      "rise_pulse_error.append(20)\n",
      "fall_pulse.append(415)\n",
      "fall_pulse_error.append(20)"
     ],
     "language": "python",
     "metadata": {},
     "outputs": [],
     "prompt_number": 18
    },
    {
     "cell_type": "markdown",
     "metadata": {},
     "source": [
      "This is trace 5:"
     ]
    },
    {
     "cell_type": "code",
     "collapsed": false,
     "input": [
      "V_spike.append(6.2)\n",
      "I_spike.append(35e-3)\n",
      "fall_spike.append(440)\n",
      "fall_spike_error.append(50)"
     ],
     "language": "python",
     "metadata": {},
     "outputs": [],
     "prompt_number": 19
    },
    {
     "cell_type": "markdown",
     "metadata": {},
     "source": [
      "Tiny spike: saved trace 6, still averaging 64, and saved trace 7, with no averaging:"
     ]
    },
    {
     "cell_type": "code",
     "collapsed": false,
     "input": [
      "V_tiny = 1.3\n",
      "I_tiny = 3.7e-3"
     ],
     "language": "python",
     "metadata": {},
     "outputs": [],
     "prompt_number": 20
    },
    {
     "cell_type": "markdown",
     "metadata": {},
     "source": [
      "Measurements below taken on 2014-07-14."
     ]
    },
    {
     "cell_type": "markdown",
     "metadata": {},
     "source": [
      "Took one measurement with noise output from signal generator. Values below are the same as for the base eccosorb temperature. Saved trace 0, no averaging:"
     ]
    },
    {
     "cell_type": "code",
     "collapsed": false,
     "input": [
      "V_noise_offset = 2.5\n",
      "V_noise_pp = 1\n",
      "I_noise = 27e-3"
     ],
     "language": "python",
     "metadata": {},
     "outputs": [],
     "prompt_number": 21
    },
    {
     "cell_type": "markdown",
     "metadata": {},
     "source": [
      "The previous tiny pulse with no averaging is difficult to see above the noise. The averaged tiny pulse still has a changing time constant. Take an even tinier pulse at the eccosorb base temperature, averaging fewer traces to avoid cosmic ray hits. Saved trace 1, averaging 16:"
     ]
    },
    {
     "cell_type": "code",
     "collapsed": false,
     "input": [
      "V_tinier = 1.1\n",
      "I_tinier = 2.5e-3"
     ],
     "language": "python",
     "metadata": {},
     "outputs": [],
     "prompt_number": 22
    },
    {
     "cell_type": "markdown",
     "metadata": {},
     "source": [
      "Saved trace 2, averaging 16:"
     ]
    },
    {
     "cell_type": "code",
     "collapsed": false,
     "input": [
      "V_tiniest = 0.9\n",
      "I_tiniest = 1.4e-3"
     ],
     "language": "python",
     "metadata": {},
     "outputs": [],
     "prompt_number": 23
    },
    {
     "cell_type": "markdown",
     "metadata": {},
     "source": [
      "Load temperature 6:"
     ]
    },
    {
     "cell_type": "code",
     "collapsed": false,
     "input": [
      "V_heater.append(2.6)\n",
      "T_stage.append(0.204)\n",
      "T_eccosorb.append(6.664)\n",
      "T_copper.append(6.326)\n",
      "nu.append(872.240e6)"
     ],
     "language": "python",
     "metadata": {},
     "outputs": [],
     "prompt_number": 24
    },
    {
     "cell_type": "markdown",
     "metadata": {},
     "source": [
      "This is trace 0, averaging 64:"
     ]
    },
    {
     "cell_type": "code",
     "collapsed": false,
     "input": [
      "V_pulse.append(2.1)\n",
      "I_pulse.append(8.6e-3)\n",
      "rise_pulse_6 = np.array([330, 305, 410, 407, 316, 340, 375, 420,\n",
      "                         341, 351, 329, 347, 517, 404, 376, 365])\n",
      "rise_pulse.append(rise_pulse_6.mean())\n",
      "rise_pulse_error.append(rise_pulse_6.std())\n",
      "fall_pulse_6 = np.array([319, 361, 323, 371, 376, 317, 335, 335,\n",
      "                         324, 337, 361, 411, 373, 363, 349, 330])\n",
      "fall_pulse.append(fall_pulse_6.mean())\n",
      "fall_pulse_error.append(fall_pulse_6.std())"
     ],
     "language": "python",
     "metadata": {},
     "outputs": [],
     "prompt_number": 25
    },
    {
     "cell_type": "markdown",
     "metadata": {},
     "source": [
      "This is trace 1, averaging 64:"
     ]
    },
    {
     "cell_type": "code",
     "collapsed": false,
     "input": [
      "V_spike.append(5.9)\n",
      "I_spike.append(33e-3)\n",
      "fall_spike_6 = np.array([383, 395, 401, 388, 370, 385, 365, 362,\n",
      "                         312, 331, 397, 426, 336, 334, 433, 457])\n",
      "fall_spike.append(fall_spike_6.mean())\n",
      "fall_spike_error.append(fall_spike_6.std())"
     ],
     "language": "python",
     "metadata": {},
     "outputs": [],
     "prompt_number": 26
    },
    {
     "cell_type": "markdown",
     "metadata": {},
     "source": [
      "Load temperature 7:"
     ]
    },
    {
     "cell_type": "code",
     "collapsed": false,
     "input": [
      "V_heater.append(3.0)\n",
      "T_stage.append(0.212)\n",
      "T_eccosorb.append(7.310)\n",
      "T_copper.append(7.023)\n",
      "nu.append(872.230e6)"
     ],
     "language": "python",
     "metadata": {},
     "outputs": [],
     "prompt_number": 27
    },
    {
     "cell_type": "markdown",
     "metadata": {},
     "source": [
      "This is trace 2, averaging 64:"
     ]
    },
    {
     "cell_type": "code",
     "collapsed": false,
     "input": [
      "V_pulse.append(2.6)\n",
      "I_pulse.append(12e-3)\n",
      "rise_pulse_7 = np.array([302, 299, 301, 302, 306, 295, 278, 303,\n",
      "                         277, 292, 272, 272, 274, 349, 319, 322])\n",
      "rise_pulse.append(rise_pulse_7.mean())\n",
      "rise_pulse_error.append(rise_pulse_7.std())\n",
      "fall_pulse_7 = np.array([295, 306, 351, 298, 326, 290, 294, 314,\n",
      "                         344, 327, 331, 315, 332, 335, 294, 311])\n",
      "fall_pulse.append(fall_pulse_7.mean())\n",
      "fall_pulse_error.append(fall_pulse_7.std())"
     ],
     "language": "python",
     "metadata": {},
     "outputs": [],
     "prompt_number": 28
    },
    {
     "cell_type": "markdown",
     "metadata": {},
     "source": [
      "This is trace 3, averaging 64:"
     ]
    },
    {
     "cell_type": "code",
     "collapsed": false,
     "input": [
      "V_spike.append(6.7)\n",
      "I_spike.append(38e-3)\n",
      "fall_spike_7 = np.array([334, 335, 347, 404, 352, 366, 397, 415,\n",
      "                         380, 416, 335, 334, 290, 375, 355, 373])\n",
      "fall_spike.append(fall_spike_7.mean())\n",
      "fall_spike_error.append(fall_spike_7.std())"
     ],
     "language": "python",
     "metadata": {},
     "outputs": [],
     "prompt_number": 29
    },
    {
     "cell_type": "code",
     "collapsed": false,
     "input": [
      "tau_rise = np.array(rise_pulse) / np.log(9)\n",
      "tau_rise_error = np.array(rise_pulse_error) / np.log(9)\n",
      "tau_fall = np.array(fall_pulse) / np.log(9)\n",
      "tau_fall_error = np.array(fall_pulse_error) / np.log(9)\n",
      "tau_spike = np.array(fall_spike) / np.log(9)\n",
      "tau_spike_error = np.array(fall_spike_error) / np.log(9)"
     ],
     "language": "python",
     "metadata": {},
     "outputs": [],
     "prompt_number": 30
    },
    {
     "cell_type": "code",
     "collapsed": false,
     "input": [
      "R_heater = 1000\n",
      "P_heater = [1e3 * V**2 / R_heater for V in V_heater]\n",
      "P_heater"
     ],
     "language": "python",
     "metadata": {},
     "outputs": [
      {
       "metadata": {},
       "output_type": "pyout",
       "prompt_number": 31,
       "text": [
        "[0.0, 1.0, 2.25, 3.24, 4.41, 6.760000000000001, 9.0]"
       ]
      }
     ],
     "prompt_number": 31
    },
    {
     "cell_type": "code",
     "collapsed": false,
     "input": [
      "fig, ax = plt.subplots()\n",
      "#ax.errorbar(T_eccosorb, tau_rise, yerr=tau_rise_error, fmt='.', label='rise')\n",
      "ax.errorbar(T_eccosorb, tau_fall, yerr=tau_fall_error, fmt='.', label='pulse')\n",
      "#ax.errorbar(T_eccosorb, tau_spike, yerr=tau_spike_error, fmt='.', label='spike')\n",
      "ax.set_xlabel('Eccosorb temperature / [K]')\n",
      "ax.set_ylabel(r'$\\tau \\, / \\, [\\mu s]$')\n",
      "ax.legend(loc='best');"
     ],
     "language": "python",
     "metadata": {},
     "outputs": [
      {
       "metadata": {},
       "output_type": "display_data",
       "png": "[encoded data removed]",
       "text": [
        "<matplotlib.figure.Figure at 0x1063cf090>"
       ]
      }
     ],
     "prompt_number": 32
    },
    {
     "cell_type": "code",
     "collapsed": false,
     "input": [
      "fig, ax = plt.subplots()\n",
      "#ax.errorbar(T_eccosorb, tau_rise, yerr=tau_rise_error, fmt='.', label='rise')\n",
      "ax.loglog(T_eccosorb, tau_fall, '.', label='pulse')\n",
      "ax.set_xlabel('Eccosorb temperature / [K]')\n",
      "ax.set_ylabel(r'$\\tau \\, / \\, [\\mu s]$')\n",
      "ax.legend(loc='best')\n",
      "ax.set_xlim(3, 10)"
     ],
     "language": "python",
     "metadata": {},
     "outputs": [
      {
       "metadata": {},
       "output_type": "pyout",
       "prompt_number": 33,
       "text": [
        "(3, 10)"
       ]
      },
      {
       "metadata": {},
       "output_type": "display_data",
       "png": "[encoded data removed]",
       "text": [
        "<matplotlib.figure.Figure at 0x106346bd0>"
       ]
      }
     ],
     "prompt_number": 33
    }
   ],
   "metadata": {}
  }
 ]
}