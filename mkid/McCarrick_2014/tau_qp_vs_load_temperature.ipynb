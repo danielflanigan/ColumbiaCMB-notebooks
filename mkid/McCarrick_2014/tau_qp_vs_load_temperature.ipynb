{
 "metadata": {
  "name": "",
  "signature": "sha256:ce95b87ebafc00a58984ceeff7eb7f28896cfef983002f3d93f14d15e87242da"
 },
 "nbformat": 3,
 "nbformat_minor": 0,
 "worksheets": [
  {
   "cells": [
    {
     "cell_type": "code",
     "collapsed": false,
     "input": [
      "# You must un-comment the lines below if your IPython and notebook config files do not include them.\n",
      "#%pylab inline\n",
      "#from __future__ import division\n",
      "import lmfit"
     ],
     "language": "python",
     "metadata": {},
     "outputs": [],
     "prompt_number": 1
    },
    {
     "cell_type": "markdown",
     "metadata": {},
     "source": [
      "Data taken on 2014-07-11: http://nbviewer.ipython.org/github/danielflanigan/notebooks/blob/master/mkid/2014-07-11_tau_qp_versus_load_temperature.ipynb"
     ]
    },
    {
     "cell_type": "code",
     "collapsed": false,
     "input": [
      "T_eccosorb = np.array([3.973, 4.475, 5.044, 5.434, 5.876, 6.664, 7.31])\n",
      "tau_fall = np.array([455.11961331,  295.82774865,  259.41817959,  200.25262986, 188.87463953,  158.86519002,  144.01691264])\n",
      "tau_fall_error = np.array([ 22.75598067,  45.51196133,  31.85837293, 13.6535884,  9.10239227,  11.51311934,   8.52054046])"
     ],
     "language": "python",
     "metadata": {},
     "outputs": [],
     "prompt_number": 2
    },
    {
     "cell_type": "markdown",
     "metadata": {},
     "source": [
      "Propagate the errors $\\mathrm{d} \\tau$:\n",
      "\\begin{equation*}\n",
      "\\left| \\mathrm{d} \\log(\\tau / \\tau_0) \\right|\n",
      "  =\n",
      "  \\left| \\frac{\\tau_0}{\\tau} \\mathrm{d} \\tau \\right|.\n",
      "\\end{equation*}\n",
      "Here $\\tau_0 = 1 \\, \\mu \\mathrm{s}$ and $T_0 = 1 \\, \\mathrm{K}$ so we drop them."
     ]
    },
    {
     "cell_type": "code",
     "collapsed": false,
     "input": [
      "log_error = tau_fall_error / tau_fall"
     ],
     "language": "python",
     "metadata": {},
     "outputs": [],
     "prompt_number": 3
    },
    {
     "cell_type": "markdown",
     "metadata": {},
     "source": [
      "Fit to $\\log(\\tau / \\tau_0) = a \\log(T / T_0) + b = \\log \\left( (T / T_0)^a e^b \\right)$:"
     ]
    },
    {
     "cell_type": "code",
     "collapsed": false,
     "input": [
      "poly = np.polyfit(np.log(T_eccosorb), np.log(tau_fall), 1, w=log_error**-1)\n",
      "poly"
     ],
     "language": "python",
     "metadata": {},
     "outputs": [
      {
       "metadata": {},
       "output_type": "pyout",
       "prompt_number": 4,
       "text": [
        "array([-1.93730028,  8.72300619])"
       ]
      }
     ],
     "prompt_number": 4
    },
    {
     "cell_type": "markdown",
     "metadata": {},
     "source": [
      "This is pretty close to $T^{-2}$ behavior."
     ]
    },
    {
     "cell_type": "code",
     "collapsed": false,
     "input": [
      "lines = {'markersize': 3}\n",
      "font = {'family': 'serif',\n",
      "        'serif': 'Times New Roman',\n",
      "        'size': 11}\n",
      "text = {'usetex': 'False'}\n",
      "axes = {'linewidth': 0.5,\n",
      "        'titlesize': 'medium',\n",
      "        'labelsize': 'small'}\n",
      "ticks = {'major.size': 3,\n",
      "         'major.width': 0.5,\n",
      "         'labelsize': 'small'}\n",
      "grid = {'color': 'gray'}\n",
      "legend = {'numpoints': 1,\n",
      "          'fontsize': 'small',\n",
      "          'frameon': 'False',\n",
      "          'handletextpad': 0.2}\n",
      "figure = {'figsize': (3, 3),\n",
      "          'dpi': 300,\n",
      "          'facecolor': 'white',\n",
      "          'subplot.left': 0.2,\n",
      "          'subplot.right': 0.92,\n",
      "          'subplot.bottom': 0.15,\n",
      "          'subplot.top': 0.92}\n",
      "savefig = {'dpi': 300}\n",
      "plt.rcdefaults()\n",
      "plt.rc('lines', **lines)\n",
      "plt.rc('font', **font)\n",
      "plt.rc('text', **text)\n",
      "plt.rc('axes', **axes)\n",
      "plt.rc(('xtick', 'ytick'), **ticks)\n",
      "plt.rc('grid', **grid)\n",
      "plt.rc('legend', **legend)\n",
      "plt.rc('figure', **figure)\n",
      "plt.rc('savefig', **savefig)"
     ],
     "language": "python",
     "metadata": {},
     "outputs": [],
     "prompt_number": 5
    },
    {
     "cell_type": "code",
     "collapsed": false,
     "input": [
      "fig, ax = plt.subplots()\n",
      "xticks = np.arange(3, 9)\n",
      "yticks = np.arange(100, 700, 100)\n",
      "TT = np.linspace(xticks[0], xticks[-1], 1e3)\n",
      "ax.errorbar(T_eccosorb, tau_fall, yerr=tau_fall_error, linestyle='None', color='red', markeredgecolor='None', marker='o')\n",
      "ax.plot(TT, TT**poly[0] * np.exp(poly[1]), linestyle='-', color='black')\n",
      "ax.set_xscale('log')\n",
      "ax.set_yscale('log')\n",
      "ax.set_xlim(xticks[0], xticks[-1])\n",
      "ax.set_xticks(xticks)\n",
      "ax.set_xticklabels(['{:.0f}'.format(tick) for tick in xticks])\n",
      "ax.set_ylim(yticks[0], yticks[-1])\n",
      "ax.set_yticks(yticks)\n",
      "ax.set_yticklabels(['{:.0f}'.format(tick) for tick in yticks])\n",
      "ax.set_xlabel('load temperature [K]')\n",
      "ax.set_ylabel(r'$\\tau_{qp} \\, [\\mu \\mathrm{s}]$')\n",
      "fig.savefig('tau_qp_vs_load_temperature.pdf')"
     ],
     "language": "python",
     "metadata": {},
     "outputs": [],
     "prompt_number": 6
    }
   ],
   "metadata": {}
  }
 ]
}