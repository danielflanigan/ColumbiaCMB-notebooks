{
 "metadata": {
  "name": "",
  "signature": "sha256:c6ced5de412816eda8ff81eb53167933971d61505e4adfa511ebe518f92e19a3"
 },
 "nbformat": 3,
 "nbformat_minor": 0,
 "worksheets": [
  {
   "cells": [
    {
     "cell_type": "markdown",
     "metadata": {},
     "source": [
      "The microstrip width is $W = 20 \\mu m$ on the four-element chips. The center line on the nine-element chips is also 20 microns, while the tines are 10 microns."
     ]
    },
    {
     "cell_type": "code",
     "collapsed": false,
     "input": [
      "W = 20e-6"
     ],
     "language": "python",
     "metadata": {},
     "outputs": [],
     "prompt_number": 1
    },
    {
     "cell_type": "markdown",
     "metadata": {},
     "source": [
      "If we fabricate the "
     ]
    }
   ],
   "metadata": {}
  }
 ]
}