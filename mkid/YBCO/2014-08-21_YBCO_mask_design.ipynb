{
 "metadata": {
  "name": "",
  "signature": "sha256:dd4e6b7ef00abe91251ec653f99a11ebda078aeedf7ef8ef9f11c6cdb056f19a"
 },
 "nbformat": 3,
 "nbformat_minor": 0,
 "worksheets": [
  {
   "cells": [
    {
     "cell_type": "code",
     "collapsed": false,
     "input": [
      "from scipy.constants import pi\n",
      "from physics.mkid import lumped"
     ],
     "language": "python",
     "metadata": {},
     "outputs": [],
     "prompt_number": 1
    },
    {
     "cell_type": "markdown",
     "metadata": {},
     "source": [
      "I simulated a 2 mm by 0.156 mm IDC in Sonnet, with 4 $\\mu$m width and gap. The dielectric was 300 micron sapphire with $\\epsilon_r^z = 11.5$ and $\\epsilon_r^x = \\epsilon_r^y = 9.3$. Below about 200 MHz the resulting capacitance was between 5.5 and 6 pF, depending on the model, and it rose vaguely quadratically to 23 pF at 1 GHz."
     ]
    },
    {
     "cell_type": "code",
     "collapsed": false,
     "input": [
      "1e12 * lumped.interdigitated_capacitance(epsilon_rz, 6e-3*0.156e-3, w, g)"
     ],
     "language": "python",
     "metadata": {},
     "outputs": [
      {
       "metadata": {},
       "output_type": "pyout",
       "prompt_number": 3,
       "text": [
        "5.3350908695071659"
       ]
      }
     ],
     "prompt_number": 3
    },
    {
     "cell_type": "code",
     "collapsed": false,
     "input": [
      "1e12 * lumped.interdigitated_capacitance(epsilon_rxy, 6e-3*0.156e-3, w, g)"
     ],
     "language": "python",
     "metadata": {},
     "outputs": [
      {
       "metadata": {},
       "output_type": "pyout",
       "prompt_number": 4,
       "text": [
        "6.4746248416349115"
       ]
      }
     ],
     "prompt_number": 4
    },
    {
     "cell_type": "markdown",
     "metadata": {},
     "source": [
      "The simulated values are between the two extremes of using one or the other dielectric constant, so the formula is probably good to within ten percent."
     ]
    },
    {
     "cell_type": "markdown",
     "metadata": {},
     "source": [
      "All the new resonators have the same capacitor; find the minimum inductance necessary to produce a resonance in the readout band:"
     ]
    },
    {
     "cell_type": "code",
     "collapsed": false,
     "input": [
      "f_max = 220e6\n",
      "L_min = (2 * pi * f_max)**-2 * C**-1\n",
      "1e9 * L_min"
     ],
     "language": "python",
     "metadata": {},
     "outputs": [
      {
       "metadata": {},
       "output_type": "pyout",
       "prompt_number": 10,
       "text": [
        "7.6515193947634028"
       ]
      }
     ],
     "prompt_number": 10
    },
    {
     "cell_type": "code",
     "collapsed": false,
     "input": [
      "A = 6e-3 * 2e-3\n",
      "w = 4e-6\n",
      "g = 4e-6\n",
      "epsilon_rz = 9.3\n",
      "epsilon_rxy = 11.5\n",
      "C = lumped.interdigitated_capacitance(epsilon_rz, A, w, g)\n",
      "1e12 * C # in pF"
     ],
     "language": "python",
     "metadata": {},
     "outputs": [
      {
       "metadata": {},
       "output_type": "pyout",
       "prompt_number": 2,
       "text": [
        "68.398600891117525"
       ]
      }
     ],
     "prompt_number": 2
    },
    {
     "cell_type": "code",
     "collapsed": false,
     "input": [
      "L_5mm = 4e-9 # simulated inductance per turn\n",
      "Z_0 = 50 # assumed\n",
      "Q_c = 1e4 # target\n",
      "turns = np.array([2, 4, 8, 16])\n",
      "L = L_5mm * turns\n",
      "f_0 = (2 * pi)**-1 * (L * C)**(-1/2)\n",
      "1e12 * (8 * C / (2 * pi * f_0 * Q_c * Z_0))**(1/2)"
     ],
     "language": "python",
     "metadata": {},
     "outputs": [
      {
       "metadata": {},
       "output_type": "pyout",
       "prompt_number": 7,
       "text": [
        "array([ 0.89974181,  1.06997936,  1.27242707,  1.51317932])"
       ]
      }
     ],
     "prompt_number": 7
    },
    {
     "cell_type": "code",
     "collapsed": false,
     "input": [
      "1e-6 * f_0"
     ],
     "language": "python",
     "metadata": {},
     "outputs": [
      {
       "metadata": {},
       "output_type": "pyout",
       "prompt_number": 8,
       "text": [
        "array([ 215.15504256,  152.1375896 ,  107.57752128,   76.0687948 ])"
       ]
      }
     ],
     "prompt_number": 8
    },
    {
     "cell_type": "code",
     "collapsed": false,
     "input": [
      "C_c = lumped.interdigitated_capacitance(epsilon_rz, 0.5e-3 * 0.332e-3, w, g)\n",
      "1e12 * C_c"
     ],
     "language": "python",
     "metadata": {},
     "outputs": [
      {
       "metadata": {},
       "output_type": "pyout",
       "prompt_number": 9,
       "text": [
        "0.94618064566045912"
       ]
      }
     ],
     "prompt_number": 9
    },
    {
     "cell_type": "code",
     "collapsed": false,
     "input": [],
     "language": "python",
     "metadata": {},
     "outputs": []
    }
   ],
   "metadata": {}
  }
 ]
}