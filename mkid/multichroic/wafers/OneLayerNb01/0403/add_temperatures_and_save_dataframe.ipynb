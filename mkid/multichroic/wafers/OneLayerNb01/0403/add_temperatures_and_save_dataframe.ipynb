{
 "cells": [
  {
   "cell_type": "code",
   "execution_count": 1,
   "metadata": {
    "collapsed": true
   },
   "outputs": [],
   "source": [
    "%matplotlib inline"
   ]
  },
  {
   "cell_type": "code",
   "execution_count": 2,
   "metadata": {
    "collapsed": true
   },
   "outputs": [],
   "source": [
    "import os\n",
    "from glob import glob\n",
    "from collections import defaultdict"
   ]
  },
  {
   "cell_type": "code",
   "execution_count": 3,
   "metadata": {
    "collapsed": true
   },
   "outputs": [],
   "source": [
    "from kid_readout.measurement.io import npy\n",
    "from kid_readout.measurement import temperature"
   ]
  },
  {
   "cell_type": "code",
   "execution_count": 4,
   "metadata": {
    "collapsed": true
   },
   "outputs": [],
   "source": [
    "roots = ['/data/detectors/2017-02-15_124211_centered.npd/',  # 3.3 K\n",
    "         '/data/detectors/2017-02-15_140614_centered.npd/',  # 2.7 K\n",
    "         '/data/detectors/2017-02-15_155457_centered.npd/',  # 0.1 K\n",
    "         '/data/detectors/2017-02-15_163416_centered.npd/',  # 0.2 K\n",
    "         '/data/detectors/2017-02-15_170842_centered.npd/',  # 0.4 K\n",
    "         '/data/detectors/2017-02-15_182325_centered.npd/',  # 0.6 K\n",
    "         '/data/detectors/2017-02-15_234604_centered.npd/',  # 0.8 K\n",
    "         '/data/detectors/2017-02-16_073659_centered.npd/',  # 1.0 K\n",
    "         '/data/detectors/2017-02-16_075930_centered.npd/',  # 1.2 K\n",
    "         '/data/detectors/2017-02-16_081727_centered.npd/',  # 1.4 K\n",
    "         '/data/detectors/2017-02-16_092616_centered.npd/',  # 1.6 K\n",
    "         '/data/detectors/2017-02-16_121807_centered.npd/',  # 1.8 K\n",
    "         '/data/detectors/2017-02-16_140100_centered.npd/',  # 2.0 K\n",
    "         '/data/detectors/2017-02-16_143022_centered.npd/',  # 2.2 K\n",
    "         '/data/detectors/2017-02-16_150908_centered.npd/',  # 2.4 K\n",
    "        ]"
   ]
  },
  {
   "cell_type": "code",
   "execution_count": 5,
   "metadata": {
    "collapsed": false
   },
   "outputs": [
    {
     "name": "stdout",
     "output_type": "stream",
     "text": [
      "Already exists: 2017-02-15_124211_centered.npd.npy\n",
      "Already exists: 2017-02-15_140614_centered.npd.npy\n",
      "Already exists: 2017-02-15_155457_centered.npd.npy\n",
      "Already exists: 2017-02-15_163416_centered.npd.npy\n",
      "Already exists: 2017-02-15_170842_centered.npd.npy\n",
      "Already exists: 2017-02-15_182325_centered.npd.npy\n",
      "Already exists: 2017-02-15_234604_centered.npd.npy\n",
      "Already exists: 2017-02-16_073659_centered.npd.npy\n",
      "Already exists: 2017-02-16_075930_centered.npd.npy\n",
      "Already exists: 2017-02-16_081727_centered.npd.npy\n",
      "Already exists: 2017-02-16_092616_centered.npd.npy\n",
      "Already exists: 2017-02-16_121807_centered.npd.npy\n",
      "Already exists: 2017-02-16_140100_centered.npd.npy\n",
      "Already exists: 2017-02-16_143022_centered.npd.npy\n",
      "Already exists: 2017-02-16_150908_centered.npd.npy\n"
     ]
    }
   ],
   "source": [
    "for root in roots:\n",
    "    npd = npy.NumpyDirectory(root)\n",
    "    filename = os.path.split(npd.root_path)[-1] + '.npy'\n",
    "    if glob(filename):\n",
    "        print(\"Already exists: {}\".format(filename))\n",
    "    else:\n",
    "        sss_list = [npd.read(name) for name in npd.node_names() if name.startswith('SingleSweepStream')]\n",
    "        for sss in sss_list:\n",
    "            temperature.add_temperature(measurement=sss, cryostat='HPD')\n",
    "        df = pd.concat([sss.to_dataframe() for sss in sss_list])\n",
    "        print(\"Saved: {}\".format(filename))\n",
    "        np.save(filename, df.to_records())\n",
    "    npd.close()"
   ]
  }
 ],
 "metadata": {
  "kernelspec": {
   "display_name": "Python 2: Analysis",
   "language": "python",
   "name": "analysis"
  },
  "language_info": {
   "codemirror_mode": {
    "name": "ipython",
    "version": 2
   },
   "file_extension": ".py",
   "mimetype": "text/x-python",
   "name": "python",
   "nbconvert_exporter": "python",
   "pygments_lexer": "ipython2",
   "version": "2.7.13"
  }
 },
 "nbformat": 4,
 "nbformat_minor": 2
}
