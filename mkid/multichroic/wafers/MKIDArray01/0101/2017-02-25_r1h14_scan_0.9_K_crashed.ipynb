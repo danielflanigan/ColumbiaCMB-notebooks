{
 "cells": [
  {
   "cell_type": "code",
   "execution_count": 11,
   "metadata": {
    "collapsed": true
   },
   "outputs": [],
   "source": [
    "%matplotlib inline"
   ]
  },
  {
   "cell_type": "code",
   "execution_count": 12,
   "metadata": {
    "collapsed": true
   },
   "outputs": [],
   "source": [
    "from scipy import signal"
   ]
  },
  {
   "cell_type": "code",
   "execution_count": 13,
   "metadata": {
    "collapsed": true
   },
   "outputs": [],
   "source": [
    "from kid_readout.measurement.io import npy\n",
    "from kid_readout.measurement import plot_basic\n",
    "from kid_readout.analysis import detect_peaks\n",
    "from kid_readout.analysis.resonator import find_resonators, lmfit_resonator"
   ]
  },
  {
   "cell_type": "code",
   "execution_count": 14,
   "metadata": {
    "collapsed": true
   },
   "outputs": [],
   "source": [
    "npd = npy.NumpyDirectory('/data/detectors/2017-02-25_224627_scan.npd/')"
   ]
  },
  {
   "cell_type": "code",
   "execution_count": 15,
   "metadata": {
    "collapsed": false
   },
   "outputs": [],
   "source": [
    "sweeps = [npd.read(name) for name in npd.node_names() if name.startswith('SweepArray')]\n",
    "snaps = [npd.read(name) for name in npd.node_names() if name.startswith('ADCSnap')]"
   ]
  },
  {
   "cell_type": "code",
   "execution_count": 16,
   "metadata": {
    "collapsed": false,
    "scrolled": true
   },
   "outputs": [
    {
     "data": {
      "text/plain": [
       "[(139.0, 137.0),\n",
       " (151.0, 130.0),\n",
       " (163.0, 141.0),\n",
       " (173.0, 171.0),\n",
       " (167.0, 156.0),\n",
       " (152.0, 140.0),\n",
       " (145.0, 136.0),\n",
       " (136.0, 150.0),\n",
       " (135.0, 157.0),\n",
       " (132.0, 169.0),\n",
       " (131.0, 180.0),\n",
       " (125.0, 158.0),\n",
       " (127.0, 147.0),\n",
       " (135.0, 135.0),\n",
       " (146.0, 133.0),\n",
       " (142.0, 132.0),\n",
       " (137.0, 109.0),\n",
       " (122.0, 96.0),\n",
       " (114.0, 97.0),\n",
       " (107.0, 92.0),\n",
       " (109.0, 119.0),\n",
       " (111.0, 128.0),\n",
       " (105.0, 131.0),\n",
       " (99.0, 131.0),\n",
       " (95.0, 127.0),\n",
       " (87.0, 116.0),\n",
       " (85.0, 106.0),\n",
       " (94.0, 110.0)]"
      ]
     },
     "execution_count": 16,
     "metadata": {},
     "output_type": "execute_result"
    }
   ],
   "source": [
    "[(snap.x.ptp(), snap.y.ptp()) for snap in snaps]"
   ]
  },
  {
   "cell_type": "code",
   "execution_count": 17,
   "metadata": {
    "collapsed": true
   },
   "outputs": [],
   "source": [
    "def remove_background(f, s21, amp_degree=4, phi_degree=4, weights=None):\n",
    "    if weights is None:\n",
    "        weights = np.abs(s21)**2\n",
    "    amp_poly = np.polyfit(f, np.abs(s21), deg=amp_degree, w=weights)\n",
    "    phi_poly = np.polyfit(f, np.unwrap(np.angle(s21)), deg=phi_degree, w=weights)\n",
    "    return s21 / (np.polyval(amp_poly, f) * np.exp(1j * np.polyval(phi_poly, f)))"
   ]
  },
  {
   "cell_type": "markdown",
   "metadata": {},
   "source": [
    "# Raw data"
   ]
  },
  {
   "cell_type": "code",
   "execution_count": 18,
   "metadata": {
    "collapsed": false
   },
   "outputs": [
    {
     "data": {
      "image/png": "[encoded data removed]",
      "text/plain": [
       "<matplotlib.figure.Figure at 0x7ff1d303d9d0>"
      ]
     },
     "metadata": {},
     "output_type": "display_data"
    }
   ],
   "source": [
    "fig, ax = plt.subplots()\n",
    "for sa in sweeps:\n",
    "    ax.plot(sa.frequency_MHz, 20 * np.log10(np.abs(sa.s21_point)), ',k')"
   ]
  },
  {
   "cell_type": "code",
   "execution_count": null,
   "metadata": {
    "collapsed": true
   },
   "outputs": [],
   "source": []
  }
 ],
 "metadata": {
  "kernelspec": {
   "display_name": "Python 2: Analysis",
   "language": "python",
   "name": "analysis"
  },
  "language_info": {
   "codemirror_mode": {
    "name": "ipython",
    "version": 2
   },
   "file_extension": ".py",
   "mimetype": "text/x-python",
   "name": "python",
   "nbconvert_exporter": "python",
   "pygments_lexer": "ipython2",
   "version": "2.7.13"
  }
 },
 "nbformat": 4,
 "nbformat_minor": 2
}
