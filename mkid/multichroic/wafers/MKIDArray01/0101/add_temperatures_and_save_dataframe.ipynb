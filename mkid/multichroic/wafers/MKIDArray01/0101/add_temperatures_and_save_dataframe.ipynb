{
 "cells": [
  {
   "cell_type": "code",
   "execution_count": 1,
   "metadata": {
    "collapsed": true
   },
   "outputs": [],
   "source": [
    "import os\n",
    "from glob import glob"
   ]
  },
  {
   "cell_type": "code",
   "execution_count": 2,
   "metadata": {
    "collapsed": true
   },
   "outputs": [],
   "source": [
    "from kid_readout.measurement.io import npy\n",
    "from kid_readout.measurement import temperature\n",
    "from kid_readout.analysis.resonator.lmfit_resonator import LinearLossResonatorWithCable"
   ]
  },
  {
   "cell_type": "code",
   "execution_count": 3,
   "metadata": {
    "collapsed": true
   },
   "outputs": [],
   "source": [
    "roots = ['/data/detectors/2017-02-28_154227_temperature_fine_paired.npd/',  # 200 mK\n",
    "         '/data/detectors/2017-02-28_160919_temperature_fine_paired.npd/',  # 250 mK\n",
    "         '/data/detectors/2017-02-28_164113_temperature_fine_paired.npd/',  # 280 mK; last bad\n",
    "         '/data/detectors/2017-02-28_171458_temperature_fine_paired.npd/',  # 350 mK; last two bad\n",
    "         '/data/detectors/2017-02-28_204707_temperature_fine_paired.npd/',  # 80 mK\n",
    "         '/data/detectors/2017-02-28_212352_temperature_fine_paired.npd/',  # 120 mK\n",
    "         '/data/detectors/2017-02-28_221909_temperature_fine_paired.npd/',  # 160 mK\n",
    "         '/data/detectors/2017-02-28_230538_temperature_fine_paired.npd/',  # 300 mK\n",
    "         '/data/detectors/2017-02-28_235853_temperature_fine_paired.npd/',  # 330 mK\n",
    "         '/data/detectors/2017-03-01_005241_temperature_fine_paired.npd/',  # 370 mK; last one bad\n",
    "        ]"
   ]
  },
  {
   "cell_type": "code",
   "execution_count": 4,
   "metadata": {},
   "outputs": [
    {
     "name": "stdout",
     "output_type": "stream",
     "text": [
      "Already exists: 2017-02-28_154227_temperature_fine_paired.npd.npy\n",
      "Already exists: 2017-02-28_160919_temperature_fine_paired.npd.npy\n",
      "Already exists: 2017-02-28_164113_temperature_fine_paired.npd.npy\n",
      "Already exists: 2017-02-28_171458_temperature_fine_paired.npd.npy\n",
      "Already exists: 2017-02-28_204707_temperature_fine_paired.npd.npy\n",
      "Already exists: 2017-02-28_212352_temperature_fine_paired.npd.npy\n",
      "Already exists: 2017-02-28_221909_temperature_fine_paired.npd.npy\n",
      "Already exists: 2017-02-28_230538_temperature_fine_paired.npd.npy\n"
     ]
    },
    {
     "name": "stderr",
     "output_type": "stream",
     "text": [
      "/home/flanigan/readout/kid_readout/kid_readout/analysis/resonator/equations.py:86: RuntimeWarning: divide by zero encountered in true_divide\n",
      "  (1 + (loss_i + 2j * x) / loss_c))\n",
      "/home/flanigan/readout/kid_readout/kid_readout/analysis/resonator/equations.py:86: RuntimeWarning: invalid value encountered in true_divide\n",
      "  (1 + (loss_i + 2j * x) / loss_c))\n",
      "/home/flanigan/readout/kid_readout/kid_readout/analysis/resonator/lmfit_resonator.py:419: RuntimeWarning: divide by zero encountered in double_scalars\n",
      "  return 1 / self.loss_i\n",
      "/home/flanigan/readout/kid_readout/kid_readout/analysis/resonator/lmfit_resonator.py:407: RuntimeWarning: divide by zero encountered in cdouble_scalars\n",
      "  return 1 / (self.loss_c * (1 + 1j * self.asymmetry))\n",
      "/home/flanigan/readout/kid_readout/kid_readout/analysis/resonator/lmfit_resonator.py:407: RuntimeWarning: invalid value encountered in cdouble_scalars\n",
      "  return 1 / (self.loss_c * (1 + 1j * self.asymmetry))\n"
     ]
    },
    {
     "name": "stdout",
     "output_type": "stream",
     "text": [
      "Saved: 2017-02-28_235853_temperature_fine_paired.npd.npy\n",
      "Saved: 2017-03-01_005241_temperature_fine_paired.npd.npy\n"
     ]
    }
   ],
   "source": [
    "for root in roots:\n",
    "    npd = npy.NumpyDirectory(root)\n",
    "    filename = os.path.split(npd.root_path)[-1] + '.npy'\n",
    "    if glob(filename):\n",
    "        print(\"Already exists: {}\".format(filename))\n",
    "    else:\n",
    "        sss_list = [npd.read(name) for name in npd.node_names() if name.startswith('SingleSweepStream')]\n",
    "        for sss in sss_list:\n",
    "            temperature.add_temperature(measurement=sss, cryostat='HPD')\n",
    "            sss.sweep.fit_resonator(model=LinearLossResonatorWithCable)\n",
    "        df = pd.concat([sss.to_dataframe() for sss in sss_list])\n",
    "        print(\"Saved: {}\".format(filename))\n",
    "        np.save(filename, df.to_records())\n",
    "    npd.close()"
   ]
  }
 ],
 "metadata": {
  "kernelspec": {
   "display_name": "Python 2",
   "language": "python",
   "name": "python2"
  },
  "language_info": {
   "codemirror_mode": {
    "name": "ipython",
    "version": 2
   },
   "file_extension": ".py",
   "mimetype": "text/x-python",
   "name": "python",
   "nbconvert_exporter": "python",
   "pygments_lexer": "ipython2",
   "version": "2.7.14"
  }
 },
 "nbformat": 4,
 "nbformat_minor": 2
}
