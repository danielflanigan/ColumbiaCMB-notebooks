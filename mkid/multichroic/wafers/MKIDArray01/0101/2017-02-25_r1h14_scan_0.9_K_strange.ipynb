{
 "cells": [
  {
   "cell_type": "code",
   "execution_count": 1,
   "metadata": {
    "collapsed": true
   },
   "outputs": [],
   "source": [
    "%matplotlib inline"
   ]
  },
  {
   "cell_type": "code",
   "execution_count": 2,
   "metadata": {
    "collapsed": true
   },
   "outputs": [],
   "source": [
    "from scipy import signal"
   ]
  },
  {
   "cell_type": "code",
   "execution_count": 3,
   "metadata": {
    "collapsed": true
   },
   "outputs": [],
   "source": [
    "from kid_readout.measurement.io import npy\n",
    "from kid_readout.measurement import plot_basic\n",
    "from kid_readout.analysis import detect_peaks\n",
    "from kid_readout.analysis.resonator import find_resonators, lmfit_resonator"
   ]
  },
  {
   "cell_type": "code",
   "execution_count": 4,
   "metadata": {
    "collapsed": true
   },
   "outputs": [],
   "source": [
    "npd = npy.NumpyDirectory('/data/detectors/2017-02-25_223124_scan.npd/')"
   ]
  },
  {
   "cell_type": "code",
   "execution_count": 5,
   "metadata": {
    "collapsed": false
   },
   "outputs": [],
   "source": [
    "sweeps = [npd.read(name) for name in npd.node_names() if name.startswith('SweepArray')]\n",
    "snaps = [npd.read(name) for name in npd.node_names() if name.startswith('ADCSnap')]"
   ]
  },
  {
   "cell_type": "code",
   "execution_count": 6,
   "metadata": {
    "collapsed": false,
    "scrolled": true
   },
   "outputs": [
    {
     "data": {
      "text/plain": [
       "[(140.0, 132.0),\n",
       " (146.0, 117.0),\n",
       " (165.0, 139.0),\n",
       " (174.0, 168.0),\n",
       " (162.0, 153.0),\n",
       " (155.0, 148.0),\n",
       " (143.0, 135.0),\n",
       " (140.0, 144.0),\n",
       " (133.0, 162.0),\n",
       " (124.0, 168.0),\n",
       " (125.0, 162.0),\n",
       " (122.0, 152.0),\n",
       " (126.0, 145.0),\n",
       " (137.0, 131.0),\n",
       " (150.0, 128.0),\n",
       " (145.0, 123.0),\n",
       " (142.0, 116.0),\n",
       " (121.0, 102.0),\n",
       " (51.0, 39.0),\n",
       " (53.0, 47.0),\n",
       " (56.0, 38.0),\n",
       " (53.0, 40.0),\n",
       " (48.0, 46.0),\n",
       " (48.0, 51.0),\n",
       " (47.0, 60.0),\n",
       " (47.0, 50.0),\n",
       " (45.0, 48.0),\n",
       " (45.0, 49.0),\n",
       " (38.0, 50.0),\n",
       " (33.0, 53.0),\n",
       " (30.0, 53.0),\n",
       " (23.0, 58.0),\n",
       " (27.0, 54.0),\n",
       " (29.0, 47.0),\n",
       " (34.0, 48.0),\n",
       " (38.0, 45.0),\n",
       " (41.0, 42.0),\n",
       " (45.0, 37.0),\n",
       " (44.0, 24.0),\n",
       " (45.0, 28.0),\n",
       " (41.0, 32.0),\n",
       " (37.0, 32.0),\n",
       " (35.0, 35.0),\n",
       " (33.0, 37.0),\n",
       " (30.0, 42.0),\n",
       " (24.0, 42.0),\n",
       " (25.0, 45.0),\n",
       " (30.0, 42.0),\n",
       " (35.0, 38.0),\n",
       " (39.0, 34.0),\n",
       " (39.0, 32.0),\n",
       " (40.0, 25.0),\n",
       " (38.0, 23.0),\n",
       " (41.0, 25.0),\n",
       " (37.0, 27.0),\n",
       " (38.0, 29.0),\n",
       " (37.0, 38.0),\n",
       " (31.0, 40.0),\n",
       " (24.0, 39.0),\n",
       " (21.0, 37.0),\n",
       " (23.0, 37.0),\n",
       " (20.0, 37.0),\n",
       " (24.0, 39.0),\n",
       " (28.0, 43.0),\n",
       " (35.0, 35.0),\n",
       " (37.0, 31.0),\n",
       " (37.0, 25.0),\n",
       " (36.0, 19.0),\n",
       " (34.0, 22.0),\n",
       " (34.0, 22.0),\n",
       " (36.0, 31.0),\n",
       " (36.0, 31.0),\n",
       " (31.0, 36.0),\n",
       " (28.0, 37.0),\n",
       " (21.0, 39.0),\n",
       " (17.0, 41.0),\n",
       " (23.0, 36.0),\n",
       " (23.0, 31.0),\n",
       " (28.0, 30.0),\n",
       " (31.0, 29.0),\n",
       " (34.0, 24.0),\n",
       " (34.0, 20.0),\n",
       " (36.0, 20.0),\n",
       " (36.0, 21.0),\n",
       " (34.0, 28.0),\n",
       " (28.0, 28.0),\n",
       " (24.0, 31.0),\n",
       " (20.0, 32.0),\n",
       " (17.0, 31.0),\n",
       " (19.0, 32.0),\n",
       " (19.0, 30.0),\n",
       " (21.0, 27.0),\n",
       " (26.0, 28.0),\n",
       " (26.0, 25.0),\n",
       " (28.0, 20.0),\n",
       " (24.0, 19.0),\n",
       " (28.0, 16.0),\n",
       " (25.0, 17.0),\n",
       " (26.0, 17.0),\n",
       " (24.0, 21.0),\n",
       " (22.0, 25.0),\n",
       " (19.0, 25.0),\n",
       " (15.0, 23.0),\n",
       " (16.0, 19.0),\n",
       " (14.0, 23.0),\n",
       " (17.0, 22.0),\n",
       " (19.0, 21.0),\n",
       " (21.0, 17.0),\n",
       " (21.0, 15.0),\n",
       " (20.0, 12.0),\n",
       " (20.0, 14.0),\n",
       " (20.0, 15.0),\n",
       " (19.0, 18.0),\n",
       " (15.0, 17.0),\n",
       " (15.0, 17.0),\n",
       " (11.0, 18.0),\n",
       " (11.0, 20.0),\n",
       " (13.0, 18.0),\n",
       " (15.0, 18.0),\n",
       " (14.0, 15.0),\n",
       " (16.0, 13.0),\n",
       " (16.0, 10.0),\n",
       " (15.0, 10.0),\n",
       " (15.0, 10.0),\n",
       " (15.0, 11.0),\n",
       " (15.0, 13.0),\n",
       " (12.0, 12.0),\n",
       " (12.0, 13.0),\n",
       " (11.0, 14.0),\n",
       " (9.0, 14.0),\n",
       " (9.0, 13.0),\n",
       " (9.0, 12.0),\n",
       " (10.0, 12.0),\n",
       " (11.0, 12.0),\n",
       " (12.0, 10.0),\n",
       " (11.0, 10.0),\n",
       " (12.0, 10.0),\n",
       " (11.0, 8.0)]"
      ]
     },
     "execution_count": 6,
     "metadata": {},
     "output_type": "execute_result"
    }
   ],
   "source": [
    "[(snap.x.ptp(), snap.y.ptp()) for snap in snaps]"
   ]
  },
  {
   "cell_type": "code",
   "execution_count": 7,
   "metadata": {
    "collapsed": true
   },
   "outputs": [],
   "source": [
    "def remove_background(f, s21, amp_degree=4, phi_degree=4, weights=None):\n",
    "    if weights is None:\n",
    "        weights = np.abs(s21)**2\n",
    "    amp_poly = np.polyfit(f, np.abs(s21), deg=amp_degree, w=weights)\n",
    "    phi_poly = np.polyfit(f, np.unwrap(np.angle(s21)), deg=phi_degree, w=weights)\n",
    "    return s21 / (np.polyval(amp_poly, f) * np.exp(1j * np.polyval(phi_poly, f)))"
   ]
  },
  {
   "cell_type": "markdown",
   "metadata": {},
   "source": [
    "# Raw data"
   ]
  },
  {
   "cell_type": "code",
   "execution_count": 8,
   "metadata": {
    "collapsed": false
   },
   "outputs": [
    {
     "name": "stderr",
     "output_type": "stream",
     "text": [
      "/home/flanigan/miniconda2/envs/analysis/lib/python2.7/site-packages/ipykernel/__main__.py:3: RuntimeWarning: divide by zero encountered in log10\n",
      "  app.launch_new_instance()\n"
     ]
    },
    {
     "data": {
      "text/plain": [
       "(-20, 0)"
      ]
     },
     "execution_count": 8,
     "metadata": {},
     "output_type": "execute_result"
    },
    {
     "data": {
      "image/png": "[encoded data removed]",
      "text/plain": [
       "<matplotlib.figure.Figure at 0x7fde61927f10>"
      ]
     },
     "metadata": {},
     "output_type": "display_data"
    }
   ],
   "source": [
    "fig, ax = plt.subplots()\n",
    "for sa in sweeps:\n",
    "    ax.plot(sa.frequency_MHz, 20 * np.log10(np.abs(sa.s21_point)), ',k')\n",
    "ax.set_ylim(-20, 0)"
   ]
  }
 ],
 "metadata": {
  "kernelspec": {
   "display_name": "Python 2: Analysis",
   "language": "python",
   "name": "analysis"
  },
  "language_info": {
   "codemirror_mode": {
    "name": "ipython",
    "version": 2
   },
   "file_extension": ".py",
   "mimetype": "text/x-python",
   "name": "python",
   "nbconvert_exporter": "python",
   "pygments_lexer": "ipython2",
   "version": "2.7.13"
  }
 },
 "nbformat": 4,
 "nbformat_minor": 2
}
