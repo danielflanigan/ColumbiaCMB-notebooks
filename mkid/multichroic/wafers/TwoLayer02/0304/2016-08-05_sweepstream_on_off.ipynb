{
 "cells": [
  {
   "cell_type": "markdown",
   "metadata": {},
   "source": [
    "This data was useless because the roach1 LO was being set instead of the mark2 LO. File deleted."
   ]
  },
  {
   "cell_type": "code",
   "execution_count": 1,
   "metadata": {
    "collapsed": true
   },
   "outputs": [],
   "source": [
    "%matplotlib inline"
   ]
  },
  {
   "cell_type": "code",
   "execution_count": 2,
   "metadata": {
    "collapsed": true
   },
   "outputs": [],
   "source": [
    "from kid_readout.measurement.io import nc"
   ]
  },
  {
   "cell_type": "code",
   "execution_count": 9,
   "metadata": {
    "collapsed": true
   },
   "outputs": [],
   "source": [
    "from collections import namedtuple\n",
    "ResonatorData = namedtuple('ResonatorData', field_names=['f_data', 's21_data',\n",
    "                                                         'f_model', 's21_model',\n",
    "                                                         'f_r', 's21_r'])\n",
    "\n",
    "def extract(resonator, normalize, num_model_points):\n",
    "    f_data = resonator.frequency.copy()\n",
    "    s21_data = resonator.data.copy()\n",
    "    f_model = np.linspace(f_data.min(), f_data.max(), num_model_points)\n",
    "    s21_model = resonator.model.eval(params=resonator.current_params, f=f_model)\n",
    "    f_r = resonator.f_0\n",
    "    s21_r = resonator.model.eval(params=resonator.current_params, f=f_r)\n",
    "    if normalize:\n",
    "        s21_data = resonator.remove_background(frequency=f_data, s21_raw=s21_data)\n",
    "        s21_model = resonator.remove_background(frequency=f_model, s21_raw=s21_model)\n",
    "        s21_r = resonator.remove_background(frequency=f_r, s21_raw=s21_r)\n",
    "    return ResonatorData(f_data, s21_data, f_model, s21_model, f_r, s21_r)\n",
    "\n",
    "    \n",
    "def amplitude(axis, resonator, normalize=False, num_model_points=1000, f_scale=1e-6, three_ticks=True):\n",
    "    rd = extract(resonator, normalize, num_model_points)\n",
    "    ax.plot(f_scale * rd.f_data, 20 * np.log10(np.abs(rd.s21_data)), '.b', markersize=2)\n",
    "    ax.plot(f_scale * rd.f_model, 20 * np.log10(np.abs(rd.s21_model)), '-', color='brown')\n",
    "    ax.plot(f_scale * rd.f_r, 20 * np.log10(np.abs(rd.s21_r)), '.', color='brown', markersize=3)\n",
    "    if three_ticks:\n",
    "        ax.set_xticks(f_scale * np.array([rd.f_data.min(), rd.f_r, rd.f_data.max()]))\n"
   ]
  },
  {
   "cell_type": "code",
   "execution_count": 3,
   "metadata": {
    "collapsed": true
   },
   "outputs": [],
   "source": [
    "ncf = nc.NCFile('/data/detectors/2016-08-05_193023_sweep_stream_on_off.nc')"
   ]
  },
  {
   "cell_type": "code",
   "execution_count": 4,
   "metadata": {
    "collapsed": false,
    "scrolled": true
   },
   "outputs": [
    {
     "data": {
      "text/plain": [
       "[u'SingleSweepStream0',\n",
       " u'SingleSweep1',\n",
       " u'SingleStream2',\n",
       " u'ADCSnap3',\n",
       " u'SingleSweepStream4',\n",
       " u'SingleSweep5',\n",
       " u'SingleStream6',\n",
       " u'ADCSnap7',\n",
       " u'SingleSweepStream8',\n",
       " u'SingleSweep9',\n",
       " u'SingleStream10',\n",
       " u'ADCSnap11',\n",
       " u'SingleSweepStream12',\n",
       " u'SingleSweep13',\n",
       " u'SingleStream14',\n",
       " u'ADCSnap15',\n",
       " u'SingleSweepStream16',\n",
       " u'SingleSweep17',\n",
       " u'SingleStream18',\n",
       " u'ADCSnap19',\n",
       " u'SingleSweepStream20',\n",
       " u'SingleSweep21',\n",
       " u'SingleStream22',\n",
       " u'ADCSnap23',\n",
       " u'SingleSweepStream24',\n",
       " u'SingleSweep25',\n",
       " u'SingleStream26',\n",
       " u'ADCSnap27',\n",
       " u'SingleSweepStream28',\n",
       " u'SingleSweep29',\n",
       " u'SingleStream30',\n",
       " u'ADCSnap31',\n",
       " u'SingleSweepStream32',\n",
       " u'SingleSweep33',\n",
       " u'SingleStream34',\n",
       " u'ADCSnap35',\n",
       " u'SingleSweepStream36',\n",
       " u'SingleSweep37',\n",
       " u'SingleStream38',\n",
       " u'ADCSnap39',\n",
       " u'SingleSweepStream40',\n",
       " u'SingleSweep41',\n",
       " u'SingleStream42',\n",
       " u'ADCSnap43',\n",
       " u'SingleSweepStream44',\n",
       " u'SingleSweep45',\n",
       " u'SingleStream46',\n",
       " u'ADCSnap47',\n",
       " u'SingleSweepStream48',\n",
       " u'SingleSweep49',\n",
       " u'SingleStream50',\n",
       " u'ADCSnap51',\n",
       " u'SingleSweepStream52',\n",
       " u'SingleSweep53',\n",
       " u'SingleStream54',\n",
       " u'ADCSnap55',\n",
       " u'SingleSweepStream56',\n",
       " u'SingleSweep57',\n",
       " u'SingleStream58',\n",
       " u'ADCSnap59',\n",
       " u'SingleSweepStream60',\n",
       " u'SingleSweep61',\n",
       " u'SingleStream62',\n",
       " u'ADCSnap63',\n",
       " u'SingleSweepStream64',\n",
       " u'SingleSweep65',\n",
       " u'SingleStream66',\n",
       " u'ADCSnap67',\n",
       " u'SingleSweepStream68',\n",
       " u'SingleSweep69',\n",
       " u'SingleStream70',\n",
       " u'ADCSnap71',\n",
       " u'SingleSweepStream72',\n",
       " u'SingleSweep73',\n",
       " u'SingleStream74',\n",
       " u'ADCSnap75',\n",
       " u'SingleSweepStream76',\n",
       " u'SingleSweep77',\n",
       " u'SingleStream78',\n",
       " u'ADCSnap79',\n",
       " u'SingleSweepStream80',\n",
       " u'SingleSweep81',\n",
       " u'SingleStream82',\n",
       " u'ADCSnap83',\n",
       " u'SingleSweepStream84',\n",
       " u'SingleSweep85',\n",
       " u'SingleStream86',\n",
       " u'ADCSnap87',\n",
       " u'SingleSweepStream88',\n",
       " u'SingleSweep89',\n",
       " u'SingleStream90',\n",
       " u'ADCSnap91',\n",
       " u'SingleSweepStream92',\n",
       " u'SingleSweep93',\n",
       " u'SingleStream94',\n",
       " u'ADCSnap95',\n",
       " u'SingleSweepStream96',\n",
       " u'SingleSweep97',\n",
       " u'SingleStream98',\n",
       " u'ADCSnap99',\n",
       " u'SingleSweepStream100',\n",
       " u'SingleSweep101',\n",
       " u'SingleStream102',\n",
       " u'ADCSnap103',\n",
       " u'SingleSweepStream104',\n",
       " u'SingleSweep105',\n",
       " u'SingleStream106',\n",
       " u'ADCSnap107',\n",
       " u'SingleSweepStream108',\n",
       " u'SingleSweep109',\n",
       " u'SingleStream110',\n",
       " u'ADCSnap111',\n",
       " u'SingleSweepStream112',\n",
       " u'SingleSweep113',\n",
       " u'SingleStream114',\n",
       " u'ADCSnap115',\n",
       " u'SingleSweepStream116',\n",
       " u'SingleSweep117',\n",
       " u'SingleStream118',\n",
       " u'ADCSnap119',\n",
       " u'SingleSweepStream120',\n",
       " u'SingleSweep121',\n",
       " u'SingleStream122',\n",
       " u'ADCSnap123',\n",
       " u'SingleSweepStream124',\n",
       " u'SingleSweep125',\n",
       " u'SingleStream126',\n",
       " u'ADCSnap127']"
      ]
     },
     "execution_count": 4,
     "metadata": {},
     "output_type": "execute_result"
    }
   ],
   "source": [
    "ncf.node_names()"
   ]
  },
  {
   "cell_type": "code",
   "execution_count": 5,
   "metadata": {
    "collapsed": true
   },
   "outputs": [],
   "source": [
    "all_sss = [ncf.read(name) for name in ncf.node_names() if name.startswith('SingleSweepStream')]"
   ]
  },
  {
   "cell_type": "code",
   "execution_count": 18,
   "metadata": {
    "collapsed": true
   },
   "outputs": [],
   "source": [
    "all_snaps = [ncf.read(name) for name in ncf.node_names() if name.startswith('ADCSnap')]"
   ]
  },
  {
   "cell_type": "code",
   "execution_count": 21,
   "metadata": {
    "collapsed": false,
    "scrolled": true
   },
   "outputs": [
    {
     "data": {
      "text/plain": [
       "[25.0,\n",
       " 14.0,\n",
       " 11.0,\n",
       " 10.0,\n",
       " 24.0,\n",
       " 12.0,\n",
       " 10.0,\n",
       " 8.0,\n",
       " 24.0,\n",
       " 13.0,\n",
       " 11.0,\n",
       " 9.0,\n",
       " 24.0,\n",
       " 12.0,\n",
       " 9.0,\n",
       " 8.0,\n",
       " 24.0,\n",
       " 13.0,\n",
       " 9.0,\n",
       " 10.0,\n",
       " 24.0,\n",
       " 12.0,\n",
       " 9.0,\n",
       " 9.0,\n",
       " 24.0,\n",
       " 12.0,\n",
       " 10.0,\n",
       " 9.0,\n",
       " 23.0,\n",
       " 13.0,\n",
       " 8.0,\n",
       " 10.0]"
      ]
     },
     "execution_count": 21,
     "metadata": {},
     "output_type": "execute_result"
    }
   ],
   "source": [
    "[snap.x.ptp() for snap in all_snaps]"
   ]
  },
  {
   "cell_type": "code",
   "execution_count": 20,
   "metadata": {
    "collapsed": false,
    "scrolled": true
   },
   "outputs": [
    {
     "data": {
      "text/plain": [
       "[24.0,\n",
       " 13.0,\n",
       " 10.0,\n",
       " 10.0,\n",
       " 25.0,\n",
       " 11.0,\n",
       " 10.0,\n",
       " 8.0,\n",
       " 24.0,\n",
       " 13.0,\n",
       " 11.0,\n",
       " 8.0,\n",
       " 23.0,\n",
       " 13.0,\n",
       " 9.0,\n",
       " 8.0,\n",
       " 23.0,\n",
       " 12.0,\n",
       " 9.0,\n",
       " 9.0,\n",
       " 25.0,\n",
       " 12.0,\n",
       " 9.0,\n",
       " 10.0,\n",
       " 24.0,\n",
       " 11.0,\n",
       " 11.0,\n",
       " 8.0,\n",
       " 23.0,\n",
       " 12.0,\n",
       " 9.0,\n",
       " 9.0]"
      ]
     },
     "execution_count": 20,
     "metadata": {},
     "output_type": "execute_result"
    }
   ],
   "source": [
    "[snap.y.ptp() for snap in all_snaps]"
   ]
  },
  {
   "cell_type": "code",
   "execution_count": 32,
   "metadata": {
    "collapsed": true
   },
   "outputs": [],
   "source": [
    "num_attenuations = 4\n",
    "num_channels = 8\n",
    "sss_dict = {}\n",
    "for channel in range(num_channels):\n",
    "    sss_dict[channel] = all_sss[channel * num_attenuations:(channel + 1) * num_attenuations]"
   ]
  },
  {
   "cell_type": "code",
   "execution_count": 35,
   "metadata": {
    "collapsed": false
   },
   "outputs": [
    {
     "data": {
      "text/plain": [
       "[<kid_readout.measurement.basic.SingleSweepStream at 0x7eff3a2d7cd0>,\n",
       " <kid_readout.measurement.basic.SingleSweepStream at 0x7eff346c4bd0>,\n",
       " <kid_readout.measurement.basic.SingleSweepStream at 0x7eff345e9210>,\n",
       " <kid_readout.measurement.basic.SingleSweepStream at 0x7eff34518110>]"
      ]
     },
     "execution_count": 35,
     "metadata": {},
     "output_type": "execute_result"
    }
   ],
   "source": [
    "sss_dict[0]"
   ]
  },
  {
   "cell_type": "code",
   "execution_count": 44,
   "metadata": {
    "collapsed": false
   },
   "outputs": [
    {
     "data": {
      "image/png": "[encoded data removed]",
      "text/plain": [
       "<matplotlib.figure.Figure at 0x7eff2adcaf10>"
      ]
     },
     "metadata": {},
     "output_type": "display_data"
    }
   ],
   "source": [
    "number = 0\n",
    "fig, ax = plt.subplots()\n",
    "for sss in sss_dict[number]:\n",
    "    amplitude(ax, sss.resonator)"
   ]
  },
  {
   "cell_type": "code",
   "execution_count": null,
   "metadata": {
    "collapsed": true
   },
   "outputs": [],
   "source": []
  }
 ],
 "metadata": {
  "kernelspec": {
   "display_name": "Python 2: Analysis",
   "language": "python",
   "name": "analysis"
  },
  "language_info": {
   "codemirror_mode": {
    "name": "ipython",
    "version": 2
   },
   "file_extension": ".py",
   "mimetype": "text/x-python",
   "name": "python",
   "nbconvert_exporter": "python",
   "pygments_lexer": "ipython2",
   "version": "2.7.12"
  }
 },
 "nbformat": 4,
 "nbformat_minor": 0
}
