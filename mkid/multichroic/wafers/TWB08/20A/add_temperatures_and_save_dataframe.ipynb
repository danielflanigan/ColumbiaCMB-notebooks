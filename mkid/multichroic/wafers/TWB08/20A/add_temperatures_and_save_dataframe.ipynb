{
 "cells": [
  {
   "cell_type": "code",
   "execution_count": 1,
   "metadata": {
    "collapsed": true
   },
   "outputs": [],
   "source": [
    "import os\n",
    "from glob import glob"
   ]
  },
  {
   "cell_type": "code",
   "execution_count": 2,
   "metadata": {
    "collapsed": true
   },
   "outputs": [],
   "source": [
    "from kid_readout.measurement.io import npy\n",
    "from kid_readout.measurement import temperature"
   ]
  },
  {
   "cell_type": "code",
   "execution_count": 3,
   "metadata": {
    "collapsed": true
   },
   "outputs": [],
   "source": [
    "roots = ['/data/detectors/2017-03-07_153337_scan.npd/',  # 0.20 K\n",
    "         '/data/detectors/2017-03-07_162625_scan.npd/',  # 0.10 K\n",
    "         '/data/detectors/2017-03-07_164552_scan.npd/',  # 0.08 K\n",
    "         '/data/detectors/2017-03-07_172034_scan.npd/',  # 0.30 K\n",
    "         '/data/detectors/2017-03-07_185752_scan.npd/',  # 0.40 K\n",
    "         '/data/detectors/2017-03-08_094756_scan.npd/',  # 0.50 K\n",
    "         '/data/detectors/2017-03-08_095916_scan.npd/',  # 0.60 K\n",
    "         '/data/detectors/2017-03-08_100955_scan.npd/',  # 0.70 K\n",
    "         '/data/detectors/2017-03-08_103759_scan.npd/',  # 0.80 K\n",
    "         '/data/detectors/2017-03-08_104912_scan.npd/',  # 0.90 K\n",
    "         '/data/detectors/2017-03-08_110152_scan.npd/',  # 1.00 K\n",
    "         '/data/detectors/2017-03-08_151445_scan.npd/',  # 2.64 K\n",
    "         '/data/detectors/2017-03-09_114637_scan.npd/',  # 0.15 K\n",
    "         '/data/detectors/2017-03-09_120849_scan.npd/',  # 0.25 K\n",
    "         '/data/detectors/2017-03-10_110107_scan.npd/',  # 2.00 K\n",
    "        ]"
   ]
  },
  {
   "cell_type": "code",
   "execution_count": 4,
   "metadata": {
    "collapsed": false
   },
   "outputs": [
    {
     "name": "stdout",
     "output_type": "stream",
     "text": [
      "Already exists: 2017-03-07_153337_scan.npd.npy\n",
      "Already exists: 2017-03-07_162625_scan.npd.npy\n",
      "Already exists: 2017-03-07_164552_scan.npd.npy\n",
      "Already exists: 2017-03-07_172034_scan.npd.npy\n",
      "Already exists: 2017-03-07_185752_scan.npd.npy\n",
      "Already exists: 2017-03-08_094756_scan.npd.npy\n",
      "Already exists: 2017-03-08_095916_scan.npd.npy\n",
      "Already exists: 2017-03-08_100955_scan.npd.npy\n",
      "Already exists: 2017-03-08_103759_scan.npd.npy\n",
      "Already exists: 2017-03-08_104912_scan.npd.npy\n",
      "Already exists: 2017-03-08_110152_scan.npd.npy\n",
      "Already exists: 2017-03-08_151445_scan.npd.npy\n",
      "Already exists: 2017-03-09_114637_scan.npd.npy\n",
      "Already exists: 2017-03-09_120849_scan.npd.npy\n",
      "Saved: 2017-03-10_110107_scan.npd.npy\n"
     ]
    }
   ],
   "source": [
    "for root in roots:\n",
    "    npd = npy.NumpyDirectory(root)\n",
    "    filename = os.path.split(npd.root_path)[-1] + '.npy'\n",
    "    if glob(filename):\n",
    "        print(\"Already exists: {}\".format(filename))\n",
    "    else:\n",
    "        sweep_list = [npd.read(name) for name in npd.node_names() if name.startswith('SweepArray')]\n",
    "        for sweep in sweep_list:\n",
    "            temperature.add_temperature(measurement=sweep, cryostat='HPD')\n",
    "        df = pd.concat([sweep.to_dataframe(one_sweep_per_row=False) for sweep in sweep_list])\n",
    "        print(\"Saved: {}\".format(filename))\n",
    "        np.save(filename, df.to_records())\n",
    "    npd.close()"
   ]
  }
 ],
 "metadata": {
  "kernelspec": {
   "display_name": "Python 2: Analysis",
   "language": "python",
   "name": "analysis"
  },
  "language_info": {
   "codemirror_mode": {
    "name": "ipython",
    "version": 2
   },
   "file_extension": ".py",
   "mimetype": "text/x-python",
   "name": "python",
   "nbconvert_exporter": "python",
   "pygments_lexer": "ipython2",
   "version": "2.7.13"
  }
 },
 "nbformat": 4,
 "nbformat_minor": 2
}
