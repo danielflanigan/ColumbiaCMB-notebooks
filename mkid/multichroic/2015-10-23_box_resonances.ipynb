{
 "cells": [
  {
   "cell_type": "markdown",
   "metadata": {},
   "source": [
    "Subscript $d$ means duroid; subscript $s$ means silicon."
   ]
  },
  {
   "cell_type": "code",
   "execution_count": 1,
   "metadata": {
    "collapsed": true
   },
   "outputs": [],
   "source": [
    "from scipy.constants import c"
   ]
  },
  {
   "cell_type": "code",
   "execution_count": 2,
   "metadata": {
    "collapsed": false
   },
   "outputs": [
    {
     "data": {
      "text/plain": [
       "5.278559821129585"
      ]
     },
     "execution_count": 2,
     "metadata": {},
     "output_type": "execute_result"
    }
   ],
   "source": [
    "# Duroid\n",
    "epsilon_d = 10.2\n",
    "length_d = 6e-3\n",
    "epsilon_eff_d = (1 + epsilon_d) / 2\n",
    "v_d = c * epsilon_eff_d**(-1/2)\n",
    "# If the duroid is grounded at one end, then it can form a quarter-wave resonator:\n",
    "wavelength_d = 4 * length_d\n",
    "f_d = v_d / wavelength_d\n",
    "1e-9 * f_d"
   ]
  },
  {
   "cell_type": "code",
   "execution_count": 3,
   "metadata": {
    "collapsed": true
   },
   "outputs": [],
   "source": [
    "# Silicon\n",
    "epsilon_s = 10.2\n",
    "length_s = 10e-3\n",
    "epsilon_eff_s = (1 + epsilon_s) / 2\n",
    "v_s = c * epsilon_eff_s**(-1/2)"
   ]
  },
  {
   "cell_type": "code",
   "execution_count": 4,
   "metadata": {
    "collapsed": false
   },
   "outputs": [
    {
     "data": {
      "text/plain": [
       "3.1671358926777513"
      ]
     },
     "execution_count": 4,
     "metadata": {},
     "output_type": "execute_result"
    }
   ],
   "source": [
    "# Quarter wavelength. This doesn't seem realistic unless one end is open.\n",
    "wavelength_4s = 4 * length_s\n",
    "f_4s = v_s / wavelength_4s\n",
    "1e-9 * f_4s"
   ]
  },
  {
   "cell_type": "code",
   "execution_count": 5,
   "metadata": {
    "collapsed": false
   },
   "outputs": [
    {
     "data": {
      "text/plain": [
       "6.334271785355503"
      ]
     },
     "execution_count": 5,
     "metadata": {},
     "output_type": "execute_result"
    }
   ],
   "source": [
    "# Half wavelength\n",
    "wavelength_2s = 2 * length_s\n",
    "f_2s = v_s / wavelength_2s\n",
    "1e-9 * f_2s"
   ]
  },
  {
   "cell_type": "code",
   "execution_count": 7,
   "metadata": {
    "collapsed": false
   },
   "outputs": [
    {
     "data": {
      "text/plain": [
       "2.8792144478888653"
      ]
     },
     "execution_count": 7,
     "metadata": {},
     "output_type": "execute_result"
    }
   ],
   "source": [
    "# Full cavity. Is this (approximately) the right wave speed to use?\n",
    "length_full = 2 * length_d + length_s\n",
    "f_2f = v_s / (2 * length_full)\n",
    "1e-9 * f_2f"
   ]
  },
  {
   "cell_type": "code",
   "execution_count": null,
   "metadata": {
    "collapsed": true
   },
   "outputs": [],
   "source": []
  }
 ],
 "metadata": {
  "kernelspec": {
   "display_name": "Python 2",
   "language": "python",
   "name": "python2"
  },
  "language_info": {
   "codemirror_mode": {
    "name": "ipython",
    "version": 2
   },
   "file_extension": ".py",
   "mimetype": "text/x-python",
   "name": "python",
   "nbconvert_exporter": "python",
   "pygments_lexer": "ipython2",
   "version": "2.7.10"
  }
 },
 "nbformat": 4,
 "nbformat_minor": 0
}
