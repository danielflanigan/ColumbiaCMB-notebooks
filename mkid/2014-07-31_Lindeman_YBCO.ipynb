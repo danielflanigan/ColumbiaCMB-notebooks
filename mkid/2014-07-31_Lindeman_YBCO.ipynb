{
 "metadata": {
  "name": "",
  "signature": "sha256:79dc0ece261a17f272880cc7153eb47d6e3d40529a9a2f8cc1343218b0341b2e"
 },
 "nbformat": 3,
 "nbformat_minor": 0,
 "worksheets": [
  {
   "cells": [
    {
     "cell_type": "code",
     "collapsed": false,
     "input": [
      "from numpy import pi\n",
      "from scipy.constants import epsilon_0, hbar, e, k as k_B\n",
      "from scipy.special import ellipk"
     ],
     "language": "python",
     "metadata": {},
     "outputs": [],
     "prompt_number": 1
    },
    {
     "cell_type": "markdown",
     "metadata": {},
     "source": [
      "Orient as in Figure 1a, where the meander traces appear to run vertically. Then, the absorber width in m is"
     ]
    },
    {
     "cell_type": "code",
     "collapsed": false,
     "input": [
      "W = 600e-6"
     ],
     "language": "python",
     "metadata": {},
     "outputs": [],
     "prompt_number": 2
    },
    {
     "cell_type": "markdown",
     "metadata": {},
     "source": [
      "The absorber height in m is"
     ]
    },
    {
     "cell_type": "code",
     "collapsed": false,
     "input": [
      "H = 500e-6"
     ],
     "language": "python",
     "metadata": {},
     "outputs": [],
     "prompt_number": 3
    },
    {
     "cell_type": "markdown",
     "metadata": {},
     "source": [
      "The nominal YBCO thickness in m is"
     ]
    },
    {
     "cell_type": "code",
     "collapsed": false,
     "input": [
      "t = 50e-9"
     ],
     "language": "python",
     "metadata": {},
     "outputs": [],
     "prompt_number": 4
    },
    {
     "cell_type": "markdown",
     "metadata": {},
     "source": [
      "The inductor trace width in m is"
     ]
    },
    {
     "cell_type": "code",
     "collapsed": false,
     "input": [
      "w_L = 5e-6"
     ],
     "language": "python",
     "metadata": {},
     "outputs": [],
     "prompt_number": 5
    },
    {
     "cell_type": "markdown",
     "metadata": {},
     "source": [
      "From the photograph, the number of squares $N_\\square$ is approximately the number of squares per vertical trace times the number of traces, which is just the width divided by the period, plus the number of squares that make up the ends of the meanders. This doesn't account for the traces leading from the inductor to either the feedline or the capacitor."
     ]
    },
    {
     "cell_type": "code",
     "collapsed": false,
     "input": [
      "N_squares = (H / w_L) * (W / (2 * w_L)) + 2 * (W / w_L)\n",
      "N_squares"
     ],
     "language": "python",
     "metadata": {},
     "outputs": [
      {
       "metadata": {},
       "output_type": "pyout",
       "prompt_number": 6,
       "text": [
        "6239.999999999999"
       ]
      }
     ],
     "prompt_number": 6
    },
    {
     "cell_type": "markdown",
     "metadata": {},
     "source": [
      "The normal surface resistance in $\\Omega / \\square$ is"
     ]
    },
    {
     "cell_type": "code",
     "collapsed": false,
     "input": [
      "R_sn = 100"
     ],
     "language": "python",
     "metadata": {},
     "outputs": [],
     "prompt_number": 7
    },
    {
     "cell_type": "markdown",
     "metadata": {},
     "source": [
      "The implied normal resistivity in $\\Omega \\, \\mathrm{m}$ is"
     ]
    },
    {
     "cell_type": "code",
     "collapsed": false,
     "input": [
      "rho_n = R_sn * t\n",
      "rho_n"
     ],
     "language": "python",
     "metadata": {},
     "outputs": [
      {
       "metadata": {},
       "output_type": "pyout",
       "prompt_number": 8,
       "text": [
        "4.9999999999999996e-06"
       ]
      }
     ],
     "prompt_number": 8
    },
    {
     "cell_type": "markdown",
     "metadata": {},
     "source": [
      "Use the series RLC equations, which are not totally correct here:\n",
      "\\begin{equation*}\n",
      "2 \\pi f_r\n",
      "  =\n",
      "  (L C)^{-1/2},\n",
      "\\end{equation*}\n",
      "where the total inductance $L = L_g + L_k$ is the sum of the geometric inductance and the kinetic inductance. The internal quality factor is\n",
      "\\begin{equation*}\n",
      "Q_i\n",
      "  =\n",
      "  \\frac{2 \\pi f_r L}{R}\n",
      "  =\n",
      "  \\frac{L^{1/2}}{R C^{1/2}}.\n",
      "\\end{equation*}"
     ]
    },
    {
     "cell_type": "markdown",
     "metadata": {},
     "source": [
      "The paper gives values for $f_r$ and $Q_i$, so we have two equations in three unknowns. Try to estimate the capacitance using Jonas's equation 3 for an interdigitated capacitor:\n",
      "\\begin{equation*}\n",
      "C\n",
      "  =\n",
      "  \\epsilon_0 (1 + \\epsilon_r) \\frac{A_C}{p_C} \\frac{K}{K'},\n",
      "\\end{equation*}\n",
      "where variables are as defined in the memo."
     ]
    },
    {
     "cell_type": "markdown",
     "metadata": {},
     "source": [
      "Examine the largest capacitor, which should produce the lowest resonance frequency. It has a height that looks the same as the inductor, or 500 $\\mu$m, and about a third of the width, or $600 \\, \\mu \\mathrm{m} \\; / \\; 3 \\approx 200 \\, \\mu \\mathrm{m}$. I can't tell from the photograph, so assume that the trace width and gap width are both 5 $\\mu$m."
     ]
    },
    {
     "cell_type": "code",
     "collapsed": false,
     "input": [
      "A_C = H * W / 3\n",
      "w_C = w_L\n",
      "g_C = w_L\n",
      "p_C = w_C + g_C\n",
      "epsilon_r = 11.9\n",
      "k = np.tan(pi * w_C / (4 * p_C))**2\n",
      "K = ellipk(k**2)\n",
      "Kp = ellipk(1 - k**2)\n",
      "C = epsilon_0 * (1 + epsilon_r) * (A_C / p_C) * (K / Kp)\n",
      "1e12 * C # in pF"
     ],
     "language": "python",
     "metadata": {},
     "outputs": [
      {
       "metadata": {},
       "output_type": "pyout",
       "prompt_number": 9,
       "text": [
        "0.57109511423651516"
       ]
      }
     ],
     "prompt_number": 9
    },
    {
     "cell_type": "markdown",
     "metadata": {},
     "source": [
      "For array B, the lowest given resonance frequency is about"
     ]
    },
    {
     "cell_type": "code",
     "collapsed": false,
     "input": [
      "f_r = 0.98e9"
     ],
     "language": "python",
     "metadata": {},
     "outputs": [],
     "prompt_number": 10
    },
    {
     "cell_type": "markdown",
     "metadata": {},
     "source": [
      "This resonator has an internal quality factor of about"
     ]
    },
    {
     "cell_type": "code",
     "collapsed": false,
     "input": [
      "Q_i = 2600"
     ],
     "language": "python",
     "metadata": {},
     "outputs": [],
     "prompt_number": 11
    },
    {
     "cell_type": "markdown",
     "metadata": {},
     "source": [
      "Solve for the total inductance:"
     ]
    },
    {
     "cell_type": "code",
     "collapsed": false,
     "input": [
      "L = C**-1 * (2 * pi * f_r)**-2\n",
      "1e9 * L # in nH"
     ],
     "language": "python",
     "metadata": {},
     "outputs": [
      {
       "metadata": {},
       "output_type": "pyout",
       "prompt_number": 12,
       "text": [
        "46.18273694920542"
       ]
      }
     ],
     "prompt_number": 12
    },
    {
     "cell_type": "markdown",
     "metadata": {},
     "source": [
      "Solve for the total resistance in the superconducting state:"
     ]
    },
    {
     "cell_type": "code",
     "collapsed": false,
     "input": [
      "R = 2 * pi * f_r * L / Q_i\n",
      "R # in Ohms"
     ],
     "language": "python",
     "metadata": {},
     "outputs": [
      {
       "metadata": {},
       "output_type": "pyout",
       "prompt_number": 13,
       "text": [
        "0.1093735385998829"
       ]
      }
     ],
     "prompt_number": 13
    },
    {
     "cell_type": "markdown",
     "metadata": {},
     "source": [
      "The surface resistance in the superconducting state in $\\Omega / \\square$ is then"
     ]
    },
    {
     "cell_type": "code",
     "collapsed": false,
     "input": [
      "R_s = R / N_squares\n",
      "1e6 * R_s # in microohms per square"
     ],
     "language": "python",
     "metadata": {},
     "outputs": [
      {
       "metadata": {},
       "output_type": "pyout",
       "prompt_number": 14,
       "text": [
        "17.527810673058159"
       ]
      }
     ],
     "prompt_number": 14
    },
    {
     "cell_type": "markdown",
     "metadata": {},
     "source": [
      "The fractional resonance frequency shift is -0.005 when the temperature increases from 5.4 K to 17 K. The paper says this implies a kinetic inductance fraction of $\\alpha_k = 0.01$. The relevant equation is\n",
      "\\begin{equation*}\n",
      "\\mathrm{d} f_r\n",
      "  =\n",
      "  \\mathrm{d} \\frac{1}{2 \\pi (L C)^{1/2}}\n",
      "  =\n",
      "  -\\frac{\\mathrm{d} L}{4 \\pi C^{1/2} L^{3/2}}\n",
      "  =\n",
      "  -\\frac{f_r \\mathrm{d} L}{2 L},\n",
      "\\end{equation*}\n",
      "where $\\mathrm{d} L = \\mathrm{d} (L_g + L_k) = \\mathrm{d} L_k$.\n",
      "\n",
      "For some temperature-dependent quantity $Y(T)$, define $\\delta Y = Y(T_2) - Y(T_1)$. In the situation described in the paper, if $\\delta L_k = L_k(17 \\, \\mathrm{K}) - L_k(5.4 \\, \\mathrm{K}) \\approx L_k(17 \\, \\mathrm{K})$, then\n",
      "\\begin{equation*}\n",
      "\\frac{\\delta f_r}{f_r}\n",
      "  =\n",
      "  -\\frac{\\delta L_k}{2(L_g + L_k(5.4 \\, \\mathrm{K}) + \\delta L_k)}\n",
      "  \\approx\n",
      "  -\\frac{\\alpha_k(17 K)}{2}\n",
      "\\end{equation*}\n",
      "gives $\\alpha_k \\approx 0.01$ at 17 K. However, this implies that the kinetic inductance fraction is not even approximately constant with temperature and is actually proportional to the fractional frequency shift. I'm not sure what to think of this."
     ]
    },
    {
     "cell_type": "code",
     "collapsed": false,
     "input": [
      "alpha_k = 0.01"
     ],
     "language": "python",
     "metadata": {},
     "outputs": [],
     "prompt_number": 15
    },
    {
     "cell_type": "markdown",
     "metadata": {},
     "source": [
      "Assuming the above is true, the geometric inductance nearly equals the total inductance:"
     ]
    },
    {
     "cell_type": "code",
     "collapsed": false,
     "input": [
      "L_g = (1 - alpha_k) * L"
     ],
     "language": "python",
     "metadata": {},
     "outputs": [],
     "prompt_number": 16
    },
    {
     "cell_type": "markdown",
     "metadata": {},
     "source": [
      "The total kinetic inductance is"
     ]
    },
    {
     "cell_type": "code",
     "collapsed": false,
     "input": [
      "L_k = alpha_k * L\n",
      "1e9 * L_k # in nH"
     ],
     "language": "python",
     "metadata": {},
     "outputs": [
      {
       "metadata": {},
       "output_type": "pyout",
       "prompt_number": 17,
       "text": [
        "0.46182736949205427"
       ]
      }
     ],
     "prompt_number": 17
    },
    {
     "cell_type": "markdown",
     "metadata": {},
     "source": [
      "The surface kinetic inductance in $\\mathrm{H} / \\square$ is then"
     ]
    },
    {
     "cell_type": "code",
     "collapsed": false,
     "input": [
      "L_s = L_k / N_squares\n",
      "1e12 * L_s # in pH/square"
     ],
     "language": "python",
     "metadata": {},
     "outputs": [
      {
       "metadata": {},
       "output_type": "pyout",
       "prompt_number": 18,
       "text": [
        "0.074010796392957434"
       ]
      }
     ],
     "prompt_number": 18
    },
    {
     "cell_type": "markdown",
     "metadata": {},
     "source": [
      "Use Jonas's equation 6 to determine the implied gap:\n",
      "\\begin{equation*}\n",
      "L_s = \\frac{\\hbar R_{s, n}}{\\pi \\Delta},\n",
      "\\end{equation*}\n",
      "where $L_s$ is the kinetic surface inductance and $R_{s, n}$ is the surface resistance in the normal state, so\n",
      "\\begin{equation*}\n",
      "\\Delta\n",
      "  =\n",
      "  \\frac{\\hbar R_{s, n}}{\\pi L_s}.\n",
      "\\end{equation*}"
     ]
    },
    {
     "cell_type": "code",
     "collapsed": false,
     "input": [
      "Delta = (hbar * R_sn) / (pi * L_s)\n",
      "1e3 * Delta / e # in meV"
     ],
     "language": "python",
     "metadata": {},
     "outputs": [
      {
       "metadata": {},
       "output_type": "pyout",
       "prompt_number": 19,
       "text": [
        "283.0875682961161"
       ]
      }
     ],
     "prompt_number": 19
    },
    {
     "cell_type": "markdown",
     "metadata": {},
     "source": [
      "The YBCO gap is apparently known to be of order 20 meV. We could reconcile these numbers with a much larger kinetic inductance fraction. Use the nominal gap:\n",
      "\\begin{equation*}\n",
      "\\alpha_k\n",
      "  =\n",
      "  \\frac{L_k}{L_g + L_k}\n",
      "  =\n",
      "  \\left( 1 + L_g / L_k \\right)^{-1}\n",
      "  =\n",
      "  \\left( 1 + \\frac{L_g}{N_\\square L_s} \\right)^{-1}\n",
      "  =\n",
      "  \\left( 1 + \\frac{\\pi \\Delta L_g}{N_\\square \\hbar R_{s, n}} \\right)^{-1}.\n",
      "\\end{equation*}"
     ]
    },
    {
     "cell_type": "code",
     "collapsed": false,
     "input": [
      "(1 + (pi * 20e-3 * e * L_g) / (N_squares * hbar * R_sn))**-1"
     ],
     "language": "python",
     "metadata": {},
     "outputs": [
      {
       "metadata": {},
       "output_type": "pyout",
       "prompt_number": 21,
       "text": [
        "0.12508909167366128"
       ]
      }
     ],
     "prompt_number": 21
    },
    {
     "cell_type": "markdown",
     "metadata": {},
     "source": [
      "The given coupling quality factors for array B range from 23000 to 41000:"
     ]
    },
    {
     "cell_type": "code",
     "collapsed": false,
     "input": [
      "Q_c = (23e3 + 41e3) / 2\n",
      "Q_c"
     ],
     "language": "python",
     "metadata": {},
     "outputs": [
      {
       "metadata": {},
       "output_type": "pyout",
       "prompt_number": 25,
       "text": [
        "32000.0"
       ]
      }
     ],
     "prompt_number": 25
    },
    {
     "cell_type": "markdown",
     "metadata": {},
     "source": [
      "The loaded quality factor is then"
     ]
    },
    {
     "cell_type": "code",
     "collapsed": false,
     "input": [
      "Q_r = (Q_i**-1 + Q_c**-1)**-1\n",
      "Q_r"
     ],
     "language": "python",
     "metadata": {},
     "outputs": [
      {
       "metadata": {},
       "output_type": "pyout",
       "prompt_number": 26,
       "text": [
        "2404.624277456647"
       ]
      }
     ],
     "prompt_number": 26
    },
    {
     "cell_type": "markdown",
     "metadata": {},
     "source": [
      "The resonator time constant is"
     ]
    },
    {
     "cell_type": "code",
     "collapsed": false,
     "input": [
      "tau_r = Q_r / (pi * f_r)\n",
      "1e6 * tau_r # in us"
     ],
     "language": "python",
     "metadata": {},
     "outputs": [
      {
       "metadata": {},
       "output_type": "pyout",
       "prompt_number": 27,
       "text": [
        "0.78103640823674"
       ]
      }
     ],
     "prompt_number": 27
    },
    {
     "cell_type": "markdown",
     "metadata": {},
     "source": [
      "The unsuspended arrays have a decay time closer to 20 $\\mu$s, which may be the quasiparticle lifetime."
     ]
    }
   ],
   "metadata": {}
  }
 ]
}