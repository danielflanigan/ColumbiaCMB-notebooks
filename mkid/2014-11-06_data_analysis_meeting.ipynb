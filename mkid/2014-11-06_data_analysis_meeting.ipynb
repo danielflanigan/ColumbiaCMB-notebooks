{
 "metadata": {
  "name": "",
  "signature": "sha256:959218cc8334d740230bed9d9a6cb0ac4636f0c68071c1d11af094f0f2ee0d23"
 },
 "nbformat": 3,
 "nbformat_minor": 0,
 "worksheets": [
  {
   "cells": [
    {
     "cell_type": "markdown",
     "metadata": {},
     "source": [
      "This is the data set that was used to make most of the plots in McCarrick."
     ]
    },
    {
     "cell_type": "code",
     "collapsed": false,
     "input": [
      "from glob import glob\n",
      "from kid_readout.analysis import noise_archive\n",
      "plt.rcParams['font.size'] = 11"
     ],
     "language": "python",
     "metadata": {},
     "outputs": [
      {
       "output_type": "stream",
       "stream": "stdout",
       "text": [
        "updated file list\n"
       ]
      },
      {
       "output_type": "stream",
       "stream": "stderr",
       "text": [
        "/home/local/lib/python2.7/site-packages/matplotlib/__init__.py:1155: UserWarning:  This call to matplotlib.use() has no effect\n",
        "because the backend has already been chosen;\n",
        "matplotlib.use() must be called *before* pylab, matplotlib.pyplot,\n",
        "or matplotlib.backends is imported for the first time.\n",
        "\n",
        "  warnings.warn(_use_error_msg)\n"
       ]
      }
     ],
     "prompt_number": 1
    },
    {
     "cell_type": "code",
     "collapsed": false,
     "input": [
      "files = glob('/home/data/noise_sweeps_2014-05*.pkl')\n",
      "files += glob('/home/data/noise_sweeps_2014-04-22*.pkl')\n",
      "files += glob('/home/data/noise_sweeps_2014-04-21*.pkl')\n",
      "files += glob('/home/data/noise_sweeps_2014-04-18*.pkl')"
     ],
     "language": "python",
     "metadata": {},
     "outputs": [],
     "prompt_number": 2
    },
    {
     "cell_type": "code",
     "collapsed": false,
     "input": [
      "df = noise_archive.build_noise_archive(dict(files=files, index_to_resnum=range(20)), force_rebuild=True)"
     ],
     "language": "python",
     "metadata": {},
     "outputs": [],
     "prompt_number": 3
    },
    {
     "cell_type": "code",
     "collapsed": false,
     "input": [
      "type(df)"
     ],
     "language": "python",
     "metadata": {},
     "outputs": [
      {
       "metadata": {},
       "output_type": "pyout",
       "prompt_number": 4,
       "text": [
        "pandas.core.frame.DataFrame"
       ]
      }
     ],
     "prompt_number": 4
    },
    {
     "cell_type": "code",
     "collapsed": false,
     "input": [
      "df.shape"
     ],
     "language": "python",
     "metadata": {},
     "outputs": [
      {
       "metadata": {},
       "output_type": "pyout",
       "prompt_number": 5,
       "text": [
        "(10460, 83)"
       ]
      }
     ],
     "prompt_number": 5
    },
    {
     "cell_type": "markdown",
     "metadata": {},
     "source": [
      "See apps/process_net_data/process_net_archive.py for refine_dataset(), which Glenn used"
     ]
    },
    {
     "cell_type": "markdown",
     "metadata": {},
     "source": [
      "Pandas: group_by, apply"
     ]
    },
    {
     "cell_type": "markdown",
     "metadata": {},
     "source": [
      "Select data that is: dark, plot responsivity vs load_temperature (leakage) [optical_load column]\n",
      "Select data where load temperature is constant and replicate Mattis-Bardeen plots of x, 1/Q_i\n",
      "[See process_net_archive for assigning of f_0]\n",
      "Fit responsivity: x vs load_temperature [anchor timestreams]\n",
      "Plot noise spectra: iterate over df.pca_eigvals [row 0 is amplitude, 1 is phase]"
     ]
    }
   ],
   "metadata": {}
  }
 ]
}