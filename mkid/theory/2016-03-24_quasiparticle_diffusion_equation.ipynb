{
 "cells": [
  {
   "cell_type": "markdown",
   "metadata": {},
   "source": [
    "Solve the 1-D diffusion equation for the quasiparticle density $n(x, t)$:\n",
    "$$\n",
    "\\frac{\\partial n}{\\partial t}\n",
    "  =\n",
    "  D \\frac{\\partial^2 n}{\\partial x^2}\n",
    "  - R_* n^2\n",
    "  - S(x) n\n",
    "  + G(x)\n",
    "  + B,\n",
    "$$\n",
    "where $R_*$ is the effective recombination constant, $S(x)$ is the (position-dependent) trapping coefficient, $G(x)$ is the (position-dependent) generation rate, and $B$ is the background generation rate."
   ]
  },
  {
   "cell_type": "code",
   "execution_count": 1,
   "metadata": {
    "collapsed": true
   },
   "outputs": [],
   "source": [
    "from physics.mkid import model"
   ]
  },
  {
   "cell_type": "code",
   "execution_count": 44,
   "metadata": {
    "collapsed": true
   },
   "outputs": [],
   "source": [
    "class DiscreteKID(object):\n",
    "    \n",
    "    def __init__(self, length, width, thickness, S, G, D, R, B, initial_number=None):\n",
    "        if initial_number is None:\n",
    "            initial_number = np.zeros(length.size)\n",
    "        assert length.size == width.size == thickness.size == S.size == G.size == initial_number.size\n",
    "        self._previous_number = None\n",
    "        self.number = [initial_number]\n",
    "        self.length = length\n",
    "        self.width = width\n",
    "        self.thickness = thickness\n",
    "        self.S = S\n",
    "        self.G = G\n",
    "        self.D = D\n",
    "        self.R = R\n",
    "        self.B = B\n",
    "        self.steps = 0\n",
    "    \n",
    "    @property\n",
    "    def x(self):\n",
    "        return np.cumsum(self.length)\n",
    "    \n",
    "    @property\n",
    "    def volume(self):\n",
    "        return self.width * self.length * self.thickness\n",
    "    \n",
    "    def solve(self, time_step, max_fractional_change=1e-6, max_steps=1000):\n",
    "        while self.steps < max_steps and not self.converged(max_fractional_change):\n",
    "            self.number.append(self.number[-1] + time_step * self.volume * self.dn_dt)\n",
    "            self.steps += 1\n",
    "    \n",
    "    def converged(self, max_fractional_change):\n",
    "        return (len(self.number) > 1 and\n",
    "                np.max(self.number[-1] / self.number[-2]) < max_fractional_change)\n",
    "\n",
    "    @property\n",
    "    def dn_dt(self):\n",
    "        n = self.number[-1] / self.volume\n",
    "        return self.D * self.d2_dx2(n) - self.R * n**2 - self.S * n + self.G + self.B\n",
    "    \n",
    "    def d2_dx2(self, f):\n",
    "        y_left = np.concatenate((f, [0, 0]))\n",
    "        y_here = np.concatenate(([0], f, [0]))\n",
    "        y_right = np.concatenate(([0, 0], f))\n",
    "        \n",
    "    \"\"\"\n",
    "    def d2_dx2(self, f):\n",
    "        y_left = np.concatenate((f, [0, 0]))\n",
    "        y_here = np.concatenate(([0], f, [0]))\n",
    "        y_right = np.concatenate(([0, 0], f))\n",
    "        x_left = np.concatenate((self.x, [np.inf, np.inf]))\n",
    "        x_here = np.concatenate(([-np.inf], self.x, [np.inf]))\n",
    "        x_right = np.concatenate(([-np.inf, -np.inf], self.x))\n",
    "        y = (2 * y_left / ((x_left - x_here) * (x_left - x_right)) +\n",
    "             2 * y_here / ((x_here - x_left) * (x_here - x_right)) +\n",
    "             2 * y_right / ((x_right - x_left) * (x_right - x_here)))\n",
    "        return y[1:-1]\n",
    "    \"\"\""
   ]
  },
  {
   "cell_type": "code",
   "execution_count": 45,
   "metadata": {
    "collapsed": false
   },
   "outputs": [
    {
     "name": "stdout",
     "output_type": "stream",
     "text": [
      "V = 416 um^3\n"
     ]
    }
   ],
   "source": [
    "# Values from Glenn\n",
    "inductor_length_um = 5200\n",
    "inductor_width_um = 2\n",
    "thickness_um = 0.04\n",
    "geometric_inductance = 4e-9\n",
    "L_g_per_um = geometric_inductance / inductor_length_um  # inductance per unit length, in henries\n",
    "nominal_volume_um3 = inductor_width_um * inductor_length_um * thickness_um\n",
    "print(\"V = {:.0f} um^3\".format(nominal_volume_um3))\n",
    "\n",
    "# Assumed values\n",
    "T_c = 1.3\n",
    "T_substrate = 0.3\n",
    "phonon_trapping_factor = 1\n",
    "alpha = 0.5\n",
    "f_r = 1.5e9\n",
    "iQc = 50e-6\n",
    "iQi0 = 1e-6\n",
    "S_TLS_at_P_c = 1e-19\n",
    "P_c = 1e-13\n",
    "\n",
    "kid = model.KID(active_metal=model.Aluminum(T_c=T_c),\n",
    "                active_volume_um3=nominal_volume_um3,\n",
    "                inactive_metal=None,\n",
    "                inactive_volume_um3=0,\n",
    "                substrate=model.Substrate(T=T_substrate),\n",
    "                phonon_trapping_factor=phonon_trapping_factor,\n",
    "                alpha=alpha,\n",
    "                f_r=f_r,\n",
    "                iQc=iQc,\n",
    "                iQi0=iQi0,\n",
    "                S_TLS_at_P_c=S_TLS_at_P_c,\n",
    "                P_c=P_c)"
   ]
  },
  {
   "cell_type": "code",
   "execution_count": 39,
   "metadata": {
    "collapsed": false
   },
   "outputs": [],
   "source": [
    "# Start with square cells\n",
    "num_cells = int(inductor_length_um / inductor_width_um)\n",
    "length = inductor_width_um * np.ones(num_cells)\n",
    "width = inductor_width_um * np.ones(num_cells)\n",
    "thickness = thickness_um * np.ones(num_cells)\n",
    "S = np.zeros(num_cells)\n",
    "G0 = 1e6\n",
    "G = np.zeros(num_cells)  # np.concatenate((np.zeros(int(num_cells / 2) - 1), [G0, G0], np.zeros(int(num_cells / 2) - 1))) \n",
    "B = kid.active_metal.thermal_generation_per_um3(T_substrate)\n",
    "R = kid.effective_recombination_um3_per_s\n",
    "D_cm2_per_s = 53  # Ullom, Fisher, and Nahum 1998.\n",
    "D_um2_per_s = D_cm2_per_s * (10^8)"
   ]
  },
  {
   "cell_type": "code",
   "execution_count": 60,
   "metadata": {
    "collapsed": false
   },
   "outputs": [],
   "source": [
    "dk = DiscreteKID(length=length, width=width, thickness=thickness,\n",
    "                 S=S, G=G, D=D_um2_per_s, R=R, B=B)"
   ]
  },
  {
   "cell_type": "code",
   "execution_count": 65,
   "metadata": {
    "collapsed": false
   },
   "outputs": [],
   "source": [
    "dk.solve(time_step=1e-4, max_fractional_change=1e-3, max_steps=1e5)"
   ]
  },
  {
   "cell_type": "code",
   "execution_count": 66,
   "metadata": {
    "collapsed": false
   },
   "outputs": [
    {
     "data": {
      "text/plain": [
       "2"
      ]
     },
     "execution_count": 66,
     "metadata": {},
     "output_type": "execute_result"
    }
   ],
   "source": [
    "dk.steps"
   ]
  },
  {
   "cell_type": "code",
   "execution_count": 67,
   "metadata": {
    "collapsed": false
   },
   "outputs": [
    {
     "data": {
      "text/plain": [
       "[<matplotlib.lines.Line2D at 0x10ed402d0>]"
      ]
     },
     "execution_count": 67,
     "metadata": {},
     "output_type": "execute_result"
    },
    {
     "data": {
      "image/png": "[encoded data removed]",
      "text/plain": [
       "<matplotlib.figure.Figure at 0x10ed40250>"
      ]
     },
     "metadata": {},
     "output_type": "display_data"
    }
   ],
   "source": [
    "fig, ax = plt.subplots()\n",
    "ax.plot(dk.x, dk.number[-1], '-')"
   ]
  },
  {
   "cell_type": "code",
   "execution_count": 64,
   "metadata": {
    "collapsed": false
   },
   "outputs": [
    {
     "name": "stderr",
     "output_type": "stream",
     "text": [
      "/opt/local/Library/Frameworks/Python.framework/Versions/2.7/lib/python2.7/site-packages/ipykernel/__main__.py:49: RuntimeWarning: invalid value encountered in subtract\n",
      "/opt/local/Library/Frameworks/Python.framework/Versions/2.7/lib/python2.7/site-packages/ipykernel/__main__.py:50: RuntimeWarning: invalid value encountered in subtract\n"
     ]
    },
    {
     "data": {
      "text/plain": [
       "array([ -6.77220773e+15,  -6.77220773e+15,  -6.77220773e+15, ...,\n",
       "        -6.77220773e+15,  -6.77220773e+15,  -6.77220773e+15])"
      ]
     },
     "execution_count": 64,
     "metadata": {},
     "output_type": "execute_result"
    }
   ],
   "source": [
    "dk.dn_dt"
   ]
  },
  {
   "cell_type": "code",
   "execution_count": null,
   "metadata": {
    "collapsed": true
   },
   "outputs": [],
   "source": []
  },
  {
   "cell_type": "code",
   "execution_count": 28,
   "metadata": {
    "collapsed": false
   },
   "outputs": [
    {
     "data": {
      "text/plain": [
       "10278739.789051756"
      ]
     },
     "execution_count": 28,
     "metadata": {},
     "output_type": "execute_result"
    }
   ],
   "source": [
    "kid.active_metal.thermal_generation_per_um3(T_substrate) * dk.volume[0]"
   ]
  },
  {
   "cell_type": "code",
   "execution_count": 29,
   "metadata": {
    "collapsed": false
   },
   "outputs": [
    {
     "data": {
      "text/plain": [
       "0.16"
      ]
     },
     "execution_count": 29,
     "metadata": {},
     "output_type": "execute_result"
    }
   ],
   "source": [
    "dk.volume[0]"
   ]
  }
 ],
 "metadata": {
  "kernelspec": {
   "display_name": "Python 2",
   "language": "python",
   "name": "python2"
  },
  "language_info": {
   "codemirror_mode": {
    "name": "ipython",
    "version": 2
   },
   "file_extension": ".py",
   "mimetype": "text/x-python",
   "name": "python",
   "nbconvert_exporter": "python",
   "pygments_lexer": "ipython2",
   "version": "2.7.11"
  }
 },
 "nbformat": 4,
 "nbformat_minor": 0
}
