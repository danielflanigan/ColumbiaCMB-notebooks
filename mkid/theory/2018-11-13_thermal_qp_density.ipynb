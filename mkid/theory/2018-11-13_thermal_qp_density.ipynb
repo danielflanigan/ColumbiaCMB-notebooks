{
 "cells": [
  {
   "cell_type": "code",
   "execution_count": 1,
   "metadata": {},
   "outputs": [],
   "source": [
    "%matplotlib inline\n",
    "\n",
    "import matplotlib.pyplot as plt\n",
    "import numpy as np\n",
    "from scipy.constants import e as J_per_eV, k as k_B, pi"
   ]
  },
  {
   "cell_type": "code",
   "execution_count": 4,
   "metadata": {},
   "outputs": [],
   "source": [
    "# Copied from thesis\n",
    "BCS = 1.76\n",
    "N0_per_eV_per_um3 = 1.74e10\n",
    "N0_per_J_per_um3 = N0_per_eV_per_um3 / J_per_eV\n",
    "T_c = 1.3\n",
    "Delta = BCS * k_B * T_c\n",
    "T_bath = T_c / 10\n",
    "f_mc = 3.0e9\n",
    "f_1p = 0.1e9"
   ]
  },
  {
   "cell_type": "code",
   "execution_count": 7,
   "metadata": {},
   "outputs": [
    {
     "data": {
      "text/plain": [
       "3430662.6152102193"
      ]
     },
     "execution_count": 7,
     "metadata": {},
     "output_type": "execute_result"
    }
   ],
   "source": [
    "N0_per_J_per_um3 * Delta"
   ]
  },
  {
   "cell_type": "code",
   "execution_count": 9,
   "metadata": {},
   "outputs": [],
   "source": [
    "def qpdensity(T, N0, Delta):\n",
    "    return 4 * N0 * Delta * (pi * k_B * T / (2 * Delta)) ** (1 / 2) * np.exp(-Delta / (k_B * T))\n",
    "\n",
    "def norm_qpdensity(T, Delta):\n",
    "    return (pi * k_B * T / (2 * Delta)) ** (1 / 2) * np.exp(-Delta / (k_B * T))"
   ]
  },
  {
   "cell_type": "code",
   "execution_count": 10,
   "metadata": {},
   "outputs": [
    {
     "data": {
      "text/plain": [
       "0.093144823559774895"
      ]
     },
     "execution_count": 10,
     "metadata": {},
     "output_type": "execute_result"
    }
   ],
   "source": [
    "qpdensity(T=T_bath, N0=N0_per_J_per_um3, Delta=Delta)"
   ]
  },
  {
   "cell_type": "code",
   "execution_count": 11,
   "metadata": {},
   "outputs": [
    {
     "data": {
      "text/plain": [
       "6.7876700514652098e-09"
      ]
     },
     "execution_count": 11,
     "metadata": {},
     "output_type": "execute_result"
    }
   ],
   "source": [
    "norm_qpdensity(T=T_bath, Delta=Delta)"
   ]
  },
  {
   "cell_type": "code",
   "execution_count": null,
   "metadata": {},
   "outputs": [],
   "source": []
  }
 ],
 "metadata": {
  "kernelspec": {
   "display_name": "Python 3",
   "language": "python",
   "name": "python3"
  },
  "language_info": {
   "codemirror_mode": {
    "name": "ipython",
    "version": 3
   },
   "file_extension": ".py",
   "mimetype": "text/x-python",
   "name": "python",
   "nbconvert_exporter": "python",
   "pygments_lexer": "ipython3",
   "version": "3.6.2"
  }
 },
 "nbformat": 4,
 "nbformat_minor": 2
}
