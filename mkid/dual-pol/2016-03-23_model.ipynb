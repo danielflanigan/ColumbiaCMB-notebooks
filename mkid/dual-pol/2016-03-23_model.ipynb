{
 "cells": [
  {
   "cell_type": "code",
   "execution_count": 2,
   "metadata": {
    "collapsed": true
   },
   "outputs": [],
   "source": [
    "from physics.mkid import model\n",
    "from notebooks.library import display\n",
    "#display.hide_code()"
   ]
  },
  {
   "cell_type": "markdown",
   "metadata": {},
   "source": [
    "# Assumptions"
   ]
  },
  {
   "cell_type": "markdown",
   "metadata": {},
   "source": [
    "No single-quasiparticle trapping occurs and the total recombination rate is\n",
    "$$\n",
    "\\Gamma_R\n",
    "  = 2 \\frac{R_* N_{qp}^2}{2 V},\n",
    "$$\n",
    "where $R_*$ is the effective recombination constant and $N_{qp}$ is the number of quasiparticles in the active volume $V$.\n",
    "\n",
    "The effective recombination constant is $R_* = p R$, where $p$ is the probability that a $\\sim 2 \\Delta$ recombination phonon escapes to the substrate instead of breaking a Cooper pair. The probability $p$ is likely to be between $1$ and $0.1$, and it depends on the substrate and film materials and on the film thickness. From Kaplan et al. PRB 1976,\n",
    "$$\n",
    "R\n",
    "  =\n",
    "  \\left( \\frac{2 \\Delta}{k_B T_c} \\right)^3 \\frac{1}{4 N_0 \\Delta \\tau_0},\n",
    "$$\n",
    "where $N_0 = 1.74 \\times 10^{10} \\; \\mu \\mathrm{m}^{-3} \\mathrm{eV}^{-1}$ is the single-spin density of states at the Fermi energy, $\\Delta$ the gap energy at $T = 0$, and $\\tau_0 = 438 \\; \\mathrm{ns}$ is the characteristic electron-phonon time, also from Kaplan. (This comes from recombination lifetime $\\tau_r^{-1} = R n_{qp}(T) = \\Gamma_R / N_{qp}$.) \n",
    "\n",
    "If we assume that the quasiparticle occupancy $f(E)$ is proportional to a thermal occupancy at the substrate temperature, then we can use Jonas's equation\n",
    "$$\n",
    "Q_{qp}^{-1}\n",
    "  = \\frac{\\alpha S_2(\\omega, T_{qp})}{4 N_0 \\Delta V} N_{qp}\n",
    "$$\n",
    "with\n",
    "$$\n",
    "S_2\n",
    "  =\n",
    "  \n",
    "\n"
   ]
  },
  {
   "cell_type": "markdown",
   "metadata": {},
   "source": [
    "Quasiparticles decay by recombination with phonon emission. The theoretical value for the recombination lifetime of a quasiparticle (not the same as Jonas's $\\tau_{qp}$!) comes from Kaplan et al. (1976):\n",
    "$$\n",
    "\\tau_r^{-1}(T)\n",
    "  = \n",
    "  \\left( \\frac{2 \\Delta}{k_B T_c} \\right)^3 \\frac{n_{qp}(T)}{4 N_0 \\Delta}\n",
    "  \\equiv\n",
    "  R n_{qp}(T),\n",
    "$$\n",
    " and $R$ is the recombination constant. Because emitted $\\sim 2 \\Delta$ phonons may break a Cooper pair instead of escaping into the substrate, the effective recombination constant is multiplied by the probability $p$ that such a phonon escapes from the superconductor: $R_* = p R$.\n",
    "\n",
    "Then,\n",
    "$$\n",
    "\\frac{\\mathrm{d} n_{qp}}{\\mathrm{d} t}\n",
    "  =\n",
    "  n_{qp} \\tau_r^{-1}\n",
    "  =\n",
    "  R n_{qp}^2.\n",
    "$$\n",
    "(These definitions of $R$ and $R_*$ match Wilson & Prober PRB 2004. The relation to the notation in Zmuidzinas 2012 is $R_* = (2 n^* \\tau_\\mathrm{max})^{-1}$.)\n",
    "\n",
    "\n",
    "and solving for the total quasiparticle number $N_{qp}$ gives\n",
    "$$\n",
    "N_{qp}\n",
    "  = (V \\Gamma / R_*)^{1/2},\n",
    "$$\n",
    "where $\\Gamma$ is the total generation rate from all sources.\n",
    "\n",
    "\n"
   ]
  }
 ],
 "metadata": {
  "kernelspec": {
   "display_name": "Python 2",
   "language": "python",
   "name": "python2"
  },
  "language_info": {
   "codemirror_mode": {
    "name": "ipython",
    "version": 2
   },
   "file_extension": ".py",
   "mimetype": "text/x-python",
   "name": "python",
   "nbconvert_exporter": "python",
   "pygments_lexer": "ipython2",
   "version": "2.7.11"
  }
 },
 "nbformat": 4,
 "nbformat_minor": 0
}
