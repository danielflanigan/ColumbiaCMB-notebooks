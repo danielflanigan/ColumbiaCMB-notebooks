{
 "metadata": {
  "name": "",
  "signature": "sha256:cd793f96d926ba9212f6b8bea0ea68ff442063346bb54edc138d8a581c62ec5c"
 },
 "nbformat": 3,
 "nbformat_minor": 0,
 "worksheets": [
  {
   "cells": [
    {
     "cell_type": "markdown",
     "metadata": {},
     "source": [
      "To do:\n",
      "\n",
      "Re-take a few load temperature points.\n",
      "\n",
      "Re-make plot for paper.\n",
      "\n",
      "Sort out problems with upstairs data and decide whether to take more data.\n",
      "\n",
      "Add error bars to both plots.\n",
      "\n",
      "\n",
      "\n",
      "Done:\n",
      "\n",
      "Re-fit load temperature data. Looks much better, but slope is -1.7 instead of -1.9 from scope data.\n",
      "\n",
      "Push plotting and fitting code to library.\n",
      "\n",
      "Upstairs load sweep pulses and spikes not consistent within lmfit error bars, but pretty consistent. Lost a few high load points.\n",
      "\n",
      "Fit deltas taken downstairs and compare to pulses. Pretty comparable.\n",
      "\n"
     ]
    },
    {
     "cell_type": "markdown",
     "metadata": {},
     "source": [
      "Taking a few high-temperature load points. Using 98.765 Hz pulses."
     ]
    },
    {
     "cell_type": "code",
     "collapsed": false,
     "input": [
      "import os\n",
      "import pickle\n",
      "from equipment.Tektronix.oscilloscope import load_csv\n",
      "#from notebook.library.tau_qp import single_fit, dual_fit, plot_single_fit, plot_dual_fit"
     ],
     "language": "python",
     "metadata": {},
     "outputs": [],
     "prompt_number": 1
    },
    {
     "cell_type": "code",
     "collapsed": false,
     "input": [
      "directory = '/Users/daniel/Johnson+Miller/KIDs/SKIP/STAR Cryo Version 0/2014-07-21_tau_qp_load/'"
     ],
     "language": "python",
     "metadata": {},
     "outputs": [],
     "prompt_number": 2
    },
    {
     "cell_type": "markdown",
     "metadata": {},
     "source": [
      "Removed 6 dB attenuator on mixer input. Signals now larger and delay changed. Approximately equal response in I (CH1) and Q (CH2) now. Couldn't see anything with a delta duration of 0.5 $\\mu$s, so increased it to 5 $\\mu$s. Might have been averaging 32 traces for first sweep (0000); definitely averaging 64 for all subsequent."
     ]
    },
    {
     "cell_type": "code",
     "collapsed": false,
     "input": [
      "V_heater = []\n",
      "T_load = []\n",
      "T_copper = []\n",
      "nu = []\n",
      "pulse = {'T_stage': [], 'T_load': [], 'V': [], 'I': [], 'file': [], 'duration': 2e-3}\n",
      "spike = {'T_stage': [], 'T_load': [], 'V': [], 'I': [], 'file': [], 'duration': 50e-6}\n",
      "delta = {'T_stage': [], 'T_load': [], 'V': [], 'I': [], 'file': [], 'duration': 5e-6}"
     ],
     "language": "python",
     "metadata": {},
     "outputs": [],
     "prompt_number": 3
    },
    {
     "cell_type": "markdown",
     "metadata": {},
     "source": [
      "Load temperature 1 (base):"
     ]
    },
    {
     "cell_type": "code",
     "collapsed": false,
     "input": [
      "V_heater.append(0)\n",
      "T_load_1 = 3.966\n",
      "T_copper.append(3.253)\n",
      "T_stage_1 = 0.198\n",
      "nu.append(872.290e6)"
     ],
     "language": "python",
     "metadata": {},
     "outputs": [],
     "prompt_number": 4
    },
    {
     "cell_type": "code",
     "collapsed": false,
     "input": [
      "pulse['T_stage'].append(T_stage_1)\n",
      "pulse['T_load'].append(T_load_1)\n",
      "pulse['V'].append(1.1)\n",
      "pulse['I'].append(1.9e-3)\n",
      "pulse['file'].append('T0000ALL.CSV')"
     ],
     "language": "python",
     "metadata": {},
     "outputs": [],
     "prompt_number": 5
    },
    {
     "cell_type": "code",
     "collapsed": false,
     "input": [
      "spike['T_stage'].append(T_stage_1)\n",
      "spike['T_load'].append(T_load_1)\n",
      "spike['V'].append(2.5)\n",
      "spike['I'].append(11e-3)\n",
      "spike['file'].append('T0001ALL.CSV')"
     ],
     "language": "python",
     "metadata": {},
     "outputs": [],
     "prompt_number": 6
    },
    {
     "cell_type": "code",
     "collapsed": false,
     "input": [
      "delta['T_stage'].append(T_stage_1)\n",
      "delta['T_load'].append(T_load_1)\n",
      "delta['V'].append(10)\n",
      "delta['I'].append(60e-3)\n",
      "delta['file'].append('T0002ALL.CSV')"
     ],
     "language": "python",
     "metadata": {},
     "outputs": [],
     "prompt_number": 7
    },
    {
     "cell_type": "markdown",
     "metadata": {},
     "source": [
      "Load temperature 2:"
     ]
    },
    {
     "cell_type": "code",
     "collapsed": false,
     "input": [
      "V_heater.append(2.6)\n",
      "T_load_2 = 6.620\n",
      "T_copper.append(6.294)\n",
      "T_stage_2 = 0.204\n",
      "nu.append(872.250e6)"
     ],
     "language": "python",
     "metadata": {},
     "outputs": [],
     "prompt_number": 8
    },
    {
     "cell_type": "code",
     "collapsed": false,
     "input": [
      "pulse['T_stage'].append(T_stage_2)\n",
      "pulse['T_load'].append(T_load_2)\n",
      "pulse['V'].append(1.8)\n",
      "pulse['I'].append(6.7e-3)\n",
      "pulse['file'].append('T0003ALL.CSV')"
     ],
     "language": "python",
     "metadata": {},
     "outputs": [],
     "prompt_number": 9
    },
    {
     "cell_type": "code",
     "collapsed": false,
     "input": [
      "spike['T_stage'].append(T_stage_2)\n",
      "spike['T_load'].append(T_load_2)\n",
      "spike['V'].append(3.9)\n",
      "spike['I'].append(20e-3)\n",
      "spike['file'].append('T0004ALL.CSV')"
     ],
     "language": "python",
     "metadata": {},
     "outputs": [],
     "prompt_number": 10
    },
    {
     "cell_type": "code",
     "collapsed": false,
     "input": [
      "delta['T_stage'].append(T_stage_2)\n",
      "delta['T_load'].append(T_load_2)\n",
      "delta['V'].append(10)\n",
      "delta['I'].append(60e-3)\n",
      "delta['file'].append('T0005ALL.CSV')"
     ],
     "language": "python",
     "metadata": {},
     "outputs": [],
     "prompt_number": 11
    },
    {
     "cell_type": "markdown",
     "metadata": {},
     "source": [
      "Load temperature drifted by about 40 mK during the previous measurement. The load given load temperature is an average."
     ]
    },
    {
     "cell_type": "markdown",
     "metadata": {},
     "source": [
      "Load temperature 3:"
     ]
    },
    {
     "cell_type": "code",
     "collapsed": false,
     "input": [
      "V_heater.append(3.0)\n",
      "T_load_3 = 7.300\n",
      "T_copper.append(7.010)\n",
      "T_stage_3 = 0.208\n",
      "nu.append(872.230e6)"
     ],
     "language": "python",
     "metadata": {},
     "outputs": [],
     "prompt_number": 12
    },
    {
     "cell_type": "code",
     "collapsed": false,
     "input": [
      "pulse['T_stage'].append(T_stage_3)\n",
      "pulse['T_load'].append(T_load_3)\n",
      "pulse['V'].append(1.8)\n",
      "pulse['I'].append(6.7e-3)\n",
      "pulse['file'].append('T0006ALL.CSV')"
     ],
     "language": "python",
     "metadata": {},
     "outputs": [],
     "prompt_number": 13
    },
    {
     "cell_type": "code",
     "collapsed": false,
     "input": [
      "spike['T_stage'].append(T_stage_3)\n",
      "spike['T_load'].append(T_load_3)\n",
      "spike['V'].append(4.1)\n",
      "spike['I'].append(21e-3)\n",
      "spike['file'].append('T0007ALL.CSV')"
     ],
     "language": "python",
     "metadata": {},
     "outputs": [],
     "prompt_number": 14
    },
    {
     "cell_type": "code",
     "collapsed": false,
     "input": [
      "delta['T_stage'].append(T_stage_3)\n",
      "delta['T_load'].append(T_load_3)\n",
      "delta['V'].append(10)\n",
      "delta['I'].append(60e-3)\n",
      "delta['file'].append('T0008ALL.CSV')"
     ],
     "language": "python",
     "metadata": {},
     "outputs": [],
     "prompt_number": 15
    },
    {
     "cell_type": "code",
     "collapsed": false,
     "input": [
      "data_directory = '/Users/daniel/Johnson+Miller/KIDs/SKIP/STAR Cryo Version 0/2014-07-21_tau_qp_load'\n",
      "with open(os.path.join(data_directory, 'pulse.pkl'), 'w') as f:\n",
      "    pickle.dump(pulse, f)\n",
      "with open(os.path.join(data_directory, 'spike.pkl'), 'w') as f:\n",
      "    pickle.dump(spike, f)\n",
      "with open(os.path.join(data_directory, 'delta.pkl'), 'w') as f:\n",
      "    pickle.dump(delta, f)"
     ],
     "language": "python",
     "metadata": {},
     "outputs": [],
     "prompt_number": 16
    }
   ],
   "metadata": {}
  }
 ]
}