{
 "metadata": {
  "name": "",
  "signature": "sha256:8bf2c91b119d42a445f197e796a649fa4e7b1a1055f53e06ae0c7335f17ac564"
 },
 "nbformat": 3,
 "nbformat_minor": 0,
 "worksheets": [
  {
   "cells": [
    {
     "cell_type": "markdown",
     "metadata": {},
     "source": [
      "Modifications:\n",
      "- Reduce waveguide diameter to 0.029\" from Brad's calculation;\n",
      "- Reduce backshort depth to match reduction in AR chip thickness;\n",
      "- Alternatively, make the backshort boss higher to match the reduction in AR chip thickness.\n",
      "\n",
      "Is the backshort coupling significantly to the signal lines? To the detectors?"
     ]
    },
    {
     "cell_type": "code",
     "collapsed": false,
     "input": [],
     "language": "python",
     "metadata": {},
     "outputs": []
    }
   ],
   "metadata": {}
  }
 ]
}