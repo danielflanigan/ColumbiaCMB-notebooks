{
 "metadata": {
  "name": "",
  "signature": "sha256:69d11f6615832ff3056db7d7d1d0016d80a2986209b5e0922dba18966c67aee1"
 },
 "nbformat": 3,
 "nbformat_minor": 0,
 "worksheets": [
  {
   "cells": [
    {
     "cell_type": "code",
     "collapsed": false,
     "input": [
      "%run ~/kid_readout.git/scripts/acquire.py"
     ],
     "language": "python",
     "metadata": {},
     "outputs": [
      {
       "output_type": "stream",
       "stream": "stdout",
       "text": [
        "Loaded ROACH state from /home/data/roach_config.npz\n",
        "()"
       ]
      },
      {
       "output_type": "stream",
       "stream": "stdout",
       "text": [
        "\n",
        "Writing data to /home/data2/2014-11-26_160720_41_dB.nc"
       ]
      },
      {
       "output_type": "stream",
       "stream": "stdout",
       "text": [
        "\n",
        "Setting DAC attenuator to 41.0 dB\n",
        "Sweep memory usage is 248.0 MB of 256.0 MB capacity."
       ]
      },
      {
       "output_type": "stream",
       "stream": "stdout",
       "text": [
        "\n",
        "bank_offset="
       ]
      },
      {
       "output_type": "stream",
       "stream": "stdout",
       "text": [
        " 0 start_offset= 0 start_offset_bytes= 0\n",
        "writing DRAM bank 0\n"
       ]
      },
      {
       "output_type": "stream",
       "stream": "stdout",
       "text": [
        "\n",
        "writing DRAM bank 1\n"
       ]
      },
      {
       "output_type": "stream",
       "stream": "stdout",
       "text": [
        "\n",
        "writing DRAM bank 2\n"
       ]
      },
      {
       "output_type": "stream",
       "stream": "stdout",
       "text": [
        "\n",
        "writing DRAM bank 3\n"
       ]
      },
      {
       "output_type": "stream",
       "stream": "stdout",
       "text": [
        "\n",
        "Recording frequency sweep."
       ]
      },
      {
       "output_type": "stream",
       "stream": "stdout",
       "text": [
        "\n",
        "detected mcnt overflow"
       ]
      },
      {
       "output_type": "stream",
       "stream": "stdout",
       "text": [
        " None 3186039 0 16384 0 1760 3186039\n",
        "detected mcnt overflow"
       ]
      },
      {
       "output_type": "stream",
       "stream": "stdout",
       "text": [
        " None 40311 0 16384 0 1824 40311\n",
        "detected mcnt overflow"
       ]
      },
      {
       "output_type": "stream",
       "stream": "stdout",
       "text": [
        " None 40311 0 16384 0 1888 40311\n",
        "detected mcnt overflow"
       ]
      },
      {
       "output_type": "stream",
       "stream": "stdout",
       "text": [
        " None 2137463 0 16384 0 1984 2137463\n",
        "Elapsed time 74 seconds. Writing to disk."
       ]
      },
      {
       "output_type": "stream",
       "stream": "stdout",
       "text": [
        "\n",
        "Initial frequencies in MHz are 96.065, 101.967, 108.869, 112.270, 117.281, 127.788, 144.200, 148.251, 164.091, 164.500, 165.417, 174.963, 178.946, 184.571, 188.870, 195.723"
       ]
      },
      {
       "output_type": "stream",
       "stream": "stdout",
       "text": [
        "\n",
        "initial - fit [Hz]: -597, -683, -375, -615, -350, -663, -810, -642, -846, -1000, -379, -969, -888, -1187, -425, -1178\n",
        "bank_offset="
       ]
      },
      {
       "output_type": "stream",
       "stream": "stdout",
       "text": [
        " 0 start_offset= 0 start_offset_bytes= 0\n",
        "writing DRAM bank 0\n"
       ]
      },
      {
       "output_type": "stream",
       "stream": "stdout",
       "text": [
        "\n",
        "measured - fit [Hz]: -109, 49, 114, 117, -106, 70, -78, 91, -113, -24, 109, 7, 88, 34, 64, 43"
       ]
      },
      {
       "output_type": "stream",
       "stream": "stdout",
       "text": [
        "\n",
        "Recording 30 second timestream.\n",
        "detected mcnt overflow"
       ]
      },
      {
       "output_type": "stream",
       "stream": "stdout",
       "text": [
        " None 40311 0 16384 0 10400 40311\n",
        "detected mcnt overflow None 40311 0 32768 1 26784 40311\n",
        "Elapsed time 35 seconds. Writing to disk."
       ]
      },
      {
       "output_type": "stream",
       "stream": "stdout",
       "text": [
        "\n",
        "()"
       ]
      },
      {
       "output_type": "stream",
       "stream": "stdout",
       "text": [
        "\n",
        "Writing data to /home/data2/2014-11-26_161146_38_dB.nc\n",
        "Setting DAC attenuator to 38.0 dB\n",
        "Sweep memory usage is 248.0 MB of 256.0 MB capacity."
       ]
      },
      {
       "output_type": "stream",
       "stream": "stdout",
       "text": [
        "\n",
        "bank_offset="
       ]
      },
      {
       "output_type": "stream",
       "stream": "stdout",
       "text": [
        " 0 start_offset= 0 start_offset_bytes= 0\n",
        "writing DRAM bank 0\n"
       ]
      },
      {
       "output_type": "stream",
       "stream": "stdout",
       "text": [
        "\n",
        "writing DRAM bank 1\n"
       ]
      },
      {
       "output_type": "stream",
       "stream": "stdout",
       "text": [
        "\n",
        "writing DRAM bank 2\n"
       ]
      },
      {
       "output_type": "stream",
       "stream": "stdout",
       "text": [
        "\n",
        "writing DRAM bank 3\n"
       ]
      },
      {
       "output_type": "stream",
       "stream": "stdout",
       "text": [
        "\n",
        "Recording frequency sweep."
       ]
      },
      {
       "output_type": "stream",
       "stream": "stdout",
       "text": [
        "\n",
        "detected mcnt overflow"
       ]
      },
      {
       "output_type": "stream",
       "stream": "stdout",
       "text": [
        " None 40311 0 16384 0 16 40311\n",
        "detected mcnt overflow"
       ]
      },
      {
       "output_type": "stream",
       "stream": "stdout",
       "text": [
        " None 2137463 0 16384 0 80 2137463\n",
        "detected mcnt overflow"
       ]
      },
      {
       "output_type": "stream",
       "stream": "stdout",
       "text": [
        " None 40311 0 16384 0 144 40311\n",
        "detected mcnt overflow"
       ]
      },
      {
       "output_type": "stream",
       "stream": "stdout",
       "text": [
        " None 40311 0 16384 0 208 40311\n",
        "Elapsed time 74 seconds. Writing to disk."
       ]
      },
      {
       "output_type": "stream",
       "stream": "stdout",
       "text": [
        "\n",
        "Initial frequencies in MHz are 96.065, 101.967, 108.869, 112.270, 117.281, 127.788, 144.200, 148.251, 164.091, 164.500, 165.417, 174.963, 178.946, 184.571, 188.870, 195.723"
       ]
      },
      {
       "output_type": "stream",
       "stream": "stdout",
       "text": [
        "\n",
        "initial - fit [Hz]: -634, -718, -399, -657, -383, -713, -879, -708, -909, -1063, -602, -1091, -950, -1306, -2434, -1295\n",
        "bank_offset="
       ]
      },
      {
       "output_type": "stream",
       "stream": "stdout",
       "text": [
        " 0 start_offset= 0 start_offset_bytes= 0\n",
        "writing DRAM bank 0\n"
       ]
      },
      {
       "output_type": "stream",
       "stream": "stdout",
       "text": [
        "\n",
        "measured - fit [Hz]: 98, 15, 89, 76, 105, 19, 98, 24, 68, -86, -114, -114, 27, -85, 8, -74"
       ]
      },
      {
       "output_type": "stream",
       "stream": "stdout",
       "text": [
        "\n",
        "Recording 30 second timestream.\n",
        "detected mcnt overflow"
       ]
      },
      {
       "output_type": "stream",
       "stream": "stdout",
       "text": [
        " None 40311 0 16384 0 13088 40311\n",
        "detected mcnt overflow None 40311 0 32768 1 29472 40311\n",
        "Elapsed time 35 seconds. Writing to disk."
       ]
      },
      {
       "output_type": "stream",
       "stream": "stdout",
       "text": [
        "\n",
        "()"
       ]
      },
      {
       "output_type": "stream",
       "stream": "stdout",
       "text": [
        "\n",
        "Writing data to /home/data2/2014-11-26_161611_35_dB.nc\n",
        "Setting DAC attenuator to 35.0 dB\n",
        "Sweep memory usage is 248.0 MB of 256.0 MB capacity."
       ]
      },
      {
       "output_type": "stream",
       "stream": "stdout",
       "text": [
        "\n",
        "bank_offset="
       ]
      },
      {
       "output_type": "stream",
       "stream": "stdout",
       "text": [
        " 0 start_offset= 0 start_offset_bytes= 0\n",
        "writing DRAM bank 0\n"
       ]
      },
      {
       "output_type": "stream",
       "stream": "stdout",
       "text": [
        "\n",
        "writing DRAM bank 1\n"
       ]
      },
      {
       "output_type": "stream",
       "stream": "stdout",
       "text": [
        "\n",
        "writing DRAM bank 2\n"
       ]
      },
      {
       "output_type": "stream",
       "stream": "stdout",
       "text": [
        "\n",
        "writing DRAM bank 3\n"
       ]
      },
      {
       "output_type": "stream",
       "stream": "stdout",
       "text": [
        "\n",
        "Recording frequency sweep."
       ]
      },
      {
       "output_type": "stream",
       "stream": "stdout",
       "text": [
        "\n",
        "detected mcnt overflow"
       ]
      },
      {
       "output_type": "stream",
       "stream": "stdout",
       "text": [
        " None 40312 0 16384 0 800 40312\n",
        "detected mcnt overflow"
       ]
      },
      {
       "output_type": "stream",
       "stream": "stdout",
       "text": [
        " None 3186039 0 16384 0 880 3186039\n",
        "detected mcnt overflow"
       ]
      },
      {
       "output_type": "stream",
       "stream": "stdout",
       "text": [
        " None 2137463 0 16384 0 944 2137463\n",
        "detected mcnt overflow"
       ]
      },
      {
       "output_type": "stream",
       "stream": "stdout",
       "text": [
        " None 1088887 0 16384 0 1024 1088887\n",
        "detected mcnt overflow"
       ]
      },
      {
       "output_type": "stream",
       "stream": "stdout",
       "text": [
        " None 2137463 0 16384 0 1104 2137463\n",
        "Elapsed time 74 seconds. Writing to disk."
       ]
      },
      {
       "output_type": "stream",
       "stream": "stdout",
       "text": [
        "\n",
        "Initial frequencies in MHz are 96.065, 101.967, 108.869, 112.270, 117.281, 127.788, 144.200, 148.251, 164.091, 164.500, 165.417, 174.963, 178.946, 184.571, 188.870, 195.723"
       ]
      },
      {
       "output_type": "stream",
       "stream": "stdout",
       "text": [
        "\n",
        "initial - fit [Hz]: -671, -756, -417, -701, -407, -771, -959, -779, -995, -1117, -552, -1216, -1037, -1446, -1036, -1445\n",
        "bank_offset="
       ]
      },
      {
       "output_type": "stream",
       "stream": "stdout",
       "text": [
        " 0 start_offset= 0 start_offset_bytes= 0\n",
        "writing DRAM bank 0\n"
       ]
      },
      {
       "output_type": "stream",
       "stream": "stdout",
       "text": [
        "\n",
        "measured - fit [Hz]: 61, -24, 71, 31, 82, -38, 18, -46, -18, 104, -63, 5, -60, 19, -59, 20"
       ]
      },
      {
       "output_type": "stream",
       "stream": "stdout",
       "text": [
        "\n",
        "Recording 30 second timestream.\n",
        "detected mcnt overflow"
       ]
      },
      {
       "output_type": "stream",
       "stream": "stdout",
       "text": [
        " None 1088887 0 16384 0 256 1088887\n",
        "detected mcnt overflow None 1088887 0 32768 1 16640 1088887\n",
        "Elapsed time 34 seconds. Writing to disk."
       ]
      },
      {
       "output_type": "stream",
       "stream": "stdout",
       "text": [
        "\n",
        "()"
       ]
      },
      {
       "output_type": "stream",
       "stream": "stdout",
       "text": [
        "\n",
        "Writing data to /home/data2/2014-11-26_162036_32_dB.nc\n",
        "Setting DAC attenuator to 32.0 dB\n",
        "Sweep memory usage is 248.0 MB of 256.0 MB capacity."
       ]
      },
      {
       "output_type": "stream",
       "stream": "stdout",
       "text": [
        "\n",
        "bank_offset="
       ]
      },
      {
       "output_type": "stream",
       "stream": "stdout",
       "text": [
        " 0 start_offset= 0 start_offset_bytes= 0\n",
        "writing DRAM bank 0\n"
       ]
      },
      {
       "output_type": "stream",
       "stream": "stdout",
       "text": [
        "\n",
        "writing DRAM bank 1\n"
       ]
      },
      {
       "output_type": "stream",
       "stream": "stdout",
       "text": [
        "\n",
        "writing DRAM bank 2\n"
       ]
      },
      {
       "output_type": "stream",
       "stream": "stdout",
       "text": [
        "\n",
        "writing DRAM bank 3\n"
       ]
      },
      {
       "output_type": "stream",
       "stream": "stdout",
       "text": [
        "\n",
        "Recording frequency sweep."
       ]
      },
      {
       "output_type": "stream",
       "stream": "stdout",
       "text": [
        "\n",
        "detected mcnt overflow"
       ]
      },
      {
       "output_type": "stream",
       "stream": "stdout",
       "text": [
        " None 1088887 0 16384 0 96 1088887\n",
        "detected mcnt overflow"
       ]
      },
      {
       "output_type": "stream",
       "stream": "stdout",
       "text": [
        " None 40311 0 16384 0 144 40311\n",
        "detected mcnt overflow"
       ]
      },
      {
       "output_type": "stream",
       "stream": "stdout",
       "text": [
        " None 2137463 0 16384 0 224 2137463\n",
        "detected mcnt overflow"
       ]
      },
      {
       "output_type": "stream",
       "stream": "stdout",
       "text": [
        " None 2137463 0 16384 0 288 2137463\n",
        "Elapsed time 74 seconds. Writing to disk."
       ]
      },
      {
       "output_type": "stream",
       "stream": "stdout",
       "text": [
        "\n",
        "Initial frequencies in MHz are 96.065, 101.967, 108.869, 112.270, 117.281, 127.788, 144.200, 148.251, 164.091, 164.500, 165.417, 174.963, 178.946, 184.571, 188.870, 195.723"
       ]
      },
      {
       "output_type": "stream",
       "stream": "stdout",
       "text": [
        "\n",
        "initial - fit [Hz]: -688, -771, -442, -719, -439, -810, -1015, -802, -1096, -1199, -685, -1332, -1144, -1585, -1150, -1605\n",
        "bank_offset="
       ]
      },
      {
       "output_type": "stream",
       "stream": "stdout",
       "text": [
        " 0 start_offset= 0 start_offset_bytes= 0\n",
        "writing DRAM bank 0\n"
       ]
      },
      {
       "output_type": "stream",
       "stream": "stdout",
       "text": [
        "\n",
        "measured - fit [Hz]: 45, -38, 46, 13, 50, -77, -39, -69, -119, 22, 47, -112, 76, -121, 71, 104"
       ]
      },
      {
       "output_type": "stream",
       "stream": "stdout",
       "text": [
        "\n",
        "Recording 30 second timestream.\n",
        "detected mcnt overflow"
       ]
      },
      {
       "output_type": "stream",
       "stream": "stdout",
       "text": [
        " None 1088887 0 16384 0 2608 1088887\n",
        "detected mcnt overflow None 1088887 0 32768 1 18992 1088887\n",
        "Elapsed time 35 seconds. Writing to disk."
       ]
      },
      {
       "output_type": "stream",
       "stream": "stdout",
       "text": [
        "\n",
        "()"
       ]
      },
      {
       "output_type": "stream",
       "stream": "stdout",
       "text": [
        "\n",
        "Writing data to /home/data2/2014-11-26_162502_29_dB.nc\n",
        "Setting DAC attenuator to 29.0 dB\n",
        "Sweep memory usage is 248.0 MB of 256.0 MB capacity."
       ]
      },
      {
       "output_type": "stream",
       "stream": "stdout",
       "text": [
        "\n",
        "bank_offset="
       ]
      },
      {
       "output_type": "stream",
       "stream": "stdout",
       "text": [
        " 0 start_offset= 0 start_offset_bytes= 0\n",
        "writing DRAM bank 0\n"
       ]
      },
      {
       "output_type": "stream",
       "stream": "stdout",
       "text": [
        "\n",
        "writing DRAM bank 1\n"
       ]
      },
      {
       "output_type": "stream",
       "stream": "stdout",
       "text": [
        "\n",
        "writing DRAM bank 2\n"
       ]
      },
      {
       "output_type": "stream",
       "stream": "stdout",
       "text": [
        "\n",
        "writing DRAM bank 3\n"
       ]
      },
      {
       "output_type": "stream",
       "stream": "stdout",
       "text": [
        "\n",
        "Recording frequency sweep."
       ]
      },
      {
       "output_type": "stream",
       "stream": "stdout",
       "text": [
        "\n",
        "detected mcnt overflow"
       ]
      },
      {
       "output_type": "stream",
       "stream": "stdout",
       "text": [
        " None 3186039 0 16384 0 16 3186039\n",
        "detected mcnt overflow"
       ]
      },
      {
       "output_type": "stream",
       "stream": "stdout",
       "text": [
        " None 2137463 0 16384 0 96 2137463\n",
        "detected mcnt overflow"
       ]
      },
      {
       "output_type": "stream",
       "stream": "stdout",
       "text": [
        " None 1088887 0 16384 0 160 1088887\n",
        "detected mcnt overflow"
       ]
      },
      {
       "output_type": "stream",
       "stream": "stdout",
       "text": [
        " None 1088887 0 16384 0 224 1088887\n",
        "Elapsed time 74 seconds. Writing to disk."
       ]
      },
      {
       "output_type": "stream",
       "stream": "stdout",
       "text": [
        "\n",
        "Initial frequencies in MHz are 96.065, 101.967, 108.869, 112.270, 117.281, 127.788, 144.200, 148.251, 164.091, 164.500, 165.417, 174.963, 178.946, 184.571, 188.870, 195.723"
       ]
      },
      {
       "output_type": "stream",
       "stream": "stdout",
       "text": [
        "\n",
        "initial - fit [Hz]: -761, -830, -501, -774, -512, -849, -1071, -900, -1179, -1240, -796, -1349, -1228, -1623, -1258, -1664\n",
        "bank_offset="
       ]
      },
      {
       "output_type": "stream",
       "stream": "stdout",
       "text": [
        " 0 start_offset= 0 start_offset_bytes= 0\n",
        "writing DRAM bank 0\n"
       ]
      },
      {
       "output_type": "stream",
       "stream": "stdout",
       "text": [
        "\n",
        "measured - fit [Hz]: -28, -97, -13, -42, -24, -116, -94, 76, 41, -19, -64, 116, -8, 86, -37, 45"
       ]
      },
      {
       "output_type": "stream",
       "stream": "stdout",
       "text": [
        "\n",
        "Recording 30 second timestream.\n",
        "detected mcnt overflow"
       ]
      },
      {
       "output_type": "stream",
       "stream": "stdout",
       "text": [
        " None 40311 0 16384 0 6688 40311\n",
        "detected mcnt overflow None 40311 0 32768 1 23072 40311\n",
        "Elapsed time 35 seconds. Writing to disk."
       ]
      },
      {
       "output_type": "stream",
       "stream": "stdout",
       "text": [
        "\n"
       ]
      }
     ],
     "prompt_number": 1
    },
    {
     "cell_type": "code",
     "collapsed": false,
     "input": [
      "from kid_readout.analysis.noise_measurement import SweepNoiseMeasurement\n",
      "plt.rcParams['font.size'] = 12\n",
      "from kid_readout.analysis.iqnoise import pca_noise"
     ],
     "language": "python",
     "metadata": {},
     "outputs": [
      {
       "output_type": "stream",
       "stream": "stdout",
       "text": [
        "updated file list\n"
       ]
      },
      {
       "output_type": "stream",
       "stream": "stderr",
       "text": [
        "/home/local/lib/python2.7/site-packages/matplotlib/__init__.py:1155: UserWarning:  This call to matplotlib.use() has no effect\n",
        "because the backend has already been chosen;\n",
        "matplotlib.use() must be called *before* pylab, matplotlib.pyplot,\n",
        "or matplotlib.backends is imported for the first time.\n",
        "\n",
        "  warnings.warn(_use_error_msg)\n"
       ]
      }
     ],
     "prompt_number": 1
    },
    {
     "cell_type": "code",
     "collapsed": false,
     "input": [
      "s41 = [SweepNoiseMeasurement('/home/data2/2014-11-26_160720_41_dB.nc', resonator_index=n)\n",
      "                             for n in range(16)]\n",
      "s38 = [SweepNoiseMeasurement('/home/data2/2014-11-26_161146_38_dB.nc', resonator_index=n)\n",
      "                             for n in range(16)]\n",
      "s35 = [SweepNoiseMeasurement('/home/data2/2014-11-26_161611_35_dB.nc', resonator_index=n)\n",
      "                             for n in range(16)]\n",
      "s32 = [SweepNoiseMeasurement('/home/data2/2014-11-26_162036_32_dB.nc', resonator_index=n)\n",
      "                             for n in range(16)]\n",
      "s29 = [SweepNoiseMeasurement('/home/data2/2014-11-26_162502_29_dB.nc', resonator_index=n)\n",
      "                             for n in range(16)]"
     ],
     "language": "python",
     "metadata": {},
     "outputs": [
      {
       "output_type": "stream",
       "stream": "stdout",
       "text": [
        "using NFFT: 2** 16.0\n",
        "10"
       ]
      },
      {
       "output_type": "stream",
       "stream": "stdout",
       "text": [
        "\n",
        "using NFFT: 2**"
       ]
      },
      {
       "output_type": "stream",
       "stream": "stdout",
       "text": [
        " 16.0\n",
        "10"
       ]
      },
      {
       "output_type": "stream",
       "stream": "stdout",
       "text": [
        "\n",
        "using NFFT: 2**"
       ]
      },
      {
       "output_type": "stream",
       "stream": "stdout",
       "text": [
        " 16.0\n",
        "10"
       ]
      },
      {
       "output_type": "stream",
       "stream": "stdout",
       "text": [
        "\n",
        "using NFFT: 2**"
       ]
      },
      {
       "output_type": "stream",
       "stream": "stdout",
       "text": [
        " 16.0\n",
        "10"
       ]
      },
      {
       "output_type": "stream",
       "stream": "stdout",
       "text": [
        "\n",
        "using NFFT: 2**"
       ]
      },
      {
       "output_type": "stream",
       "stream": "stdout",
       "text": [
        " 16.0\n",
        "10"
       ]
      },
      {
       "output_type": "stream",
       "stream": "stdout",
       "text": [
        "\n",
        "using NFFT: 2**"
       ]
      },
      {
       "output_type": "stream",
       "stream": "stdout",
       "text": [
        " 16.0\n",
        "10"
       ]
      },
      {
       "output_type": "stream",
       "stream": "stdout",
       "text": [
        "\n",
        "using NFFT: 2**"
       ]
      },
      {
       "output_type": "stream",
       "stream": "stdout",
       "text": [
        " 16.0\n",
        "10"
       ]
      },
      {
       "output_type": "stream",
       "stream": "stdout",
       "text": [
        "\n",
        "using NFFT: 2**"
       ]
      },
      {
       "output_type": "stream",
       "stream": "stdout",
       "text": [
        " 16.0\n",
        "10"
       ]
      },
      {
       "output_type": "stream",
       "stream": "stdout",
       "text": [
        "\n",
        "using NFFT: 2**"
       ]
      },
      {
       "output_type": "stream",
       "stream": "stdout",
       "text": [
        " 16.0\n",
        "10"
       ]
      },
      {
       "output_type": "stream",
       "stream": "stdout",
       "text": [
        "\n",
        "using NFFT: 2**"
       ]
      },
      {
       "output_type": "stream",
       "stream": "stdout",
       "text": [
        " 16.0\n",
        "10"
       ]
      },
      {
       "output_type": "stream",
       "stream": "stdout",
       "text": [
        "\n",
        "using NFFT: 2**"
       ]
      },
      {
       "output_type": "stream",
       "stream": "stdout",
       "text": [
        " 16.0\n",
        "10"
       ]
      },
      {
       "output_type": "stream",
       "stream": "stdout",
       "text": [
        "\n",
        "using NFFT: 2**"
       ]
      },
      {
       "output_type": "stream",
       "stream": "stdout",
       "text": [
        " 16.0\n",
        "10"
       ]
      },
      {
       "output_type": "stream",
       "stream": "stdout",
       "text": [
        "\n",
        "using NFFT: 2**"
       ]
      },
      {
       "output_type": "stream",
       "stream": "stdout",
       "text": [
        " 16.0\n",
        "10"
       ]
      },
      {
       "output_type": "stream",
       "stream": "stdout",
       "text": [
        "\n",
        "using NFFT: 2**"
       ]
      },
      {
       "output_type": "stream",
       "stream": "stdout",
       "text": [
        " 16.0\n",
        "10"
       ]
      },
      {
       "output_type": "stream",
       "stream": "stdout",
       "text": [
        "\n",
        "using NFFT: 2**"
       ]
      },
      {
       "output_type": "stream",
       "stream": "stdout",
       "text": [
        " 16.0\n",
        "10"
       ]
      },
      {
       "output_type": "stream",
       "stream": "stdout",
       "text": [
        "\n",
        "using NFFT: 2**"
       ]
      },
      {
       "output_type": "stream",
       "stream": "stdout",
       "text": [
        " 16.0\n",
        "10"
       ]
      },
      {
       "output_type": "stream",
       "stream": "stdout",
       "text": [
        "\n",
        "using NFFT: 2**"
       ]
      },
      {
       "output_type": "stream",
       "stream": "stdout",
       "text": [
        " 16.0\n",
        "10"
       ]
      },
      {
       "output_type": "stream",
       "stream": "stdout",
       "text": [
        "\n",
        "using NFFT: 2**"
       ]
      },
      {
       "output_type": "stream",
       "stream": "stdout",
       "text": [
        " 16.0\n",
        "10"
       ]
      },
      {
       "output_type": "stream",
       "stream": "stdout",
       "text": [
        "\n",
        "using NFFT: 2**"
       ]
      },
      {
       "output_type": "stream",
       "stream": "stdout",
       "text": [
        " 16.0\n",
        "10"
       ]
      },
      {
       "output_type": "stream",
       "stream": "stdout",
       "text": [
        "\n",
        "using NFFT: 2**"
       ]
      },
      {
       "output_type": "stream",
       "stream": "stdout",
       "text": [
        " 16.0\n",
        "10"
       ]
      },
      {
       "output_type": "stream",
       "stream": "stdout",
       "text": [
        "\n",
        "using NFFT: 2**"
       ]
      },
      {
       "output_type": "stream",
       "stream": "stdout",
       "text": [
        " 16.0\n",
        "10"
       ]
      },
      {
       "output_type": "stream",
       "stream": "stdout",
       "text": [
        "\n",
        "using NFFT: 2**"
       ]
      },
      {
       "output_type": "stream",
       "stream": "stdout",
       "text": [
        " 16.0\n",
        "10"
       ]
      },
      {
       "output_type": "stream",
       "stream": "stdout",
       "text": [
        "\n",
        "using NFFT: 2**"
       ]
      },
      {
       "output_type": "stream",
       "stream": "stdout",
       "text": [
        " 16.0\n",
        "10"
       ]
      },
      {
       "output_type": "stream",
       "stream": "stdout",
       "text": [
        "\n",
        "using NFFT: 2**"
       ]
      },
      {
       "output_type": "stream",
       "stream": "stdout",
       "text": [
        " 16.0\n",
        "10"
       ]
      },
      {
       "output_type": "stream",
       "stream": "stdout",
       "text": [
        "\n",
        "using NFFT: 2**"
       ]
      },
      {
       "output_type": "stream",
       "stream": "stdout",
       "text": [
        " 16.0\n",
        "10"
       ]
      },
      {
       "output_type": "stream",
       "stream": "stdout",
       "text": [
        "\n",
        "using NFFT: 2**"
       ]
      },
      {
       "output_type": "stream",
       "stream": "stdout",
       "text": [
        " 16.0\n",
        "10"
       ]
      },
      {
       "output_type": "stream",
       "stream": "stdout",
       "text": [
        "\n",
        "using NFFT: 2**"
       ]
      },
      {
       "output_type": "stream",
       "stream": "stdout",
       "text": [
        " 16.0\n",
        "10"
       ]
      },
      {
       "output_type": "stream",
       "stream": "stdout",
       "text": [
        "\n",
        "using NFFT: 2**"
       ]
      },
      {
       "output_type": "stream",
       "stream": "stdout",
       "text": [
        " 16.0\n",
        "10"
       ]
      },
      {
       "output_type": "stream",
       "stream": "stdout",
       "text": [
        "\n",
        "using NFFT: 2**"
       ]
      },
      {
       "output_type": "stream",
       "stream": "stdout",
       "text": [
        " 16.0\n",
        "10"
       ]
      },
      {
       "output_type": "stream",
       "stream": "stdout",
       "text": [
        "\n",
        "using NFFT: 2**"
       ]
      },
      {
       "output_type": "stream",
       "stream": "stdout",
       "text": [
        " 16.0\n",
        "10"
       ]
      },
      {
       "output_type": "stream",
       "stream": "stdout",
       "text": [
        "\n",
        "using NFFT: 2**"
       ]
      },
      {
       "output_type": "stream",
       "stream": "stdout",
       "text": [
        " 16.0\n",
        "10"
       ]
      },
      {
       "output_type": "stream",
       "stream": "stdout",
       "text": [
        "\n",
        "using NFFT: 2**"
       ]
      },
      {
       "output_type": "stream",
       "stream": "stdout",
       "text": [
        " 16.0\n",
        "10"
       ]
      },
      {
       "output_type": "stream",
       "stream": "stdout",
       "text": [
        "\n",
        "using NFFT: 2**"
       ]
      },
      {
       "output_type": "stream",
       "stream": "stdout",
       "text": [
        " 16.0\n",
        "10"
       ]
      },
      {
       "output_type": "stream",
       "stream": "stdout",
       "text": [
        "\n",
        "using NFFT: 2**"
       ]
      },
      {
       "output_type": "stream",
       "stream": "stdout",
       "text": [
        " 16.0\n",
        "10"
       ]
      },
      {
       "output_type": "stream",
       "stream": "stdout",
       "text": [
        "\n",
        "using NFFT: 2**"
       ]
      },
      {
       "output_type": "stream",
       "stream": "stdout",
       "text": [
        " 16.0\n",
        "10"
       ]
      },
      {
       "output_type": "stream",
       "stream": "stdout",
       "text": [
        "\n",
        "using NFFT: 2**"
       ]
      },
      {
       "output_type": "stream",
       "stream": "stdout",
       "text": [
        " 16.0\n",
        "10"
       ]
      },
      {
       "output_type": "stream",
       "stream": "stdout",
       "text": [
        "\n",
        "using NFFT: 2**"
       ]
      },
      {
       "output_type": "stream",
       "stream": "stdout",
       "text": [
        " 16.0\n",
        "10"
       ]
      },
      {
       "output_type": "stream",
       "stream": "stdout",
       "text": [
        "\n",
        "using NFFT: 2**"
       ]
      },
      {
       "output_type": "stream",
       "stream": "stdout",
       "text": [
        " 16.0\n",
        "10"
       ]
      },
      {
       "output_type": "stream",
       "stream": "stdout",
       "text": [
        "\n",
        "using NFFT: 2**"
       ]
      },
      {
       "output_type": "stream",
       "stream": "stdout",
       "text": [
        " 16.0\n",
        "10"
       ]
      },
      {
       "output_type": "stream",
       "stream": "stdout",
       "text": [
        "\n",
        "using NFFT: 2**"
       ]
      },
      {
       "output_type": "stream",
       "stream": "stdout",
       "text": [
        " 16.0\n",
        "10"
       ]
      },
      {
       "output_type": "stream",
       "stream": "stdout",
       "text": [
        "\n",
        "using NFFT: 2**"
       ]
      },
      {
       "output_type": "stream",
       "stream": "stdout",
       "text": [
        " 16.0\n",
        "10"
       ]
      },
      {
       "output_type": "stream",
       "stream": "stdout",
       "text": [
        "\n",
        "using NFFT: 2**"
       ]
      },
      {
       "output_type": "stream",
       "stream": "stdout",
       "text": [
        " 16.0\n",
        "10"
       ]
      },
      {
       "output_type": "stream",
       "stream": "stdout",
       "text": [
        "\n",
        "using NFFT: 2**"
       ]
      },
      {
       "output_type": "stream",
       "stream": "stdout",
       "text": [
        " 16.0\n",
        "10"
       ]
      },
      {
       "output_type": "stream",
       "stream": "stdout",
       "text": [
        "\n",
        "using NFFT: 2**"
       ]
      },
      {
       "output_type": "stream",
       "stream": "stdout",
       "text": [
        " 16.0\n",
        "10"
       ]
      },
      {
       "output_type": "stream",
       "stream": "stdout",
       "text": [
        "\n",
        "using NFFT: 2**"
       ]
      },
      {
       "output_type": "stream",
       "stream": "stdout",
       "text": [
        " 16.0\n",
        "10"
       ]
      },
      {
       "output_type": "stream",
       "stream": "stdout",
       "text": [
        "\n",
        "using NFFT: 2**"
       ]
      },
      {
       "output_type": "stream",
       "stream": "stdout",
       "text": [
        " 16.0\n",
        "10"
       ]
      },
      {
       "output_type": "stream",
       "stream": "stdout",
       "text": [
        "\n",
        "using NFFT: 2**"
       ]
      },
      {
       "output_type": "stream",
       "stream": "stdout",
       "text": [
        " 16.0\n",
        "10"
       ]
      },
      {
       "output_type": "stream",
       "stream": "stdout",
       "text": [
        "\n",
        "using NFFT: 2**"
       ]
      },
      {
       "output_type": "stream",
       "stream": "stdout",
       "text": [
        " 16.0\n",
        "10"
       ]
      },
      {
       "output_type": "stream",
       "stream": "stdout",
       "text": [
        "\n",
        "using NFFT: 2**"
       ]
      },
      {
       "output_type": "stream",
       "stream": "stdout",
       "text": [
        " 16.0\n",
        "10"
       ]
      },
      {
       "output_type": "stream",
       "stream": "stdout",
       "text": [
        "\n",
        "using NFFT: 2**"
       ]
      },
      {
       "output_type": "stream",
       "stream": "stdout",
       "text": [
        " 16.0\n",
        "10"
       ]
      },
      {
       "output_type": "stream",
       "stream": "stdout",
       "text": [
        "\n",
        "using NFFT: 2**"
       ]
      },
      {
       "output_type": "stream",
       "stream": "stdout",
       "text": [
        " 16.0\n",
        "10"
       ]
      },
      {
       "output_type": "stream",
       "stream": "stdout",
       "text": [
        "\n",
        "using NFFT: 2**"
       ]
      },
      {
       "output_type": "stream",
       "stream": "stdout",
       "text": [
        " 16.0\n",
        "10"
       ]
      },
      {
       "output_type": "stream",
       "stream": "stdout",
       "text": [
        "\n",
        "using NFFT: 2**"
       ]
      },
      {
       "output_type": "stream",
       "stream": "stdout",
       "text": [
        " 16.0\n",
        "10"
       ]
      },
      {
       "output_type": "stream",
       "stream": "stdout",
       "text": [
        "\n",
        "using NFFT: 2**"
       ]
      },
      {
       "output_type": "stream",
       "stream": "stdout",
       "text": [
        " 16.0\n",
        "10"
       ]
      },
      {
       "output_type": "stream",
       "stream": "stdout",
       "text": [
        "\n",
        "using NFFT: 2**"
       ]
      },
      {
       "output_type": "stream",
       "stream": "stdout",
       "text": [
        " 16.0\n",
        "10"
       ]
      },
      {
       "output_type": "stream",
       "stream": "stdout",
       "text": [
        "\n",
        "using NFFT: 2**"
       ]
      },
      {
       "output_type": "stream",
       "stream": "stdout",
       "text": [
        " 16.0\n",
        "10"
       ]
      },
      {
       "output_type": "stream",
       "stream": "stdout",
       "text": [
        "\n",
        "using NFFT: 2**"
       ]
      },
      {
       "output_type": "stream",
       "stream": "stdout",
       "text": [
        " 16.0\n",
        "10"
       ]
      },
      {
       "output_type": "stream",
       "stream": "stdout",
       "text": [
        "\n",
        "using NFFT: 2**"
       ]
      },
      {
       "output_type": "stream",
       "stream": "stdout",
       "text": [
        " 16.0\n",
        "10"
       ]
      },
      {
       "output_type": "stream",
       "stream": "stdout",
       "text": [
        "\n",
        "using NFFT: 2**"
       ]
      },
      {
       "output_type": "stream",
       "stream": "stdout",
       "text": [
        " 16.0\n",
        "10"
       ]
      },
      {
       "output_type": "stream",
       "stream": "stdout",
       "text": [
        "\n",
        "using NFFT: 2**"
       ]
      },
      {
       "output_type": "stream",
       "stream": "stdout",
       "text": [
        " 16.0\n",
        "10"
       ]
      },
      {
       "output_type": "stream",
       "stream": "stdout",
       "text": [
        "\n",
        "using NFFT: 2**"
       ]
      },
      {
       "output_type": "stream",
       "stream": "stdout",
       "text": [
        " 16.0\n",
        "10"
       ]
      },
      {
       "output_type": "stream",
       "stream": "stdout",
       "text": [
        "\n",
        "using NFFT: 2**"
       ]
      },
      {
       "output_type": "stream",
       "stream": "stdout",
       "text": [
        " 16.0\n",
        "10"
       ]
      },
      {
       "output_type": "stream",
       "stream": "stdout",
       "text": [
        "\n",
        "using NFFT: 2**"
       ]
      },
      {
       "output_type": "stream",
       "stream": "stdout",
       "text": [
        " 16.0\n",
        "10"
       ]
      },
      {
       "output_type": "stream",
       "stream": "stdout",
       "text": [
        "\n",
        "using NFFT: 2**"
       ]
      },
      {
       "output_type": "stream",
       "stream": "stdout",
       "text": [
        " 16.0\n",
        "10"
       ]
      },
      {
       "output_type": "stream",
       "stream": "stdout",
       "text": [
        "\n",
        "using NFFT: 2**"
       ]
      },
      {
       "output_type": "stream",
       "stream": "stdout",
       "text": [
        " 16.0\n",
        "10"
       ]
      },
      {
       "output_type": "stream",
       "stream": "stdout",
       "text": [
        "\n",
        "using NFFT: 2**"
       ]
      },
      {
       "output_type": "stream",
       "stream": "stdout",
       "text": [
        " 16.0\n",
        "10"
       ]
      },
      {
       "output_type": "stream",
       "stream": "stdout",
       "text": [
        "\n",
        "using NFFT: 2**"
       ]
      },
      {
       "output_type": "stream",
       "stream": "stdout",
       "text": [
        " 16.0\n",
        "10"
       ]
      },
      {
       "output_type": "stream",
       "stream": "stdout",
       "text": [
        "\n",
        "using NFFT: 2**"
       ]
      },
      {
       "output_type": "stream",
       "stream": "stdout",
       "text": [
        " 16.0\n",
        "10"
       ]
      },
      {
       "output_type": "stream",
       "stream": "stdout",
       "text": [
        "\n",
        "using NFFT: 2**"
       ]
      },
      {
       "output_type": "stream",
       "stream": "stdout",
       "text": [
        " 16.0\n",
        "10"
       ]
      },
      {
       "output_type": "stream",
       "stream": "stdout",
       "text": [
        "\n",
        "using NFFT: 2**"
       ]
      },
      {
       "output_type": "stream",
       "stream": "stdout",
       "text": [
        " 16.0\n",
        "10"
       ]
      },
      {
       "output_type": "stream",
       "stream": "stdout",
       "text": [
        "\n",
        "using NFFT: 2**"
       ]
      },
      {
       "output_type": "stream",
       "stream": "stdout",
       "text": [
        " 16.0\n",
        "10"
       ]
      },
      {
       "output_type": "stream",
       "stream": "stdout",
       "text": [
        "\n",
        "using NFFT: 2**"
       ]
      },
      {
       "output_type": "stream",
       "stream": "stdout",
       "text": [
        " 16.0\n",
        "10"
       ]
      },
      {
       "output_type": "stream",
       "stream": "stdout",
       "text": [
        "\n",
        "using NFFT: 2**"
       ]
      },
      {
       "output_type": "stream",
       "stream": "stdout",
       "text": [
        " 16.0\n",
        "10"
       ]
      },
      {
       "output_type": "stream",
       "stream": "stdout",
       "text": [
        "\n",
        "using NFFT: 2**"
       ]
      },
      {
       "output_type": "stream",
       "stream": "stdout",
       "text": [
        " 16.0\n",
        "10"
       ]
      },
      {
       "output_type": "stream",
       "stream": "stdout",
       "text": [
        "\n",
        "using NFFT: 2**"
       ]
      },
      {
       "output_type": "stream",
       "stream": "stdout",
       "text": [
        " 16.0\n",
        "10"
       ]
      },
      {
       "output_type": "stream",
       "stream": "stdout",
       "text": [
        "\n",
        "using NFFT: 2**"
       ]
      },
      {
       "output_type": "stream",
       "stream": "stdout",
       "text": [
        " 16.0\n",
        "10"
       ]
      },
      {
       "output_type": "stream",
       "stream": "stdout",
       "text": [
        "\n",
        "using NFFT: 2**"
       ]
      },
      {
       "output_type": "stream",
       "stream": "stdout",
       "text": [
        " 16.0\n",
        "10"
       ]
      },
      {
       "output_type": "stream",
       "stream": "stdout",
       "text": [
        "\n",
        "using NFFT: 2**"
       ]
      },
      {
       "output_type": "stream",
       "stream": "stdout",
       "text": [
        " 16.0\n",
        "10"
       ]
      },
      {
       "output_type": "stream",
       "stream": "stdout",
       "text": [
        "\n",
        "using NFFT: 2**"
       ]
      },
      {
       "output_type": "stream",
       "stream": "stdout",
       "text": [
        " 16.0\n",
        "10"
       ]
      },
      {
       "output_type": "stream",
       "stream": "stdout",
       "text": [
        "\n",
        "using NFFT: 2**"
       ]
      },
      {
       "output_type": "stream",
       "stream": "stdout",
       "text": [
        " 16.0\n",
        "10"
       ]
      },
      {
       "output_type": "stream",
       "stream": "stdout",
       "text": [
        "\n"
       ]
      },
      {
       "output_type": "stream",
       "stream": "stderr",
       "text": [
        "/home/flanigan/kid_readout.git/kid_readout/analysis/iqnoise.py:75: ComplexWarning: Casting complex values to real discards the imaginary part\n",
        "  S[0,k] = ss[0,0]\n",
        "/home/flanigan/kid_readout.git/kid_readout/analysis/iqnoise.py:76: ComplexWarning: Casting complex values to real discards the imaginary part\n",
        "  S[1,k] = ss[1,1]\n"
       ]
      }
     ],
     "prompt_number": 2
    },
    {
     "cell_type": "code",
     "collapsed": false,
     "input": [
      "s100r0 = SweepNoiseMeasurement('/home/data2/2014-11-26_133127_41_dB.nc')"
     ],
     "language": "python",
     "metadata": {},
     "outputs": [
      {
       "output_type": "stream",
       "stream": "stdout",
       "text": [
        "using NFFT: 2** 16.0\n",
        "10"
       ]
      },
      {
       "output_type": "stream",
       "stream": "stdout",
       "text": [
        "\n"
       ]
      }
     ],
     "prompt_number": 3
    },
    {
     "cell_type": "code",
     "collapsed": false,
     "input": [
      "1e6 * (s41[0]._resonator_model.f_0 - s100r0._resonator_model.f_0)"
     ],
     "language": "python",
     "metadata": {},
     "outputs": [
      {
       "metadata": {},
       "output_type": "pyout",
       "prompt_number": 6,
       "text": [
        "918.53770439342952"
       ]
      }
     ],
     "prompt_number": 6
    },
    {
     "cell_type": "code",
     "collapsed": false,
     "input": [
      "plt.plot(s41[0]._resonator_mod)"
     ],
     "language": "python",
     "metadata": {},
     "outputs": []
    },
    {
     "cell_type": "code",
     "collapsed": false,
     "input": [
      "s = SweepNoiseMeasurement('/home/data2/2014-11-26_160720_41_dB.nc')"
     ],
     "language": "python",
     "metadata": {},
     "outputs": [
      {
       "output_type": "stream",
       "stream": "stdout",
       "text": [
        "using NFFT: 2** 16.0\n",
        "10"
       ]
      },
      {
       "output_type": "stream",
       "stream": "stdout",
       "text": [
        "\n"
       ]
      },
      {
       "output_type": "stream",
       "stream": "stderr",
       "text": [
        "/home/flanigan/kid_readout.git/kid_readout/analysis/iqnoise.py:75: ComplexWarning: Casting complex values to real discards the imaginary part\n",
        "  S[0,k] = ss[0,0]\n",
        "/home/flanigan/kid_readout.git/kid_readout/analysis/iqnoise.py:76: ComplexWarning: Casting complex values to real discards the imaginary part\n",
        "  S[1,k] = ss[1,1]\n"
       ]
      }
     ],
     "prompt_number": 4
    },
    {
     "cell_type": "code",
     "collapsed": false,
     "input": [
      "s.fractional_fluctuation_timeseries.size / 16"
     ],
     "language": "python",
     "metadata": {},
     "outputs": [
      {
       "metadata": {},
       "output_type": "pyout",
       "prompt_number": 11,
       "text": [
        "32768.0"
       ]
      }
     ],
     "prompt_number": 11
    },
    {
     "cell_type": "code",
     "collapsed": false,
     "input": [
      "fr, S, evals, evects, angles, piq = pca_noise(s.fractional_fluctuation_timeseries,\n",
      "                                         NFFT=None,\n",
      "                                         Fs=s.timeseries_sample_rate)\n",
      "fr2, S2, evals2, evects2, angles2, piq2 = pca_noise(s.fractional_fluctuation_timeseries[:s.fractional_fluctuation_timeseries.size/2],\n",
      "                                         NFFT=None,\n",
      "                                         Fs=s.timeseries_sample_rate)\n",
      "fr16, S16, evals16, evects16, angles16, piq16 = pca_noise(s.fractional_fluctuation_timeseries[:s.fractional_fluctuation_timeseries.size/16],\n",
      "                                         NFFT=None,\n",
      "                                         Fs=s.timeseries_sample_rate)"
     ],
     "language": "python",
     "metadata": {},
     "outputs": [
      {
       "output_type": "stream",
       "stream": "stdout",
       "text": [
        "using NFFT: 2** 16.0\n",
        "10"
       ]
      },
      {
       "output_type": "stream",
       "stream": "stdout",
       "text": [
        "\n",
        "using NFFT: 2** 15.0"
       ]
      },
      {
       "output_type": "stream",
       "stream": "stdout",
       "text": [
        "\n",
        "10\n",
        "using NFFT: 2**"
       ]
      },
      {
       "output_type": "stream",
       "stream": "stdout",
       "text": [
        " 12.0\n",
        "10\n"
       ]
      }
     ],
     "prompt_number": 13
    },
    {
     "cell_type": "code",
     "collapsed": false,
     "input": [
      "plt.semilogx(fr, evals[0], label='full 0')\n",
      "plt.semilogx(fr, evals[1], label='full 1')\n",
      "plt.semilogx(fr2, evals2[0], label='half 0')\n",
      "plt.semilogx(fr2, evals2[1], label='half 1')\n",
      "plt.semilogx(fr16, evals16[0], label='sixteenth 0')\n",
      "plt.semilogx(fr16, evals16[1], label='sixteenth 1')\n",
      "#plt.xlim(1e-1, 1e6)\n",
      "#plt.ylim(1e-18, 1e-16)\n",
      "plt.legend(loc='best')"
     ],
     "language": "python",
     "metadata": {},
     "outputs": [
      {
       "metadata": {},
       "output_type": "pyout",
       "prompt_number": 18,
       "text": [
        "<matplotlib.legend.Legend at 0x11b5aa90>"
       ]
      },
      {
       "metadata": {},
       "output_type": "display_data",
       "png": "[encoded data removed]",
       "text": [
        "<matplotlib.figure.Figure at 0x6b85f10>"
       ]
      }
     ],
     "prompt_number": 18
    },
    {
     "cell_type": "code",
     "collapsed": false,
     "input": [],
     "language": "python",
     "metadata": {},
     "outputs": []
    }
   ],
   "metadata": {}
  }
 ]
}