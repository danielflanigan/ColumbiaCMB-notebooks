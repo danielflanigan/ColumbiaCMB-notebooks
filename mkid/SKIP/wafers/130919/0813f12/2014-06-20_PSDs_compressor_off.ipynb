{
 "metadata": {
  "name": "",
  "signature": "sha256:e4540cfc67105813b7bef626cec60e558e39ad8bc9cf99f927f75d3363ccb8b6"
 },
 "nbformat": 3,
 "nbformat_minor": 0,
 "worksheets": [
  {
   "cells": [
    {
     "cell_type": "code",
     "collapsed": false,
     "input": [
      "from glob import glob\n",
      "from kid_readout.utils import readoutnc\n",
      "from kid_readout.analysis import iqnoise\n",
      "from kid_readout.analysis import noise_measurement\n",
      "plt.rcParams['font.size'] = 11"
     ],
     "language": "python",
     "metadata": {},
     "outputs": [
      {
       "output_type": "stream",
       "stream": "stdout",
       "text": [
        "updated file list\n"
       ]
      },
      {
       "output_type": "stream",
       "stream": "stderr",
       "text": [
        "/home/local/lib/python2.7/site-packages/matplotlib/__init__.py:1155: UserWarning:  This call to matplotlib.use() has no effect\n",
        "because the backend has already been chosen;\n",
        "matplotlib.use() must be called *before* pylab, matplotlib.pyplot,\n",
        "or matplotlib.backends is imported for the first time.\n",
        "\n",
        "  warnings.warn(_use_error_msg)\n"
       ]
      }
     ],
     "prompt_number": 1
    },
    {
     "cell_type": "code",
     "collapsed": false,
     "input": [
      "def plot_pca_noise_one(ncs, index):\n",
      "    fig, ax = plt.subplots()\n",
      "    for nc in ncs:\n",
      "        demod = nc.timestreams[0].data[index]\n",
      "        fr, S, evals, evects, angles, piq = iqnoise.pca_noise(demod)\n",
      "        ax.loglog(fr, evals[0], color='b')\n",
      "        ax.loglog(fr, evals[1], color='g')\n",
      "    return fig"
     ],
     "language": "python",
     "metadata": {},
     "outputs": [],
     "prompt_number": 2
    },
    {
     "cell_type": "code",
     "collapsed": false,
     "input": [
      "def plot_mean_pca_noise_one(ncs, index, color0, color1):\n",
      "    fr, mean_evals_0, mean_evals_1 = average_pca_noise(ncs, index)\n",
      "    fig, ax = plt.subplots()\n",
      "    ax.loglog(fr, mean_evals_1, color=color1)\n",
      "    ax.loglog(fr, mean_evals_0, color=color0)\n",
      "    return fig"
     ],
     "language": "python",
     "metadata": {},
     "outputs": [],
     "prompt_number": 3
    },
    {
     "cell_type": "code",
     "collapsed": false,
     "input": [
      "def plot_mean_pca_noise_all(frs, ev0s, ev1s, color0s, color1s):\n",
      "    fig, ax = plt.subplots()\n",
      "    for fr, ev0, ev1, color0, color1 in zip(frs, ev0s, ev1s, color0s, color1s):\n",
      "        ax.loglog(fr, ev0, color=color0)\n",
      "        ax.loglog(fr, ev1, color=color1)\n",
      "    return fig    "
     ],
     "language": "python",
     "metadata": {},
     "outputs": [],
     "prompt_number": 4
    },
    {
     "cell_type": "code",
     "collapsed": false,
     "input": [
      "ncs = [readoutnc.ReadoutNetCDF(f) for f in glob('/home/data2/2014-06-20_*_compressor_off_30_seconds*.nc')]"
     ],
     "language": "python",
     "metadata": {},
     "outputs": [],
     "prompt_number": 5
    },
    {
     "cell_type": "code",
     "collapsed": false,
     "input": [
      "len(ncs)"
     ],
     "language": "python",
     "metadata": {},
     "outputs": [
      {
       "metadata": {},
       "output_type": "pyout",
       "prompt_number": 6,
       "text": [
        "13"
       ]
      }
     ],
     "prompt_number": 6
    },
    {
     "cell_type": "code",
     "collapsed": false,
     "input": [
      "frs = []\n",
      "ev0s = []\n",
      "ev1s = []\n",
      "for index in range(4):\n",
      "    fr, ev0, ev1 = average_pca_noise(ncs, index)\n",
      "    frs.append(fr)\n",
      "    ev0s.append(ev0)\n",
      "    ev1s.append(ev1)"
     ],
     "language": "python",
     "metadata": {},
     "outputs": [
      {
       "ename": "NameError",
       "evalue": "name 'average_pca_noise' is not defined",
       "output_type": "pyerr",
       "traceback": [
        "\u001b[1;31m---------------------------------------------------------------------------\u001b[0m\n\u001b[1;31mNameError\u001b[0m                                 Traceback (most recent call last)",
        "\u001b[1;32m<ipython-input-6-4555959bb3cd>\u001b[0m in \u001b[0;36m<module>\u001b[1;34m()\u001b[0m\n\u001b[0;32m      3\u001b[0m \u001b[0mev1s\u001b[0m \u001b[1;33m=\u001b[0m \u001b[1;33m[\u001b[0m\u001b[1;33m]\u001b[0m\u001b[1;33m\u001b[0m\u001b[0m\n\u001b[0;32m      4\u001b[0m \u001b[1;32mfor\u001b[0m \u001b[0mindex\u001b[0m \u001b[1;32min\u001b[0m \u001b[0mrange\u001b[0m\u001b[1;33m(\u001b[0m\u001b[1;36m4\u001b[0m\u001b[1;33m)\u001b[0m\u001b[1;33m:\u001b[0m\u001b[1;33m\u001b[0m\u001b[0m\n\u001b[1;32m----> 5\u001b[1;33m     \u001b[0mfr\u001b[0m\u001b[1;33m,\u001b[0m \u001b[0mev0\u001b[0m\u001b[1;33m,\u001b[0m \u001b[0mev1\u001b[0m \u001b[1;33m=\u001b[0m \u001b[0maverage_pca_noise\u001b[0m\u001b[1;33m(\u001b[0m\u001b[0mncs\u001b[0m\u001b[1;33m,\u001b[0m \u001b[0mindex\u001b[0m\u001b[1;33m)\u001b[0m\u001b[1;33m\u001b[0m\u001b[0m\n\u001b[0m\u001b[0;32m      6\u001b[0m     \u001b[0mfrs\u001b[0m\u001b[1;33m.\u001b[0m\u001b[0mappend\u001b[0m\u001b[1;33m(\u001b[0m\u001b[0mfr\u001b[0m\u001b[1;33m)\u001b[0m\u001b[1;33m\u001b[0m\u001b[0m\n\u001b[0;32m      7\u001b[0m     \u001b[0mev0s\u001b[0m\u001b[1;33m.\u001b[0m\u001b[0mappend\u001b[0m\u001b[1;33m(\u001b[0m\u001b[0mev0\u001b[0m\u001b[1;33m)\u001b[0m\u001b[1;33m\u001b[0m\u001b[0m\n",
        "\u001b[1;31mNameError\u001b[0m: name 'average_pca_noise' is not defined"
       ]
      }
     ],
     "prompt_number": 6
    },
    {
     "cell_type": "code",
     "collapsed": false,
     "input": [
      "colors = ['b', 'g', 'r', 'k']\n",
      "fig = plot_mean_pca_noise_all(frs, ev0s, ev1s, colors, colors)\n",
      "fig.axes[0].set_xlabel('frequency / [Hz]')\n",
      "fig.axes[0].set_ylabel('PSD / [?]')\n",
      "fig.axes[0].set_ylim(1e-12, 2e-9)\n",
      "fig.axes[0].set_title('average of 13 PSDs of 30 s timestreams')"
     ],
     "language": "python",
     "metadata": {},
     "outputs": []
    }
   ],
   "metadata": {}
  }
 ]
}