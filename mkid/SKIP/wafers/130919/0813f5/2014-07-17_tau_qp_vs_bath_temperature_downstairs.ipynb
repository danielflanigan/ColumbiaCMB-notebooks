{
 "cells": [
  {
   "cell_type": "markdown",
   "metadata": {},
   "source": [
    "Glenn saved a sweep of the resonance in 3x3-809p55mhz.s2p"
   ]
  },
  {
   "cell_type": "markdown",
   "metadata": {},
   "source": [
    "Averaging 64 unless noted. Most of the response is in CH2."
   ]
  },
  {
   "cell_type": "markdown",
   "metadata": {},
   "source": [
    "Running the waveform generator at 123.456 Hz to avoid synchronous pickup: saved T0000ALL.CSV, which contains the start of the next pulse. Changed to 111.111 Hz for the first few sweeps, which still contains a tiny bit of the next pulse."
   ]
  },
  {
   "cell_type": "markdown",
   "metadata": {},
   "source": [
    "Need to update stage temperatures with interpolated values."
   ]
  },
  {
   "cell_type": "code",
   "execution_count": 1,
   "metadata": {},
   "outputs": [],
   "source": [
    "import os\n",
    "import pickle"
   ]
  },
  {
   "cell_type": "code",
   "execution_count": 2,
   "metadata": {},
   "outputs": [],
   "source": [
    "pulse = {'T': [], 'V': [], 'file': [], 'duration': 2e-3}\n",
    "spike = {'T': [], 'V': [], 'file': [], 'duration': 50e-6}\n",
    "delta = {'T': [], 'V': [], 'file': [], 'duration': 0.5e-6}\n",
    "T_setpoint = []\n",
    "R_stage_kOhm = []\n",
    "T_stage = []"
   ]
  },
  {
   "cell_type": "markdown",
   "metadata": {},
   "source": [
    "Temperature 1:"
   ]
  },
  {
   "cell_type": "code",
   "execution_count": 3,
   "metadata": {},
   "outputs": [],
   "source": [
    "T_setpoint.append(0.240)\n",
    "R_stage_kOhm.append(6.424)\n",
    "T_stage_1 = 0.257\n",
    "T_stage.append(T_stage_1)"
   ]
  },
  {
   "cell_type": "code",
   "execution_count": 4,
   "metadata": {},
   "outputs": [],
   "source": [
    "pulse['T'].append(T_stage_1)\n",
    "pulse['V'].append(1.63)\n",
    "pulse['file'].append('T0001ALL.CSV')"
   ]
  },
  {
   "cell_type": "markdown",
   "metadata": {},
   "source": [
    "Response is about 1 mV even for super short delta-like signal. Seeing negative-going signal at trigger due to ground drop?"
   ]
  },
  {
   "cell_type": "code",
   "execution_count": 5,
   "metadata": {},
   "outputs": [],
   "source": [
    "delta['T'].append(T_stage_1)\n",
    "delta['V'].append(10)\n",
    "delta['file'].append('T0002ALL.CSV')"
   ]
  },
  {
   "cell_type": "markdown",
   "metadata": {},
   "source": [
    "Temperature 2:"
   ]
  },
  {
   "cell_type": "code",
   "execution_count": 6,
   "metadata": {},
   "outputs": [],
   "source": [
    "T_setpoint.append(0.190)\n",
    "R_stage_kOhm.append(8.09)\n",
    "T_stage_2 = 0.205\n",
    "T_stage.append(T_stage_2)"
   ]
  },
  {
   "cell_type": "code",
   "execution_count": 7,
   "metadata": {},
   "outputs": [],
   "source": [
    "delta['T'].append(T_stage_2)\n",
    "delta['V'].append(10)\n",
    "delta['file'].append('T0003ALL.CSV')"
   ]
  },
  {
   "cell_type": "code",
   "execution_count": 8,
   "metadata": {},
   "outputs": [],
   "source": [
    "pulse['T'].append(T_stage_2)\n",
    "pulse['V'].append(1.6)\n",
    "pulse['file'].append('T0004ALL.CSV')"
   ]
  },
  {
   "cell_type": "markdown",
   "metadata": {},
   "source": [
    "Temperature 3:"
   ]
  },
  {
   "cell_type": "code",
   "execution_count": 9,
   "metadata": {},
   "outputs": [],
   "source": [
    "T_setpoint.append(0.140)\n",
    "R_stage_kOhm.append(11.28)\n",
    "T_stage_3 = 0.150\n",
    "T_stage.append(T_stage_3)"
   ]
  },
  {
   "cell_type": "code",
   "execution_count": 10,
   "metadata": {},
   "outputs": [],
   "source": [
    "pulse['T'].append(T_stage_3)\n",
    "pulse['V'].append(1.61)\n",
    "pulse['file'].append('T0005ALL.CSV')"
   ]
  },
  {
   "cell_type": "markdown",
   "metadata": {},
   "source": [
    "Seeing the beginning of the next pulse in all previous traces. Turned frequency down to 98.765 Hz."
   ]
  },
  {
   "cell_type": "code",
   "execution_count": 11,
   "metadata": {},
   "outputs": [],
   "source": [
    "delta['T'].append(T_stage_3)\n",
    "delta['V'].append(10)\n",
    "delta['file'].append('T0006ALL.CSV')"
   ]
  },
  {
   "cell_type": "markdown",
   "metadata": {},
   "source": [
    "Saved T0007ALL.CSV pulse, a duplicate."
   ]
  },
  {
   "cell_type": "markdown",
   "metadata": {},
   "source": [
    "Temperature 4:"
   ]
  },
  {
   "cell_type": "code",
   "execution_count": 12,
   "metadata": {},
   "outputs": [],
   "source": [
    "T_setpoint.append(0.090)\n",
    "R_stage_kOhm.append(19.36)\n",
    "T_stage_4 = 0.100\n",
    "T_stage.append(T_stage_4)"
   ]
  },
  {
   "cell_type": "code",
   "execution_count": 13,
   "metadata": {},
   "outputs": [],
   "source": [
    "pulse['T'].append(T_stage_4)\n",
    "pulse['V'].append(1.61)\n",
    "pulse['file'].append('T0008ALL.CSV')"
   ]
  },
  {
   "cell_type": "code",
   "execution_count": 14,
   "metadata": {},
   "outputs": [],
   "source": [
    "delta['T'].append(T_stage_4)\n",
    "delta['V'].append(10)\n",
    "delta['file'].append('T0009ALL.CSV')"
   ]
  },
  {
   "cell_type": "markdown",
   "metadata": {},
   "source": [
    "Temperature 5:"
   ]
  },
  {
   "cell_type": "code",
   "execution_count": 15,
   "metadata": {},
   "outputs": [],
   "source": [
    "T_setpoint.append(0.260)\n",
    "R_stage_kOhm.append(5.953)\n",
    "T_stage_5 = 0.280\n",
    "T_stage.append(T_stage_5)"
   ]
  },
  {
   "cell_type": "code",
   "execution_count": 16,
   "metadata": {},
   "outputs": [],
   "source": [
    "delta['T'].append(T_stage_5)\n",
    "delta['V'].append(10)\n",
    "delta['file'].append('T0010ALL.CSV')"
   ]
  },
  {
   "cell_type": "code",
   "execution_count": 17,
   "metadata": {},
   "outputs": [],
   "source": [
    "pulse['T'].append(T_stage_5)\n",
    "pulse['V'].append(1.67)\n",
    "pulse['file'].append('T0011ALL.CSV')"
   ]
  },
  {
   "cell_type": "markdown",
   "metadata": {},
   "source": [
    "Temperature 6:"
   ]
  },
  {
   "cell_type": "code",
   "execution_count": 18,
   "metadata": {},
   "outputs": [],
   "source": [
    "T_setpoint.append(0.280)\n",
    "R_stage_kOhm.append(5.58)\n",
    "T_stage_6 = 0.305\n",
    "T_stage.append(T_stage_6)"
   ]
  },
  {
   "cell_type": "code",
   "execution_count": 19,
   "metadata": {},
   "outputs": [],
   "source": [
    "pulse['T'].append(T_stage_6)\n",
    "pulse['V'].append(1.67)\n",
    "pulse['file'].append('T0012ALL.CSV')"
   ]
  },
  {
   "cell_type": "code",
   "execution_count": 20,
   "metadata": {},
   "outputs": [],
   "source": [
    "delta['T'].append(T_stage_6)\n",
    "delta['V'].append(10)\n",
    "delta['file'].append('T0013ALL.CSV')"
   ]
  },
  {
   "cell_type": "markdown",
   "metadata": {},
   "source": [
    "Temperature 7:"
   ]
  },
  {
   "cell_type": "code",
   "execution_count": 21,
   "metadata": {},
   "outputs": [],
   "source": [
    "T_setpoint.append(0.290)\n",
    "R_stage_kOhm.append(5.397)\n",
    "T_stage_7 = 0.315\n",
    "T_stage.append(T_stage_7)"
   ]
  },
  {
   "cell_type": "code",
   "execution_count": 22,
   "metadata": {},
   "outputs": [],
   "source": [
    "delta['T'].append(T_stage_7)\n",
    "delta['V'].append(10)\n",
    "delta['file'].append('T0014ALL.CSV')"
   ]
  },
  {
   "cell_type": "code",
   "execution_count": 23,
   "metadata": {},
   "outputs": [],
   "source": [
    "pulse['T'].append(T_stage_7)\n",
    "pulse['V'].append(1.73)\n",
    "pulse['file'].append('T0015ALL.CSV')"
   ]
  },
  {
   "cell_type": "markdown",
   "metadata": {},
   "source": [
    "Rebiased to 809.459 MHz. Temperature 8:"
   ]
  },
  {
   "cell_type": "code",
   "execution_count": 24,
   "metadata": {},
   "outputs": [],
   "source": [
    "T_setpoint.append(0.300)\n",
    "R_stage_kOhm.append(5.242)\n",
    "T_stage_8 = 0.324\n",
    "T_stage.append(T_stage_8)"
   ]
  },
  {
   "cell_type": "code",
   "execution_count": 25,
   "metadata": {},
   "outputs": [],
   "source": [
    "pulse['T'].append(T_stage_8)\n",
    "pulse['V'].append(1.75)\n",
    "pulse['file'].append('T0016ALL.CSV')"
   ]
  },
  {
   "cell_type": "code",
   "execution_count": 26,
   "metadata": {},
   "outputs": [],
   "source": [
    "delta['T'].append(T_stage_8)\n",
    "delta['V'].append(10)\n",
    "delta['file'].append('T0017ALL.CSV')"
   ]
  },
  {
   "cell_type": "markdown",
   "metadata": {},
   "source": [
    "This file is listed as having been saved at this temperature and the one below, and it's not clear which is correct."
   ]
  },
  {
   "cell_type": "code",
   "execution_count": 27,
   "metadata": {},
   "outputs": [],
   "source": [
    "#spike['T'].append(T_stage_8)\n",
    "#spike['V'].append(1.9)\n",
    "#spike['file'].append('T0018ALL.CSV')"
   ]
  },
  {
   "cell_type": "markdown",
   "metadata": {},
   "source": [
    "Temperature 9:"
   ]
  },
  {
   "cell_type": "code",
   "execution_count": 28,
   "metadata": {},
   "outputs": [],
   "source": [
    "T_setpoint.append(0.310)\n",
    "R_stage_kOhm.append(5.097)\n",
    "T_stage_9 = 0.335\n",
    "T_stage.append(T_stage_9)"
   ]
  },
  {
   "cell_type": "code",
   "execution_count": 29,
   "metadata": {},
   "outputs": [],
   "source": [
    "#spike['T'].append(T_stage_9)\n",
    "#spike['V'].append(1.9)\n",
    "#spike['file'].append('T0018ALL.CSV')\n",
    "delta['T'].append(T_stage_9)\n",
    "delta['V'].append(10)\n",
    "delta['file'].append('T0019ALL.CSV')\n",
    "pulse['T'].append(T_stage_9)\n",
    "pulse['V'].append(1.8)\n",
    "pulse['file'].append('T0020ALL.CSV')"
   ]
  },
  {
   "cell_type": "markdown",
   "metadata": {},
   "source": [
    "Rebiased to 809.439 MHz. Temperature 10:"
   ]
  },
  {
   "cell_type": "code",
   "execution_count": 30,
   "metadata": {},
   "outputs": [],
   "source": [
    "T_setpoint.append(0.320)\n",
    "R_stage_kOhm.append(4.959)\n",
    "T_stage_10 = 0.345 # Fix\n",
    "T_stage.append(T_stage_10)\n",
    "pulse['T'].append(T_stage_10)\n",
    "pulse['V'].append(1.9)\n",
    "pulse['file'].append('T0021ALL.CSV')\n",
    "spike['T'].append(T_stage_10)\n",
    "spike['V'].append(2.0)\n",
    "spike['file'].append('T0022ALL.CSV')\n",
    "delta['T'].append(T_stage_10)\n",
    "delta['V'].append(10)\n",
    "delta['file'].append('T0023ALL.CSV')"
   ]
  },
  {
   "cell_type": "markdown",
   "metadata": {},
   "source": [
    "Retuned to 809.429 MHz. Temperature 11:"
   ]
  },
  {
   "cell_type": "code",
   "execution_count": 31,
   "metadata": {},
   "outputs": [],
   "source": [
    "T_setpoint.append(0.330)\n",
    "R_stage_kOhm.append(4.833)\n",
    "T_stage_11 = 0.357 # Check\n",
    "T_stage.append(T_stage_11)"
   ]
  },
  {
   "cell_type": "code",
   "execution_count": 32,
   "metadata": {},
   "outputs": [],
   "source": [
    "delta['T'].append(T_stage_11)\n",
    "delta['V'].append(10)\n",
    "delta['file'].append('T0024ALL.CSV')\n",
    "spike['T'].append(T_stage_11)\n",
    "spike['V'].append(2.0)\n",
    "spike['file'].append('T0025ALL.CSV')\n",
    "pulse['T'].append(T_stage_11)\n",
    "pulse['V'].append(1.9)\n",
    "pulse['file'].append('T0026ALL.CSV')"
   ]
  },
  {
   "cell_type": "markdown",
   "metadata": {},
   "source": [
    "Retuned to 809.409 MHz. Temperature 12:"
   ]
  },
  {
   "cell_type": "code",
   "execution_count": 33,
   "metadata": {},
   "outputs": [],
   "source": [
    "T_setpoint.append(0.340)\n",
    "R_stage_kOhm.append(4.714)\n",
    "T_stage_12 = np.interp(R_stage_kOhm[-1], [4.586, 4.797], [0.380, 0.360])\n",
    "T_stage.append(T_stage_12)"
   ]
  },
  {
   "cell_type": "code",
   "execution_count": 34,
   "metadata": {},
   "outputs": [],
   "source": [
    "delta['T'].append(T_stage_12)\n",
    "delta['V'].append(10)\n",
    "delta['file'].append('T0028ALL.CSV')\n",
    "pulse['T'].append(T_stage_12)\n",
    "pulse['V'].append(2.0)\n",
    "pulse['file'].append('T0027ALL.CSV')"
   ]
  },
  {
   "cell_type": "markdown",
   "metadata": {},
   "source": [
    "Check data."
   ]
  },
  {
   "cell_type": "code",
   "execution_count": 35,
   "metadata": {},
   "outputs": [
    {
     "data": {
      "text/plain": [
       "(0, 0.4)"
      ]
     },
     "execution_count": 35,
     "metadata": {},
     "output_type": "execute_result"
    },
    {
     "data": {
      "image/png": "[encoded data removed]",
      "text/plain": [
       "<matplotlib.figure.Figure at 0x10e105c90>"
      ]
     },
     "metadata": {},
     "output_type": "display_data"
    }
   ],
   "source": [
    "fig, ax = plt.subplots()\n",
    "ax.plot(T_setpoint, T_stage, '.')\n",
    "ax.set_xlim(0, 0.4)\n",
    "ax.set_ylim(0, 0.4)"
   ]
  },
  {
   "cell_type": "code",
   "execution_count": 36,
   "metadata": {},
   "outputs": [
    {
     "data": {
      "text/plain": [
       "(0, 0.4)"
      ]
     },
     "execution_count": 36,
     "metadata": {},
     "output_type": "execute_result"
    },
    {
     "data": {
      "image/png": "[encoded data removed]",
      "text/plain": [
       "<matplotlib.figure.Figure at 0x10e105f50>"
      ]
     },
     "metadata": {},
     "output_type": "display_data"
    }
   ],
   "source": [
    "fig, ax = plt.subplots()\n",
    "ax.plot(R_stage_kOhm, T_stage, '.')\n",
    "ax.set_ylim(0, 0.4)"
   ]
  },
  {
   "cell_type": "markdown",
   "metadata": {},
   "source": [
    "Convert the lists to arrays, sorted by stage temperature."
   ]
  },
  {
   "cell_type": "code",
   "execution_count": 37,
   "metadata": {},
   "outputs": [],
   "source": [
    "for data_set in (pulse, spike, delta):\n",
    "    order = np.argsort(data_set['T'])\n",
    "    for k, v in data_set.items():\n",
    "        if isinstance(v, list):\n",
    "            data_set[k] = np.array(v)[order]"
   ]
  },
  {
   "cell_type": "code",
   "execution_count": 38,
   "metadata": {},
   "outputs": [],
   "source": [
    "directory = '/Users/daniel/Johnson+Miller/KIDs/SKIP/STAR Cryo Version 0/2014-07-17_tau_qp_take_2'\n",
    "with open(os.path.join(directory, 'pulse.pkl'), 'w') as f:\n",
    "    pickle.dump(pulse, f)\n",
    "with open(os.path.join(directory, 'spike.pkl'), 'w') as f:\n",
    "    pickle.dump(spike, f)\n",
    "with open(os.path.join(directory, 'delta.pkl'), 'w') as f:\n",
    "    pickle.dump(delta, f)"
   ]
  }
 ],
 "metadata": {
  "kernelspec": {
   "display_name": "Python 2",
   "language": "python",
   "name": "python2"
  },
  "language_info": {
   "codemirror_mode": {
    "name": "ipython",
    "version": 2
   },
   "file_extension": ".py",
   "mimetype": "text/x-python",
   "name": "python",
   "nbconvert_exporter": "python",
   "pygments_lexer": "ipython2",
   "version": "2.7.13"
  }
 },
 "nbformat": 4,
 "nbformat_minor": 1
}
