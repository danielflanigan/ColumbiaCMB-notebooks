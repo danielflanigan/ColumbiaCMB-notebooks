{
 "metadata": {
  "name": "",
  "signature": "sha256:d3a77519f1e021c44bce49e59cfab68474e828420d4b1e559f3c3ee074eefece"
 },
 "nbformat": 3,
 "nbformat_minor": 0,
 "worksheets": [
  {
   "cells": [
    {
     "cell_type": "markdown",
     "metadata": {},
     "source": [
      "This notebook focuses on the group of five closely-spaced resonators on the 20-element arrays."
     ]
    },
    {
     "cell_type": "markdown",
     "metadata": {},
     "source": [
      "Measure the area of the capacitor from the outsides of all traces; ignore the short lengths that connect the capacitor to the inductor (one of these adds to the capacitance and one doesn't) and count the length of the extra trace separately."
     ]
    },
    {
     "cell_type": "code",
     "collapsed": false,
     "input": [
      "# Nominal: 165.0 MHz\n",
      "# 728 x 4004 um\n",
      "# extra leg: 3169 um"
     ],
     "language": "python",
     "metadata": {},
     "outputs": [],
     "prompt_number": 2
    },
    {
     "cell_type": "code",
     "collapsed": false,
     "input": [
      "# Nominal: 165.25 MHz\n",
      "# 728 x 4004 um\n",
      "# extra leg: 2576 um"
     ],
     "language": "python",
     "metadata": {},
     "outputs": [],
     "prompt_number": 3
    },
    {
     "cell_type": "code",
     "collapsed": false,
     "input": [
      "# Nominal: 165.50 MHz\n",
      "# 728 x 4004 um\n",
      "# extra leg: 1986 um"
     ],
     "language": "python",
     "metadata": {},
     "outputs": [],
     "prompt_number": 5
    },
    {
     "cell_type": "code",
     "collapsed": false,
     "input": [
      "# Nominal: 165.75 MHz\n",
      "# 728 x 4004 um\n",
      "# extra leg: 1398 um"
     ],
     "language": "python",
     "metadata": {},
     "outputs": [],
     "prompt_number": 6
    },
    {
     "cell_type": "code",
     "collapsed": false,
     "input": [
      "# Nominal: 166.0 MHz\n",
      "# 728 x 4004 um\n",
      "# extra leg: 814 um"
     ],
     "language": "python",
     "metadata": {},
     "outputs": []
    }
   ],
   "metadata": {}
  }
 ]
}