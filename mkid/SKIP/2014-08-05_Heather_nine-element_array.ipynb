{
 "metadata": {
  "name": "",
  "signature": "sha256:ff1db709d6c088ce574734245023bbcd215d90f9cb6d88599095f020eec3e584"
 },
 "nbformat": 3,
 "nbformat_minor": 0,
 "worksheets": [
  {
   "cells": [
    {
     "cell_type": "code",
     "collapsed": false,
     "input": [
      "from scipy.constants import epsilon_0, hbar, k as k_B, pi\n",
      "from scipy.special import ellipk"
     ],
     "language": "python",
     "metadata": {},
     "outputs": [],
     "prompt_number": 1
    },
    {
     "cell_type": "markdown",
     "metadata": {},
     "source": [
      "All of these values are from Heather's memo on the nine-element array: http://cosmology.phys.columbia.edu/skip_wiki/lib/exe/fetch.php?media=meetings:2013-07-30_detectors:skip_9elementarray.pdf"
     ]
    },
    {
     "cell_type": "code",
     "collapsed": false,
     "input": [
      "t = 20e-9\n",
      "f_r = 1e6 * np.array([100, 105, 110, 140, 145, 150, 180, 185, 190])\n",
      "L_kinetic = 1.2e-12 # in H / square\n",
      "# Heather says this is the sum of the geometric inductance from Sonnet and the assumed kinetic inductance from above.\n",
      "L_total = 1e-9 * np.array([88.730, 89.027, 89.324, 91.108, 91.405, 91.702, 93.486, 93.783, 94.081])\n",
      "A_C = 1e-6 * np.array([10.635, 7.692, 5.239, 5.285, 3.928, 2.744, 3.116, 2.352, 1.667])\n",
      "w_C = 1e-6 * np.array([10, 8, 6, 10, 8, 6, 10, 8, 6])\n",
      "g_C = w_C\n",
      "p_C = w_C + g_C\n",
      "C = 1e-12 * np.array([28.548, 25.807, 23.436, 14.185, 13.181, 12.277, 8.363, 7.892, 7.458])"
     ],
     "language": "python",
     "metadata": {},
     "outputs": [],
     "prompt_number": 2
    },
    {
     "cell_type": "markdown",
     "metadata": {},
     "source": [
      "Calculate the expected kinetic surface inductance, assuming $\\Delta = 1.76 \\, k_B \\, (1.2 \\, \\mathrm{K})$ and the bulk resistivity $\\rho_n = 24.5 \\, \\Omega \\, \\mathrm{nm}$:"
     ]
    },
    {
     "cell_type": "code",
     "collapsed": false,
     "input": [
      "1e12 * (hbar * 24.5 / 20) / (pi * 1.76 * k_B * 1.2) # in pH / square"
     ],
     "language": "python",
     "metadata": {},
     "outputs": [
      {
       "metadata": {},
       "output_type": "pyout",
       "prompt_number": 3,
       "text": [
        "1.4102145961276056"
       ]
      }
     ],
     "prompt_number": 3
    },
    {
     "cell_type": "markdown",
     "metadata": {},
     "source": [
      "Why doesn't this match the above? Try using the measured $T_c$:"
     ]
    },
    {
     "cell_type": "code",
     "collapsed": false,
     "input": [
      "1e12 * (hbar * 24.5 / 20) / (pi * 1.76 * k_B * 1.46) # in pH / square"
     ],
     "language": "python",
     "metadata": {},
     "outputs": [
      {
       "metadata": {},
       "output_type": "pyout",
       "prompt_number": 4,
       "text": [
        "1.159080489967895"
       ]
      }
     ],
     "prompt_number": 4
    },
    {
     "cell_type": "markdown",
     "metadata": {},
     "source": [
      "These values are taken from a nine-element mask file:"
     ]
    },
    {
     "cell_type": "code",
     "collapsed": false,
     "input": [
      "w_L = 2e-6 # The inductor trace width.\n",
      "g_L = 123e-6 # The inductor trace gap.\n",
      "p_L = w_L + g_L # This is the measured pitch between trace centers.\n",
      "N_tines = 16 # The number of inductor tines, ignoring the outer trace and perpendicular trace.\n",
      "X_L = 3e-3\n",
      "Y_L = 2e-3"
     ],
     "language": "python",
     "metadata": {},
     "outputs": [],
     "prompt_number": 5
    },
    {
     "cell_type": "markdown",
     "metadata": {},
     "source": [
      "Calculate the number of squares in the inductor using the formula and dimentions from the paper:"
     ]
    },
    {
     "cell_type": "code",
     "collapsed": false,
     "input": [
      "N_squares_paper = X_L * Y_L / (w_L * p_L)\n",
      "N_squares_paper"
     ],
     "language": "python",
     "metadata": {},
     "outputs": [
      {
       "metadata": {},
       "output_type": "pyout",
       "prompt_number": 6,
       "text": [
        "24000.0"
       ]
      }
     ],
     "prompt_number": 6
    },
    {
     "cell_type": "markdown",
     "metadata": {},
     "source": [
      "Calculate the number of squares in the inductor using measurements from the nine-element mask file. The traces run back and forth in the direction of $X_L$. Count corner squares in this direction. Stop at the beginning of the wider capacitor trace."
     ]
    },
    {
     "cell_type": "code",
     "collapsed": false,
     "input": [
      "L_L = (N_tines * X_L + (X_L + 200e-6) +\n",
      "       (Y_L + 42e-6) + 8 * g_L + 42e-6)\n",
      "1e3 * L_L # in mm"
     ],
     "language": "python",
     "metadata": {},
     "outputs": [
      {
       "metadata": {},
       "output_type": "pyout",
       "prompt_number": 7,
       "text": [
        "54.268"
       ]
      }
     ],
     "prompt_number": 7
    },
    {
     "cell_type": "code",
     "collapsed": false,
     "input": [
      "N_squares = L_L / w_L\n",
      "N_squares"
     ],
     "language": "python",
     "metadata": {},
     "outputs": [
      {
       "metadata": {},
       "output_type": "pyout",
       "prompt_number": 8,
       "text": [
        "27134.000000000004"
       ]
      }
     ],
     "prompt_number": 8
    },
    {
     "cell_type": "markdown",
     "metadata": {},
     "source": [
      "The formula underestimates a little."
     ]
    },
    {
     "cell_type": "markdown",
     "metadata": {},
     "source": [
      "Back out the geometric inductance from Sonnet, assuming the formula from the paper was used:"
     ]
    },
    {
     "cell_type": "code",
     "collapsed": false,
     "input": [
      "L_g = L_total - N_squares_paper * L_kinetic\n",
      "1e9 * L_g # in nH"
     ],
     "language": "python",
     "metadata": {},
     "outputs": [
      {
       "metadata": {},
       "output_type": "pyout",
       "prompt_number": 9,
       "text": [
        "array([ 59.93 ,  60.227,  60.524,  62.308,  62.605,  62.902,  64.686,\n",
        "        64.983,  65.281])"
       ]
      }
     ],
     "prompt_number": 9
    },
    {
     "cell_type": "markdown",
     "metadata": {},
     "source": [
      "Calculate the inductor volume, assuming a pure aluminum thickness of 20 nm and negligible oxide thickness:"
     ]
    },
    {
     "cell_type": "code",
     "collapsed": false,
     "input": [
      "V_L = L_L * w_L * t\n",
      "1e18 * V_L # in cubic microns"
     ],
     "language": "python",
     "metadata": {},
     "outputs": [
      {
       "metadata": {},
       "output_type": "pyout",
       "prompt_number": 10,
       "text": [
        "2170.72"
       ]
      }
     ],
     "prompt_number": 10
    },
    {
     "cell_type": "markdown",
     "metadata": {},
     "source": [
      "Calculate the expected capacitance using Jonas's equation 3 for an interdigitated capacitor:\n",
      "\\begin{equation*}\n",
      "C\n",
      "  =\n",
      "  \\epsilon_0 (1 + \\epsilon_r) \\frac{A_C}{p_C} \\frac{K}{K'},\n",
      "\\end{equation*}\n",
      "where variables are as defined in the memo."
     ]
    },
    {
     "cell_type": "code",
     "collapsed": false,
     "input": [
      "epsilon_r = 11.9\n",
      "k = np.tan(pi * w_C / (4 * p_C))**2\n",
      "# For equal gap width and spacing, K / K' = 1/2.\n",
      "K = ellipk(k**2)\n",
      "Kp = ellipk(1 - k**2)\n",
      "C_calc = epsilon_0 * (1 + epsilon_r) * (A_C / p_C) * (K / Kp)"
     ],
     "language": "python",
     "metadata": {},
     "outputs": [],
     "prompt_number": 11
    },
    {
     "cell_type": "code",
     "collapsed": false,
     "input": [
      "C_calc / C"
     ],
     "language": "python",
     "metadata": {},
     "outputs": [
      {
       "metadata": {},
       "output_type": "pyout",
       "prompt_number": 12,
       "text": [
        "array([ 1.06375167,  1.06387405,  1.06387869,  1.06388357,  1.06368144,\n",
        "        1.06369973,  1.06393183,  1.06374787,  1.06375207])"
       ]
      }
     ],
     "prompt_number": 12
    },
    {
     "cell_type": "markdown",
     "metadata": {},
     "source": [
      "These calculated capacitances are about 6% larger than nominal."
     ]
    },
    {
     "cell_type": "markdown",
     "metadata": {},
     "source": [
      "Calculate the expected kinetic inductance fraction, assuming the nominal values above:"
     ]
    },
    {
     "cell_type": "code",
     "collapsed": false,
     "input": [
      "N_squares_paper * L_kinetic / L_total"
     ],
     "language": "python",
     "metadata": {},
     "outputs": [
      {
       "metadata": {},
       "output_type": "pyout",
       "prompt_number": 13,
       "text": [
        "array([ 0.32458019,  0.32349737,  0.32242175,  0.31610835,  0.31508123,\n",
        "        0.31406076,  0.30806752,  0.3070919 ,  0.3061192 ])"
       ]
      }
     ],
     "prompt_number": 13
    },
    {
     "cell_type": "markdown",
     "metadata": {},
     "source": [
      "The measured surface resistance in the normal state, just above $T_c$:"
     ]
    },
    {
     "cell_type": "code",
     "collapsed": false,
     "input": [
      "R_s = 4"
     ],
     "language": "python",
     "metadata": {},
     "outputs": [],
     "prompt_number": 14
    },
    {
     "cell_type": "markdown",
     "metadata": {},
     "source": [
      "The measured $T_c$:"
     ]
    },
    {
     "cell_type": "code",
     "collapsed": false,
     "input": [
      "T_c = 1.46"
     ],
     "language": "python",
     "metadata": {},
     "outputs": [],
     "prompt_number": 15
    },
    {
     "cell_type": "markdown",
     "metadata": {},
     "source": [
      "Assume BCS:"
     ]
    },
    {
     "cell_type": "code",
     "collapsed": false,
     "input": [
      "Delta = 1.76 * k_B * T_c"
     ],
     "language": "python",
     "metadata": {},
     "outputs": [],
     "prompt_number": 16
    },
    {
     "cell_type": "markdown",
     "metadata": {},
     "source": [
      "The expected kinetic surface inductance:"
     ]
    },
    {
     "cell_type": "code",
     "collapsed": false,
     "input": [
      "L_s = (hbar * R_s) / (pi * Delta)\n",
      "1e12 * L_s # in pH / square"
     ],
     "language": "python",
     "metadata": {},
     "outputs": [
      {
       "metadata": {},
       "output_type": "pyout",
       "prompt_number": 17,
       "text": [
        "3.7847526203033315"
       ]
      }
     ],
     "prompt_number": 17
    },
    {
     "cell_type": "markdown",
     "metadata": {},
     "source": [
      "The total predicted kinetic inductance:"
     ]
    },
    {
     "cell_type": "code",
     "collapsed": false,
     "input": [
      "L_k = N_squares * L_s\n",
      "1e9 * L_k # in nH"
     ],
     "language": "python",
     "metadata": {},
     "outputs": [
      {
       "metadata": {},
       "output_type": "pyout",
       "prompt_number": 18,
       "text": [
        "102.6954775993106"
       ]
      }
     ],
     "prompt_number": 18
    },
    {
     "cell_type": "markdown",
     "metadata": {},
     "source": [
      "Calculate the expected resonance frequencies using our best known values:"
     ]
    },
    {
     "cell_type": "code",
     "collapsed": false,
     "input": [
      "(2 * pi * ((L_k + L_g) * C_calc)**(1/2))**-1 / 1e6"
     ],
     "language": "python",
     "metadata": {},
     "outputs": [
      {
       "metadata": {},
       "output_type": "pyout",
       "prompt_number": 19,
       "text": [
        "array([  71.61728739,   75.25160373,   78.89442973,  100.85835082,\n",
        "        104.54496146,  108.22749839,  130.41528173,  134.14317483,\n",
        "        137.8683244 ])"
       ]
      }
     ],
     "prompt_number": 19
    },
    {
     "cell_type": "markdown",
     "metadata": {},
     "source": [
      "These are somewhat too low."
     ]
    },
    {
     "cell_type": "code",
     "collapsed": false,
     "input": [
      "L_k / (L_k + L_g)"
     ],
     "language": "python",
     "metadata": {},
     "outputs": [
      {
       "metadata": {},
       "output_type": "pyout",
       "prompt_number": 20,
       "text": [
        "array([ 0.63148456,  0.63033339,  0.62918641,  0.62238372,  0.62126546,\n",
        "        0.62015122,  0.61354147,  0.61245474,  0.61136821])"
       ]
      }
     ],
     "prompt_number": 20
    },
    {
     "cell_type": "markdown",
     "metadata": {},
     "source": [
      "This doesn't match the kinetic inductance fraction from the fits to Mattis-Bardeen plus TLS."
     ]
    },
    {
     "cell_type": "markdown",
     "metadata": {},
     "source": [
      "The situation still doesn't make sense. I'm not sure I believe the resistivity measurements."
     ]
    }
   ],
   "metadata": {}
  }
 ]
}