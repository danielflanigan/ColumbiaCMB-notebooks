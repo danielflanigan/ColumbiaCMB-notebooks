{
 "cells": [
  {
   "cell_type": "code",
   "execution_count": 1,
   "metadata": {
    "collapsed": true
   },
   "outputs": [],
   "source": [
    "from __future__ import division\n",
    "import numpy as np"
   ]
  },
  {
   "cell_type": "code",
   "execution_count": 2,
   "metadata": {
    "collapsed": true
   },
   "outputs": [],
   "source": [
    "from scipy.constants import epsilon_0, hbar, k as k_B, pi\n",
    "from scipy.special import ellipk"
   ]
  },
  {
   "cell_type": "markdown",
   "metadata": {},
   "source": [
    "All of these values are from Heather's memo on the nine-element array: http://cosmology.phys.columbia.edu/skip_wiki/lib/exe/fetch.php?media=meetings:2013-07-30_detectors:skip_9elementarray.pdf"
   ]
  },
  {
   "cell_type": "code",
   "execution_count": 3,
   "metadata": {
    "collapsed": true
   },
   "outputs": [],
   "source": [
    "t = 20e-9\n",
    "f_r = 1e6 * np.array([100, 105, 110, 140, 145, 150, 180, 185, 190])\n",
    "L_kinetic = 1.2e-12 # in H / square\n",
    "# Heather says this is the sum of the geometric inductance from Sonnet and the assumed kinetic inductance from above.\n",
    "L_total = 1e-9 * np.array([88.730, 89.027, 89.324, 91.108, 91.405, 91.702, 93.486, 93.783, 94.081])\n",
    "A_C = 1e-6 * np.array([10.635, 7.692, 5.239, 5.285, 3.928, 2.744, 3.116, 2.352, 1.667])\n",
    "w_C = 1e-6 * np.array([10, 8, 6, 10, 8, 6, 10, 8, 6])\n",
    "g_C = w_C\n",
    "p_C = w_C + g_C\n",
    "C = 1e-12 * np.array([28.548, 25.807, 23.436, 14.185, 13.181, 12.277, 8.363, 7.892, 7.458])"
   ]
  },
  {
   "cell_type": "markdown",
   "metadata": {},
   "source": [
    "Calculate the expected kinetic surface inductance, assuming $\\Delta = 1.76 \\, k_B \\, (1.2 \\, \\mathrm{K})$ and the bulk resistivity $\\rho_n = 24.5 \\, \\Omega \\, \\mathrm{nm}$:"
   ]
  },
  {
   "cell_type": "code",
   "execution_count": 4,
   "metadata": {},
   "outputs": [
    {
     "data": {
      "text/plain": [
       "1.4102149821529861"
      ]
     },
     "execution_count": 4,
     "metadata": {},
     "output_type": "execute_result"
    }
   ],
   "source": [
    "1e12 * (hbar * 24.5 / 20) / (pi * 1.76 * k_B * 1.2) # in pH / square"
   ]
  },
  {
   "cell_type": "markdown",
   "metadata": {},
   "source": [
    "Why doesn't this match the above? Try using the measured $T_c$:"
   ]
  },
  {
   "cell_type": "code",
   "execution_count": 5,
   "metadata": {},
   "outputs": [
    {
     "data": {
      "text/plain": [
       "1.1590808072490297"
      ]
     },
     "execution_count": 5,
     "metadata": {},
     "output_type": "execute_result"
    }
   ],
   "source": [
    "1e12 * (hbar * 24.5 / 20) / (pi * 1.76 * k_B * 1.46) # in pH / square"
   ]
  },
  {
   "cell_type": "markdown",
   "metadata": {},
   "source": [
    "These values are taken from a nine-element mask file:"
   ]
  },
  {
   "cell_type": "code",
   "execution_count": 6,
   "metadata": {
    "collapsed": true
   },
   "outputs": [],
   "source": [
    "w_L = 2e-6 # The inductor trace width.\n",
    "g_L = 123e-6 # The inductor trace gap.\n",
    "p_L = w_L + g_L # This is the measured pitch between trace centers.\n",
    "N_tines = 16 # The number of inductor tines, ignoring the outer trace and perpendicular trace.\n",
    "X_L = 3e-3\n",
    "Y_L = 2e-3"
   ]
  },
  {
   "cell_type": "markdown",
   "metadata": {},
   "source": [
    "Calculate the number of squares in the inductor using the formula and dimentions from the paper:"
   ]
  },
  {
   "cell_type": "code",
   "execution_count": 7,
   "metadata": {},
   "outputs": [
    {
     "data": {
      "text/plain": [
       "24000.0"
      ]
     },
     "execution_count": 7,
     "metadata": {},
     "output_type": "execute_result"
    }
   ],
   "source": [
    "N_squares_paper = X_L * Y_L / (w_L * p_L)\n",
    "N_squares_paper"
   ]
  },
  {
   "cell_type": "markdown",
   "metadata": {},
   "source": [
    "Calculate the number of squares in the inductor using measurements from the nine-element mask file. The traces run back and forth in the direction of $X_L$. Count corner squares in this direction. Stop at the beginning of the wider capacitor trace."
   ]
  },
  {
   "cell_type": "code",
   "execution_count": 8,
   "metadata": {},
   "outputs": [
    {
     "data": {
      "text/plain": [
       "54.268"
      ]
     },
     "execution_count": 8,
     "metadata": {},
     "output_type": "execute_result"
    }
   ],
   "source": [
    "L_L = (N_tines * X_L + (X_L + 200e-6) +\n",
    "       (Y_L + 42e-6) + 8 * g_L + 42e-6)\n",
    "1e3 * L_L # in mm"
   ]
  },
  {
   "cell_type": "code",
   "execution_count": 9,
   "metadata": {},
   "outputs": [
    {
     "data": {
      "text/plain": [
       "27134.000000000004"
      ]
     },
     "execution_count": 9,
     "metadata": {},
     "output_type": "execute_result"
    }
   ],
   "source": [
    "N_squares = L_L / w_L\n",
    "N_squares"
   ]
  },
  {
   "cell_type": "markdown",
   "metadata": {},
   "source": [
    "The formula underestimates a little."
   ]
  },
  {
   "cell_type": "markdown",
   "metadata": {},
   "source": [
    "Back out the geometric inductance from Sonnet, assuming the formula from the paper was used:"
   ]
  },
  {
   "cell_type": "code",
   "execution_count": 10,
   "metadata": {},
   "outputs": [
    {
     "data": {
      "text/plain": [
       "array([ 59.93 ,  60.227,  60.524,  62.308,  62.605,  62.902,  64.686,\n",
       "        64.983,  65.281])"
      ]
     },
     "execution_count": 10,
     "metadata": {},
     "output_type": "execute_result"
    }
   ],
   "source": [
    "L_g = L_total - N_squares_paper * L_kinetic\n",
    "1e9 * L_g # in nH"
   ]
  },
  {
   "cell_type": "markdown",
   "metadata": {},
   "source": [
    "Calculate the inductor volume, assuming a pure aluminum thickness of 20 nm and negligible oxide thickness:"
   ]
  },
  {
   "cell_type": "code",
   "execution_count": 11,
   "metadata": {},
   "outputs": [
    {
     "data": {
      "text/plain": [
       "2170.72"
      ]
     },
     "execution_count": 11,
     "metadata": {},
     "output_type": "execute_result"
    }
   ],
   "source": [
    "V_L = L_L * w_L * t\n",
    "1e18 * V_L # in cubic microns"
   ]
  },
  {
   "cell_type": "markdown",
   "metadata": {},
   "source": [
    "Calculate the expected capacitance using Jonas's equation 3 for an interdigitated capacitor:\n",
    "\\begin{equation*}\n",
    "C\n",
    "  =\n",
    "  \\epsilon_0 (1 + \\epsilon_r) \\frac{A_C}{p_C} \\frac{K}{K'},\n",
    "\\end{equation*}\n",
    "where variables are as defined in the memo."
   ]
  },
  {
   "cell_type": "code",
   "execution_count": 12,
   "metadata": {
    "collapsed": true
   },
   "outputs": [],
   "source": [
    "epsilon_r = 11.9\n",
    "k = np.tan(pi * w_C / (4 * p_C))**2\n",
    "# For equal gap width and spacing, K / K' = 1/2.\n",
    "K = ellipk(k**2)\n",
    "Kp = ellipk(1 - k**2)\n",
    "C_calc = epsilon_0 * (1 + epsilon_r) * (A_C / p_C) * (K / Kp)"
   ]
  },
  {
   "cell_type": "code",
   "execution_count": 13,
   "metadata": {},
   "outputs": [
    {
     "data": {
      "text/plain": [
       "array([ 1.06375167,  1.06387405,  1.06387869,  1.06388357,  1.06368144,\n",
       "        1.06369973,  1.06393183,  1.06374787,  1.06375207])"
      ]
     },
     "execution_count": 13,
     "metadata": {},
     "output_type": "execute_result"
    }
   ],
   "source": [
    "C_calc / C"
   ]
  },
  {
   "cell_type": "markdown",
   "metadata": {},
   "source": [
    "These calculated capacitances are about 6% larger than nominal."
   ]
  },
  {
   "cell_type": "markdown",
   "metadata": {},
   "source": [
    "Calculate the expected kinetic inductance fraction, assuming the nominal values above:"
   ]
  },
  {
   "cell_type": "code",
   "execution_count": 14,
   "metadata": {},
   "outputs": [
    {
     "data": {
      "text/plain": [
       "array([ 0.32458019,  0.32349737,  0.32242175,  0.31610835,  0.31508123,\n",
       "        0.31406076,  0.30806752,  0.3070919 ,  0.3061192 ])"
      ]
     },
     "execution_count": 14,
     "metadata": {},
     "output_type": "execute_result"
    }
   ],
   "source": [
    "N_squares_paper * L_kinetic / L_total"
   ]
  },
  {
   "cell_type": "markdown",
   "metadata": {},
   "source": [
    "The measured surface resistance in the normal state, just above $T_c$:"
   ]
  },
  {
   "cell_type": "code",
   "execution_count": 15,
   "metadata": {
    "collapsed": true
   },
   "outputs": [],
   "source": [
    "R_s = 4"
   ]
  },
  {
   "cell_type": "markdown",
   "metadata": {},
   "source": [
    "The measured $T_c$:"
   ]
  },
  {
   "cell_type": "code",
   "execution_count": 16,
   "metadata": {
    "collapsed": true
   },
   "outputs": [],
   "source": [
    "T_c = 1.46"
   ]
  },
  {
   "cell_type": "markdown",
   "metadata": {},
   "source": [
    "Assume BCS:"
   ]
  },
  {
   "cell_type": "code",
   "execution_count": 17,
   "metadata": {
    "collapsed": true
   },
   "outputs": [],
   "source": [
    "Delta = 1.76 * k_B * T_c"
   ]
  },
  {
   "cell_type": "markdown",
   "metadata": {},
   "source": [
    "The expected kinetic surface inductance:"
   ]
  },
  {
   "cell_type": "code",
   "execution_count": 18,
   "metadata": {},
   "outputs": [
    {
     "data": {
      "text/plain": [
       "3.7847536563233626"
      ]
     },
     "execution_count": 18,
     "metadata": {},
     "output_type": "execute_result"
    }
   ],
   "source": [
    "L_s = (hbar * R_s) / (pi * Delta)\n",
    "1e12 * L_s # in pH / square"
   ]
  },
  {
   "cell_type": "markdown",
   "metadata": {},
   "source": [
    "The total predicted kinetic inductance:"
   ]
  },
  {
   "cell_type": "code",
   "execution_count": 19,
   "metadata": {},
   "outputs": [
    {
     "data": {
      "text/plain": [
       "102.69550571067812"
      ]
     },
     "execution_count": 19,
     "metadata": {},
     "output_type": "execute_result"
    }
   ],
   "source": [
    "L_k = N_squares * L_s\n",
    "1e9 * L_k # in nH"
   ]
  },
  {
   "cell_type": "markdown",
   "metadata": {},
   "source": [
    "Calculate the expected resonance frequencies using our best known values:"
   ]
  },
  {
   "cell_type": "code",
   "execution_count": 20,
   "metadata": {},
   "outputs": [
    {
     "data": {
      "text/plain": [
       "array([  71.6172812 ,   75.25159724,   78.89442293,  100.85834223,\n",
       "        104.54495257,  108.22748921,  130.41527078,  134.14316358,\n",
       "        137.86831286])"
      ]
     },
     "execution_count": 20,
     "metadata": {},
     "output_type": "execute_result"
    }
   ],
   "source": [
    "(2 * pi * ((L_k + L_g) * C_calc)**(1/2))**-1 / 1e6"
   ]
  },
  {
   "cell_type": "markdown",
   "metadata": {},
   "source": [
    "These are somewhat too low."
   ]
  },
  {
   "cell_type": "code",
   "execution_count": 21,
   "metadata": {},
   "outputs": [
    {
     "data": {
      "text/plain": [
       "array([ 0.63148462,  0.63033345,  0.62918648,  0.62238378,  0.62126553,\n",
       "        0.62015128,  0.61354153,  0.6124548 ,  0.61136827])"
      ]
     },
     "execution_count": 21,
     "metadata": {},
     "output_type": "execute_result"
    }
   ],
   "source": [
    "L_k / (L_k + L_g)"
   ]
  },
  {
   "cell_type": "markdown",
   "metadata": {},
   "source": [
    "This doesn't match the kinetic inductance fraction from the fits to Mattis-Bardeen plus TLS."
   ]
  },
  {
   "cell_type": "markdown",
   "metadata": {},
   "source": [
    "The situation still doesn't make sense. I'm not sure I believe the resistivity measurements."
   ]
  },
  {
   "cell_type": "markdown",
   "metadata": {},
   "source": [
    "The YBCO devices may have almost no kinetic inductance. If so, these would be the expected resonances:"
   ]
  },
  {
   "cell_type": "code",
   "execution_count": 22,
   "metadata": {
    "collapsed": true
   },
   "outputs": [],
   "source": [
    "sapphire_epsilon_r = 10  # approximately\n",
    "k = np.tan(pi * w_C / (4 * p_C))**2\n",
    "# For equal gap width and spacing, K / K' = 1/2.\n",
    "K = ellipk(k**2)\n",
    "Kp = ellipk(1 - k**2)\n",
    "C_calc = epsilon_0 * (1 + sapphire_epsilon_r) * (A_C / p_C) * (K / Kp)"
   ]
  },
  {
   "cell_type": "code",
   "execution_count": 23,
   "metadata": {},
   "outputs": [
    {
     "data": {
      "text/plain": [
       "array([ 127.75812627,  134.03220427,  140.30302487,  177.7399355 ,\n",
       "        183.96455898,  190.16507726,  227.18285183,  233.34896337,\n",
       "        239.49356331])"
      ]
     },
     "execution_count": 23,
     "metadata": {},
     "output_type": "execute_result"
    }
   ],
   "source": [
    "f_YBCO = (2 * pi * (L_g * C_calc)**(1/2))**-1\n",
    "1e-6 * f_YBCO"
   ]
  },
  {
   "cell_type": "code",
   "execution_count": null,
   "metadata": {
    "collapsed": true
   },
   "outputs": [],
   "source": []
  }
 ],
 "metadata": {
  "kernelspec": {
   "display_name": "Python 2",
   "language": "python",
   "name": "python2"
  },
  "language_info": {
   "codemirror_mode": {
    "name": "ipython",
    "version": 2
   },
   "file_extension": ".py",
   "mimetype": "text/x-python",
   "name": "python",
   "nbconvert_exporter": "python",
   "pygments_lexer": "ipython2",
   "version": "2.7.13"
  }
 },
 "nbformat": 4,
 "nbformat_minor": 1
}
