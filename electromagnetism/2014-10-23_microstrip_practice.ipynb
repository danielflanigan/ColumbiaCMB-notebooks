{
 "metadata": {
  "name": "",
  "signature": "sha256:f2fc0cc710cef5a4a18715958f5e9b52ee59c7c01777a4988ebdfd2d78648198"
 },
 "nbformat": 3,
 "nbformat_minor": 0,
 "worksheets": [
  {
   "cells": [
    {
     "cell_type": "code",
     "collapsed": false,
     "input": [
      "from physics.optics import microstrip"
     ],
     "language": "python",
     "metadata": {},
     "outputs": [],
     "prompt_number": 1
    },
    {
     "cell_type": "markdown",
     "metadata": {},
     "source": [
      "Design a $50 \\, \\Omega$ microstrip on $25 \\, \\mu \\mathrm{m}$ silicon dioxide, which according to Sonnet has $\\epsilon_r = 3.9$:"
     ]
    },
    {
     "cell_type": "code",
     "collapsed": false,
     "input": [
      "d = 25e-6\n",
      "epsilon_r = 3.9\n",
      "Z_target = 50\n",
      "W = d * microstrip.W_over_d(epsilon_r, Z_target)\n",
      "W"
     ],
     "language": "python",
     "metadata": {},
     "outputs": [
      {
       "ename": "TypeError",
       "evalue": "W_over_d() missing 1 required positional argument: 'less_than_two'",
       "output_type": "pyerr",
       "traceback": [
        "\u001b[0;31m---------------------------------------------------------------------------\u001b[0m\n\u001b[0;31mTypeError\u001b[0m                                 Traceback (most recent call last)",
        "\u001b[0;32m<ipython-input-2-89223b86a18d>\u001b[0m in \u001b[0;36m<module>\u001b[0;34m()\u001b[0m\n\u001b[1;32m      2\u001b[0m \u001b[0mepsilon_r\u001b[0m \u001b[0;34m=\u001b[0m \u001b[0;36m3.9\u001b[0m\u001b[0;34m\u001b[0m\u001b[0m\n\u001b[1;32m      3\u001b[0m \u001b[0mZ_target\u001b[0m \u001b[0;34m=\u001b[0m \u001b[0;36m50\u001b[0m\u001b[0;34m\u001b[0m\u001b[0m\n\u001b[0;32m----> 4\u001b[0;31m \u001b[0mW\u001b[0m \u001b[0;34m=\u001b[0m \u001b[0md\u001b[0m \u001b[0;34m*\u001b[0m \u001b[0mmicrostrip\u001b[0m\u001b[0;34m.\u001b[0m\u001b[0mW_over_d\u001b[0m\u001b[0;34m(\u001b[0m\u001b[0mepsilon_r\u001b[0m\u001b[0;34m,\u001b[0m \u001b[0mZ_target\u001b[0m\u001b[0;34m)\u001b[0m\u001b[0;34m\u001b[0m\u001b[0m\n\u001b[0m\u001b[1;32m      5\u001b[0m \u001b[0mW\u001b[0m\u001b[0;34m\u001b[0m\u001b[0m\n",
        "\u001b[0;31mTypeError\u001b[0m: W_over_d() missing 1 required positional argument: 'less_than_two'"
       ]
      }
     ],
     "prompt_number": 2
    },
    {
     "cell_type": "code",
     "collapsed": false,
     "input": [],
     "language": "python",
     "metadata": {},
     "outputs": []
    }
   ],
   "metadata": {}
  }
 ]
}