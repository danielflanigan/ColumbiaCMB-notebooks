{
 "metadata": {
  "name": "",
  "signature": "sha256:d93f14d6a54ff3e9bcf732a5f260dd748c41831bb3f771ecb787c8a2c89a5b8d"
 },
 "nbformat": 3,
 "nbformat_minor": 0,
 "worksheets": [
  {
   "cells": [
    {
     "cell_type": "code",
     "collapsed": false,
     "input": [
      "from physics.electromagnetism import microstrip"
     ],
     "language": "python",
     "metadata": {},
     "outputs": [],
     "prompt_number": 5
    },
    {
     "cell_type": "code",
     "collapsed": false,
     "input": [
      "epsilon_r = 11.9\n",
      "W = 20\n",
      "d = 300\n",
      "W_over_d = W / d\n",
      "epsilon_e = microstrip.epsilon_e(epsilon_r, W_over_d)\n",
      "print(\"epsilon_e = {0}\".format(epsilon_e))\n",
      "Z_0 = microstrip.Z_0(epsilon_e, W_over_d)\n",
      "print(\"Z_0 = {}\".format(Z_0))"
     ],
     "language": "python",
     "metadata": {},
     "outputs": [
      {
       "output_type": "stream",
       "stream": "stdout",
       "text": [
        "epsilon_e = 10.512190159124618\n",
        "Z_0 = 88.5982782592324\n"
       ]
      }
     ],
     "prompt_number": 6
    },
    {
     "cell_type": "code",
     "collapsed": false,
     "input": [
      "Gamma = (Z_0 - 50) / (Z_0 + 50)\n",
      "Gamma"
     ],
     "language": "python",
     "metadata": {},
     "outputs": [
      {
       "metadata": {},
       "output_type": "pyout",
       "prompt_number": 7,
       "text": [
        "0.27849031563753401"
       ]
      }
     ],
     "prompt_number": 7
    },
    {
     "cell_type": "code",
     "collapsed": false,
     "input": [
      "c = 3e8\n",
      "f_r = 250e6\n",
      "l_r =  c / f_r / epsilon_e**(1/2)\n",
      "l_r"
     ],
     "language": "python",
     "metadata": {},
     "outputs": [
      {
       "metadata": {},
       "output_type": "pyout",
       "prompt_number": 8,
       "text": [
        "0.3701132574915553"
       ]
      }
     ],
     "prompt_number": 8
    },
    {
     "cell_type": "markdown",
     "metadata": {},
     "source": [
      "The equation involving $A$ is\n",
      "$$\n",
      "\\frac{W}{d}\n",
      "  =\n",
      "  \\frac{8 \\exp(A)}{\\exp(2 A) - 2},\n",
      "$$\n",
      "which is positive for $A > \\frac{\\log 2}{2} \\approx = 0.37$."
     ]
    },
    {
     "cell_type": "code",
     "collapsed": false,
     "input": [
      "A_min = np.log(2) / 2\n",
      "A_min"
     ],
     "language": "python",
     "metadata": {},
     "outputs": [
      {
       "metadata": {},
       "output_type": "pyout",
       "prompt_number": 9,
       "text": [
        "0.34657359027997264"
       ]
      }
     ],
     "prompt_number": 9
    },
    {
     "cell_type": "markdown",
     "metadata": {},
     "source": [
      "This is a numerical solution of the above equation from Wolfram for $W/d = 2$:"
     ]
    },
    {
     "cell_type": "code",
     "collapsed": false,
     "input": [
      "A_max = 1.492789425\n",
      "8*np.exp(A_max)/(np.exp(2*A_max) - 2)"
     ],
     "language": "python",
     "metadata": {},
     "outputs": [
      {
       "metadata": {},
       "output_type": "pyout",
       "prompt_number": 10,
       "text": [
        "2.0000000001483449"
       ]
      }
     ],
     "prompt_number": 10
    },
    {
     "cell_type": "markdown",
     "metadata": {},
     "source": [
      "For a dielectric constant of 1, the smallest possible microstrip impedance is about 21 ohms; for a dielectric constant of 10, it's about 3.8 ohms:"
     ]
    },
    {
     "cell_type": "code",
     "collapsed": false,
     "input": [
      "ZZ = np.linspace(1, 100, 1e4)\n",
      "ZZ[microstrip.Pozar_microstrip_A(1, ZZ) > A_min][0]"
     ],
     "language": "python",
     "metadata": {},
     "outputs": [
      {
       "metadata": {},
       "output_type": "pyout",
       "prompt_number": 20,
       "text": [
        "20.801980198019802"
       ]
      }
     ],
     "prompt_number": 20
    },
    {
     "cell_type": "code",
     "collapsed": false,
     "input": [
      "ZZ[microstrip.Pozar_microstrip_A(10, ZZ) > A_min][0]"
     ],
     "language": "python",
     "metadata": {},
     "outputs": [
      {
       "metadata": {},
       "output_type": "pyout",
       "prompt_number": 21,
       "text": [
        "3.8316831683168315"
       ]
      }
     ],
     "prompt_number": 21
    },
    {
     "cell_type": "code",
     "collapsed": false,
     "input": [],
     "language": "python",
     "metadata": {},
     "outputs": []
    }
   ],
   "metadata": {}
  }
 ]
}