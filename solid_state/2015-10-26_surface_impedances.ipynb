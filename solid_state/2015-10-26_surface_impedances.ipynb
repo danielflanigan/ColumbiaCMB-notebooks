{
 "cells": [
  {
   "cell_type": "code",
   "execution_count": 14,
   "metadata": {
    "collapsed": true
   },
   "outputs": [],
   "source": [
    "from scipy.constants import h, k as k_B, pi\n",
    "from scipy.special import i0, k0"
   ]
  },
  {
   "cell_type": "code",
   "execution_count": 2,
   "metadata": {
    "collapsed": true
   },
   "outputs": [],
   "source": [
    "# Wikipedia\n",
    "al_rho_ohm_nm = 28.2  # at 20 C\n",
    "nb_rho_ohm_nm = 152  # at 0 C"
   ]
  },
  {
   "cell_type": "markdown",
   "metadata": {},
   "source": [
    "The mean free path of our 20 nm aluminum films is apparently limited by surface scattering, so its RRR ~ 1. If we move to thicker films, it could increase. For now, let's keep the previous values."
   ]
  },
  {
   "cell_type": "code",
   "execution_count": 3,
   "metadata": {
    "collapsed": false
   },
   "outputs": [
    {
     "name": "stdout",
     "output_type": "stream",
     "text": [
      "The surface resistance of a 20 nm aluminum film with RRR of 1.0 is 1.4 ohm / square.\n"
     ]
    }
   ],
   "source": [
    "al_t_nm = 20\n",
    "al_RRR = 1\n",
    "al_Rs_ohm = al_rho_ohm_nm / al_t_nm\n",
    "print(\"The surface resistance of a {:.0f} nm aluminum film with RRR of {:.1f} is {:.1f} ohm / square.\".format(al_t_nm, al_RRR, al_Rs_ohm))"
   ]
  },
  {
   "cell_type": "markdown",
   "metadata": {},
   "source": [
    "This RRR value is for a 100 nm Nb film described in R. Barends *et al.*, Niobium and Tantalum High Q Resonators for\n",
    "Photon Detectors, IEEE Trans. Appl. Supercond. **17**, 263 (2007)"
   ]
  },
  {
   "cell_type": "code",
   "execution_count": 4,
   "metadata": {
    "collapsed": false
   },
   "outputs": [
    {
     "name": "stdout",
     "output_type": "stream",
     "text": [
      "The surface resistance of a 100 nm niobium film with RRR of 4.0 is 0.38 ohm / square.\n"
     ]
    }
   ],
   "source": [
    "nb_t_nm = 100\n",
    "nb_RRR = 4\n",
    "nb_Rs_ohm = nb_rho_ohm_nm / (nb_RRR * nb_t_nm)\n",
    "print(\"The surface resistance of a {:.0f} nm niobium film with RRR of {:.1f} is {:.2f} ohm / square.\".format(nb_t_nm, nb_RRR, nb_Rs_ohm))"
   ]
  },
  {
   "cell_type": "code",
   "execution_count": 10,
   "metadata": {
    "collapsed": false
   },
   "outputs": [
    {
     "data": {
      "text/plain": [
       "0.5999054185611866"
      ]
     },
     "execution_count": 10,
     "metadata": {},
     "output_type": "execute_result"
    }
   ],
   "source": [
    "f = 3e9\n",
    "T = 0.12\n",
    "xi = (h * f) / (2 * k_B * T)\n",
    "xi"
   ]
  },
  {
   "cell_type": "code",
   "execution_count": 12,
   "metadata": {
    "collapsed": false
   },
   "outputs": [
    {
     "data": {
      "text/plain": [
       "0.495003494694291"
      ]
     },
     "execution_count": 12,
     "metadata": {},
     "output_type": "execute_result"
    }
   ],
   "source": [
    "np.sinh(xi) * k0(xi)"
   ]
  },
  {
   "cell_type": "code",
   "execution_count": 18,
   "metadata": {
    "collapsed": false
   },
   "outputs": [
    {
     "data": {
      "text/plain": [
       "0.5974940712514714"
      ]
     },
     "execution_count": 18,
     "metadata": {},
     "output_type": "execute_result"
    }
   ],
   "source": [
    "(2 * pi * k_B * T / (1.76 * k_B * 1.2))**(1/2) "
   ]
  },
  {
   "cell_type": "code",
   "execution_count": 20,
   "metadata": {
    "collapsed": false
   },
   "outputs": [
    {
     "data": {
      "text/plain": [
       "1.198735214577018"
      ]
     },
     "execution_count": 20,
     "metadata": {},
     "output_type": "execute_result"
    }
   ],
   "source": [
    "2 * np.exp(-xi) * i0(xi)"
   ]
  },
  {
   "cell_type": "code",
   "execution_count": null,
   "metadata": {
    "collapsed": true
   },
   "outputs": [],
   "source": []
  }
 ],
 "metadata": {
  "kernelspec": {
   "display_name": "Python 2",
   "language": "python",
   "name": "python2"
  },
  "language_info": {
   "codemirror_mode": {
    "name": "ipython",
    "version": 2
   },
   "file_extension": ".py",
   "mimetype": "text/x-python",
   "name": "python",
   "nbconvert_exporter": "python",
   "pygments_lexer": "ipython2",
   "version": "2.7.10"
  }
 },
 "nbformat": 4,
 "nbformat_minor": 0
}
