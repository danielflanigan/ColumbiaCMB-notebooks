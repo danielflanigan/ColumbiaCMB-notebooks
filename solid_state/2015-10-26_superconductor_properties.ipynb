{
 "cells": [
  {
   "cell_type": "markdown",
   "metadata": {},
   "source": [
    "**References**  \n",
    "W. McMillan, Physical Review (1968)  \n",
    "B. Mazin, Ph.D. Thesis (2005)  \n"
   ]
  },
  {
   "cell_type": "code",
   "execution_count": 1,
   "metadata": {
    "collapsed": true
   },
   "outputs": [],
   "source": [
    "from scipy.constants import physical_constants, e, k as k_B"
   ]
  },
  {
   "cell_type": "code",
   "execution_count": 2,
   "metadata": {},
   "outputs": [
    {
     "name": "stdout",
     "output_type": "stream",
     "text": [
      "aluminum: N0 = 1.72988e+10 states / (eV um^3)\n"
     ]
    }
   ],
   "source": [
    "# Aluminum\n",
    "al_T_c = 1.2  # bulk\n",
    "\n",
    "# McMillan\n",
    "al_lambda = 0.38\n",
    "al_states_per_eV_atom = 0.208\n",
    "\n",
    "# Wikipedia\n",
    "al_density_g_per_cm3 = 2.70\n",
    "al_atomic_mass_Da = 26.98\n",
    "\n",
    "al_atomic_mass_kg = al_atomic_mass_Da * physical_constants['atomic mass constant'][0]\n",
    "al_density_kg_per_um3 = al_density_g_per_cm3 * (1 / 1e3) * (1 / 1e4)**3\n",
    "al_density_atoms_per_um3 = al_density_kg_per_um3 / al_atomic_mass_kg\n",
    "al_states_per_eV_um3 = al_states_per_eV_atom * al_density_atoms_per_um3\n",
    "# This seems to be what Mazin means by \"including the electron-phonon enhancement factor.\"\n",
    "al_N0 = (1 + al_lambda) * al_states_per_eV_um3\n",
    "print(\"aluminum: N0 = {:g} states / (eV um^3)\".format(al_N0))"
   ]
  },
  {
   "cell_type": "code",
   "execution_count": 3,
   "metadata": {
    "collapsed": true
   },
   "outputs": [],
   "source": [
    "# Niobium\n",
    "nb_T_c = 9.2\n",
    "\n",
    "# McMillan\n",
    "nb_lambda = 0.82\n",
    "nb_states_per_eV_atom = 0.91\n",
    "\n",
    "# Wikipedia\n",
    "nb_density_g_per_cm3 = 8.57\n",
    "nb_atomic_mass_Da = 92.91\n",
    "\n",
    "nb_atomic_mass_kg = nb_atomic_mass_Da * physical_constants['atomic mass constant'][0]\n",
    "nb_density_kg_per_um3 = nb_density_g_per_cm3 * (1 / 1e3) * (1 / 1e4)**3\n",
    "nb_density_atoms_per_um3 = nb_density_kg_per_um3 / nb_atomic_mass_kg\n",
    "nb_states_per_eV_um3 = nb_states_per_eV_atom * nb_density_atoms_per_um3\n",
    "nb_N0 = (1 + nb_lambda) * nb_states_per_eV_um3"
   ]
  },
  {
   "cell_type": "code",
   "execution_count": 4,
   "metadata": {},
   "outputs": [
    {
     "name": "stdout",
     "output_type": "stream",
     "text": [
      "niobium: N0 = 9.19988e+10 states / (eV um^3)\n"
     ]
    }
   ],
   "source": [
    "print(\"niobium: N0 = {:g} states / (eV um^3)\".format(nb_N0))"
   ]
  },
  {
   "cell_type": "code",
   "execution_count": 5,
   "metadata": {},
   "outputs": [],
   "source": [
    "# Quantum Computing in Solid State Systems\n",
    "nb_cooper_pair_density = 129 * 10**(24 - 3 * 6)  # um^{-3}\n",
    "al_cooper_pair_density = 3.1 * 10**(24 - 3 * 6)  # um^{-3}"
   ]
  },
  {
   "cell_type": "code",
   "execution_count": 6,
   "metadata": {},
   "outputs": [
    {
     "data": {
      "text/plain": [
       "58258.06451612903"
      ]
     },
     "execution_count": 6,
     "metadata": {},
     "output_type": "execute_result"
    }
   ],
   "source": [
    "# Some superconductivity book\n",
    "al_carrier_concentration = 180.6 * 10**(21 - 3 * 4)  # um^{-3}\n",
    "\n",
    "# Not sure what's going on here\n",
    "al_carrier_concentration / al_cooper_pair_density"
   ]
  },
  {
   "cell_type": "code",
   "execution_count": 7,
   "metadata": {},
   "outputs": [
    {
     "data": {
      "text/plain": [
       "0.00018199805997037537"
      ]
     },
     "execution_count": 7,
     "metadata": {},
     "output_type": "execute_result"
    }
   ],
   "source": [
    "al_gap_eV = 1.76 * k_B * al_T_c / e\n",
    "al_gap_eV"
   ]
  },
  {
   "cell_type": "code",
   "execution_count": 12,
   "metadata": {},
   "outputs": [
    {
     "name": "stdout",
     "output_type": "stream",
     "text": [
      "aluminum Cooper pair density: 4.56281e+06\n"
     ]
    }
   ],
   "source": [
    "# Cooper pair density in um^{-3}\n",
    "print(\"aluminum Cooper pair density: {:g}\".format(2 * al_N0 / (1 + al_lambda) * al_gap_eV))"
   ]
  },
  {
   "cell_type": "code",
   "execution_count": null,
   "metadata": {
    "collapsed": true
   },
   "outputs": [],
   "source": []
  }
 ],
 "metadata": {
  "kernelspec": {
   "display_name": "Python 2",
   "language": "python",
   "name": "python2"
  },
  "language_info": {
   "codemirror_mode": {
    "name": "ipython",
    "version": 2
   },
   "file_extension": ".py",
   "mimetype": "text/x-python",
   "name": "python",
   "nbconvert_exporter": "python",
   "pygments_lexer": "ipython2",
   "version": "2.7.13"
  }
 },
 "nbformat": 4,
 "nbformat_minor": 1
}
