{
 "cells": [
  {
   "cell_type": "code",
   "execution_count": 1,
   "metadata": {
    "collapsed": true
   },
   "outputs": [],
   "source": [
    "def authornumber(author_list):\n",
    "    return len(author_list.split(' and '))"
   ]
  },
  {
   "cell_type": "code",
   "execution_count": 2,
   "metadata": {
    "collapsed": false
   },
   "outputs": [
    {
     "data": {
      "text/plain": [
       "11"
      ]
     },
     "execution_count": 2,
     "metadata": {},
     "output_type": "execute_result"
    }
   ],
   "source": [
    "# Magnetic field dependence of the internal quality factor and noise performance of lumped-element kinetic inductance detectors\n",
    "authornumber(\"Flanigan, Daniel and Johnson, Bradley R and Abitbol, Maximilian H and Bryan, Sean and Cantor, Robin and Day, Peter K and Jones, Glenn and Mauskopf, Philip and McCarrick, Heather and Miller, Amber D and Zmuidzinas, Jonas\")"
   ]
  },
  {
   "cell_type": "code",
   "execution_count": 3,
   "metadata": {
    "collapsed": false
   },
   "outputs": [
    {
     "data": {
      "text/plain": [
       "33"
      ]
     },
     "execution_count": 3,
     "metadata": {},
     "output_type": "execute_result"
    }
   ],
   "source": [
    "# Galaxy cluster scaling relations measured with APEX-SZ\n",
    "authornumber(\"Bender, Amy N and Kennedy, James and Ade, Peter A R and Basu, Kaustuv and Bertoldi, F and Burkutean, S and Clarke, John and Dahlin, D and Dobbs, Matt A and Ferrusca, Daniel and Flanigan, Daniel and Halverson, Nils W and Holzapfel, William L and Horellou, Cathy and Johnson, Bradley R and Kermish, Z D and Klein, M and Kneissl, R and Lanting, T M and Lee, Adrian T and Mehl, Jared and Menten, K M and Muders, Dirk and Nagarajan, A and Pacaud, Florian and Reichardt, Christian L and Richards, Paul L and Schaaf, R and Schwan, Daniel and Sommer, M W and Spieler, Helmuth G and Tucker, Carole E and Westbrook, Benjamin\")"
   ]
  },
  {
   "cell_type": "code",
   "execution_count": 4,
   "metadata": {
    "collapsed": false
   },
   "outputs": [
    {
     "data": {
      "text/plain": [
       "21"
      ]
     },
     "execution_count": 4,
     "metadata": {},
     "output_type": "execute_result"
    }
   ],
   "source": [
    "# Polarization sensitive Multi-Chroic MKIDs\n",
    "authornumber(\"Johnson, Bradley R and Flanigan, Daniel and Abitbol, Maximilian H and Ade, Peter A R and Bryan, Sean and Cho, Hsiao-Mei and Datta, Rahul and Day, Peter and Doyle, Simon and Irwin, Kent D and Jones, Glenn and Kernasovskiy, Sarah and Li, Dale and Mauskopf, Philip and McCarrick, Heather and McMahon, Jeff and Miller, Amber D and Pisano, Giampaolo and Song, Yanru and Surdi, Harshad and Tucker, Carole E\")"
   ]
  },
  {
   "cell_type": "code",
   "execution_count": 5,
   "metadata": {
    "collapsed": false
   },
   "outputs": [
    {
     "data": {
      "text/plain": [
       "17"
      ]
     },
     "execution_count": 5,
     "metadata": {},
     "output_type": "execute_result"
    }
   ],
   "source": [
    "# Development of dual-polarization LEKIDs for CMB observations\n",
    "authornumber(\"McCarrick, Heather and Abitbol, Maximilian H and Ade, Peter A R and Barry, Peter and Bryan, Sean and Che, George and Day, Peter and Doyle, Simon and Flanigan, Daniel and Johnson, Bradley R and Jones, Glenn and LeDuc, Henry G and Limon, Michele and Mauskopf, Philip and Miller, Amber D and Tucker, Carole E and Zmuidzinas, Jonas\")"
   ]
  },
  {
   "cell_type": "code",
   "execution_count": 6,
   "metadata": {
    "collapsed": false
   },
   "outputs": [
    {
     "data": {
      "text/plain": [
       "18"
      ]
     },
     "execution_count": 6,
     "metadata": {},
     "output_type": "execute_result"
    }
   ],
   "source": [
    "# A Titanium Nitride Absorber for Controlling Optical Crosstalk in Horn-Coupled Aluminum LEKID Arrays for Millimeter Wavelengths\n",
    "authornumber(\"McCarrick, H and Flanigan, Daniel and Jones, G and Johnson, Bradley R and Ade, Peter A R and Bradford, K and Bryan, S and Cantor, R and Che, G and Day, P and Doyle, Simon and LeDuc, Henry G and Limon, Michele and Mauskopf, Philip and Miller, A and Mroczkowski, T and Tucker, Carole E and Zmuidzinas, Jonas\")"
   ]
  },
  {
   "cell_type": "code",
   "execution_count": 7,
   "metadata": {
    "collapsed": false
   },
   "outputs": [
    {
     "data": {
      "text/plain": [
       "12"
      ]
     },
     "execution_count": 7,
     "metadata": {},
     "output_type": "execute_result"
    }
   ],
   "source": [
    "# WSPEC: A Waveguide Filter-Bank Focal Plane Array Spectrometer for Millimeter Wave Astronomy and Cosmology\n",
    "authornumber(\"Bryan, Sean and Aguirre, James and Che, George and Doyle, Simon and Flanigan, Daniel and Groppi, Christopher and Johnson, Bradley R and Jones, Glenn and Mauskopf, Philip and McCarrick, Heather and Monfardini, Alessandro and Mroczkowski, Tony\")"
   ]
  },
  {
   "cell_type": "code",
   "execution_count": 8,
   "metadata": {
    "collapsed": false
   },
   "outputs": [
    {
     "data": {
      "text/plain": [
       "21"
      ]
     },
     "execution_count": 8,
     "metadata": {},
     "output_type": "execute_result"
    }
   ],
   "source": [
    "# Photon noise from chaotic and coherent millimeter-wave sources measured with horn-coupled, aluminum lumped-element kinetic inductance detectors\n",
    "authornumber(\"Flanigan, Daniel and McCarrick, H and Jones, G and Johnson, Bradley R and Abitbol, M H and Ade, Peter A R and Araujo, Derek C and Bradford, K and Cantor, R and Che, G and Day, P and Doyle, Simon and Kjellstrand, C B and LeDuc, Henry G and Limon, Michele and Luu, V and Mauskopf, Philip and Miller, A and Mroczkowski, T and Tucker, Carole E and Zmuidzinas, Jonas\")"
   ]
  },
  {
   "cell_type": "code",
   "execution_count": 9,
   "metadata": {
    "collapsed": false
   },
   "outputs": [
    {
     "data": {
      "text/plain": [
       "10"
      ]
     },
     "execution_count": 9,
     "metadata": {},
     "output_type": "execute_result"
    }
   ],
   "source": [
    "# WSPEC: A Waveguide Filter Bank Spectrometer\n",
    "authornumber(\"Che, George and Bryan, Sean and Underhill, Matthew and Mauskopf, Philip and Groppi, Christopher and Jones, Glenn and Johnson, Bradley R and McCarrick, Heather and Flanigan, Daniel and Day, Peter\")"
   ]
  },
  {
   "cell_type": "code",
   "execution_count": 10,
   "metadata": {
    "collapsed": false
   },
   "outputs": [
    {
     "data": {
      "text/plain": [
       "13"
      ]
     },
     "execution_count": 10,
     "metadata": {},
     "output_type": "execute_result"
    }
   ],
   "source": [
    "# Design of Dual-Polarization Horn-Coupled Kinetic Inductance Detectors for Cosmic Microwave Background Polarimetry\n",
    "authornumber(\"Bryan, Sean and Bradford, Kristi and Che, George and Day, Peter and Flanigan, Daniel and Johnson, Bradley R and Jones, Glenn and Kjellstrand, Bjorn and Limon, Michele and Mauskopf, Philip and McCarrick, Heather and Miller, Amber D and Smiley, Brian\")"
   ]
  },
  {
   "cell_type": "code",
   "execution_count": 11,
   "metadata": {
    "collapsed": false
   },
   "outputs": [
    {
     "data": {
      "text/plain": [
       "19"
      ]
     },
     "execution_count": 11,
     "metadata": {},
     "output_type": "execute_result"
    }
   ],
   "source": [
    "# Horn-coupled, commercially-fabricated aluminum lumped-element kinetic inductance detectors for millimeter wavelengths\n",
    "authornumber(\"McCarrick, H and Flanigan, Daniel and Jones, G and Johnson, Bradley R and Ade, Peter A R and Araujo, Derek C and Bradford, K and Cantor, R and Che, G and Day, P and Doyle, Simon and LeDuc, Henry G and Limon, Michele and Luu, V and Mauskopf, Philip and Miller, A and Mroczkowski, T and Tucker, Carole E and Zmuidzinas, Jonas\")"
   ]
  },
  {
   "cell_type": "code",
   "execution_count": 12,
   "metadata": {
    "collapsed": false
   },
   "outputs": [
    {
     "data": {
      "text/plain": [
       "74"
      ]
     },
     "execution_count": 12,
     "metadata": {},
     "output_type": "execute_result"
    }
   ],
   "source": [
    "# A Measurement of the Cosmic Microwave Background B-mode Polarization Power Spectrum at Sub-degree Scales with POLARBEAR\n",
    "authornumber(\"Ade, Peter A R and Akiba, Y and Anthony, A E and Arnold, Kam Stahly and Atlas, M and Barron, D and Boettger, David and Borrill, Julian and Chapman, S and Chinone, Yuji and Dobbs, Matt A and Elleflot, T and Errard, Josquin and Fabbian, G and Feng, C and Flanigan, Daniel and Gilbert, A and Grainger, William and Halverson, Nils W and Hasegawa, M and Hattori, K and Hazumi, Masashi and Holzapfel, William L and Hori, Y and Howard, J and Hyland, Peter and Inoue, Y and Jaehnig, G C and Jaffe, Andrew H and Keating, Brian and Kermish, Zigmund and Keskitalo, R and Kisner, Theodore and Le Jeune, Maude and Lee, Adrian T and Leitch, E M and Linder, E and Lungu, Marius and Matsuda, Frederick and Matsumura, Tomotake and Meng, Xiaofan and Miller, N J and Morii, Hideki and Moyerman, Stephanie and Myers, M J and Navaroli, M and Nishino, H and Orlando, A and Paar, Hans and Peloton, J and Poletti, D and Quealy, Erin and Rebeiz, Gabriel and Reichardt, Christian L and Richards, Paul L and Ross, C and Schanning, Ian and Schenck, D E and Sherwin, B D and Shimizu, Akie and Shimmin, Chase and Shimon, Meir and Siritanasak, P and Smecher, G and Spieler, Helmuth G and Stebor, Nathan and Steinbach, Bryan and Stompor, Radek and Suzuki, A and Takakura, S and Tomaru, Takayuki and Wilson, B and Yadav, Amit P S and Zahn, Oliver\")"
   ]
  },
  {
   "cell_type": "code",
   "execution_count": 13,
   "metadata": {
    "collapsed": false
   },
   "outputs": [
    {
     "data": {
      "text/plain": [
       "23"
      ]
     },
     "execution_count": 13,
     "metadata": {},
     "output_type": "execute_result"
    }
   ],
   "source": [
    "# The Detector System for the Stratospheric Kinetic Inductance Polarimeter (Skip)\n",
    "authornumber(\"Johnson, Bradley R and Ade, Peter A R and Araujo, Derek C and Bradford, K J and Chapman, D and Day, Peter K and Didier, J and Doyle, Simon and Eriksen, H K and Flanigan, Daniel and Groppi, C and Hillbrand, S and Jones, G and Limon, Michele and Mauskopf, Philip and McCarrick, H and Miller, A and Mroczkowski, T and Reichborn-Kjennerud, B and Smiley, B and Sobrin, J and Wehus, I K and Zmuidzinas, Jonas\")"
   ]
  },
  {
   "cell_type": "code",
   "execution_count": 14,
   "metadata": {
    "collapsed": false
   },
   "outputs": [
    {
     "data": {
      "text/plain": [
       "25"
      ]
     },
     "execution_count": 14,
     "metadata": {},
     "output_type": "execute_result"
    }
   ],
   "source": [
    "# A LEKID-based CMB instrument design for large-scale observations in Greenland\n",
    "authornumber(\"Araujo, Derek C and Ade, Peter A R and Bond, J R and Bradford, K J and Chapman, D and Che, G and Day, Peter K and Didier, J and Doyle, Simon and Eriksen, H K and Flanigan, Daniel and Groppi, C E and Hillbrand, Seth N and Johnson, Bradley R and Jones, G and Limon, Michele and Miller, Amber D and Mauskopf, Philip and McCarrick, H and Mroczkowski, T and Reichborn-Kjennerud, B and Smiley, B and Sobrin, Joshua and Wehus, I K and Zmuidzinas, Jonas\")"
   ]
  },
  {
   "cell_type": "code",
   "execution_count": 15,
   "metadata": {
    "collapsed": false
   },
   "outputs": [
    {
     "data": {
      "text/plain": [
       "72"
      ]
     },
     "execution_count": 15,
     "metadata": {},
     "output_type": "execute_result"
    }
   ],
   "source": [
    "# Measurement of the Cosmic Microwave Background Polarization Lensing Power Spectrum with the POLARBEAR Experiment\n",
    "authornumber(\"Ade, Peter A R and Akiba, Y and Anthony, A E and Arnold, Kam Stahly and Atlas, M and Barron, D and Boettger, David and Borrill, Julian and Chapman, S and Chinone, Yuji and Dobbs, Matt A and Elleflot, T and Errard, Josquin and Fabbian, G and Feng, C and Flanigan, Daniel and Gilbert, A and Grainger, William and Halverson, Nils W and Hasegawa, M and Hattori, K and Hazumi, Masashi and Holzapfel, William L and Hori, Y and Howard, J and Hyland, Peter and Inoue, Y and Jaehnig, G C and Jaffe, Andrew H and Keating, Brian and Kermish, Zigmund and Keskitalo, R and Kisner, Theodore and Le Jeune, Maude and Lee, Adrian T and Linder, E and Leitch, E M and Lungu, Marius and Matsuda, Frederick and Matsumura, Tomotake and Meng, Xiaofan and Miller, N J and Morii, Hideki and Moyerman, Stephanie and Myers, M J and Navaroli, M and Nishino, H and Paar, Hans and Peloton, J and Quealy, Erin and Rebeiz, Gabriel and Reichardt, Christian L and Richards, Paul L and Ross, C and Schanning, Ian and Schenck, D E and Sherwin, B and Shimizu, Akie and Shimmin, Chase and Shimon, Meir and Siritanasak, P and Smecher, G and Spieler, Helmuth G and Stebor, Nathan and Steinbach, Bryan and Stompor, Radek and Suzuki, A and Takakura, S and Tomaru, Takayuki and Wilson, B and Yadav, Amit P S and Zahn, Oliver\")"
   ]
  },
  {
   "cell_type": "code",
   "execution_count": 16,
   "metadata": {
    "collapsed": false
   },
   "outputs": [
    {
     "data": {
      "text/plain": [
       "76"
      ]
     },
     "execution_count": 16,
     "metadata": {},
     "output_type": "execute_result"
    }
   ],
   "source": [
    "# Evidence for Gravitational Lensing of the Cosmic Microwave Background Polarization from Cross-Correlation with the Cosmic Infrared Background\n",
    "authornumber(\"Ade, Peter A R and Akiba, Y and Anthony, A E and Arnold, Kam Stahly and Atlas, M and Barron, D and Boettger, David and Borrill, Julian and Borys, C and Chapman, S and Chinone, Yuji and Dobbs, Matt A and Elleflot, T and Errard, Josquin and Fabbian, G and Feng, C and Flanigan, Daniel and Gilbert, A and Grainger, William and Halverson, Nils W and Hasegawa, M and Hattori, K and Hazumi, Masashi and Holzapfel, William L and Hori, Y and Howard, J and Hyland, Peter and Inoue, Y and Jaehnig, G C and Jaffe, Andrew H and Keating, Brian and Kermish, Zigmund and Keskitalo, R and Kisner, Theodore and Le Jeune, Maude and Lee, Adrian T and Leitch, E M and Linder, E and Lungu, Marius and Matsuda, Frederick and Matsumura, Tomotake and Meng, Xiaofan and Miller, N J and Morii, Hideki and Moyerman, Stephanie and Myers, M J and Navaroli, M and Nishino, H and Paar, Hans and Peloton, J and Poletti, D and Quealy, Erin and Rebeiz, Gabriel and Reichardt, Christian L and Richards, Paul L and Ross, C and Rotermund, K and Schanning, Ian and Schenck, D E and Sherwin, B D and Shimizu, Akie and Shimmin, Chase and Shimon, Meir and Siritanasak, P and Smecher, G and Spieler, Helmuth G and Stebor, Nathan and Steinbach, Bryan and Stompor, Radek and Suzuki, A and Takakura, S and Tikhomirov, A and Tomaru, Takayuki and Wilson, B and Yadav, Amit P S and Zahn, Oliver\")"
   ]
  },
  {
   "cell_type": "code",
   "execution_count": 17,
   "metadata": {
    "collapsed": false
   },
   "outputs": [
    {
     "data": {
      "text/plain": [
       "12"
      ]
     },
     "execution_count": 17,
     "metadata": {},
     "output_type": "execute_result"
    }
   ],
   "source": [
    "# Aluminum LEKIDs for millimeter-wave radio astronomy\n",
    "authornumber(\"Jones, G and McCarrick, H and Flanigan, Daniel and Johnson, Bradley R and Miller, A and Day, P and Mauskopf, Philip and Mani, H and Che, G and Mroczkowski, T and Ade, Peter A R and Doyle, Simon\")"
   ]
  },
  {
   "cell_type": "code",
   "execution_count": 18,
   "metadata": {
    "collapsed": false
   },
   "outputs": [
    {
     "data": {
      "text/plain": [
       "56"
      ]
     },
     "execution_count": 18,
     "metadata": {},
     "output_type": "execute_result"
    }
   ],
   "source": [
    "# The POLARBEAR experiment\n",
    "authornumber(\"Kermish, Zigmund D and Ade, Peter A R and Anthony, Aubra and Arnold, Kam Stahly and Barron, Darcy and Boettger, David and Borrill, Julian and Chapman, Scott and Chinone, Yuji and Dobbs, Matt A and Errard, Josquin and Fabbian, Giulio and Flanigan, Daniel and Fuller, George and Ghribi, Adnan and Grainger, William and Halverson, Nils and Hasegawa, Masaya and Hattori, Kaori and Hazumi, Masashi and Holzapfel, William L and Howard, Jacob and Hyland, Peter and Jaffe, Andrew H and Keating, Brian and Kisner, Theodore and Lee, Adrian T and Le Jeune, Maude and Linder, Eric and Lungu, Marius and Matsuda, Frederick and Matsumura, Tomotake and Meng, Xiaofan and Miller, Nathan J and Morii, Hideki and Moyerman, Stephanie and Myers, Mike J and Nishino, Haruki and Paar, Hans and Quealy, Erin and Reichardt, Christian L and Richards, Paul L and Ross, Colin and Shimizu, Akie and Shimon, Meir and Shimmin, Chase and Sholl, Mike and Siritanasak, Praween and Spieler, Helmuth G and Stebor, Nathan and Steinbach, Bryan and Stompor, Radek and Suzuki, Aritoki and Tomaru, Takayuki and Tucker, Carole E and Zahn, Oliver\")"
   ]
  },
  {
   "cell_type": "code",
   "execution_count": 19,
   "metadata": {
    "collapsed": false
   },
   "outputs": [
    {
     "data": {
      "text/plain": [
       "56"
      ]
     },
     "execution_count": 19,
     "metadata": {},
     "output_type": "execute_result"
    }
   ],
   "source": [
    "# The bolometric focal plane array of the POLARBEAR CMB experiment\n",
    "authornumber(\"Arnold, Kam Stahly and Ade, Peter A R and Anthony, A E and Barron, D and Boettger, David and Borrill, Julian and Chapman, S and Chinone, Yuji and Dobbs, Matt A and Errard, Josquin and Fabbian, G and Flanigan, Daniel and Fuller, G and Ghribi, Adnan and Grainger, William and Halverson, Nils W and Hasegawa, M and Hattori, K and Hazumi, Masashi and Holzapfel, William L and Howard, J and Hyland, Peter and Jaffe, Andrew H and Keating, Brian and Kermish, Zigmund and Kisner, Theodore and Le Jeune, Maude and Lee, Adrian T and Linder, E and Lungu, Marius and Matsuda, Frederick and Matsumura, Tomotake and Miller, N J and Meng, Xiaofan and Morii, Hideki and Moyerman, Stephanie and Myers, M J and Nishino, H and Paar, Hans and Quealy, Erin and Reichardt, Christian L and Richards, Paul L and Ross, C and Shimizu, Akie and Shimmin, Chase and Shimon, Meir and Sholl, Mike and Siritanasak, P and Spieler, Helmuth G and Stebor, Nathan and Steinbach, Bryan and Stompor, Radek and Suzuki, A and Tomaru, Takayuki and Tucker, Carole E and Zahn, Oliver\")"
   ]
  },
  {
   "cell_type": "code",
   "execution_count": 20,
   "metadata": {
    "collapsed": false
   },
   "outputs": [
    {
     "data": {
      "text/plain": [
       "47"
      ]
     },
     "execution_count": 20,
     "metadata": {},
     "output_type": "execute_result"
    }
   ],
   "source": [
    "# Frequency multiplexed superconducting quantum interference device readout of large bolometer arrays for cosmic microwave background measurements\n",
    "authornumber(\"Dobbs, Matt A and Lueker, Martin and Aird, K A and Bender, Amy N and Benson, Bradford A and Bleem, L E and Carlstrom, John E and Chang, C L and Cho, Hsiao-Mei and Clarke, John and Crawford, T M and Crites, A T and Flanigan, Daniel and de Haan, T and George, E M and Halverson, Nils W and Holzapfel, William L and Hrubes, J D and Johnson, Bradley R and Joseph, John and Keisler, R and Kennedy, James and Kermish, Zigmund and Lanting, T M and Lee, Adrian T and Leitch, E M and Luong-Van, D and McMahon, J J and Mehl, Jared and Meyer, Steve S and Montroy, T E and Padin, S and Plagge, Tom and Pryke, Clem and Richards, Paul L and Ruhl, John E and Schaffer, K K and Schwan, Daniel and Shirokoff, Erik and Spieler, Helmuth G and Staniszewski, Z and Stark, A A and Vanderlinde, Keith and Vieira, Joaquin D and Vu, C and Westbrook, Benjamin and Williamson, Ross\")"
   ]
  },
  {
   "cell_type": "code",
   "execution_count": 21,
   "metadata": {
    "collapsed": false
   },
   "outputs": [
    {
     "data": {
      "text/plain": [
       "55"
      ]
     },
     "execution_count": 21,
     "metadata": {},
     "output_type": "execute_result"
    }
   ],
   "source": [
    "# Ultra High Energy Cosmology with POLARBEAR\n",
    "authornumber(\"Keating, Brian and Moyerman, Stephanie and Boettger, David and Edwards, Jennifer M and Fuller, G and Matsuda, Frederick and Miller, N and Paar, Hans and Rebeiz, Gabriel and Schanning, Ian and Shimon, Meir and Stebor, Nathan and Arnold, Kam Stahly and Flanigan, Daniel and Holzapfel, William L and Howard, J and Kermish, Zigmund and Lee, Adrian T and Lungu, Marius and Myers, Michael and Nishino, H and O'Brient, Roger and Quealy, Erin and Reichardt, Christian L and Richards, Paul L and Shimmin, Chase and Steinbach, Bryan and Suzuki, A and Zahn, Oliver and Borrill, Julian and Cantalupo, Christopher and Kisner, Theodore and Linder, E and Sholl, Mike and Spieler, Helmuth G and Anthony, Aubra and Halverson, Nils W and Errard, Josquin and Fabbian, G and Le Jeune, Maude and Stompor, Radek and Jaffe, Andrew H and O'Dea, Daniel and Chinone, Yuji and Hasegawa, M and Hazumi, Masashi and Matsumura, Tomotake and Morii, Hideki and Shimizu, Akie and Tomaru, Takayuki and Hyland, Peter and Dobbs, Matt A and Ade, Peter A R and Grainger, William and Tucker, Carole E\")"
   ]
  },
  {
   "cell_type": "code",
   "execution_count": 22,
   "metadata": {
    "collapsed": false
   },
   "outputs": [
    {
     "data": {
      "text/plain": [
       "45"
      ]
     },
     "execution_count": 22,
     "metadata": {},
     "output_type": "execute_result"
    }
   ],
   "source": [
    "# The new generation CMB B-mode polarization experiment: POLARBEAR\n",
    "authornumber(\"Errard, Josquin and Ade, Peter A R and Anthony, Aubra and Arnold, Kam Stahly and Aubin, Fran{\\c c}ois and Boettger, David and Borrill, Julian and Cantalupo, Christopher and Dobbs, Matt A and Flanigan, Daniel and Ghribi, Adnan and Halverson, Nils W and Hazumi, Masashi and Holzapfel, William L and Howard, J and Hyland, Peter and Jaffe, Andrew H and Keating, Brian and Kisner, Theodore and Kermish, Zigmund and Lee, Adrian T and Linder, E and Lungu, Marius and Matsumura, Tomotake and Miller, N and Meng, Xiaofan and Myers, Michael and Nishino, H and O'Brient, Roger and O'Dea, Daniel and Reichardt, Christian L and Schanning, Ian and Shimizu, Akie and Shimmin, Chase and Shimon, Meir and Spieler, Helmuth G and Steinbach, Bryan and Stompor, Radek and Suzuki, A and Tomaru, Takayuki and Tran, Huan T and Tucker, Carole E and Quealy, Erin and Richards, Paul L and Zahn, Oliver\")"
   ]
  }
 ],
 "metadata": {
  "kernelspec": {
   "display_name": "Python 2",
   "language": "python",
   "name": "python2"
  },
  "language_info": {
   "codemirror_mode": {
    "name": "ipython",
    "version": 2
   },
   "file_extension": ".py",
   "mimetype": "text/x-python",
   "name": "python",
   "nbconvert_exporter": "python",
   "pygments_lexer": "ipython2",
   "version": "2.7.12"
  }
 },
 "nbformat": 4,
 "nbformat_minor": 1
}
