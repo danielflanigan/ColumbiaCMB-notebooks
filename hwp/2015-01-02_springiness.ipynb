{
 "cells": [
  {
   "cell_type": "markdown",
   "metadata": {},
   "source": [
    "Michele: when field-cooled at 77 K and separated from the stator by a few popsicle sticks, the rotor falls at most 500 microns when released due to its own weight. The mass of the rotor is 1180 g.\n",
    "\n",
    "Design magnet-YBCO distance is 3 mm; safety gap is about 1 mm.\n",
    "\n",
    "To do:\n",
    "- use the weight and fall distance to extract the spring constant\n",
    "- figure out the dependence of the potential on the magnetization of the permanent magnet\n",
    "- use the measured variation in magnetic field to determine the fractional change in magnetization\n",
    "- figure out how much the equilibrium position would change due to the change in magnetization"
   ]
  },
  {
   "cell_type": "code",
   "execution_count": null,
   "metadata": {
    "collapsed": false
   },
   "outputs": [],
   "source": []
  }
 ],
 "metadata": {
  "kernelspec": {
   "display_name": "Python 2",
   "language": "python",
   "name": "python2"
  },
  "language_info": {
   "codemirror_mode": {
    "name": "ipython",
    "version": 2
   },
   "file_extension": ".py",
   "mimetype": "text/x-python",
   "name": "python",
   "nbconvert_exporter": "python",
   "pygments_lexer": "ipython2",
   "version": "2.7.6"
  }
 },
 "nbformat": 4,
 "nbformat_minor": 0
}
