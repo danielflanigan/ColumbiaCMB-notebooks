{
 "cells": [
  {
   "cell_type": "code",
   "execution_count": 1,
   "metadata": {},
   "outputs": [],
   "source": [
    "# Uncomment the lines below if your IPython and notebook config files do not include them.\n",
    "#%pylab inline\n",
    "#from __future__ import division\n",
    "from IPython import display\n",
    "import lmfit"
   ]
  },
  {
   "cell_type": "markdown",
   "metadata": {},
   "source": [
    "We are currently planning to show only the data for the 9-element chip."
   ]
  },
  {
   "cell_type": "markdown",
   "metadata": {},
   "source": [
    "Add analysis of the high-frequency resonance of the 9-element chip."
   ]
  },
  {
   "cell_type": "markdown",
   "metadata": {},
   "source": [
    "Initial data for the 9-element chip, taken with the oscilloscope:\n",
    "http://nbviewer.ipython.org/github/gitj/notebooks/blob/master/2014-06-19-sc3x3-tauqp-red-led.ipynb"
   ]
  },
  {
   "cell_type": "markdown",
   "metadata": {},
   "source": [
    "Values derived from fits to the data for the same 9-element chip:"
   ]
  },
  {
   "cell_type": "code",
   "execution_count": 2,
   "metadata": {},
   "outputs": [],
   "source": [
    "tau_9_good = np.load('nine-element_pulse_good.npy')\n",
    "tau_9_good[6] = False # This point has neighbors at 10 mK on either side and doesn't add much.\n",
    "T_9 = np.load('nine-element_pulse_T.npy')[tau_9_good]\n",
    "tau_9 = np.load('nine-element_pulse_tau.npy')[tau_9_good]\n",
    "tau_9_error = np.load('nine-element_pulse_tau_error.npy')[tau_9_good]"
   ]
  },
  {
   "cell_type": "markdown",
   "metadata": {},
   "source": [
    "Analysis of the high-frequency resonance of the 20-element chip: http://nbviewer.ipython.org/github/danielflanigan/notebooks/blob/master/mkid/2014-07-15_tau_qp_resonance.ipynb"
   ]
  },
  {
   "cell_type": "markdown",
   "metadata": {},
   "source": [
    "Light data for the 20-element chip: http://nbviewer.ipython.org/github/danielflanigan/notebooks/blob/master/mkid/2014-07-10_tau_qp_versus_bath_temperature.ipynb"
   ]
  },
  {
   "cell_type": "code",
   "execution_count": 3,
   "metadata": {},
   "outputs": [],
   "source": [
    "light_pulse_T_stage = np.load('light_pulse_T_stage.npy')\n",
    "light_pulse_fast_tau = np.load('light_pulse_fast_tau.npy')\n",
    "light_pulse_slow_tau = np.load('light_pulse_slow_tau.npy')\n",
    "# Select either the fast or slow time constant.\n",
    "light_pulse_use_slow = [0, 1, 2, 3, 4, 6, 7]\n",
    "light_pulse_use_fast = [8, 9]"
   ]
  },
  {
   "cell_type": "markdown",
   "metadata": {},
   "source": [
    "All temperatures are in kelvin, all time constants are in $\\mu \\mathrm{s}$, and all densities are in $\\mu \\mathrm{m}^{-3}$."
   ]
  },
  {
   "cell_type": "markdown",
   "metadata": {},
   "source": [
    "These are all in SI units:"
   ]
  },
  {
   "cell_type": "code",
   "execution_count": 4,
   "metadata": {},
   "outputs": [],
   "source": [
    "from scipy.constants import e, h, k"
   ]
  },
  {
   "cell_type": "markdown",
   "metadata": {},
   "source": [
    "From Omid's thesis, in $\\mu \\mathrm{m}^{-3} \\, \\mathrm{eV}^{-1}$:"
   ]
  },
  {
   "cell_type": "code",
   "execution_count": 5,
   "metadata": {},
   "outputs": [],
   "source": [
    "N_0_Al = 1.72e10"
   ]
  },
  {
   "cell_type": "markdown",
   "metadata": {},
   "source": [
    "The Boltzmann constant, in $\\mathrm{eV} \\, \\mathrm{K}^{-1}$:"
   ]
  },
  {
   "cell_type": "code",
   "execution_count": 6,
   "metadata": {},
   "outputs": [],
   "source": [
    "k_eV = k / e"
   ]
  },
  {
   "cell_type": "markdown",
   "metadata": {},
   "source": [
    "Our measured $T_c$:"
   ]
  },
  {
   "cell_type": "code",
   "execution_count": 7,
   "metadata": {},
   "outputs": [],
   "source": [
    "T_c = 1.46"
   ]
  },
  {
   "cell_type": "markdown",
   "metadata": {},
   "source": [
    "The superconducting gap $\\Delta$ at zero temperature from BCS theory, in eV:"
   ]
  },
  {
   "cell_type": "code",
   "execution_count": 8,
   "metadata": {},
   "outputs": [],
   "source": [
    "Delta = 1.76 * k_eV * T_c"
   ]
  },
  {
   "cell_type": "markdown",
   "metadata": {},
   "source": [
    "The thermal quasiparticle density, in $\\mu \\mathrm{m}^{-3}$:"
   ]
  },
  {
   "cell_type": "code",
   "execution_count": 9,
   "metadata": {},
   "outputs": [],
   "source": [
    "def thermal_quasiparticle_density(T):\n",
    "    return 2 * N_0_Al * (2 * np.pi * k_eV * T * Delta)**(1/2) * np.exp(-Delta / (k_eV * T))"
   ]
  },
  {
   "cell_type": "markdown",
   "metadata": {},
   "source": [
    "The model is\n",
    "\\begin{equation*}\n",
    "\\tau_{qp}(T)\n",
    "  =\n",
    "  \\frac{\\tau_{max}}{1 + n_{qp}(T) / n_*}.\n",
    "\\end{equation*}"
   ]
  },
  {
   "cell_type": "code",
   "execution_count": 10,
   "metadata": {},
   "outputs": [],
   "source": [
    "def model(params, T):\n",
    "    tau_max = params['tau_max'].value\n",
    "    n_star = params['n_star'].value\n",
    "    n_qp = thermal_quasiparticle_density(T)\n",
    "    tau_qp = tau_max / (1 + n_qp / n_star)\n",
    "    return tau_qp\n",
    "\n",
    "def residual(params, T, data, errors=1):\n",
    "    return (model(params, T) - data) / errors\n",
    "\n",
    "def initial(tau_max=500, n_star=400):\n",
    "    p = lmfit.Parameters()\n",
    "    p.add('tau_max', value=tau_max, min=0)\n",
    "    p.add('n_star', value=n_star, min=0)\n",
    "    return p"
   ]
  },
  {
   "cell_type": "code",
   "execution_count": 11,
   "metadata": {},
   "outputs": [
    {
     "name": "stdout",
     "output_type": "stream",
     "text": [
      "[[Variables]]\n",
      "     n_star:      362.536567 +/- 37.695562 (10.40%) initial =  400.000000\n",
      "     tau_max:     485.832388 +/- 16.196911 (3.33%) initial =  500.000000\n",
      "[[Correlations]] (unreported correlations are <  0.100)\n",
      "    C(n_star, tau_max)           = -0.566 \n"
     ]
    }
   ],
   "source": [
    "fit = lmfit.minimize(residual, initial(), args=[T_9, tau_9, tau_9_error])\n",
    "lmfit.report_fit(fit.params)"
   ]
  },
  {
   "cell_type": "code",
   "execution_count": 12,
   "metadata": {},
   "outputs": [],
   "source": [
    "TT = np.linspace(0.001, 0.4, 1e3)"
   ]
  },
  {
   "cell_type": "code",
   "execution_count": 13,
   "metadata": {},
   "outputs": [],
   "source": [
    "lines = {'markersize': 3}\n",
    "font = {'family': 'serif',\n",
    "#        'serif': 'Times New Roman',\n",
    "        'serif': 'Times',\n",
    "        'size': 11}\n",
    "text = {'usetex': 'True'}\n",
    "axes = {'linewidth': 0.5,\n",
    "        'titlesize': 'medium',\n",
    "        'labelsize': 'small'}\n",
    "ticks = {'major.size': 3,\n",
    "         'major.width': 0.5,\n",
    "         'labelsize': 'small'}\n",
    "grid = {'color': 'gray'}\n",
    "legend = {'numpoints': 1,\n",
    "          'fontsize': 'small',\n",
    "          'frameon': 'False',\n",
    "          'handletextpad': 0.2}\n",
    "figure = {'figsize': (3, 3),\n",
    "          'dpi': 300,\n",
    "          'facecolor': 'white',\n",
    "          'subplot.left': 0.2,\n",
    "          'subplot.right': 0.92,\n",
    "          'subplot.bottom': 0.15,\n",
    "          'subplot.top': 0.92}\n",
    "savefig = {'dpi': 300}\n",
    "plt.rcdefaults()\n",
    "plt.rc('lines', **lines)\n",
    "plt.rc('font', **font)\n",
    "plt.rc('text', **text)\n",
    "plt.rc('axes', **axes)\n",
    "plt.rc(('xtick', 'ytick'), **ticks)\n",
    "plt.rc('grid', **grid)\n",
    "plt.rc('legend', **legend)\n",
    "plt.rc('figure', **figure)\n",
    "plt.rc('savefig', **savefig)"
   ]
  },
  {
   "cell_type": "code",
   "execution_count": 14,
   "metadata": {},
   "outputs": [
    {
     "data": {
      "image/png": "[encoded data removed]",
      "text/plain": [
       "<matplotlib.figure.Figure at 0x110c90b10>"
      ]
     },
     "metadata": {},
     "output_type": "display_data"
    }
   ],
   "source": [
    "fig, ax = plt.subplots()\n",
    "ax.plot(TT, model(fit.params, TT), linestyle='-', color='black', linewidth=1)\n",
    "#ax.plot(light_pulse_T_stage[light_pulse_use_fast], light_pulse_fast_tau[light_pulse_use_fast], linestyle='None', color='red', markeredgecolor='None', marker='s',\n",
    "#        label='20-element array')\n",
    "#ax.plot(light_pulse_T_stage[light_pulse_use_slow], light_pulse_slow_tau[light_pulse_use_slow], linestyle='None', color='red', markeredgecolor='None', marker='s')\n",
    "ax.plot(T_9, tau_9, linestyle='None', color='blue', markeredgecolor='None', marker='o')\n",
    "xticks = np.linspace(0, 0.4, 5)\n",
    "ax.set_xlim(xticks[0], xticks[-1])\n",
    "ax.set_xticks(xticks)\n",
    "ax.set_ylim(0, 600)\n",
    "ax.set_xlabel('Bath temperature [K]')\n",
    "ax.set_ylabel(r'$\\tau \\; [\\mu \\mathrm{s}]$')\n",
    "#ax.legend(loc='lower left')\n",
    "fig.savefig('tau_qp_vs_bath_temperature.pdf')\n",
    "display.clear_output()\n",
    "display.display(fig)"
   ]
  }
 ],
 "metadata": {
  "kernelspec": {
   "display_name": "Python 2",
   "language": "python",
   "name": "python2"
  },
  "language_info": {
   "codemirror_mode": {
    "name": "ipython",
    "version": 2
   },
   "file_extension": ".py",
   "mimetype": "text/x-python",
   "name": "python",
   "nbconvert_exporter": "python",
   "pygments_lexer": "ipython2",
   "version": "2.7.13"
  }
 },
 "nbformat": 4,
 "nbformat_minor": 1
}
