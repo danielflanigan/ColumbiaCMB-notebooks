{
 "cells": [
  {
   "cell_type": "markdown",
   "metadata": {},
   "source": [
    "This notebook analyzes the data for version 6 of the paper."
   ]
  },
  {
   "cell_type": "code",
   "execution_count": 1,
   "metadata": {
    "collapsed": true
   },
   "outputs": [],
   "source": [
    "%matplotlib inline"
   ]
  },
  {
   "cell_type": "code",
   "execution_count": 2,
   "metadata": {},
   "outputs": [
    {
     "name": "stdout",
     "output_type": "stream",
     "text": [
      "commit e4e34522012e3f5d2b657f0213c2490c3d68915f\n",
      "Author: Daniel Flanigan <daniel.isaiah.flanigan@gmail.com>\n",
      "Date:   Mon Aug 29 14:15:49 2016 -0400\n",
      "\n",
      "    small enhancements: auto-cast to MeasurementList, error messages, and docstrings\n",
      "\n"
     ]
    }
   ],
   "source": [
    "from kid_readout.measurement.io import nc\n",
    "from kid_readout.analysis.timeseries import binning\n",
    "from kid_readout.measurement import acquire\n",
    "print(acquire.git_log())"
   ]
  },
  {
   "cell_type": "code",
   "execution_count": 3,
   "metadata": {
    "collapsed": true
   },
   "outputs": [],
   "source": [
    "data_directory = '/data/readout/'\n",
    "\n",
    "shield_files = ['2016-07-13_104209_magnetic_shield.nc',\n",
    "                '2016-07-26_185334_magnetic_shield.nc']\n",
    "\n",
    "ambient_files = ['2016-07-13_144753_ambient.nc',\n",
    "                 '2016-07-13_160639_ambient.nc']\n",
    "\n",
    "array_files = ['2016-07-14_125121_magnet_array.nc',  # 162 mm, up\n",
    "               '2016-07-14_191847_magnet_array.nc',  # 65 mm, up\n",
    "               '2016-07-15_001146_magnet_array.nc',  # 100 mm, up\n",
    "               '2016-07-15_123235_magnet_array.nc',  # 120 mm, up\n",
    "               '2016-07-15_165543_magnet_array.nc',  # 140 mm, up\n",
    "               '2016-07-16_140542_magnet_array.nc',  # 150 mm, up\n",
    "               '2016-07-18_135051_magnet_array.nc',  # 85 mm, up\n",
    "               '2016-07-18_184047_magnet_array.nc',  # 130 mm, up; saved as 85 mm and retroactively fixed\n",
    "               '2016-07-19_143115_magnet_array.nc',  # 145 mm, up\n",
    "               '2016-07-19_200237_magnet_array.nc',  # 155 mm, up\n",
    "               '2016-07-20_141430_magnet_array.nc',  # 155 mm, up\n",
    "               '2016-07-20_155530_magnet_array.nc',  # cool 155 mm, up; data 85 mm, up\n",
    "               '2016-07-20_191253_magnet_array.nc',  # 85 mm, up\n",
    "               '2016-07-20_204043_magnet_array.nc',  # cool 85 mm, up; data 155 mm, up\n",
    "               '2016-07-22_130630_magnet_array.nc',  # 65 mm, down\n",
    "               '2016-07-22_173850_magnet_array.nc',  # 0 mm, up\n",
    "               '2016-07-26_111004_magnet_array.nc',  # 0 mm, down\n",
    "              ]"
   ]
  },
  {
   "cell_type": "code",
   "execution_count": 4,
   "metadata": {
    "collapsed": true
   },
   "outputs": [],
   "source": [
    "# This frequency was empirically determined\n",
    "f_ptc = 1.412\n",
    "\n",
    "# These values are pasted from the notebook 2016-08-26_magnet_array_field_vs_distance\n",
    "up_offset = 2.5346229684359303\n",
    "up_slope = 466848717.86876786\n",
    "down_offset = -3.4036232503921622\n",
    "down_slope = -465226998.86899847"
   ]
  },
  {
   "cell_type": "code",
   "execution_count": null,
   "metadata": {},
   "outputs": [],
   "source": [
    "def magnet_field_uT(d_mm, orientation):\n",
    "    if orientation == 1:\n",
    "        return up_slope / d_mm**3 + up_offset\n",
    "    elif orientation == -1:\n",
    "        return down_slope / d_mm**3 + down_offset\n",
    "    else:\n",
    "        raise ValueError(\"Invalid orientation: {}\".format(orientation))\n",
    "\n",
    "\n",
    "def harmonic_mask(f, fundamental, num_harmonics, width):\n",
    "    mask = np.ones(f.size, dtype=np.bool)\n",
    "    for harmonic in range(1, num_harmonics + 1):\n",
    "        indices = np.abs(f - fundamental * harmonic) < width\n",
    "        mask[indices] = False\n",
    "    return mask\n",
    "\n",
    "\n",
    "def log_bin_noise_after_masking_harmonics(frequency, data, fundamental=f_ptc, num_harmonics=15, width=0.05):\n",
    "    mask = harmonic_mask(f=frequency, fundamental=fundamental, num_harmonics=num_harmonics, width=width)\n",
    "    frequency_masked = frequency[mask]\n",
    "    data_masked = data[mask]\n",
    "    log_bin_edges = binning.log_bin_edges(frequency_masked, bins_per_decade=30, ensure_none_empty=False)\n",
    "    bin_indices = np.digitize(frequency_masked, log_bin_edges)\n",
    "    frequency_binned = np.array([frequency_masked[bin_indices==n].mean() for n in range(1, bin_indices.size)])\n",
    "    data_binned = np.array([data_masked[bin_indices==n].mean() for n in range(1, bin_indices.size)])\n",
    "    nan_mask = np.logical_not(np.isnan(frequency_binned))\n",
    "    return frequency_binned[nan_mask], data_binned[nan_mask]\n",
    "\n",
    "\n",
    "def sss_to_series(sss, shield, ambient, altered):\n",
    "    series = sss.to_dataframe().iloc[0]\n",
    "\n",
    "    # Calculate the magnetic field\n",
    "    series['shield'] = shield\n",
    "    series['ambient'] = ambient\n",
    "    series['altered'] = altered\n",
    "    if shield:\n",
    "        series['ambient_field_uT'] = 0\n",
    "    else:\n",
    "        series['ambient_field_uT'] = -30\n",
    "    if shield or ambient:\n",
    "        series['field_uT'] = series.ambient_field_uT\n",
    "    else:\n",
    "        if 'magnet_array_orientation' not in series:\n",
    "            series['magnet_array_orientation'] = 1\n",
    "        series['optical_plate_to_stage_top_mm'] = 335\n",
    "        series['stage_top_to_chip_mm'] = 4.82\n",
    "        series['jack_top_to_magnet_center_mm'] = 25.5 + 1.5\n",
    "        if not altered:\n",
    "            series['magnet_distance_mm'] = (series.optical_plate_to_stage_top_mm + series.stage_top_to_chip_mm -\n",
    "                                            (series.magnet_array_height_mm + series.jack_top_to_magnet_center_mm))\n",
    "            series['magnet_field_uT'] = magnet_field_uT(series.magnet_distance_mm, series.magnet_array_orientation)\n",
    "            series['field_uT'] = series.ambient_field_uT + series.magnet_field_uT\n",
    "    \n",
    "    # Calculate the noise spectra after masking pulse tube harmonics\n",
    "    sss.set_S(detrend=plt.mlab.detrend_none, window=plt.mlab.window_hanning, binned=False, NFFT=sss.stream.s21_raw.size)\n",
    "    S_frequency_masked_binned, S_xx_masked_binned = log_bin_noise_after_masking_harmonics(sss.S_frequency, sss.S_xx)\n",
    "    series['S_xx_masked_binned'] = S_xx_masked_binned\n",
    "    S_frequency_masked_binned, S_yy_masked_binned = log_bin_noise_after_masking_harmonics(sss.S_frequency, sss.S_yy)\n",
    "    series['S_yy_masked_binned'] = S_yy_masked_binned\n",
    "    series['S_frequency_masked_binned'] = S_frequency_masked_binned\n",
    "    return series"
   ]
  },
  {
   "cell_type": "markdown",
   "metadata": {},
   "source": [
    "# Select, analyze, and save data"
   ]
  },
  {
   "cell_type": "code",
   "execution_count": null,
   "metadata": {},
   "outputs": [
    {
     "name": "stdout",
     "output_type": "stream",
     "text": [
      "2016-07-26_185334_magnetic_shield.nc\n"
     ]
    },
    {
     "name": "stderr",
     "output_type": "stream",
     "text": [
      "/home/flanigan/miniconda2/envs/analysis/lib/python2.7/site-packages/numpy/core/_methods.py:59: RuntimeWarning: Mean of empty slice.\n",
      "  warnings.warn(\"Mean of empty slice.\", RuntimeWarning)\n"
     ]
    }
   ],
   "source": [
    "attenuation = 41\n",
    "numbers = [0, 1, 2]\n",
    "\n",
    "file_names = [shield_files[1], ambient_files[1]] + array_files\n",
    "node_names = len(file_names) * ['SweepStreamArray13']\n",
    "\n",
    "for file_name, node_name in zip(file_names, node_names):\n",
    "    print(file_name)\n",
    "    ncf = nc.NCFile(data_directory + file_name)\n",
    "    ssa = ncf.read(node_name)\n",
    "    ncf.close()\n",
    "    assert ssa.stream_array.roach_state.dac_attenuation == attenuation\n",
    "    shield = 'magnetic_shield_bucket' in ssa.state\n",
    "    ambient = not shield and 'magnet_array' not in ssa.state\n",
    "    altered = not shield and not ambient and 'cooling_height_mm' in ssa.state.magnet_array\n",
    "    serieses = [sss_to_series(ssa[number], shield=shield, ambient=ambient, altered=altered) for number in numbers]\n",
    "    df = pd.concat(serieses, axis=1, ignore_index=True).T\n",
    "    npy_file_name = '{}_num_{}_atten_{}.npy'.format(file_name, '_'.join([str(number) for number in numbers]), attenuation)\n",
    "    np.save(npy_file_name, df.to_records())"
   ]
  }
 ],
 "metadata": {
  "anaconda-cloud": {},
  "kernelspec": {
   "display_name": "Python 2",
   "language": "python",
   "name": "python2"
  },
  "language_info": {
   "codemirror_mode": {
    "name": "ipython",
    "version": 2
   },
   "file_extension": ".py",
   "mimetype": "text/x-python",
   "name": "python",
   "nbconvert_exporter": "python",
   "pygments_lexer": "ipython2",
   "version": "2.7.13"
  }
 },
 "nbformat": 4,
 "nbformat_minor": 1
}
