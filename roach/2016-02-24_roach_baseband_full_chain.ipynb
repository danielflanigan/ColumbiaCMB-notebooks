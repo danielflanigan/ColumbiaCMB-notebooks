{
 "cells": [
  {
   "cell_type": "markdown",
   "metadata": {},
   "source": [
    "# Data collection chain"
   ]
  },
  {
   "cell_type": "markdown",
   "metadata": {},
   "source": [
    "This goal of this notebook is to trace a data acquisition call all the way from the high-level function down to the packet level, and to determine how the data is arranged.\n",
    "\n",
    "`baseband.py`  \n",
    "`RoachBaseband.get_data(self, nread=2, demod=True)` calls `self.get_data_udp(self, nread=2, demod=True)`, which is inherited from `RoachInterface`.\n",
    "\n",
    "`interface.py`  \n",
    "`RoachInterface.get_data_udp(self, n_read=2, demod=True)` figures out the number of channels `nch` and sets `    chan_offset = 1`. The key call is  \n",
    "\n",
    "    data, seqnos = udp_catcher.get_udp_data(self, npkts=nread * 16 * nch, streamid=1,\n",
    "        chans=self.fpga_fft_readout_indexes + chan_offset,\n",
    "        nfft=self.nfft, addr=(self.host_ip, 12345))\n",
    "\n",
    "which returns arrays `data` and `seqnos`. Note that `chans` uses the fpga indexing with a fixed offset of 1.\n",
    "\n",
    "`udp_catcher.py`  \n",
    "  `get_udp_data()` calls `get_udp_packets()` then decodes them by calling `decode_packets()` and returns them.  \n",
    "  `get_udp_packets()` seems to straightforwardly return a list of received packets in chronological order.  \n",
    "  `decode_packets()` does some low-level parsing of the packets and returns arrays `darray` and `seqnos`. The data array is re-arranged right at the end using `np.roll`, and I don't understand what's going on here."
   ]
  },
  {
   "cell_type": "code",
   "execution_count": null,
   "metadata": {
    "collapsed": true
   },
   "outputs": [],
   "source": []
  }
 ],
 "metadata": {
  "kernelspec": {
   "display_name": "Python 2",
   "language": "python",
   "name": "python2"
  },
  "language_info": {
   "codemirror_mode": {
    "name": "ipython",
    "version": 2
   },
   "file_extension": ".py",
   "mimetype": "text/x-python",
   "name": "python",
   "nbconvert_exporter": "python",
   "pygments_lexer": "ipython2",
   "version": "2.7.6"
  }
 },
 "nbformat": 4,
 "nbformat_minor": 0
}
