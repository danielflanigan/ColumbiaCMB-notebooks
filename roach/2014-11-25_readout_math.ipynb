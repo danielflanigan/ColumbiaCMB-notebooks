{
 "cells": [
  {
   "cell_type": "markdown",
   "metadata": {},
   "source": [
    "This notebook is my attempt to work through the simple math related to the readout production and detection of signals.\n",
    "\n",
    "I'm being sloppy about terminology -- the FPGA implements a polyphase filter bank, which I'm calling an FFT."
   ]
  },
  {
   "cell_type": "code",
   "execution_count": 1,
   "metadata": {
    "collapsed": false
   },
   "outputs": [],
   "source": [
    "from kid_readout.utils import roach_interface, roach_utils"
   ]
  },
  {
   "cell_type": "code",
   "execution_count": 2,
   "metadata": {
    "collapsed": false
   },
   "outputs": [
    {
     "name": "stdout",
     "output_type": "stream",
     "text": [
      "Loaded ROACH state from /home/data/roach_config.npz\n"
     ]
    }
   ],
   "source": [
    "ri = roach_interface.RoachBaseband()"
   ]
  },
  {
   "cell_type": "markdown",
   "metadata": {},
   "source": [
    "I'll use capital $F$ to denote frequencies that relate to the ADC sampling, and lowercase $f$ to denote frequencies that relate to the demodulated signal. The ADC has 12 bits that divide its input range into $2^{12} = 4096$ bins.\n",
    "\n",
    "This is the ADC sample rate:"
   ]
  },
  {
   "cell_type": "code",
   "execution_count": 3,
   "metadata": {
    "collapsed": false
   },
   "outputs": [
    {
     "data": {
      "text/plain": [
       "512000000.0"
      ]
     },
     "execution_count": 3,
     "metadata": {},
     "output_type": "execute_result"
    }
   ],
   "source": [
    "F_ADC = 1e6 * ri.fs\n",
    "F_ADC  # in Hz"
   ]
  },
  {
   "cell_type": "markdown",
   "metadata": {},
   "source": [
    "The Nyquist frequency for the ADC is half its sampling frequency, or 256 MHz. A hardware filter with a cutoff around 210 MHz in front of the ADC reduces aliasing.\n",
    "\n",
    "This is $N$, the number of real samples that go into each FFT:"
   ]
  },
  {
   "cell_type": "code",
   "execution_count": 4,
   "metadata": {
    "collapsed": false
   },
   "outputs": [
    {
     "data": {
      "text/plain": [
       "32768"
      ]
     },
     "execution_count": 4,
     "metadata": {},
     "output_type": "execute_result"
    }
   ],
   "source": [
    "N = 2 * ri.nfft\n",
    "N"
   ]
  },
  {
   "cell_type": "markdown",
   "metadata": {},
   "source": [
    "This number varies between the various Roach firmware builds and corresponding classes, but it's always a power of two:"
   ]
  },
  {
   "cell_type": "code",
   "execution_count": 5,
   "metadata": {
    "collapsed": false
   },
   "outputs": [
    {
     "data": {
      "text/plain": [
       "15.0"
      ]
     },
     "execution_count": 5,
     "metadata": {},
     "output_type": "execute_result"
    }
   ],
   "source": [
    "np.log2(N)"
   ]
  },
  {
   "cell_type": "markdown",
   "metadata": {},
   "source": [
    "The rate at which complex FFT samples are produced is"
   ]
  },
  {
   "cell_type": "code",
   "execution_count": 6,
   "metadata": {
    "collapsed": false
   },
   "outputs": [
    {
     "data": {
      "text/plain": [
       "15625.0"
      ]
     },
     "execution_count": 6,
     "metadata": {},
     "output_type": "execute_result"
    }
   ],
   "source": [
    "FFT_output_rate = F_ADC / N\n",
    "FFT_output_rate  # in Hz"
   ]
  },
  {
   "cell_type": "markdown",
   "metadata": {},
   "source": [
    "This output rate is the inverse of the length of each timestream:"
   ]
  },
  {
   "cell_type": "code",
   "execution_count": 7,
   "metadata": {
    "collapsed": false
   },
   "outputs": [
    {
     "data": {
      "text/plain": [
       "6.4e-05"
      ]
     },
     "execution_count": 7,
     "metadata": {},
     "output_type": "execute_result"
    }
   ],
   "source": [
    "T = 1 / FFT_output_rate\n",
    "T  # in s"
   ]
  },
  {
   "cell_type": "markdown",
   "metadata": {},
   "source": [
    "Each FFT produces $N$ complex points corresponding to frequencies between $-F_\\mathrm{sample} / 2$ and (almost) $F_\\mathrm{sample} / 2$, but because the input signal from the ADC is real the negative frequency components are the conjugates of the positive frequency components. The independent output of each FFT thus consists of $N / 2$ complex samples representing frequencies from 0 to $F_\\mathrm{sample} / 2$.\n",
    "\n",
    "This bandwidth is divided into $N / 2$ bins, so the frequency resolution or bin width is\n",
    "$$\n",
    "\\delta\n",
    "  =\n",
    "  \\frac{F_\\mathrm{sample} / 2}{N / 2}\n",
    "  =\n",
    "  \\frac{F_\\mathrm{sample}}{N}\n",
    "$$"
   ]
  },
  {
   "cell_type": "code",
   "execution_count": 8,
   "metadata": {
    "collapsed": false
   },
   "outputs": [
    {
     "data": {
      "text/plain": [
       "15625.0"
      ]
     },
     "execution_count": 8,
     "metadata": {},
     "output_type": "execute_result"
    }
   ],
   "source": [
    "delta = F_ADC / N\n",
    "delta"
   ]
  },
  {
   "cell_type": "markdown",
   "metadata": {},
   "source": [
    "The operation of filtering conserves information in the sense that the input and output information rates are the same. The real input signal at $F_\\mathrm{sample}$ is transformed into $N / 2$ complex samples output at frequency $F_\\mathrm{sample} / N$, which is equivalent to\n",
    "$$\n",
    "2 \\frac{N}{2} \\frac{F_\\mathrm{sample}}{N}\n",
    "  =\n",
    "  F_\\mathrm{sample}\n",
    "$$\n",
    "real points per unit time.\n",
    "\n",
    "In practice, the signals from most of the bins are discarded since we are interested in the bins that contain active detectors. We can consider the stream of complex samples in each bin as a complex signal produced at the FFT output rate that contains frequency information about that bin.\n",
    "\n",
    "For each bin, the Nyquist frequency of this FFT output signal is half the output rate:"
   ]
  },
  {
   "cell_type": "code",
   "execution_count": 9,
   "metadata": {
    "collapsed": false
   },
   "outputs": [
    {
     "data": {
      "text/plain": [
       "7812.5"
      ]
     },
     "execution_count": 9,
     "metadata": {},
     "output_type": "execute_result"
    }
   ],
   "source": [
    "f_Nyquist = FFT_output_rate / 2\n",
    "f_Nyquist"
   ]
  },
  {
   "cell_type": "markdown",
   "metadata": {},
   "source": [
    "We read out each detector using a single probe signal. This signal is amplitude modulated by the KID, so the detector information appears in sidebands of the carrier frequency. The Roach can use the carrier frequency to demodulate the data. I don't yet understand how this calculation works or if any bandwidth is lost in the demodulation."
   ]
  },
  {
   "cell_type": "markdown",
   "metadata": {},
   "source": [
    "The probe tones are generated by a 16-bit DAC with a 512 MHz output rate, the same as the ADC sample rate. The analog signal generation involves playing a single cycle of the digital waveform over and over. For this waveform to be contained in a reasonable amount of memory, the frequency components in the waveform must be multiples of a fundamental frequency."
   ]
  },
  {
   "cell_type": "code",
   "execution_count": 10,
   "metadata": {
    "collapsed": false
   },
   "outputs": [],
   "source": [
    "F_DAC = F_ADC"
   ]
  },
  {
   "cell_type": "markdown",
   "metadata": {},
   "source": [
    "The number of samples in the waveform is easy to adjust. For this waveform, it is"
   ]
  },
  {
   "cell_type": "code",
   "execution_count": 11,
   "metadata": {
    "collapsed": false
   },
   "outputs": [
    {
     "data": {
      "text/plain": [
       "2097152"
      ]
     },
     "execution_count": 11,
     "metadata": {},
     "output_type": "execute_result"
    }
   ],
   "source": [
    "ri.tone_nsamp"
   ]
  },
  {
   "cell_type": "code",
   "execution_count": 12,
   "metadata": {
    "collapsed": false
   },
   "outputs": [
    {
     "data": {
      "text/plain": [
       "21.0"
      ]
     },
     "execution_count": 12,
     "metadata": {},
     "output_type": "execute_result"
    }
   ],
   "source": [
    "np.log2(ri.tone_nsamp)"
   ]
  },
  {
   "cell_type": "markdown",
   "metadata": {},
   "source": [
    "The frequency resolution is thus"
   ]
  },
  {
   "cell_type": "code",
   "execution_count": 13,
   "metadata": {
    "collapsed": false
   },
   "outputs": [
    {
     "data": {
      "text/plain": [
       "244.140625"
      ]
     },
     "execution_count": 13,
     "metadata": {},
     "output_type": "execute_result"
    }
   ],
   "source": [
    "f_tone = F_DAC / ri.tone_nsamp\n",
    "f_tone"
   ]
  },
  {
   "cell_type": "markdown",
   "metadata": {},
   "source": [
    "This is currently much smaller than an FFT bin, so we have many choices of tones in each bin. The limit for the tone frequency resolution is set by the available memory of the Roach, which is currently 256 MB or $2^{28}$ bytes."
   ]
  },
  {
   "cell_type": "markdown",
   "metadata": {},
   "source": [
    "Each tone frequency corresponds to an integer tone bin, and these range from 0 to one less than the number of waveform samples. The frequencies are given by"
   ]
  },
  {
   "cell_type": "code",
   "execution_count": 14,
   "metadata": {
    "collapsed": false
   },
   "outputs": [
    {
     "data": {
      "text/plain": [
       "array([[  96.05126953,  101.95092773,  108.85449219,  112.25146484,\n",
       "         117.2644043 ,  127.77124023,  144.1784668 ,  148.23388672,\n",
       "         164.0690918 ,  164.3605957 ,  165.39941406,  174.94262695,\n",
       "         178.92578125,  184.54492188,  188.84960938,  195.69677734],\n",
       "       [  96.05249023,  101.95214844,  108.85571289,  112.25268555,\n",
       "         117.265625  ,  127.77246094,  144.1796875 ,  148.23510742,\n",
       "         164.0703125 ,  164.36181641,  165.40063477,  174.94384766,\n",
       "         178.92700195,  184.54614258,  188.85083008,  195.69799805],\n",
       "       [  96.05371094,  101.95336914,  108.85693359,  112.25390625,\n",
       "         117.2668457 ,  127.77368164,  144.1809082 ,  148.23632812,\n",
       "         164.0715332 ,  164.36303711,  165.40185547,  174.94506836,\n",
       "         178.92822266,  184.54736328,  188.85205078,  195.69921875],\n",
       "       [  96.05493164,  101.95458984,  108.8581543 ,  112.25512695,\n",
       "         117.26806641,  127.77490234,  144.18212891,  148.23754883,\n",
       "         164.07275391,  164.36425781,  165.40307617,  174.94628906,\n",
       "         178.92944336,  184.54858398,  188.85327148,  195.70043945],\n",
       "       [  96.05615234,  101.95581055,  108.859375  ,  112.25634766,\n",
       "         117.26928711,  127.77612305,  144.18334961,  148.23876953,\n",
       "         164.07397461,  164.36547852,  165.40429688,  174.94750977,\n",
       "         178.93066406,  184.54980469,  188.85449219,  195.70166016],\n",
       "       [  96.05737305,  101.95703125,  108.8605957 ,  112.25756836,\n",
       "         117.27050781,  127.77734375,  144.18457031,  148.23999023,\n",
       "         164.07519531,  164.36669922,  165.40551758,  174.94873047,\n",
       "         178.93188477,  184.55102539,  188.85571289,  195.70288086],\n",
       "       [  96.05761719,  101.95727539,  108.86083984,  112.2578125 ,\n",
       "         117.27075195,  127.77758789,  144.18481445,  148.24023438,\n",
       "         164.07543945,  164.36694336,  165.40576172,  174.94897461,\n",
       "         178.93212891,  184.55126953,  188.85595703,  195.703125  ],\n",
       "       [  96.05786133,  101.95751953,  108.86108398,  112.25805664,\n",
       "         117.27099609,  127.77783203,  144.18505859,  148.24047852,\n",
       "         164.07568359,  164.3671875 ,  165.40600586,  174.94921875,\n",
       "         178.93237305,  184.55151367,  188.85620117,  195.70336914],\n",
       "       [  96.05810547,  101.95776367,  108.86132812,  112.25830078,\n",
       "         117.27124023,  127.77807617,  144.18530273,  148.24072266,\n",
       "         164.07592773,  164.36743164,  165.40625   ,  174.94946289,\n",
       "         178.93261719,  184.55175781,  188.85644531,  195.70361328],\n",
       "       [  96.05834961,  101.95800781,  108.86157227,  112.25854492,\n",
       "         117.27148438,  127.77832031,  144.18554688,  148.2409668 ,\n",
       "         164.07617188,  164.36767578,  165.40649414,  174.94970703,\n",
       "         178.93286133,  184.55200195,  188.85668945,  195.70385742],\n",
       "       [  96.05859375,  101.95825195,  108.86181641,  112.25878906,\n",
       "         117.27172852,  127.77856445,  144.18579102,  148.24121094,\n",
       "         164.07641602,  164.36791992,  165.40673828,  174.94995117,\n",
       "         178.93310547,  184.55224609,  188.85693359,  195.70410156],\n",
       "       [  96.05883789,  101.95849609,  108.86206055,  112.2590332 ,\n",
       "         117.27197266,  127.77880859,  144.18603516,  148.24145508,\n",
       "         164.07666016,  164.36816406,  165.40698242,  174.95019531,\n",
       "         178.93334961,  184.55249023,  188.85717773,  195.7043457 ],\n",
       "       [  96.05908203,  101.95874023,  108.86230469,  112.25927734,\n",
       "         117.2722168 ,  127.77905273,  144.1862793 ,  148.24169922,\n",
       "         164.0769043 ,  164.3684082 ,  165.40722656,  174.95043945,\n",
       "         178.93359375,  184.55273438,  188.85742188,  195.70458984],\n",
       "       [  96.05932617,  101.95898438,  108.86254883,  112.25952148,\n",
       "         117.27246094,  127.77929688,  144.18652344,  148.24194336,\n",
       "         164.07714844,  164.36865234,  165.4074707 ,  174.95068359,\n",
       "         178.93383789,  184.55297852,  188.85766602,  195.70483398],\n",
       "       [  96.05957031,  101.95922852,  108.86279297,  112.25976562,\n",
       "         117.27270508,  127.77954102,  144.18676758,  148.2421875 ,\n",
       "         164.07739258,  164.36889648,  165.40771484,  174.95092773,\n",
       "         178.93408203,  184.55322266,  188.85791016,  195.70507812],\n",
       "       [  96.05981445,  101.95947266,  108.86303711,  112.26000977,\n",
       "         117.27294922,  127.77978516,  144.18701172,  148.24243164,\n",
       "         164.07763672,  164.36914062,  165.40795898,  174.95117188,\n",
       "         178.93432617,  184.5534668 ,  188.8581543 ,  195.70532227],\n",
       "       [  96.06005859,  101.9597168 ,  108.86328125,  112.26025391,\n",
       "         117.27319336,  127.7800293 ,  144.18725586,  148.24267578,\n",
       "         164.07788086,  164.36938477,  165.40820312,  174.95141602,\n",
       "         178.93457031,  184.55371094,  188.85839844,  195.70556641],\n",
       "       [  96.06030273,  101.95996094,  108.86352539,  112.26049805,\n",
       "         117.2734375 ,  127.78027344,  144.1875    ,  148.24291992,\n",
       "         164.078125  ,  164.36962891,  165.40844727,  174.95166016,\n",
       "         178.93481445,  184.55395508,  188.85864258,  195.70581055],\n",
       "       [  96.06054688,  101.96020508,  108.86376953,  112.26074219,\n",
       "         117.27368164,  127.78051758,  144.18774414,  148.24316406,\n",
       "         164.07836914,  164.36987305,  165.40869141,  174.9519043 ,\n",
       "         178.93505859,  184.55419922,  188.85888672,  195.70605469],\n",
       "       [  96.06079102,  101.96044922,  108.86401367,  112.26098633,\n",
       "         117.27392578,  127.78076172,  144.18798828,  148.2434082 ,\n",
       "         164.07861328,  164.37011719,  165.40893555,  174.95214844,\n",
       "         178.93530273,  184.55444336,  188.85913086,  195.70629883],\n",
       "       [  96.06103516,  101.96069336,  108.86425781,  112.26123047,\n",
       "         117.27416992,  127.78100586,  144.18823242,  148.24365234,\n",
       "         164.07885742,  164.37036133,  165.40917969,  174.95239258,\n",
       "         178.93554688,  184.5546875 ,  188.859375  ,  195.70654297],\n",
       "       [  96.0612793 ,  101.9609375 ,  108.86450195,  112.26147461,\n",
       "         117.27441406,  127.78125   ,  144.18847656,  148.24389648,\n",
       "         164.07910156,  164.37060547,  165.40942383,  174.95263672,\n",
       "         178.93579102,  184.55493164,  188.85961914,  195.70678711],\n",
       "       [  96.06152344,  101.96118164,  108.86474609,  112.26171875,\n",
       "         117.2746582 ,  127.78149414,  144.1887207 ,  148.24414062,\n",
       "         164.0793457 ,  164.37084961,  165.40966797,  174.95288086,\n",
       "         178.93603516,  184.55517578,  188.85986328,  195.70703125],\n",
       "       [  96.06176758,  101.96142578,  108.86499023,  112.26196289,\n",
       "         117.27490234,  127.78173828,  144.18896484,  148.24438477,\n",
       "         164.07958984,  164.37109375,  165.40991211,  174.953125  ,\n",
       "         178.9362793 ,  184.55541992,  188.86010742,  195.70727539],\n",
       "       [  96.06201172,  101.96166992,  108.86523438,  112.26220703,\n",
       "         117.27514648,  127.78198242,  144.18920898,  148.24462891,\n",
       "         164.07983398,  164.37133789,  165.41015625,  174.95336914,\n",
       "         178.93652344,  184.55566406,  188.86035156,  195.70751953],\n",
       "       [  96.06225586,  101.96191406,  108.86547852,  112.26245117,\n",
       "         117.27539062,  127.78222656,  144.18945312,  148.24487305,\n",
       "         164.08007812,  164.37158203,  165.41040039,  174.95361328,\n",
       "         178.93676758,  184.5559082 ,  188.8605957 ,  195.70776367],\n",
       "       [  96.06347656,  101.96313477,  108.86669922,  112.26367188,\n",
       "         117.27661133,  127.78344727,  144.19067383,  148.24609375,\n",
       "         164.08129883,  164.37280273,  165.41162109,  174.95483398,\n",
       "         178.93798828,  184.55712891,  188.86181641,  195.70898438],\n",
       "       [  96.06469727,  101.96435547,  108.86791992,  112.26489258,\n",
       "         117.27783203,  127.78466797,  144.19189453,  148.24731445,\n",
       "         164.08251953,  164.37402344,  165.4128418 ,  174.95605469,\n",
       "         178.93920898,  184.55834961,  188.86303711,  195.71020508],\n",
       "       [  96.06591797,  101.96557617,  108.86914062,  112.26611328,\n",
       "         117.27905273,  127.78588867,  144.19311523,  148.24853516,\n",
       "         164.08374023,  164.37524414,  165.4140625 ,  174.95727539,\n",
       "         178.94042969,  184.55957031,  188.86425781,  195.71142578],\n",
       "       [  96.06713867,  101.96679688,  108.87036133,  112.26733398,\n",
       "         117.28027344,  127.78710938,  144.19433594,  148.24975586,\n",
       "         164.08496094,  164.37646484,  165.4152832 ,  174.95849609,\n",
       "         178.94165039,  184.56079102,  188.86547852,  195.71264648],\n",
       "       [  96.06054688,  101.96069336,  108.86376953,  112.26123047,\n",
       "         117.27392578,  127.78100586,  144.1887207 ,  148.24414062,\n",
       "         164.08007812,  164.37109375,  165.40942383,  174.95385742,\n",
       "         178.93652344,  184.55639648,  188.8605957 ,  195.70849609]])"
      ]
     },
     "execution_count": 14,
     "metadata": {},
     "output_type": "execute_result"
    }
   ],
   "source": [
    "tone_frequencies = f_tone * ri.tone_bins\n",
    "tone_frequencies / 1e6  # in MHz"
   ]
  },
  {
   "cell_type": "markdown",
   "metadata": {},
   "source": [
    "Only the lower half of the available output frequency band is below the ADC Nyquist frequency."
   ]
  },
  {
   "cell_type": "markdown",
   "metadata": {},
   "source": [
    "To do:\n",
    "\n",
    "- Understand demodulation\n",
    "- Understand the FFT bin window response and leakage between bins"
   ]
  },
  {
   "cell_type": "code",
   "execution_count": 16,
   "metadata": {
    "collapsed": false
   },
   "outputs": [
    {
     "data": {
      "text/plain": [
       "[<matplotlib.lines.Line2D at 0x43e9e90>]"
      ]
     },
     "execution_count": 16,
     "metadata": {},
     "output_type": "execute_result"
    },
    {
     "data": {
      "image/png": "[encoded data removed]",
      "text/plain": [
       "<matplotlib.figure.Figure at 0x43a2790>"
      ]
     },
     "metadata": {},
     "output_type": "display_data"
    }
   ],
   "source": [
    "plt.plot(ri._window_mag)"
   ]
  },
  {
   "cell_type": "code",
   "execution_count": 17,
   "metadata": {
    "collapsed": false
   },
   "outputs": [
    {
     "data": {
      "text/plain": [
       "64.0"
      ]
     },
     "execution_count": 17,
     "metadata": {},
     "output_type": "execute_result"
    }
   ],
   "source": [
    "1e6 * 2 * T"
   ]
  },
  {
   "cell_type": "code",
   "execution_count": 17,
   "metadata": {
    "collapsed": false
   },
   "outputs": [],
   "source": []
  }
 ],
 "metadata": {
  "anaconda-cloud": {},
  "kernelspec": {
   "display_name": "Python [default]",
   "language": "python",
   "name": "python2"
  },
  "language_info": {
   "codemirror_mode": {
    "name": "ipython",
    "version": 2
   },
   "file_extension": ".py",
   "mimetype": "text/x-python",
   "name": "python",
   "nbconvert_exporter": "python",
   "pygments_lexer": "ipython2",
   "version": "2.7.12"
  }
 },
 "nbformat": 4,
 "nbformat_minor": 0
}
