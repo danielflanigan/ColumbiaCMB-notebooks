{
 "metadata": {
  "name": "",
  "signature": "sha256:8252a26fa6530355504869a14468bd553ea5694aa4399fc3ae05695fa81278b8"
 },
 "nbformat": 3,
 "nbformat_minor": 0,
 "worksheets": [
  {
   "cells": [
    {
     "cell_type": "markdown",
     "metadata": {},
     "source": [
      "This notebook is my attempt to work through the simple math related to the readout production and detection of signals.\n",
      "\n",
      "I'm being sloppy about terminology -- the FPGA implements a polyphase filter bank, which I'm calling an FFT."
     ]
    },
    {
     "cell_type": "code",
     "collapsed": false,
     "input": [
      "from kid_readout.utils import roach_interface, roach_utils"
     ],
     "language": "python",
     "metadata": {},
     "outputs": [],
     "prompt_number": 1
    },
    {
     "cell_type": "code",
     "collapsed": false,
     "input": [
      "ri = roach_interface.RoachBaseband()"
     ],
     "language": "python",
     "metadata": {},
     "outputs": [
      {
       "output_type": "stream",
       "stream": "stdout",
       "text": [
        "Loaded ROACH state from /home/data/roach_config.npz\n"
       ]
      }
     ],
     "prompt_number": 2
    },
    {
     "cell_type": "markdown",
     "metadata": {},
     "source": [
      "I'll use capital $F$ to denote frequencies that relate to the ADC sampling, and lowercase $f$ to denote frequencies that relate to the demodulated signal. The ADC has 12 bits that divide its input range into $2^{12} = 4096$ bins.\n",
      "\n",
      "This is the ADC sample rate:"
     ]
    },
    {
     "cell_type": "code",
     "collapsed": false,
     "input": [
      "F_ADC = 1e6 * ri.fs\n",
      "F_ADC  # in Hz"
     ],
     "language": "python",
     "metadata": {},
     "outputs": [
      {
       "metadata": {},
       "output_type": "pyout",
       "prompt_number": 3,
       "text": [
        "512000000.0"
       ]
      }
     ],
     "prompt_number": 3
    },
    {
     "cell_type": "markdown",
     "metadata": {},
     "source": [
      "The Nyquist frequency for the ADC is half its sampling frequency, or 256 MHz. A hardware filter with a cutoff around 210 MHz in front of the ADC reduces aliasing.\n",
      "\n",
      "This is $N$, the number of real samples that go into each FFT:"
     ]
    },
    {
     "cell_type": "code",
     "collapsed": false,
     "input": [
      "N = ri.nfft\n",
      "N"
     ],
     "language": "python",
     "metadata": {},
     "outputs": [
      {
       "metadata": {},
       "output_type": "pyout",
       "prompt_number": 4,
       "text": [
        "16384"
       ]
      }
     ],
     "prompt_number": 4
    },
    {
     "cell_type": "markdown",
     "metadata": {},
     "source": [
      "This number varies between the various Roach firmware builds and corresponding classes, but it's always a power of two:"
     ]
    },
    {
     "cell_type": "code",
     "collapsed": false,
     "input": [
      "np.log2(N)"
     ],
     "language": "python",
     "metadata": {},
     "outputs": [
      {
       "metadata": {},
       "output_type": "pyout",
       "prompt_number": 5,
       "text": [
        "14.0"
       ]
      }
     ],
     "prompt_number": 5
    },
    {
     "cell_type": "markdown",
     "metadata": {},
     "source": [
      "The rate at which complex FFT samples are produced is"
     ]
    },
    {
     "cell_type": "code",
     "collapsed": false,
     "input": [
      "FFT_output_rate = F_ADC / N\n",
      "FFT_output_rate  # in Hz"
     ],
     "language": "python",
     "metadata": {},
     "outputs": [
      {
       "metadata": {},
       "output_type": "pyout",
       "prompt_number": 6,
       "text": [
        "31250.0"
       ]
      }
     ],
     "prompt_number": 6
    },
    {
     "cell_type": "markdown",
     "metadata": {},
     "source": [
      "This output rate is the inverse of the length of each timestream:"
     ]
    },
    {
     "cell_type": "code",
     "collapsed": false,
     "input": [
      "T = 1 / FFT_output_rate\n",
      "T  # in s"
     ],
     "language": "python",
     "metadata": {},
     "outputs": [
      {
       "metadata": {},
       "output_type": "pyout",
       "prompt_number": 7,
       "text": [
        "3.2e-05"
       ]
      }
     ],
     "prompt_number": 7
    },
    {
     "cell_type": "markdown",
     "metadata": {},
     "source": [
      "Each FFT produces $N$ complex points corresponding to frequencies between $-F_\\mathrm{sample} / 2$ and (almost) $F_\\mathrm{sample} / 2$, but because the input signal from the ADC is real the negative frequency components are the conjugates of the positive frequency components. The independent output of each FFT thus consists of $N / 2$ complex samples representing frequencies from 0 to $F_\\mathrm{sample} / 2$.\n",
      "\n",
      "This bandwidth is divided into $N / 2$ bins, so the frequency resolution or bin width is\n",
      "$$\n",
      "\\delta\n",
      "  =\n",
      "  \\frac{F_\\mathrm{sample} / 2}{N / 2}\n",
      "  =\n",
      "  \\frac{F_\\mathrm{sample}}{N}\n",
      "$$"
     ]
    },
    {
     "cell_type": "code",
     "collapsed": false,
     "input": [
      "delta = F_ADC / N\n",
      "delta"
     ],
     "language": "python",
     "metadata": {},
     "outputs": [
      {
       "metadata": {},
       "output_type": "pyout",
       "prompt_number": 8,
       "text": [
        "31250.0"
       ]
      }
     ],
     "prompt_number": 8
    },
    {
     "cell_type": "markdown",
     "metadata": {},
     "source": [
      "The operation of filtering conserves information in the sense that the input and output information rates are the same. The real input signal at $F_\\mathrm{sample}$ is transformed into $N / 2$ complex samples output at frequency $F_\\mathrm{sample} / N$, which is equivalent to\n",
      "$$\n",
      "2 \\frac{N}{2} \\frac{F_\\mathrm{sample}}{N}\n",
      "  =\n",
      "  F_\\mathrm{sample}\n",
      "$$\n",
      "real points per unit time.\n",
      "\n",
      "In practice, the signals from most of the bins are discarded since we are interested in the bins that contain active detectors. We can consider the stream of complex samples in each bin as a complex signal produced at the FFT output rate that contains frequency information about that bin.\n",
      "\n",
      "For each bin, the Nyquist frequency of this FFT output signal is half the output rate:"
     ]
    },
    {
     "cell_type": "code",
     "collapsed": false,
     "input": [
      "f_Nyquist = FFT_output_rate / 2\n",
      "f_Nyquist"
     ],
     "language": "python",
     "metadata": {},
     "outputs": [
      {
       "metadata": {},
       "output_type": "pyout",
       "prompt_number": 9,
       "text": [
        "15625.0"
       ]
      }
     ],
     "prompt_number": 9
    },
    {
     "cell_type": "markdown",
     "metadata": {},
     "source": [
      "We read out each detector using a single probe signal. This signal is amplitude modulated by the KID, so the detector information appears in sidebands of the carrier frequency. The Roach can use the carrier frequency to demodulate the data. I don't yet understand how this calculation works or if any bandwidth is lost in the demodulation."
     ]
    },
    {
     "cell_type": "markdown",
     "metadata": {},
     "source": [
      "The probe tones are generated by a 16-bit DAC with a 512 MHz output rate, the same as the ADC sample rate. The analog signal generation involves playing a single cycle of the digital waveform over and over. For this waveform to be contained in a reasonable amount of memory, the frequency components in the waveform must be multiples of a fundamental frequency."
     ]
    },
    {
     "cell_type": "code",
     "collapsed": false,
     "input": [
      "F_DAC = F_ADC"
     ],
     "language": "python",
     "metadata": {},
     "outputs": [],
     "prompt_number": 10
    },
    {
     "cell_type": "markdown",
     "metadata": {},
     "source": [
      "The number of samples in the waveform is easy to adjust. For this waveform, it is"
     ]
    },
    {
     "cell_type": "code",
     "collapsed": false,
     "input": [
      "ri.tone_nsamp"
     ],
     "language": "python",
     "metadata": {},
     "outputs": [
      {
       "metadata": {},
       "output_type": "pyout",
       "prompt_number": 11,
       "text": [
        "2097152"
       ]
      }
     ],
     "prompt_number": 11
    },
    {
     "cell_type": "code",
     "collapsed": false,
     "input": [
      "np.log2(ri.tone_nsamp)"
     ],
     "language": "python",
     "metadata": {},
     "outputs": [
      {
       "metadata": {},
       "output_type": "pyout",
       "prompt_number": 12,
       "text": [
        "21.0"
       ]
      }
     ],
     "prompt_number": 12
    },
    {
     "cell_type": "markdown",
     "metadata": {},
     "source": [
      "The frequency resolution is thus"
     ]
    },
    {
     "cell_type": "code",
     "collapsed": false,
     "input": [
      "f_tone = F_DAC / ri.tone_nsamp\n",
      "f_tone"
     ],
     "language": "python",
     "metadata": {},
     "outputs": [
      {
       "metadata": {},
       "output_type": "pyout",
       "prompt_number": 13,
       "text": [
        "244.140625"
       ]
      }
     ],
     "prompt_number": 13
    },
    {
     "cell_type": "markdown",
     "metadata": {},
     "source": [
      "This is currently much smaller than an FFT bin, so we have many choices of tones in each bin. The limit for the tone frequency resolution is set by the available memory of the Roach, which is currently 256 MB or $2^{28}$ bytes."
     ]
    },
    {
     "cell_type": "markdown",
     "metadata": {},
     "source": [
      "Each tone frequency corresponds to an integer tone bin, and these range from 0 to one less than the number of waveform samples. The frequencies are given by"
     ]
    },
    {
     "cell_type": "code",
     "collapsed": false,
     "input": [
      "tone_frequencies = f_tone * ri.tone_bins\n",
      "tone_frequencies / 1e6  # in MHz"
     ],
     "language": "python",
     "metadata": {},
     "outputs": [
      {
       "metadata": {},
       "output_type": "pyout",
       "prompt_number": 14,
       "text": [
        "array([[  96.06494141,  101.96655273,  108.86865234,  112.26928711,\n",
        "         117.28051758,  127.78710938,  144.19995117,  148.25073242,\n",
        "         164.09008789,  164.49975586,  165.41650391,  174.96240234,\n",
        "         178.94482422,  184.57055664,  188.86914062,  195.72265625]])"
       ]
      }
     ],
     "prompt_number": 14
    },
    {
     "cell_type": "markdown",
     "metadata": {},
     "source": [
      "Only the lower half of the available output frequency band is below the ADC Nyquist frequency."
     ]
    },
    {
     "cell_type": "markdown",
     "metadata": {},
     "source": [
      "To do:\n",
      "\n",
      "- Understand demodulation\n",
      "- Understand the FFT bin window response and leakage between bins"
     ]
    },
    {
     "cell_type": "code",
     "collapsed": false,
     "input": [
      "plt.plot(ri._window_mag)"
     ],
     "language": "python",
     "metadata": {},
     "outputs": [
      {
       "metadata": {},
       "output_type": "pyout",
       "prompt_number": 15,
       "text": [
        "[<matplotlib.lines.Line2D at 0x4c65a50>]"
       ]
      },
      {
       "metadata": {},
       "output_type": "display_data",
       "png": "[encoded data removed]",
       "text": [
        "<matplotlib.figure.Figure at 0x4b5e990>"
       ]
      }
     ],
     "prompt_number": 15
    },
    {
     "cell_type": "code",
     "collapsed": false,
     "input": [],
     "language": "python",
     "metadata": {},
     "outputs": [],
     "prompt_number": 15
    }
   ],
   "metadata": {}
  }
 ]
}