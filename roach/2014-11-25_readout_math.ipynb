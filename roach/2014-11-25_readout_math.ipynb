{
 "metadata": {
  "name": "",
  "signature": "sha256:8368f27f5b9806b6d866141cc9c2d4bf10656c8609ce387486681e1107ac5cf4"
 },
 "nbformat": 3,
 "nbformat_minor": 0,
 "worksheets": [
  {
   "cells": [
    {
     "cell_type": "markdown",
     "metadata": {},
     "source": [
      "This notebook is my attempt to work through the simple math related to the readout production and detection of signals.\n",
      "\n",
      "I'm being sloppy about terminology -- the FPGA implements a polyphase filter bank, which I'm calling an FFT."
     ]
    },
    {
     "cell_type": "code",
     "collapsed": false,
     "input": [
      "from kid_readout.utils import roach_interface, roach_utils"
     ],
     "language": "python",
     "metadata": {},
     "outputs": [],
     "prompt_number": 2
    },
    {
     "cell_type": "code",
     "collapsed": false,
     "input": [
      "ri = roach_interface.RoachBaseband()"
     ],
     "language": "python",
     "metadata": {},
     "outputs": [
      {
       "output_type": "stream",
       "stream": "stdout",
       "text": [
        "Loaded ROACH state from /home/data/roach_config.npz\n"
       ]
      }
     ],
     "prompt_number": 3
    },
    {
     "cell_type": "markdown",
     "metadata": {},
     "source": [
      "I'll use capital $F$ to denote frequencies that relate to the ADC sampling, and lowercase $f$ to denote frequencies that relate to the demodulated signal. The ADC has 12 bits that divide its input range into $2^{12} = 4096$ bins.\n",
      "\n",
      "This is the ADC sample rate:"
     ]
    },
    {
     "cell_type": "code",
     "collapsed": false,
     "input": [
      "F_ADC = 1e6 * ri.fs\n",
      "F_ADC  # in Hz"
     ],
     "language": "python",
     "metadata": {},
     "outputs": [
      {
       "metadata": {},
       "output_type": "pyout",
       "prompt_number": 4,
       "text": [
        "512000000.0"
       ]
      }
     ],
     "prompt_number": 4
    },
    {
     "cell_type": "markdown",
     "metadata": {},
     "source": [
      "The Nyquist frequency for the ADC is half its sampling frequency, or 256 MHz. A hardware filter with a cutoff around 210 MHz in front of the ADC reduces aliasing.\n",
      "\n",
      "This is $N$, the number of real samples that go into each FFT:"
     ]
    },
    {
     "cell_type": "code",
     "collapsed": false,
     "input": [
      "N = ri.nfft\n",
      "N"
     ],
     "language": "python",
     "metadata": {},
     "outputs": [
      {
       "metadata": {},
       "output_type": "pyout",
       "prompt_number": 5,
       "text": [
        "16384"
       ]
      }
     ],
     "prompt_number": 5
    },
    {
     "cell_type": "markdown",
     "metadata": {},
     "source": [
      "This number varies between the various Roach firmware builds and corresponding classes, but it's always a power of two:"
     ]
    },
    {
     "cell_type": "code",
     "collapsed": false,
     "input": [
      "np.log2(N)"
     ],
     "language": "python",
     "metadata": {},
     "outputs": [
      {
       "metadata": {},
       "output_type": "pyout",
       "prompt_number": 6,
       "text": [
        "14.0"
       ]
      }
     ],
     "prompt_number": 6
    },
    {
     "cell_type": "markdown",
     "metadata": {},
     "source": [
      "The rate at which complex FFT samples are produced is"
     ]
    },
    {
     "cell_type": "code",
     "collapsed": false,
     "input": [
      "FFT_output_rate = F_ADC / N\n",
      "FFT_output_rate  # in Hz"
     ],
     "language": "python",
     "metadata": {},
     "outputs": [
      {
       "metadata": {},
       "output_type": "pyout",
       "prompt_number": 7,
       "text": [
        "31250.0"
       ]
      }
     ],
     "prompt_number": 7
    },
    {
     "cell_type": "markdown",
     "metadata": {},
     "source": [
      "This output rate is the inverse of the length of each timestream:"
     ]
    },
    {
     "cell_type": "code",
     "collapsed": false,
     "input": [
      "T = 1 / FFT_output_rate\n",
      "T  # in s"
     ],
     "language": "python",
     "metadata": {},
     "outputs": [
      {
       "metadata": {},
       "output_type": "pyout",
       "prompt_number": 8,
       "text": [
        "3.2e-05"
       ]
      }
     ],
     "prompt_number": 8
    },
    {
     "cell_type": "markdown",
     "metadata": {},
     "source": [
      "Each FFT produces $N$ complex points corresponding to frequencies between $-F_\\mathrm{sample} / 2$ and (almost) $F_\\mathrm{sample} / 2$, but because the input signal from the ADC is real the negative frequency components are the conjugates of the positive frequency components. The independent output of each FFT thus consists of $N / 2$ complex samples representing frequencies from 0 to $F_\\mathrm{sample} / 2$.\n",
      "\n",
      "This bandwidth is divided into $N / 2$ bins, so the frequency resolution or bin width is\n",
      "$$\n",
      "\\delta\n",
      "  =\n",
      "  \\frac{F_\\mathrm{sample} / 2}{N / 2}\n",
      "  =\n",
      "  \\frac{F_\\mathrm{sample}}{N}\n",
      "$$"
     ]
    },
    {
     "cell_type": "code",
     "collapsed": false,
     "input": [
      "delta = F_ADC / N\n",
      "delta"
     ],
     "language": "python",
     "metadata": {},
     "outputs": [
      {
       "metadata": {},
       "output_type": "pyout",
       "prompt_number": 9,
       "text": [
        "31250.0"
       ]
      }
     ],
     "prompt_number": 9
    },
    {
     "cell_type": "markdown",
     "metadata": {},
     "source": [
      "The operation of filtering conserves information in the sense that the input and output information rates are the same. The real input signal at $F_\\mathrm{sample}$ is transformed into $N / 2$ complex samples output at frequency $F_\\mathrm{sample} / N$, which is equivalent to\n",
      "$$\n",
      "2 \\frac{N}{2} \\frac{F_\\mathrm{sample}}{N}\n",
      "  =\n",
      "  F_\\mathrm{sample}\n",
      "$$\n",
      "real points per unit time.\n",
      "\n",
      "In practice, the signals from most of the bins are discarded since we are interested in the bins that contain active detectors. We can consider the stream of complex samples in each bin as a complex signal produced at the FFT output rate that contains frequency information about that bin.\n",
      "\n",
      "For each bin, the Nyquist frequency of this FFT output signal is half the output rate:"
     ]
    },
    {
     "cell_type": "code",
     "collapsed": false,
     "input": [
      "f_Nyquist = FFT_output_rate / 2\n",
      "f_Nyquist"
     ],
     "language": "python",
     "metadata": {},
     "outputs": [
      {
       "metadata": {},
       "output_type": "pyout",
       "prompt_number": 10,
       "text": [
        "15625.0"
       ]
      }
     ],
     "prompt_number": 10
    },
    {
     "cell_type": "markdown",
     "metadata": {},
     "source": [
      "We read out each detector using a single probe signal. This signal is amplitude modulated by the KID, so the detector information appears in sidebands of the carrier frequency. The Roach can use the carrier frequency to demodulate the data. I don't yet understand how this calculation works or if any bandwidth is lost in the demodulation."
     ]
    },
    {
     "cell_type": "markdown",
     "metadata": {},
     "source": [
      "The probe tones are generated by a 16-bit DAC with a 512 MHz output rate, the same as the ADC sample rate. The analog signal generation involves playing a single cycle of the digital waveform over and over. For this waveform to be contained in a reasonable amount of memory, the frequency components in the waveform must be multiples of a fundamental frequency."
     ]
    },
    {
     "cell_type": "code",
     "collapsed": false,
     "input": [
      "F_DAC = F_ADC"
     ],
     "language": "python",
     "metadata": {},
     "outputs": [],
     "prompt_number": 11
    },
    {
     "cell_type": "markdown",
     "metadata": {},
     "source": [
      "The number of samples in the waveform is easy to adjust. For this waveform, it is"
     ]
    },
    {
     "cell_type": "code",
     "collapsed": false,
     "input": [
      "ri.tone_nsamp"
     ],
     "language": "python",
     "metadata": {},
     "outputs": [
      {
       "metadata": {},
       "output_type": "pyout",
       "prompt_number": 12,
       "text": [
        "2097152"
       ]
      }
     ],
     "prompt_number": 12
    },
    {
     "cell_type": "code",
     "collapsed": false,
     "input": [
      "np.log2(ri.tone_nsamp)"
     ],
     "language": "python",
     "metadata": {},
     "outputs": [
      {
       "metadata": {},
       "output_type": "pyout",
       "prompt_number": 13,
       "text": [
        "21.0"
       ]
      }
     ],
     "prompt_number": 13
    },
    {
     "cell_type": "markdown",
     "metadata": {},
     "source": [
      "The frequency resolution is thus"
     ]
    },
    {
     "cell_type": "code",
     "collapsed": false,
     "input": [
      "f_tone = F_DAC / ri.tone_nsamp\n",
      "f_tone"
     ],
     "language": "python",
     "metadata": {},
     "outputs": [
      {
       "metadata": {},
       "output_type": "pyout",
       "prompt_number": 14,
       "text": [
        "244.140625"
       ]
      }
     ],
     "prompt_number": 14
    },
    {
     "cell_type": "markdown",
     "metadata": {},
     "source": [
      "This is currently much smaller than an FFT bin, so we have many choices of tones in each bin. The limit for the tone frequency resolution is set by the available memory of the Roach, which is currently 256 MB or $2^{28}$ bytes."
     ]
    },
    {
     "cell_type": "markdown",
     "metadata": {},
     "source": [
      "Each tone frequency corresponds to an integer tone bin, and these range from 0 to one less than the number of waveform samples. The frequencies are given by"
     ]
    },
    {
     "cell_type": "code",
     "collapsed": false,
     "input": [
      "tone_frequencies = f_tone * ri.tone_bins\n",
      "tone_frequencies / 1e6  # in MHz"
     ],
     "language": "python",
     "metadata": {},
     "outputs": [
      {
       "metadata": {},
       "output_type": "pyout",
       "prompt_number": 15,
       "text": [
        "array([[  95.9855957 ,  101.82421875,  108.77734375,  112.11499023,\n",
        "         117.12915039,  127.64892578,  144.01147461,  148.0625    ,\n",
        "         164.23291016,  164.23291016,  165.23608398,  174.8059082 ,\n",
        "         178.73120117,  184.37182617,  188.63989258,  195.53222656],\n",
        "       [  95.98803711,  101.82666016,  108.77978516,  112.11743164,\n",
        "         117.1315918 ,  127.65136719,  144.01391602,  148.06494141,\n",
        "         164.23535156,  164.23535156,  165.23852539,  174.80834961,\n",
        "         178.73364258,  184.37426758,  188.64233398,  195.53466797],\n",
        "       [  95.98925781,  101.82788086,  108.78100586,  112.11865234,\n",
        "         117.1328125 ,  127.65258789,  144.01513672,  148.06616211,\n",
        "         164.23657227,  164.23657227,  165.23974609,  174.80957031,\n",
        "         178.73486328,  184.37548828,  188.64355469,  195.53588867],\n",
        "       [  95.99047852,  101.82910156,  108.78222656,  112.11987305,\n",
        "         117.1340332 ,  127.65380859,  144.01635742,  148.06738281,\n",
        "         164.23779297,  164.23779297,  165.2409668 ,  174.81079102,\n",
        "         178.73608398,  184.37670898,  188.64477539,  195.53710938],\n",
        "       [  95.99169922,  101.83032227,  108.78344727,  112.12109375,\n",
        "         117.13525391,  127.6550293 ,  144.01757812,  148.06860352,\n",
        "         164.23901367,  164.23901367,  165.2421875 ,  174.81201172,\n",
        "         178.73730469,  184.37792969,  188.64599609,  195.53833008],\n",
        "       [  95.99291992,  101.83154297,  108.78466797,  112.12231445,\n",
        "         117.13647461,  127.65625   ,  144.01879883,  148.06982422,\n",
        "         164.24023438,  164.24023438,  165.2434082 ,  174.81323242,\n",
        "         178.73852539,  184.37915039,  188.6472168 ,  195.53955078],\n",
        "       [  95.99316406,  101.83178711,  108.78491211,  112.12255859,\n",
        "         117.13671875,  127.65649414,  144.01904297,  148.07006836,\n",
        "         164.24047852,  164.24047852,  165.24365234,  174.81347656,\n",
        "         178.73876953,  184.37939453,  188.64746094,  195.53979492],\n",
        "       [  95.9934082 ,  101.83203125,  108.78515625,  112.12280273,\n",
        "         117.13696289,  127.65673828,  144.01928711,  148.0703125 ,\n",
        "         164.24072266,  164.24072266,  165.24389648,  174.8137207 ,\n",
        "         178.73901367,  184.37963867,  188.64770508,  195.54003906],\n",
        "       [  95.99365234,  101.83227539,  108.78540039,  112.12304688,\n",
        "         117.13720703,  127.65698242,  144.01953125,  148.07055664,\n",
        "         164.2409668 ,  164.2409668 ,  165.24414062,  174.81396484,\n",
        "         178.73925781,  184.37988281,  188.64794922,  195.5402832 ],\n",
        "       [  95.99389648,  101.83251953,  108.78564453,  112.12329102,\n",
        "         117.13745117,  127.65722656,  144.01977539,  148.07080078,\n",
        "         164.24121094,  164.24121094,  165.24438477,  174.81420898,\n",
        "         178.73950195,  184.38012695,  188.64819336,  195.54052734],\n",
        "       [  95.99414062,  101.83276367,  108.78588867,  112.12353516,\n",
        "         117.13769531,  127.6574707 ,  144.02001953,  148.07104492,\n",
        "         164.24145508,  164.24145508,  165.24462891,  174.81445312,\n",
        "         178.73974609,  184.38037109,  188.6484375 ,  195.54077148],\n",
        "       [  95.99438477,  101.83300781,  108.78613281,  112.1237793 ,\n",
        "         117.13793945,  127.65771484,  144.02026367,  148.07128906,\n",
        "         164.24169922,  164.24169922,  165.24487305,  174.81469727,\n",
        "         178.73999023,  184.38061523,  188.64868164,  195.54101562],\n",
        "       [  95.99462891,  101.83325195,  108.78637695,  112.12402344,\n",
        "         117.13818359,  127.65795898,  144.02050781,  148.0715332 ,\n",
        "         164.24194336,  164.24194336,  165.24511719,  174.81494141,\n",
        "         178.74023438,  184.38085938,  188.64892578,  195.54125977],\n",
        "       [  95.99487305,  101.83349609,  108.78662109,  112.12426758,\n",
        "         117.13842773,  127.65820312,  144.02075195,  148.07177734,\n",
        "         164.2421875 ,  164.2421875 ,  165.24536133,  174.81518555,\n",
        "         178.74047852,  184.38110352,  188.64916992,  195.54150391],\n",
        "       [  95.99511719,  101.83374023,  108.78686523,  112.12451172,\n",
        "         117.13867188,  127.65844727,  144.02099609,  148.07202148,\n",
        "         164.24243164,  164.24243164,  165.24560547,  174.81542969,\n",
        "         178.74072266,  184.38134766,  188.64941406,  195.54174805],\n",
        "       [  95.99536133,  101.83398438,  108.78710938,  112.12475586,\n",
        "         117.13891602,  127.65869141,  144.02124023,  148.07226562,\n",
        "         164.24267578,  164.24267578,  165.24584961,  174.81567383,\n",
        "         178.7409668 ,  184.3815918 ,  188.6496582 ,  195.54199219],\n",
        "       [  95.99560547,  101.83422852,  108.78735352,  112.125     ,\n",
        "         117.13916016,  127.65893555,  144.02148438,  148.07250977,\n",
        "         164.24291992,  164.24291992,  165.24609375,  174.81591797,\n",
        "         178.74121094,  184.38183594,  188.64990234,  195.54223633],\n",
        "       [  95.99584961,  101.83447266,  108.78759766,  112.12524414,\n",
        "         117.1394043 ,  127.65917969,  144.02172852,  148.07275391,\n",
        "         164.24316406,  164.24316406,  165.24633789,  174.81616211,\n",
        "         178.74145508,  184.38208008,  188.65014648,  195.54248047],\n",
        "       [  95.99609375,  101.8347168 ,  108.7878418 ,  112.12548828,\n",
        "         117.13964844,  127.65942383,  144.02197266,  148.07299805,\n",
        "         164.2434082 ,  164.2434082 ,  165.24658203,  174.81640625,\n",
        "         178.74169922,  184.38232422,  188.65039062,  195.54272461],\n",
        "       [  95.99633789,  101.83496094,  108.78808594,  112.12573242,\n",
        "         117.13989258,  127.65966797,  144.0222168 ,  148.07324219,\n",
        "         164.24365234,  164.24365234,  165.24682617,  174.81665039,\n",
        "         178.74194336,  184.38256836,  188.65063477,  195.54296875],\n",
        "       [  95.99658203,  101.83520508,  108.78833008,  112.12597656,\n",
        "         117.14013672,  127.65991211,  144.02246094,  148.07348633,\n",
        "         164.24389648,  164.24389648,  165.24707031,  174.81689453,\n",
        "         178.7421875 ,  184.3828125 ,  188.65087891,  195.54321289],\n",
        "       [  95.99682617,  101.83544922,  108.78857422,  112.1262207 ,\n",
        "         117.14038086,  127.66015625,  144.02270508,  148.07373047,\n",
        "         164.24414062,  164.24414062,  165.24731445,  174.81713867,\n",
        "         178.74243164,  184.38305664,  188.65112305,  195.54345703],\n",
        "       [  95.99707031,  101.83569336,  108.78881836,  112.12646484,\n",
        "         117.140625  ,  127.66040039,  144.02294922,  148.07397461,\n",
        "         164.24438477,  164.24438477,  165.24755859,  174.81738281,\n",
        "         178.74267578,  184.38330078,  188.65136719,  195.54370117],\n",
        "       [  95.99731445,  101.8359375 ,  108.7890625 ,  112.12670898,\n",
        "         117.14086914,  127.66064453,  144.02319336,  148.07421875,\n",
        "         164.24462891,  164.24462891,  165.24780273,  174.81762695,\n",
        "         178.74291992,  184.38354492,  188.65161133,  195.54394531],\n",
        "       [  95.99755859,  101.83618164,  108.78930664,  112.12695312,\n",
        "         117.14111328,  127.66088867,  144.0234375 ,  148.07446289,\n",
        "         164.24487305,  164.24487305,  165.24804688,  174.81787109,\n",
        "         178.74316406,  184.38378906,  188.65185547,  195.54418945],\n",
        "       [  95.99780273,  101.83642578,  108.78955078,  112.12719727,\n",
        "         117.14135742,  127.66113281,  144.02368164,  148.07470703,\n",
        "         164.24511719,  164.24511719,  165.24829102,  174.81811523,\n",
        "         178.7434082 ,  184.3840332 ,  188.65209961,  195.54443359],\n",
        "       [  95.99902344,  101.83764648,  108.79077148,  112.12841797,\n",
        "         117.14257812,  127.66235352,  144.02490234,  148.07592773,\n",
        "         164.24633789,  164.24633789,  165.24951172,  174.81933594,\n",
        "         178.74462891,  184.38525391,  188.65332031,  195.5456543 ],\n",
        "       [  96.00024414,  101.83886719,  108.79199219,  112.12963867,\n",
        "         117.14379883,  127.66357422,  144.02612305,  148.07714844,\n",
        "         164.24755859,  164.24755859,  165.25073242,  174.82055664,\n",
        "         178.74584961,  184.38647461,  188.65454102,  195.546875  ],\n",
        "       [  96.00146484,  101.84008789,  108.79321289,  112.13085938,\n",
        "         117.14501953,  127.66479492,  144.02734375,  148.07836914,\n",
        "         164.2487793 ,  164.2487793 ,  165.25195312,  174.82177734,\n",
        "         178.74707031,  184.38769531,  188.65576172,  195.5480957 ],\n",
        "       [  96.00268555,  101.84130859,  108.79443359,  112.13208008,\n",
        "         117.14624023,  127.66601562,  144.02856445,  148.07958984,\n",
        "         164.25      ,  164.25      ,  165.25317383,  174.82299805,\n",
        "         178.74829102,  184.38891602,  188.65698242,  195.54931641],\n",
        "       [  96.00512695,  101.84375   ,  108.796875  ,  112.13452148,\n",
        "         117.14868164,  127.66845703,  144.03100586,  148.08203125,\n",
        "         164.25244141,  164.25244141,  165.25561523,  174.82543945,\n",
        "         178.75073242,  184.39135742,  188.65942383,  195.55175781]])"
       ]
      }
     ],
     "prompt_number": 15
    },
    {
     "cell_type": "markdown",
     "metadata": {},
     "source": [
      "Only the lower half of the available output frequency band is below the ADC Nyquist frequency."
     ]
    },
    {
     "cell_type": "markdown",
     "metadata": {},
     "source": [
      "To do:\n",
      "\n",
      "- Understand demodulation\n",
      "- Understand the FFT bin window response and leakage between bins"
     ]
    },
    {
     "cell_type": "code",
     "collapsed": false,
     "input": [
      "plt.plot(ri._window_mag)"
     ],
     "language": "python",
     "metadata": {},
     "outputs": [
      {
       "metadata": {},
       "output_type": "pyout",
       "prompt_number": 16,
       "text": [
        "[<matplotlib.lines.Line2D at 0x43e9e90>]"
       ]
      },
      {
       "metadata": {},
       "output_type": "display_data",
       "png": "[encoded data removed]",
       "text": [
        "<matplotlib.figure.Figure at 0x43a2790>"
       ]
      }
     ],
     "prompt_number": 16
    },
    {
     "cell_type": "code",
     "collapsed": false,
     "input": [
      "1e6 * 2 * T"
     ],
     "language": "python",
     "metadata": {},
     "outputs": [
      {
       "metadata": {},
       "output_type": "pyout",
       "prompt_number": 17,
       "text": [
        "64.0"
       ]
      }
     ],
     "prompt_number": 17
    },
    {
     "cell_type": "code",
     "collapsed": false,
     "input": [],
     "language": "python",
     "metadata": {},
     "outputs": [],
     "prompt_number": 17
    }
   ],
   "metadata": {}
  }
 ]
}