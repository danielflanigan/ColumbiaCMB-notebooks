{
 "cells": [
  {
   "cell_type": "code",
   "execution_count": 1,
   "metadata": {
    "collapsed": false
   },
   "outputs": [],
   "source": [
    "from kid_readout.roach import interface, baseband\n",
    "from kid_readout.roach.tests import mock_roach, mock_valon, fake\n",
    "#from kid_readout.measurement.acquire import "
   ]
  },
  {
   "cell_type": "code",
   "execution_count": 2,
   "metadata": {
    "collapsed": false
   },
   "outputs": [],
   "source": [
    "mr = mock_roach.MockRoach(None, None)\n",
    "mv = mock_valon.MockValon()\n",
    "roach = fake.FakeRoachBaseband(roach=mr, adc_valon=mv, initialize=False, roachip='fake')"
   ]
  },
  {
   "cell_type": "code",
   "execution_count": 3,
   "metadata": {
    "collapsed": false
   },
   "outputs": [
    {
     "name": "stdout",
     "output_type": "stream",
     "text": [
      "Reinitializing system\n",
      "Deprogramming\n",
      "Programming bb2xpfb14mcr17b_2015_Apr_21_1159.bof\n",
      "Requested sampling rate 512.0 MHz. Estimated sampling rate 512.0 MHz\n"
     ]
    }
   ],
   "source": [
    "roach.initialize(start_udp=False, use_config=False)"
   ]
  },
  {
   "cell_type": "code",
   "execution_count": 4,
   "metadata": {
    "collapsed": true
   },
   "outputs": [],
   "source": [
    "def make_stream_array(ri, frequency, num_tone_samples, length, amplitude=None, phase=None, state=None, description=''):\n",
    "    variables = get_stream_data(ri=ri, frequency=frequency, num_tone_samples=num_tone_samples, length=length,\n",
    "                                amplitude=amplitude, phase=phase)\n",
    "    variables['state'] = state\n",
    "    variables['description'] = description\n",
    "    return multiple.StreamArray(**variables)\n",
    "\n",
    "\n",
    "def get_stream_data(ri, frequency, num_tone_samples, length, amplitude=None, phase=None):\n",
    "    ri.set_tone_freqs(freqs=frequency, nsamp=num_tone_samples, amps=amplitude, phases=phase)\n",
    "    variables = {'roach_state': ri.state}\n",
    "    variables.update(ri.active_state_arrays)\n",
    "    start_epoch = time.time()\n",
    "    s21, sequence_numbers = ri.get_data_seconds(length)\n",
    "    end_epoch = time.time()\n",
    "    variables['s21'] = s21.T\n",
    "    num_samples = variables['s21'].shape[1]\n",
    "    # TODO: this should calculate based on the number of samples\n",
    "    variables['epoch'] = np.linspace(start_epoch, end_epoch, num_samples)\n",
    "    return variables\n"
   ]
  },
  {
   "cell_type": "code",
   "execution_count": 5,
   "metadata": {
    "collapsed": true
   },
   "outputs": [],
   "source": [
    "frequency = np.linspace(100, 200, 1)\n",
    "num_tone_samples = 2**19\n",
    "length = 1"
   ]
  },
  {
   "cell_type": "code",
   "execution_count": null,
   "metadata": {
    "collapsed": true
   },
   "outputs": [],
   "source": [
    "actual_frequency = roach.set_tone_freqs(frequency)"
   ]
  },
  {
   "cell_type": "code",
   "execution_count": null,
   "metadata": {
    "collapsed": true
   },
   "outputs": [],
   "source": [
    "data, seqnos = roach.get_data_seconds(frequency, num_tone_samples)"
   ]
  }
 ],
 "metadata": {
  "kernelspec": {
   "display_name": "Python 2",
   "language": "python",
   "name": "python2"
  },
  "language_info": {
   "codemirror_mode": {
    "name": "ipython",
    "version": 2
   },
   "file_extension": ".py",
   "mimetype": "text/x-python",
   "name": "python",
   "nbconvert_exporter": "python",
   "pygments_lexer": "ipython2",
   "version": "2.7.6"
  }
 },
 "nbformat": 4,
 "nbformat_minor": 0
}
