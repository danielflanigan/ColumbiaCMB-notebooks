{
 "cells": [
  {
   "cell_type": "code",
   "execution_count": 1,
   "metadata": {
    "collapsed": true
   },
   "outputs": [],
   "source": [
    "%matplotlib inline"
   ]
  },
  {
   "cell_type": "markdown",
   "metadata": {},
   "source": [
    "Using Agilent E4418B power meter with E4413A power sensor. All of the data taken here is dubious because the r1 tones were not being set properly, according to a later spectrum analyzer measurement."
   ]
  },
  {
   "cell_type": "markdown",
   "metadata": {},
   "source": [
    "Setup: straight out of mark2 board into power sensor through short black cable; LO 3000 MHz; one baseband tone at 100 MHz."
   ]
  },
  {
   "cell_type": "code",
   "execution_count": 4,
   "metadata": {
    "collapsed": true
   },
   "outputs": [],
   "source": [
    "dac_atten = [(0.0, -12.570),\n",
    "             (2.5, -15.151),\n",
    "             (5.0, -17.671),\n",
    "             (7.5, -20.146),\n",
    "             (10.0, -22.719),\n",
    "             (12.5, -25.184),\n",
    "             (15.0, -27.629),\n",
    "             (17.5, -30.467),\n",
    "             (20.0, -32.938),\n",
    "             (22.5, -35.361),\n",
    "             (25.0, -37.660),\n",
    "             (27.5, -40.490),\n",
    "             (30.0, -42.953),\n",
    "             (32.5, -45.370),\n",
    "             (35.0, -47.801),\n",
    "             (37.5, -50.445),\n",
    "             (40.0, -52.902),\n",
    "             (42.5, -55.050),\n",
    "             (45.0, -58.0),\n",
    "             (47.5, -60.6),\n",
    "             (50.0, -63.9),\n",
    "             (52.5, -67.8)]"
   ]
  },
  {
   "cell_type": "markdown",
   "metadata": {},
   "source": [
    "The power reading flucuates wildly at high attenation settings."
   ]
  },
  {
   "cell_type": "markdown",
   "metadata": {},
   "source": [
    "Setup: straight out of mark2 board into power sensor through long blue cable; LO 3000 MHz; one baseband tone at 100 MHz."
   ]
  },
  {
   "cell_type": "code",
   "execution_count": 5,
   "metadata": {
    "collapsed": true
   },
   "outputs": [],
   "source": [
    "dac_atten_long = [(0.0, -12.569)]"
   ]
  },
  {
   "cell_type": "code",
   "execution_count": null,
   "metadata": {
    "collapsed": true
   },
   "outputs": [],
   "source": []
  }
 ],
 "metadata": {
  "anaconda-cloud": {},
  "kernelspec": {
   "display_name": "Python 2: Analysis",
   "language": "python",
   "name": "analysis"
  },
  "language_info": {
   "codemirror_mode": {
    "name": "ipython",
    "version": 2
   },
   "file_extension": ".py",
   "mimetype": "text/x-python",
   "name": "python",
   "nbconvert_exporter": "python",
   "pygments_lexer": "ipython2",
   "version": "2.7.12"
  }
 },
 "nbformat": 4,
 "nbformat_minor": 1
}
