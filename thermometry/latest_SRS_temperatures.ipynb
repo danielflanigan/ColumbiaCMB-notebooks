{
 "metadata": {
  "name": "",
  "signature": "sha256:31b4a77d29a4317f530768f6b0bd93d9ceb13fc9c8ed8a65b30902c77f0abd5b"
 },
 "nbformat": 3,
 "nbformat_minor": 0,
 "worksheets": [
  {
   "cells": [
    {
     "cell_type": "code",
     "collapsed": false,
     "input": [
      "import time\n",
      "from glob import glob\n",
      "from kid_readout.utils import parse_srs\n",
      "from IPython import display"
     ],
     "language": "python",
     "metadata": {},
     "outputs": [],
     "prompt_number": 1
    },
    {
     "cell_type": "code",
     "collapsed": false,
     "input": [
      "def plot_latest_temperatures(samples=1000):\n",
      "    latest = sorted(glob('/home/data/SRS/*.txt'))[-1]\n",
      "    datetimes, srs_data = parse_srs.get_load_log(latest)\n",
      "    timedeltas = [dt - datetimes[0] for dt in datetimes]\n",
      "    time_hours = [td.total_seconds() / 3600 for td in timedeltas]\n",
      "    fig, axes = plt.subplots(3, 1, sharex=True, figsize=(3,4))\n",
      "    axes[0].plot(time_hours[-samples:], srs_data[:, -6][-samples:], label='3628')\n",
      "    axes[1].plot(time_hours[-samples:], srs_data[:, -4][-samples:], label='3882')\n",
      "    axes[2].plot(time_hours[-samples:], srs_data[:, 1][-samples:], label='diode 1')\n",
      "    axes[2].set_xlabel('time / [hours]')\n",
      "    axes[2].set_ylabel('T / [K]')\n",
      "    axes[0].legend(loc='best')\n",
      "    axes[1].legend(loc='best')\n",
      "    axes[2].legend(loc='best')\n",
      "    return fig, axes"
     ],
     "language": "python",
     "metadata": {},
     "outputs": [],
     "prompt_number": 2
    },
    {
     "cell_type": "code",
     "collapsed": false,
     "input": [
      "refresh_time = 10\n",
      "samples = 500\n",
      "while True:\n",
      "    fig, axes = plot_latest_temperatures(samples)\n",
      "    display.clear_output()\n",
      "    display.display(fig)\n",
      "    time.sleep(refresh_time)\n",
      "    del fig, axes"
     ],
     "language": "python",
     "metadata": {},
     "outputs": []
    }
   ],
   "metadata": {}
  }
 ]
}