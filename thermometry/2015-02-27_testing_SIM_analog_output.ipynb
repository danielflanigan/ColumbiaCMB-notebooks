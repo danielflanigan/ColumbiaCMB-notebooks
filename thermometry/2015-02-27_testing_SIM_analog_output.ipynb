{
 "metadata": {
  "name": "",
  "signature": "sha256:3980bf69445be14070e5d51f849009247cdc2891975f93407aea8a75df46175f"
 },
 "nbformat": 3,
 "nbformat_minor": 0,
 "worksheets": [
  {
   "cells": [
    {
     "cell_type": "code",
     "collapsed": false,
     "input": [
      "import os\n",
      "from kid_readout.equipment import sim"
     ],
     "language": "python",
     "metadata": {},
     "outputs": [],
     "prompt_number": 1
    },
    {
     "cell_type": "code",
     "collapsed": false,
     "input": [
      "basepath = '/dev/serial/by-id'\n",
      "serial_id = 'usb-FTDI_USB_to_Serial_Cable_FTGQM0GY-if00-port0'\n",
      "serial_port = os.path.realpath(os.path.join(basepath, serial_id))\n",
      "sim900 = sim.SIM900(serial_port, baudrate=115200)\n",
      "print(\"Connected to {}\".format(sim900.identification))\n",
      "print(\"Port: Connected device:\")\n",
      "for port, device in sim900.ports.items():\n",
      "    print(\"{}     {}\".format(port, device))\n",
      "\n",
      "# Set up the SIMs\n",
      "ruox3628 = sim900.ports['4']\n",
      "ruox3882 = sim900.ports['6']\n",
      "diodes = sim900.ports['8']"
     ],
     "language": "python",
     "metadata": {},
     "outputs": [
      {
       "output_type": "stream",
       "stream": "stdout",
       "text": [
        "Connected to Stanford_Research_Systems,SIM900,s/n105715,ver3.6\n",
        "Port: Connected device:\n",
        "1     <kid_readout.equipment.sim.SIM921 object at 0x2deea50>\n",
        "2     None\n",
        "3     <kid_readout.equipment.sim.SIM925 object at 0x2deead0>\n",
        "4     <kid_readout.equipment.sim.SIM921 object at 0x2deeb10>\n",
        "5     None\n",
        "6     <kid_readout.equipment.sim.SIM921 object at 0x2deeb50>\n",
        "7     None\n",
        "8     <kid_readout.equipment.sim.SIM922 object at 0x2deea90>\n"
       ]
      }
     ],
     "prompt_number": 3
    },
    {
     "cell_type": "code",
     "collapsed": false,
     "input": [
      "ruox3882.analog_output_manual_mode"
     ],
     "language": "python",
     "metadata": {},
     "outputs": [
      {
       "metadata": {},
       "output_type": "pyout",
       "prompt_number": 3,
       "text": [
        "True"
       ]
      }
     ],
     "prompt_number": 3
    },
    {
     "cell_type": "code",
     "collapsed": false,
     "input": [
      "ruox3882.analog_output_manual_value = 10"
     ],
     "language": "python",
     "metadata": {},
     "outputs": [],
     "prompt_number": 4
    },
    {
     "cell_type": "code",
     "collapsed": false,
     "input": [
      "ruox3882.analog_output_manual_value"
     ],
     "language": "python",
     "metadata": {},
     "outputs": [
      {
       "metadata": {},
       "output_type": "pyout",
       "prompt_number": 5,
       "text": [
        "10.0"
       ]
      }
     ],
     "prompt_number": 5
    },
    {
     "cell_type": "code",
     "collapsed": false,
     "input": [
      "ruox3882.display_temperature = True\n",
      "ruox3882.display_temperature"
     ],
     "language": "python",
     "metadata": {},
     "outputs": [
      {
       "metadata": {},
       "output_type": "pyout",
       "prompt_number": 8,
       "text": [
        "True"
       ]
      }
     ],
     "prompt_number": 8
    },
    {
     "cell_type": "code",
     "collapsed": false,
     "input": [],
     "language": "python",
     "metadata": {},
     "outputs": []
    }
   ],
   "metadata": {}
  }
 ]
}