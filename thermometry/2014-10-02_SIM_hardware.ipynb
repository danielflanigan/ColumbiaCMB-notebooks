{
 "metadata": {
  "name": "",
  "signature": "sha256:0d2b55265e76b4872bca6e8206a99ffad374a666156372f5a7529b1e8dbfd793"
 },
 "nbformat": 3,
 "nbformat_minor": 0,
 "worksheets": [
  {
   "cells": [
    {
     "cell_type": "code",
     "collapsed": false,
     "input": [
      "import os\n",
      "import serial\n",
      "from kid_readout.equipment import sim"
     ],
     "language": "python",
     "metadata": {},
     "outputs": [],
     "prompt_number": 1
    },
    {
     "cell_type": "code",
     "collapsed": false,
     "input": [
      "basepath = '/dev/serial/by-id'\n",
      "serial_ports = os.listdir(basepath)\n",
      "for port in serial_ports:\n",
      "    if 'usb-FTDI_USB_to_Serial_Cable_FTGQM0GY-if00-port0' in port:\n",
      "        serial_port = os.path.realpath(os.path.join(basepath, port))\n",
      "print(serial_port)\n",
      "#serial_port = '/dev/ttyUSB1'\n",
      "baudrate=9600\n",
      "timeout=2"
     ],
     "language": "python",
     "metadata": {},
     "outputs": [
      {
       "output_type": "stream",
       "stream": "stdout",
       "text": [
        "/dev/ttyUSB1\n"
       ]
      }
     ],
     "prompt_number": 2
    },
    {
     "cell_type": "code",
     "collapsed": false,
     "input": [
      "s = sim.SIM900(serial_port)"
     ],
     "language": "python",
     "metadata": {},
     "outputs": [],
     "prompt_number": 3
    },
    {
     "cell_type": "code",
     "collapsed": false,
     "input": [
      "s.ports"
     ],
     "language": "python",
     "metadata": {},
     "outputs": [
      {
       "metadata": {},
       "output_type": "pyout",
       "prompt_number": 4,
       "text": [
        "OrderedDict([('1', <kid_readout.equipment.sim.SIM921 object at 0x36fe790>), ('2', None), ('3', <kid_readout.equipment.sim.SIM925 object at 0x2784450>), ('4', <kid_readout.equipment.sim.SIM921 object at 0x36fe850>), ('5', None), ('6', <kid_readout.equipment.sim.SIM921 object at 0x36fe890>), ('7', None), ('8', <kid_readout.equipment.sim.SIM922 object at 0x36fe8d0>), ('9', None), ('A', None), ('B', None), ('C', None), ('D', None)])"
       ]
      }
     ],
     "prompt_number": 4
    },
    {
     "cell_type": "code",
     "collapsed": false,
     "input": [
      "s.identity"
     ],
     "language": "python",
     "metadata": {},
     "outputs": [
      {
       "metadata": {},
       "output_type": "pyout",
       "prompt_number": 5,
       "text": [
        "'Stanford_Research_Systems,SIM900,s/n105715,ver3.6'"
       ]
      }
     ],
     "prompt_number": 5
    },
    {
     "cell_type": "code",
     "collapsed": false,
     "input": [
      "broken=s.ports['1']\n",
      "ruox1=s.ports['4']\n",
      "ruox2=s.ports['6']\n",
      "diodes=s.ports['8']"
     ],
     "language": "python",
     "metadata": {},
     "outputs": [],
     "prompt_number": 6
    },
    {
     "cell_type": "code",
     "collapsed": false,
     "input": [
      "broken.identity"
     ],
     "language": "python",
     "metadata": {},
     "outputs": [
      {
       "metadata": {},
       "output_type": "pyout",
       "prompt_number": 7,
       "text": [
        "'Stanford_Research_Systems,SIM921,s/n012026,ver4.2'"
       ]
      }
     ],
     "prompt_number": 7
    },
    {
     "cell_type": "code",
     "collapsed": false,
     "input": [
      "ruox1.identity"
     ],
     "language": "python",
     "metadata": {},
     "outputs": [
      {
       "metadata": {},
       "output_type": "pyout",
       "prompt_number": 8,
       "text": [
        "'Stanford_Research_Systems,SIM921,s/n012006,ver4.2'"
       ]
      }
     ],
     "prompt_number": 8
    },
    {
     "cell_type": "code",
     "collapsed": false,
     "input": [
      "ruox2.identity"
     ],
     "language": "python",
     "metadata": {},
     "outputs": [
      {
       "metadata": {},
       "output_type": "pyout",
       "prompt_number": 9,
       "text": [
        "'Stanford_Research_Systems,SIM921,s/n012027,ver4.2'"
       ]
      }
     ],
     "prompt_number": 9
    },
    {
     "cell_type": "code",
     "collapsed": false,
     "input": [
      "diodes.identity"
     ],
     "language": "python",
     "metadata": {},
     "outputs": [
      {
       "metadata": {},
       "output_type": "pyout",
       "prompt_number": 21,
       "text": [
        "'Stanford_Research_Systems,SIM922,s/n012869,ver2.70'"
       ]
      }
     ],
     "prompt_number": 21
    }
   ],
   "metadata": {}
  }
 ]
}